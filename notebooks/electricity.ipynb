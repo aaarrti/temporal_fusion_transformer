{
 "cells": [
  {
   "cell_type": "code",
   "execution_count": null,
   "id": "initial_id",
   "metadata": {},
   "outputs": [],
   "source": [
    "import gc\n",
    "import os\n",
    "import pathlib\n",
    "import tempfile\n",
    "from datetime import date\n",
    "\n",
    "import hvplot\n",
    "import numpy as np\n",
    "import polars as pl\n",
    "from bokeh.models import DatetimeTickFormatter\n",
    "\n",
    "import temporal_fusion_transformer as tft\n",
    "from temporal_fusion_transformer.src.datasets import electricity\n",
    "import sys\n",
    "\n",
    "\n",
    "def reload_tft_module():\n",
    "    del sys.modules[\"temporal_fusion_transformer\"]\n",
    "    import temporal_fusion_transformer as tft\n",
    "\n",
    "\n",
    "xformatter = DatetimeTickFormatter(months=\"%b %Y\")\n",
    "hvplot.extension(\"bokeh\")"
   ]
  },
  {
   "cell_type": "code",
   "execution_count": null,
   "id": "fffa4ed69ea639a1",
   "metadata": {
    "collapsed": false
   },
   "outputs": [],
   "source": [
    "LEFT_CUTOFF_YEAR = 2013\n",
    "# 7 * 24\n",
    "ENCODER_STEPS = 168\n",
    "# 8 * 24\n",
    "TOTAL_TIME_STEPS = 192"
   ]
  },
  {
   "cell_type": "code",
   "execution_count": null,
   "id": "eefe221ecebbf7c6",
   "metadata": {
    "collapsed": false
   },
   "outputs": [],
   "source": [
    "def convert_to_parquet(download_dir: str):\n",
    "    if pathlib.Path(f\"{download_dir}/LD2011_2014.parquet\").is_file():\n",
    "        print(\"Found LD2011_2014.parquet, will re-use it.\")\n",
    "        return\n",
    "\n",
    "    with open(f\"{download_dir}/LD2011_2014.txt\") as file:\n",
    "        txt_content = file.read()\n",
    "\n",
    "    csv_content = txt_content.replace(\",\", \".\").replace(\";\", \",\")\n",
    "\n",
    "    with tempfile.TemporaryDirectory() as tmpdir:\n",
    "        with open(f\"{tmpdir}/LD2011_2014.csv\", \"w+\") as file:\n",
    "            file.write(csv_content)\n",
    "\n",
    "        pl.scan_csv(\n",
    "            f\"{tmpdir}/LD2011_2014.csv\", infer_schema_length=999999, try_parse_dates=True\n",
    "        ).rename({\"\": \"timestamp\"}).sink_parquet(f\"{download_dir}/LD2011_2014.parquet\")\n",
    "\n",
    "        os.remove(f\"{download_dir}/LD2011_2014.txt\")\n",
    "\n",
    "\n",
    "convert_to_parquet(\"../data/electricity\")"
   ]
  },
  {
   "cell_type": "code",
   "execution_count": null,
   "id": "b084d1e287a99bd0",
   "metadata": {
    "collapsed": false
   },
   "outputs": [],
   "source": [
    "raw_df = pl.read_parquet(\"../data/electricity/LD2011_2014.parquet\")\n",
    "raw_df.head()"
   ]
  },
  {
   "cell_type": "code",
   "execution_count": null,
   "id": "43a4d070f613881",
   "metadata": {
    "collapsed": false
   },
   "outputs": [],
   "source": [
    "raw_df.select(\"timestamp\").describe(percentiles=None)"
   ]
  },
  {
   "cell_type": "code",
   "execution_count": null,
   "id": "ef030916d56103b1",
   "metadata": {
    "collapsed": false
   },
   "outputs": [],
   "source": [
    "def format_raw_df(dataframe: pl.DataFrame) -> pl.DataFrame:\n",
    "    timeseries_ids = dataframe.columns[1:]\n",
    "\n",
    "    lf = dataframe.rename({\"timestamp\": \"ts\"}).lazy()\n",
    "    lf_list = []\n",
    "\n",
    "    for label in timeseries_ids:\n",
    "        sub_lf = lf.select(\"ts\", label)\n",
    "        sub_lf = (\n",
    "            sub_lf.rename({label: \"y\"})\n",
    "            # down sample to 1h https://pola-rs.github.io/polars-book/user-guide/transformations/time-series/rolling/\n",
    "            .sort(\"ts\")\n",
    "            .group_by_dynamic(\"ts\", every=\"1h\")\n",
    "            .agg(pl.col(\"y\").mean())\n",
    "            .with_columns(\n",
    "                [\n",
    "                    pl.col(\"y\").cast(pl.Float32),\n",
    "                    pl.col(\"ts\").dt.year().alias(\"year\").cast(pl.UInt16),\n",
    "                    pl.col(\"ts\").dt.month().alias(\"month\").cast(pl.UInt8),\n",
    "                    pl.col(\"ts\").dt.hour().alias(\"hour\").cast(pl.UInt8),\n",
    "                    pl.col(\"ts\").dt.day().alias(\"day\").cast(pl.UInt8),\n",
    "                    pl.col(\"ts\").dt.weekday().alias(\"day_of_week\").cast(pl.UInt8),\n",
    "                ],\n",
    "                id=pl.lit(label),\n",
    "            )\n",
    "        )\n",
    "        lf_list.append(sub_lf)\n",
    "\n",
    "    df = pl.concat(pl.collect_all(lf_list)).shrink_to_fit(in_place=True).rechunk()\n",
    "    return df.select(\"id\", \"ts\", \"year\", \"month\", \"day\", \"day_of_week\", \"hour\", \"y\")\n",
    "\n",
    "\n",
    "formatted_df = format_raw_df(raw_df)\n",
    "formatted_df.head(10)"
   ]
  },
  {
   "cell_type": "code",
   "execution_count": null,
   "id": "d9fb73557d4720a9",
   "metadata": {
    "collapsed": false
   },
   "outputs": [],
   "source": [
    "formatted_df.null_count()"
   ]
  },
  {
   "cell_type": "code",
   "execution_count": null,
   "id": "63a489cb639c5709",
   "metadata": {
    "collapsed": false
   },
   "outputs": [],
   "source": [
    "formatted_df.select(\"ts\").describe(percentiles=None)"
   ]
  },
  {
   "cell_type": "code",
   "execution_count": null,
   "id": "1bdded140cc70eb2",
   "metadata": {
    "collapsed": false
   },
   "outputs": [],
   "source": [
    "formatted_df.select(\"id\").head()"
   ]
  },
  {
   "cell_type": "code",
   "execution_count": null,
   "id": "d192756931bf6dd4",
   "metadata": {
    "collapsed": false
   },
   "outputs": [],
   "source": [
    "validation_boundary = date(2015, 6, 1)\n",
    "tft.utils.plot_split(formatted_df, validation_boundary, groupby=\"id\")"
   ]
  },
  {
   "cell_type": "code",
   "execution_count": null,
   "id": "fa2e0e24bd922e2a",
   "metadata": {
    "collapsed": false
   },
   "outputs": [],
   "source": [
    "filtered_df = formatted_df.filter(pl.col(\"ts\").dt.year() >= LEFT_CUTOFF_YEAR)\n",
    "validation_boundary = date(2014, 10, 1)\n",
    "tft.utils.plot_split(filtered_df, validation_boundary, groupby=\"id\", autorange=\"x\")"
   ]
  },
  {
   "cell_type": "code",
   "execution_count": null,
   "id": "506048db7ec18209",
   "metadata": {
    "collapsed": false
   },
   "outputs": [],
   "source": [
    "preprocessor = electricity.Preprocessor()\n",
    "preprocessor"
   ]
  },
  {
   "cell_type": "code",
   "outputs": [],
   "source": [
    "preprocessor.target"
   ],
   "metadata": {
    "collapsed": false
   },
   "id": "5a1f722ce598c469",
   "execution_count": null
  },
  {
   "cell_type": "code",
   "outputs": [],
   "source": [
    "preprocessor.fit(filtered_df)\n",
    "preprocessor"
   ],
   "metadata": {
    "collapsed": false
   },
   "id": "b0b1ed3f231f27f7",
   "execution_count": null
  },
  {
   "cell_type": "code",
   "outputs": [],
   "source": [
    "processed_df = preprocessor.transform(filtered_df)\n",
    "processed_df.head(10)"
   ],
   "metadata": {
    "collapsed": false
   },
   "id": "7ba1bf2c5014a058",
   "execution_count": null
  },
  {
   "cell_type": "code",
   "outputs": [],
   "source": [
    "training_df, test_df = tft.utils.split_dataframe(processed_df, validation_boundary)\n",
    "len(training_df), len(test_df)"
   ],
   "metadata": {
    "collapsed": false
   },
   "id": "fb2f3e862d606048",
   "execution_count": null
  },
  {
   "cell_type": "code",
   "outputs": [],
   "source": [
    "import mlx.core as mx\n",
    "\n",
    "\n",
    "def make_time_series_array(dataframe: pl.DataFrame) -> np.ndarray:\n",
    "    ts_list = []\n",
    "    for _, dataframe_i in dataframe.group_by([\"id\"]):\n",
    "        ts_i = tft.utils.timeseries_from_array(preprocessor.to_array(dataframe_i), TOTAL_TIME_STEPS)\n",
    "        ts_list.append(ts_i)\n",
    "\n",
    "    return mx.concatenate(ts_list, axis=0)\n",
    "\n",
    "\n",
    "train_arr = make_time_series_array(training_df)\n",
    "test_arr = make_time_series_array(test_df)\n",
    "\n",
    "train_arr.shape, test_arr.shape"
   ],
   "metadata": {
    "collapsed": false
   },
   "id": "3a5274677f5378bd",
   "execution_count": null
  },
  {
   "cell_type": "code",
   "outputs": [],
   "source": [],
   "metadata": {
    "collapsed": false
   },
   "id": "aa17af8e53a2d47b"
  }
 ],
 "metadata": {
  "kernelspec": {
   "display_name": "Python 3 (ipykernel)",
   "language": "python",
   "name": "python3"
  },
  "language_info": {
   "codemirror_mode": {
    "name": "ipython",
    "version": 3
   },
   "file_extension": ".py",
   "mimetype": "text/x-python",
   "name": "python",
   "nbconvert_exporter": "python",
   "pygments_lexer": "ipython3",
   "version": "3.11.7"
  }
 },
 "nbformat": 4,
 "nbformat_minor": 5
}
