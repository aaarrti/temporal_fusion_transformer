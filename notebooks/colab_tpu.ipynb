{
 "cells": [
  {
   "cell_type": "code",
   "execution_count": null,
   "outputs": [],
   "source": [],
   "metadata": {
    "collapsed": false
   },
   "id": "ee07a2d60473d165"
  },
  {
   "cell_type": "code",
   "execution_count": null,
   "outputs": [],
   "source": [
    "%load_ext tensorboard\n",
    "%load_ext autoreload\n",
    "%autoreload 2"
   ],
   "metadata": {
    "collapsed": false
   },
   "id": "d3ac29453a2d0256"
  },
  {
   "cell_type": "code",
   "source": [
    "!pip install 'temporal_fusion_transformer[training] @ git+https://github.com/aaarrti/temporal_fusion_transformer.git@develop'\n",
    "!pip install jax[tpu] -f https://storage.googleapis.com/jax-releases/libtpu_releases.html"
   ],
   "metadata": {
    "colab": {
     "base_uri": "https://localhost:8080/"
    },
    "id": "NVImsMNCTMd7",
    "outputId": "9fcca9de-a582-4c00-b39c-5651e892cb3a"
   },
   "id": "NVImsMNCTMd7",
   "execution_count": null,
   "outputs": []
  },
  {
   "cell_type": "code",
   "execution_count": null,
   "outputs": [],
   "source": [
    "import jax.tools.colab_tpu\n",
    "\n",
    "jax.tools.colab_tpu.setup_tpu()\n",
    "jax.devices()"
   ],
   "metadata": {
    "collapsed": false
   },
   "id": "e838b17bffd9759c"
  },
  {
   "cell_type": "markdown",
   "source": [
    "First, we'd need to upload dataset to GDrive"
   ],
   "metadata": {
    "collapsed": false,
    "id": "fa5e337f02a8f1cc"
   },
   "id": "fa5e337f02a8f1cc"
  },
  {
   "cell_type": "code",
   "execution_count": null,
   "outputs": [],
   "source": [
    "# TODO: use GCS bucket\n",
    "from google.colab import drive\n",
    "\n",
    "drive.mount(\"/content/drive\")\n",
    "\n",
    "data_path = \"/content/drive/MyDrive/datasets\""
   ],
   "metadata": {
    "id": "initial_id",
    "colab": {
     "base_uri": "https://localhost:8080/"
    },
    "outputId": "e810d377-cf1b-4807-b5d5-8913789fe82e"
   },
   "id": "initial_id"
  },
  {
   "cell_type": "code",
   "execution_count": null,
   "outputs": [],
   "source": [
    "from absl_extra import logging_utils\n",
    "import temporal_fusion_transformer as tft\n",
    "\n",
    "logging_utils.setup_logging(log_level=\"INFO\")"
   ],
   "metadata": {
    "id": "17c98f3a38e7f8da",
    "outputId": "e33829e6-7de1-44c7-ff79-74d569730382",
    "colab": {
     "base_uri": "https://localhost:8080/"
    }
   },
   "id": "17c98f3a38e7f8da"
  },
  {
   "cell_type": "code",
   "execution_count": null,
   "outputs": [],
   "source": [
    "config = tft.get_config(\"electricity\")\n",
    "config"
   ],
   "metadata": {
    "id": "377690fca821a4c6",
    "outputId": "1ef457d5-70c7-4f01-911e-fe36dc6bb62a",
    "colab": {
     "base_uri": "https://localhost:8080/"
    }
   },
   "id": "377690fca821a4c6"
  },
  {
   "cell_type": "code",
   "execution_count": null,
   "outputs": [],
   "source": [
    "tft.training.train_on_multiple_devices(\n",
    "    data_dir=data_path,\n",
    "    batch_size=32 * 8,\n",
    "    experiment_name=\"electricity\",\n",
    "    mixed_precision=True,\n",
    "    config=config,\n",
    "    save_path=\"/content/drive/MyDrive/models\",\n",
    "    jit_module=True,\n",
    "    tabulate_model=True,\n",
    "    device_type=\"tpu\",\n",
    ")"
   ],
   "metadata": {
    "id": "3a400413ffc7a86d",
    "colab": {
     "base_uri": "https://localhost:8080/",
     "height": 685
    },
    "outputId": "b7548b48-bc04-43bd-9eab-75f5e95621bd"
   },
   "id": "3a400413ffc7a86d"
  }
 ],
 "metadata": {
  "kernelspec": {
   "display_name": "Python 3",
   "name": "python3"
  },
  "language_info": {
   "codemirror_mode": {
    "name": "ipython",
    "version": 2
   },
   "file_extension": ".py",
   "mimetype": "text/x-python",
   "name": "python",
   "nbconvert_exporter": "python",
   "pygments_lexer": "ipython2",
   "version": "2.7.6"
  },
  "colab": {
   "provenance": [],
   "gpuType": "T4"
  },
  "accelerator": "GPU"
 },
 "nbformat": 4,
 "nbformat_minor": 5
}
