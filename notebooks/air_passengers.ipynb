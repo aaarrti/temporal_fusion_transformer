{
 "cells": [
  {
   "cell_type": "code",
   "execution_count": null,
   "id": "initial_id",
   "metadata": {},
   "outputs": [],
   "source": [
    "import math\n",
    "from datetime import datetime\n",
    "\n",
    "import hvplot\n",
    "import jax\n",
    "import numpy as np\n",
    "import optax\n",
    "import polars as pl\n",
    "from bokeh.models import DatetimeTickFormatter\n",
    "from sklearn.compose import ColumnTransformer\n",
    "from sklearn.preprocessing import FunctionTransformer, StandardScaler\n",
    "import jax.numpy as jnp\n",
    "from flax.training.early_stopping import EarlyStopping\n",
    "import temporal_fusion_transformer as tft\n",
    "from toolz import functoolz\n",
    "import gc\n",
    "\n",
    "\n",
    "xformatter = DatetimeTickFormatter(months=\"%b %Y\")\n",
    "hvplot.extension(\"bokeh\")"
   ]
  },
  {
   "cell_type": "code",
   "execution_count": null,
   "id": "8dc37f4e8738b1c3",
   "metadata": {
    "collapsed": false
   },
   "outputs": [],
   "source": [
    "total_time_steps = 12\n",
    "encoder_steps = 9\n",
    "num_inputs = 3\n",
    "batch_size = 8\n",
    "num_epochs = 100"
   ]
  },
  {
   "cell_type": "code",
   "outputs": [],
   "source": [
    "df = (\n",
    "    pl.read_csv(\"../data/air_passengers/AirPassengers.csv\", try_parse_dates=True)\n",
    "    .with_columns(id=0)\n",
    "    .with_columns(pl.col(\"Month\").str.to_date(\"%Y-%m\"))\n",
    "    .with_columns(pl.col(\"Month\").dt.month_end())\n",
    "    .sort(\"Month\")\n",
    "    .upsample(\"Month\", every=\"1mo\")\n",
    "    .rename({\"#Passengers\": \"y\", \"Month\": \"ts\"})\n",
    "    .select(\"id\", \"ts\", \"y\")\n",
    "    .with_columns(pl.col(\"ts\").dt.month().alias(\"month\"), pl.col(\"ts\").dt.year().alias(\"year\"))\n",
    ")\n",
    "df.head(10)"
   ],
   "metadata": {
    "collapsed": false
   },
   "id": "bcb12523e1298fd9",
   "execution_count": null
  },
  {
   "cell_type": "code",
   "outputs": [],
   "source": [
    "test_boundary = datetime(1960, 1, 1)\n",
    "\n",
    "tft.utils.plot_split(df, test_boundary)"
   ],
   "metadata": {
    "collapsed": false
   },
   "id": "d2610c103d33825b",
   "execution_count": null
  },
  {
   "cell_type": "code",
   "outputs": [],
   "source": [
    "preprocessor = ColumnTransformer(\n",
    "    [\n",
    "        (\"id\", \"passthrough\", [\"id\"]),\n",
    "        (\"year\", StandardScaler(), [\"year\"]),\n",
    "        (\n",
    "            \"month\",\n",
    "            FunctionTransformer(\n",
    "                lambda x: x - 1,\n",
    "            ),\n",
    "            [\"month\"],\n",
    "        ),\n",
    "        (\"y\", StandardScaler(), [\"y\"]),\n",
    "    ],\n",
    "    verbose=True,\n",
    ")\n",
    "preprocessor.fit(df)"
   ],
   "metadata": {
    "collapsed": false
   },
   "id": "40196dda81572b72",
   "execution_count": null
  },
  {
   "cell_type": "code",
   "outputs": [],
   "source": [
    "train_dataframe, test_dataframe = split_dataframe(df, test_boundary)\n",
    "len(train_dataframe), len(test_dataframe)"
   ],
   "metadata": {
    "collapsed": false
   },
   "id": "661a51fc2137169",
   "execution_count": null
  },
  {
   "cell_type": "code",
   "outputs": [],
   "source": [
    "train_arr = preprocessor.transform(train_dataframe)\n",
    "test_arr = preprocessor.transform(test_dataframe)\n",
    "train_arr.shape, test_arr.shape"
   ],
   "metadata": {
    "collapsed": false
   },
   "id": "bf5b6a02bbe728d1",
   "execution_count": null
  },
  {
   "cell_type": "code",
   "outputs": [],
   "source": [
    "xy_train = tft.utils.timeseries_from_array(train_arr, total_time_steps)\n",
    "xy_test = tft.utils.timeseries_from_array(test_arr, total_time_steps)\n",
    "xy_train.shape, xy_test.shape"
   ],
   "metadata": {
    "collapsed": false
   },
   "id": "7cb424528b826838",
   "execution_count": null
  },
  {
   "cell_type": "code",
   "outputs": [],
   "source": [
    "x_train, y_train = tft.utils.unpack_xy(xy_train, encoder_steps=encoder_steps)\n",
    "x_test, y_test = tft.utils.unpack_xy(xy_test, encoder_steps=encoder_steps)\n",
    "x_train.shape, y_train.shape, x_test.shape, y_test.shape"
   ],
   "metadata": {
    "collapsed": false
   },
   "id": "9f12808ac3f709b9",
   "execution_count": null
  },
  {
   "cell_type": "code",
   "outputs": [],
   "source": [
    "init_key, dropout_key, shuffle_key = jax.random.split(jax.random.PRNGKey(69), 3)\n",
    "\n",
    "model = tft.TemporalFusionTransformer(\n",
    "    total_time_steps=total_time_steps,\n",
    "    num_decoder_blocks=1,\n",
    "    num_attention_heads=4,\n",
    "    # id\n",
    "    input_static_idx=[0],\n",
    "    # year\n",
    "    input_known_real_idx=[1],\n",
    "    # month,\n",
    "    input_known_categorical_idx=[2],\n",
    "    input_observed_idx=[],\n",
    "    num_encoder_steps=9,\n",
    "    static_categories_sizes=[1],\n",
    "    known_categories_sizes=[12],\n",
    "    latent_dim=16,\n",
    ")\n",
    "\n",
    "params = model.init(init_key, x_train[:8])\n",
    "tx = optax.chain(\n",
    "    optax.adaptive_grad_clip(0.1),\n",
    "    optax.adam(5e-4),\n",
    ")\n",
    "# tx = optax.contrib.mechanize(optax.adam(1e-3))\n",
    "\n",
    "state = tft.train_lib.TrainState.create(\n",
    "    apply_fn=model.apply,\n",
    "    tx=tx,\n",
    "    params=params[\"params\"],\n",
    "    prng_key=dropout_key,\n",
    ")\n",
    "early_stopping = EarlyStopping(min_delta=0.1)\n",
    "\n",
    "num_train_batches = math.ceil(len(x_train) / batch_size)\n",
    "\n",
    "for epoch_id in range(num_epochs):\n",
    "    shuffle_key = jax.random.fold_in(shuffle_key, epoch_id)\n",
    "    train_loss = []\n",
    "    test_loss = []\n",
    "\n",
    "    for step_id, x_batch, y_batch in tft.train_lib.enumerate_batches(\n",
    "        x_train, y_train, batch_size, prng_key=shuffle_key\n",
    "    ):\n",
    "        state, train_loss_i = tft.train_lib.train_step(state, x_batch, y_batch)\n",
    "        train_loss.append(train_loss_i)\n",
    "\n",
    "    for _, x_batch, y_batch in tft.train_lib.enumerate_batches(\n",
    "        x_test, y_test, batch_size, prng_key=shuffle_key\n",
    "    ):\n",
    "        test_loss.append(tft.train_lib.eval_step(state, x_batch, y_batch))\n",
    "\n",
    "    train_loss = np.mean(train_loss)\n",
    "    test_loss = np.mean(test_loss)\n",
    "    if epoch_id == 0 or epoch_id == num_epochs - 1 or epoch_id % 5 == 0:\n",
    "        print(\n",
    "            f\"epoch={epoch_id + 1}/{num_epochs},\"\n",
    "            f\"train_loss={train_loss:.3f},\"\n",
    "            f\"test_loss={test_loss:.3f}\"\n",
    "        )\n",
    "\n",
    "    early_stopping = early_stopping.update(test_loss)\n",
    "    if early_stopping.should_stop:\n",
    "        print(\"stopping early\")\n",
    "        break\n",
    "\n",
    "gc.collect()"
   ],
   "metadata": {
    "collapsed": false
   },
   "id": "b95557864ed2a29c",
   "execution_count": null
  },
  {
   "cell_type": "code",
   "outputs": [],
   "source": [
    "predicted: tft.TftOutputs = model.apply({\"params\": state.params}, x_test)\n",
    "jax.tree_util.tree_map(jnp.shape, predicted)"
   ],
   "metadata": {
    "collapsed": false
   },
   "id": "cf6d1c8b85d1408a",
   "execution_count": null
  },
  {
   "cell_type": "code",
   "outputs": [],
   "source": [
    "predicted_data = {\n",
    "    \"yhat_low\": predicted.logits[..., 0],\n",
    "    \"yhat\": predicted.logits[..., 1],\n",
    "    \"yhat_up\": predicted.logits[..., 2],\n",
    "}\n",
    "jax.tree_util.tree_map(jnp.shape, predicted_data)"
   ],
   "metadata": {
    "collapsed": false
   },
   "id": "d08f1eaf885e8189",
   "execution_count": null
  },
  {
   "cell_type": "code",
   "outputs": [],
   "source": [
    "target_scaler = preprocessor.transformers_[-2]\n",
    "target_scaler"
   ],
   "metadata": {
    "collapsed": false
   },
   "id": "79cf869e46b6c00f",
   "execution_count": null
  },
  {
   "cell_type": "code",
   "outputs": [],
   "source": [
    "predicted_data = jax.tree_util.tree_map(\n",
    "    functoolz.compose(\n",
    "        lambda y_pr: target_scaler[1].inverse_transform(y_pr).reshape(-1),\n",
    "        tft.utils.time_series_to_array,\n",
    "    ),\n",
    "    predicted_data,\n",
    ")\n",
    "jax.tree_util.tree_map(jnp.shape, predicted_data)"
   ],
   "metadata": {
    "collapsed": false
   },
   "id": "6f5c710633e26413",
   "execution_count": null
  },
  {
   "cell_type": "code",
   "outputs": [],
   "source": [
    "future_ts = test_dataframe[\"ts\"][9:]\n",
    "prediction_df = pl.DataFrame(\n",
    "    {\n",
    "        \"ts\": future_ts,\n",
    "        **predicted_data,\n",
    "    }\n",
    ")\n",
    "prediction_df"
   ],
   "metadata": {
    "collapsed": false
   },
   "id": "3b89963ee7fea2d1",
   "execution_count": null
  },
  {
   "cell_type": "code",
   "outputs": [],
   "source": [
    "test_vs_prediction_df = test_dataframe.join(prediction_df, on=[\"ts\"], how=\"left\").select(\n",
    "    \"id\", \"ts\", \"year\", \"month\", \"y\", \"yhat_low\", \"yhat\", \"yhat_up\"\n",
    ")\n",
    "test_vs_prediction_df"
   ],
   "metadata": {
    "collapsed": false
   },
   "id": "9642c558499e6b92",
   "execution_count": null
  },
  {
   "cell_type": "code",
   "outputs": [],
   "source": [
    "tft.utils.plot_predictions_vs_real(test_vs_prediction_df)"
   ],
   "metadata": {
    "collapsed": false
   },
   "id": "3a8a10bdb2eb9505",
   "execution_count": null
  },
  {
   "cell_type": "code",
   "outputs": [],
   "source": [
    "features_importance = jax.tree_util.tree_map(\n",
    "    tft.utils.time_series_to_array,\n",
    "    tft.FeatureImportance(\n",
    "        historical_flags=predicted.historical_flags,\n",
    "        future_flags=predicted.future_flags,\n",
    "    ),\n",
    ")\n",
    "\n",
    "tft.utils.plot_feature_importance(\n",
    "    test_dataframe[\"ts\"], features_importance, feature_names=[\"year\", \"month\"]\n",
    ")"
   ],
   "metadata": {
    "collapsed": false
   },
   "id": "64118f2b360b86c1",
   "execution_count": null
  },
  {
   "cell_type": "code",
   "execution_count": null,
   "id": "71f4336e30c9e65f",
   "metadata": {
    "collapsed": false
   },
   "outputs": [],
   "source": []
  }
 ],
 "metadata": {
  "kernelspec": {
   "display_name": "Python 3 (ipykernel)",
   "language": "python",
   "name": "python3"
  },
  "language_info": {
   "codemirror_mode": {
    "name": "ipython",
    "version": 3
   },
   "file_extension": ".py",
   "mimetype": "text/x-python",
   "name": "python",
   "nbconvert_exporter": "python",
   "pygments_lexer": "ipython3",
   "version": "3.10.12"
  }
 },
 "nbformat": 4,
 "nbformat_minor": 5
}
