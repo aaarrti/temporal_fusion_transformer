{
 "cells": [
  {
   "cell_type": "code",
   "execution_count": 1,
   "id": "initial_id",
   "metadata": {
    "collapsed": true,
    "ExecuteTime": {
     "end_time": "2024-02-29T01:39:33.947611Z",
     "start_time": "2024-02-29T01:39:33.878761Z"
    }
   },
   "outputs": [],
   "source": [
    "import gc\n",
    "import glob\n",
    "import os\n",
    "from datetime import date\n",
    "\n",
    "import polars as pl"
   ]
  },
  {
   "cell_type": "code",
   "outputs": [],
   "source": [
    "COLUMN_TO_DTYPE = {\n",
    "    \"store_nbr\": pl.UInt8,\n",
    "    \"cluster\": pl.UInt8,\n",
    "    \"perishable\": pl.UInt8,\n",
    "    \"class\": pl.UInt16,\n",
    "    \"transactions\": pl.UInt16,\n",
    "    \"oil_price\": pl.Float32,\n",
    "    \"onpromotion\": pl.UInt8,\n",
    "    \"item_nbr\": pl.UInt32,\n",
    "    \"unit_sales\": pl.Float32,\n",
    "}\n",
    "START_DATE = date(2015, 1, 1)\n",
    "END_DATE = date(2016, 6, 1)"
   ],
   "metadata": {
    "collapsed": false
   },
   "id": "3714401acc8a037f"
  },
  {
   "cell_type": "code",
   "outputs": [
    {
     "name": "stdout",
     "output_type": "stream",
     "text": [
      "Converting ../data/favorita/train.csv\n",
      "Converting ../data/favorita/transactions.csv\n",
      "Converting ../data/favorita/items.csv\n",
      "Converting ../data/favorita/oil.csv\n",
      "Converting ../data/favorita/holidays_events.csv\n",
      "Converting ../data/favorita/stores.csv\n"
     ]
    }
   ],
   "source": [
    "def convert_to_parquet(download_dir: str):\n",
    "    files = glob.glob(f\"{download_dir}/*.csv\")\n",
    "    for file in files:\n",
    "        print(f\"Converting {file}\")\n",
    "        target_file = file.replace(\"csv\", \"parquet\")\n",
    "        pl.scan_csv(file, try_parse_dates=True).sink_parquet(target_file)\n",
    "        os.remove(file)\n",
    "\n",
    "\n",
    "convert_to_parquet(\"../data/favorita\")"
   ],
   "metadata": {
    "collapsed": false,
    "ExecuteTime": {
     "end_time": "2024-02-29T01:39:52.041751Z",
     "start_time": "2024-02-29T01:39:33.952764Z"
    }
   },
   "id": "9b588039eb93edfc",
   "execution_count": 2
  },
  {
   "cell_type": "code",
   "outputs": [
    {
     "data": {
      "text/plain": "shape: (6, 2)\n┌─────────────┬─────────┐\n│ col         ┆ dtype   │\n│ ---         ┆ ---     │\n│ str         ┆ object  │\n╞═════════════╪═════════╡\n│ id          ┆ Int64   │\n│ date        ┆ Date    │\n│ store_nbr   ┆ Int64   │\n│ item_nbr    ┆ Int64   │\n│ unit_sales  ┆ Float64 │\n│ onpromotion ┆ String  │\n└─────────────┴─────────┘",
      "text/html": "<div><style>\n.dataframe > thead > tr,\n.dataframe > tbody > tr {\n  text-align: right;\n  white-space: pre-wrap;\n}\n</style>\n<small>shape: (6, 2)</small><table border=\"1\" class=\"dataframe\"><thead><tr><th>col</th><th>dtype</th></tr><tr><td>str</td><td>object</td></tr></thead><tbody><tr><td>&quot;id&quot;</td><td>Int64</td></tr><tr><td>&quot;date&quot;</td><td>Date</td></tr><tr><td>&quot;store_nbr&quot;</td><td>Int64</td></tr><tr><td>&quot;item_nbr&quot;</td><td>Int64</td></tr><tr><td>&quot;unit_sales&quot;</td><td>Float64</td></tr><tr><td>&quot;onpromotion&quot;</td><td>String</td></tr></tbody></table></div>"
     },
     "execution_count": 3,
     "metadata": {},
     "output_type": "execute_result"
    }
   ],
   "source": [
    "temporal_df_head = pl.scan_parquet(\"../data/favorita/train.parquet\").fetch(10)\n",
    "pl.DataFrame({\n",
    "    \"col\": temporal_df_head.columns,\n",
    "    \"dtype\": temporal_df_head.dtypes\n",
    "})"
   ],
   "metadata": {
    "collapsed": false,
    "ExecuteTime": {
     "end_time": "2024-02-29T01:43:30.534423Z",
     "start_time": "2024-02-29T01:43:30.505478Z"
    }
   },
   "id": "591b65b7228cc487",
   "execution_count": 3
  },
  {
   "cell_type": "code",
   "outputs": [],
   "source": [
    "def downcast_dataframe(dataframe: pl.DataFrame | pl.LazyFrame, streaming: bool = True) -> pl.DataFrame | pl.LazyFrame:\n",
    "    cols = []\n",
    "    for i in dataframe.columns:\n",
    "        if i not in COLUMN_TO_DTYPE:\n",
    "            print(f\"{i} not in COLUMN_TO_DTYPE\")\n",
    "            continue\n",
    "        \n",
    "        cols.append(pl.col(i).cast(COLUMN_TO_DTYPE[i]))\n",
    "    \n",
    "    dataframe = dataframe.with_columns(cols)\n",
    "    is_lazy = isinstance(dataframe, pl.LazyFrame)\n",
    "    if is_lazy:\n",
    "        dataframe = dataframe.collect(streaming=streaming)\n",
    "    dataframe = dataframe.shrink_to_fit(in_place=True).rechunk()\n",
    "    #if is_lazy:\n",
    "    #    dataframe = dataframe.lazy()\n",
    "    return dataframe\n"
   ],
   "metadata": {
    "collapsed": false
   },
   "id": "248b35e04e0a77b3"
  },
  {
   "cell_type": "code",
   "outputs": [
    {
     "name": "stderr",
     "output_type": "stream",
     "text": [
      "/var/folders/z_/0m6v5by50hz7hm8_bfck_0gm0000gp/T/ipykernel_21095/2457025492.py:7: DeprecationWarning: `map` is deprecated. It has been renamed to `map_batches`.\n",
      "  .with_columns(pl.col(\"onpromotion\").map(lambda x: None if x is None else x == \"True\"))\n"
     ]
    }
   ],
   "source": [
    "temporal_df: pl.LazyFrame = (\n",
    "    pl.scan_parquet(\"../data/favorita/train.parquet\")\n",
    "    .drop(\"id\")\n",
    "    # cutoff dataset to reduce memory requirements.\n",
    "    #.filter(pl.col(\"date\") >= START_DATE)\n",
    "    #.filter(pl.col(\"date\") <= END_DATE)\n",
    "    .with_columns(pl.col(\"onpromotion\").map_batches(lambda x: None if x is None else x == \"True\"))\n",
    "    .with_columns(pl.format(\"{}_{}\", \"store_nbr\", \"item_nbr\").alias(\"traj_id\"))\n",
    "    # remove_returns_data\n",
    "    .filter(pl.col(\"unit_sales\").min().over(\"traj_id\") >= 0)\n",
    "    .with_columns(open=pl.lit(1).cast(pl.Int8))\n",
    "    .sort(\"date\", \"traj_id\")\n",
    "    .collect(streaming=True)\n",
    "    .upsample(\"date\", every=\"1d\", by=\"traj_id\")\n",
    "    .lazy()\n",
    "    .with_columns(\n",
    "        [\n",
    "            pl.col(i).fill_null(strategy=\"forward\")\n",
    "            for i in [\"store_nbr\", \"item_nbr\", \"onpromotion\"]\n",
    "        ]\n",
    "    )\n",
    "    .with_columns(pl.col(\"open\").fill_null(0))\n",
    "    .with_columns(pl.col(\"unit_sales\").log())\n",
    "    .rename({\"unit_sales\": \"log_sales\"})\n",
    "    .with_columns(pl.col(\"log_sales\").fill_null(strategy=\"forward\"))\n",
    "    .pipe(downcast_dataframe, streaming=True)\n",
    ")\n",
    "gc.collect()\n",
    "temporal_df.head(10)"
   ],
   "metadata": {
    "collapsed": false,
    "is_executing": true,
    "ExecuteTime": {
     "start_time": "2024-02-29T01:50:40.566720Z"
    }
   },
   "id": "70a2618e57ab84c2",
   "execution_count": null
  },
  {
   "cell_type": "code",
   "outputs": [],
   "source": [
    "store_info = pl.scan_parquet(\"../data/favorita/stores.parquet\").pipe(downcast_dataframe)\n",
    "items = pl.scan_parquet(\"../data/favorita/items.parquet\").pipe(downcast_dataframe)\n",
    "transactions = pl.scan_parquet(\"../data/favorita/transactions.parquet\").pipe(downcast_dataframe)\n",
    "oil = (\n",
    "    pl.scan_parquet(\"../data/favorita/oil.parquet\")\n",
    "    .rename({\"dcoilwtico\": \"oil_price\"})\n",
    "    .pipe(downcast_dataframe)\n",
    ")\n",
    "holidays = pl.scan_parquet(\"../data/favorita/holidays_events.parquet\")\n",
    "\n",
    "national_holidays = (\n",
    "    holidays.filter(pl.col(\"locale\") == \"National\")\n",
    "    .select([\"description\", \"date\"])\n",
    "    .rename({\"description\": \"national_hol\"})\n",
    "    .pipe(downcast_dataframe)\n",
    ")\n",
    "regional_holidays = (\n",
    "    holidays.filter(pl.col(\"locale\") == \"Regional\")\n",
    "    .select([\"description\", \"locale_name\", \"date\"])\n",
    "    .rename({\"locale_name\": \"state\", \"description\": \"regional_hol\"})\n",
    "    .pipe(downcast_dataframe)\n",
    ")\n",
    "local_holidays = (\n",
    "    holidays.filter(pl.col(\"locale\") == \"Local\")\n",
    "    .select([\"description\", \"locale_name\", \"date\"])\n",
    "    .rename({\"locale_name\": \"city\", \"description\": \"local_hol\"})\n",
    "    .pipe(downcast_dataframe)\n",
    ")"
   ],
   "metadata": {
    "collapsed": false
   },
   "id": "69d52c8e3c81d374"
  },
  {
   "cell_type": "code",
   "outputs": [],
   "source": [
    "joined_df = (\n",
    "    temporal_df.join(oil, on=\"date\", how=\"left\")\n",
    "    .with_columns(pl.col(\"oil_price\").fill_null(strategy=\"forward\"))\n",
    "    .join(store_info, on=\"store_nbr\")\n",
    "    .join(items, on=\"item_nbr\")\n",
    "    .join(transactions, on=[\"store_nbr\", \"date\"])\n",
    "    .with_columns(pl.col(\"transactions\").fill_null(strategy=\"forward\"))\n",
    "    .join(national_holidays, on=\"date\", how=\"left\")\n",
    "    .join(regional_holidays, on=[\"date\", \"state\"], how=\"left\")\n",
    "    .join(local_holidays, on=[\"date\", \"city\"], how=\"left\")\n",
    "    .with_columns(\n",
    "        [\n",
    "            pl.col(\"national_hol\").fill_null(\"\"),\n",
    "            pl.col(\"regional_hol\").fill_null(\"\"),\n",
    "            pl.col(\"local_hol\").fill_null(\"\"),\n",
    "            pl.col(\"date\").dt.year().alias(\"year\"),\n",
    "            pl.col(\"date\").dt.month().alias(\"month\"),\n",
    "            pl.col(\"date\").dt.day().alias(\"day_of_month\"),\n",
    "            pl.col(\"date\").dt.weekday().alias(\"day_of_week\"),\n",
    "        ]\n",
    "    )\n",
    "    .filter(pl.col(\"oil_price\").is_not_null())\n",
    "    .sort(\"traj_id\", \"date\")\n",
    "    .collect(streaming=True)\n",
    "    .shrink_to_fit(in_place=True)\n",
    "    .rechunk()\n",
    ")"
   ],
   "metadata": {
    "collapsed": false
   },
   "id": "e09ef06cbd11c3f4"
  }
 ],
 "metadata": {
  "kernelspec": {
   "display_name": "Python 3",
   "language": "python",
   "name": "python3"
  },
  "language_info": {
   "codemirror_mode": {
    "name": "ipython",
    "version": 2
   },
   "file_extension": ".py",
   "mimetype": "text/x-python",
   "name": "python",
   "nbconvert_exporter": "python",
   "pygments_lexer": "ipython2",
   "version": "2.7.6"
  }
 },
 "nbformat": 4,
 "nbformat_minor": 5
}
