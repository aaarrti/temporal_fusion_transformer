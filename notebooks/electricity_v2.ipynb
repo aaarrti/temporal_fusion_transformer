{
 "cells": [
  {
   "cell_type": "code",
   "execution_count": 3,
   "outputs": [
    {
     "name": "stdout",
     "output_type": "stream",
     "text": [
      "The autoreload extension is already loaded. To reload it, use:\n",
      "  %reload_ext autoreload\n"
     ]
    }
   ],
   "source": [
    "%load_ext autoreload\n",
    "%autoreload 2"
   ],
   "metadata": {
    "collapsed": false,
    "ExecuteTime": {
     "end_time": "2023-09-27T22:17:32.747458Z",
     "start_time": "2023-09-27T22:17:31.749159Z"
    }
   },
   "id": "901cb7f1470eb7f8"
  },
  {
   "cell_type": "code",
   "execution_count": null,
   "outputs": [
    {
     "name": "stderr",
     "output_type": "stream",
     "text": [
      "[autoreload of wrapt.decorators failed: Traceback (most recent call last):\n",
      "  File \"/Users/artemsereda/miniconda3/envs/tft/lib/python3.10/site-packages/IPython/extensions/autoreload.py\", line 276, in check\n",
      "    superreload(m, reload, self.old_objects)\n",
      "  File \"/Users/artemsereda/miniconda3/envs/tft/lib/python3.10/site-packages/IPython/extensions/autoreload.py\", line 500, in superreload\n",
      "    update_generic(old_obj, new_obj)\n",
      "  File \"/Users/artemsereda/miniconda3/envs/tft/lib/python3.10/site-packages/IPython/extensions/autoreload.py\", line 397, in update_generic\n",
      "    update(a, b)\n",
      "  File \"/Users/artemsereda/miniconda3/envs/tft/lib/python3.10/site-packages/IPython/extensions/autoreload.py\", line 365, in update_class\n",
      "    update_instances(old, new)\n",
      "  File \"/Users/artemsereda/miniconda3/envs/tft/lib/python3.10/site-packages/IPython/extensions/autoreload.py\", line 323, in update_instances\n",
      "    object.__setattr__(ref, \"__class__\", new)\n",
      "TypeError: can't apply this __setattr__ to _AdapterFunctionSurrogate object\n",
      "]\n",
      "[autoreload of tensorflow.core.framework.tensor_pb2 failed: Traceback (most recent call last):\n",
      "  File \"/Users/artemsereda/miniconda3/envs/tft/lib/python3.10/site-packages/IPython/extensions/autoreload.py\", line 276, in check\n",
      "    superreload(m, reload, self.old_objects)\n",
      "  File \"/Users/artemsereda/miniconda3/envs/tft/lib/python3.10/site-packages/IPython/extensions/autoreload.py\", line 500, in superreload\n",
      "    update_generic(old_obj, new_obj)\n",
      "  File \"/Users/artemsereda/miniconda3/envs/tft/lib/python3.10/site-packages/IPython/extensions/autoreload.py\", line 397, in update_generic\n",
      "    update(a, b)\n",
      "  File \"/Users/artemsereda/miniconda3/envs/tft/lib/python3.10/site-packages/IPython/extensions/autoreload.py\", line 365, in update_class\n",
      "    update_instances(old, new)\n",
      "  File \"/Users/artemsereda/miniconda3/envs/tft/lib/python3.10/site-packages/IPython/extensions/autoreload.py\", line 323, in update_instances\n",
      "    object.__setattr__(ref, \"__class__\", new)\n",
      "TypeError: can't apply this __setattr__ to TensorProto object\n",
      "]\n",
      "[autoreload of tensorflow.core.framework.attr_value_pb2 failed: Traceback (most recent call last):\n",
      "  File \"/Users/artemsereda/miniconda3/envs/tft/lib/python3.10/site-packages/IPython/extensions/autoreload.py\", line 276, in check\n",
      "    superreload(m, reload, self.old_objects)\n",
      "  File \"/Users/artemsereda/miniconda3/envs/tft/lib/python3.10/site-packages/IPython/extensions/autoreload.py\", line 500, in superreload\n",
      "    update_generic(old_obj, new_obj)\n",
      "  File \"/Users/artemsereda/miniconda3/envs/tft/lib/python3.10/site-packages/IPython/extensions/autoreload.py\", line 397, in update_generic\n",
      "    update(a, b)\n",
      "  File \"/Users/artemsereda/miniconda3/envs/tft/lib/python3.10/site-packages/IPython/extensions/autoreload.py\", line 365, in update_class\n",
      "    update_instances(old, new)\n",
      "  File \"/Users/artemsereda/miniconda3/envs/tft/lib/python3.10/site-packages/IPython/extensions/autoreload.py\", line 323, in update_instances\n",
      "    object.__setattr__(ref, \"__class__\", new)\n",
      "TypeError: can't apply this __setattr__ to AttrValue object\n",
      "]\n",
      "[autoreload of tensorflow.core.framework.op_def_pb2 failed: Traceback (most recent call last):\n",
      "  File \"/Users/artemsereda/miniconda3/envs/tft/lib/python3.10/site-packages/IPython/extensions/autoreload.py\", line 276, in check\n",
      "    superreload(m, reload, self.old_objects)\n",
      "  File \"/Users/artemsereda/miniconda3/envs/tft/lib/python3.10/site-packages/IPython/extensions/autoreload.py\", line 500, in superreload\n",
      "    update_generic(old_obj, new_obj)\n",
      "  File \"/Users/artemsereda/miniconda3/envs/tft/lib/python3.10/site-packages/IPython/extensions/autoreload.py\", line 397, in update_generic\n",
      "    update(a, b)\n",
      "  File \"/Users/artemsereda/miniconda3/envs/tft/lib/python3.10/site-packages/IPython/extensions/autoreload.py\", line 365, in update_class\n",
      "    update_instances(old, new)\n",
      "  File \"/Users/artemsereda/miniconda3/envs/tft/lib/python3.10/site-packages/IPython/extensions/autoreload.py\", line 323, in update_instances\n",
      "    object.__setattr__(ref, \"__class__\", new)\n",
      "TypeError: can't apply this __setattr__ to OpDef object\n",
      "]\n",
      "[autoreload of tensorflow.core.framework.graph_debug_info_pb2 failed: Traceback (most recent call last):\n",
      "  File \"/Users/artemsereda/miniconda3/envs/tft/lib/python3.10/site-packages/IPython/extensions/autoreload.py\", line 276, in check\n",
      "    superreload(m, reload, self.old_objects)\n",
      "  File \"/Users/artemsereda/miniconda3/envs/tft/lib/python3.10/site-packages/IPython/extensions/autoreload.py\", line 475, in superreload\n",
      "    module = reload(module)\n",
      "  File \"/Users/artemsereda/miniconda3/envs/tft/lib/python3.10/importlib/__init__.py\", line 169, in reload\n",
      "    _bootstrap._exec(spec, module)\n",
      "  File \"<frozen importlib._bootstrap>\", line 619, in _exec\n",
      "  File \"<frozen importlib._bootstrap_external>\", line 883, in exec_module\n",
      "  File \"<frozen importlib._bootstrap>\", line 241, in _call_with_frames_removed\n",
      "  File \"/Users/artemsereda/miniconda3/envs/tft/lib/python3.10/site-packages/tensorflow/core/framework/graph_debug_info_pb2.py\", line 16, in <module>\n",
      "    DESCRIPTOR = _descriptor_pool.Default().AddSerializedFile(b'\\n0tensorflow/core/framework/graph_debug_info.proto\\x12\\ntensorflow\\\"\\xa3\\x06\\n\\x0eGraphDebugInfo\\x12\\r\\n\\x05\\x66iles\\x18\\x01 \\x03(\\t\\x12@\\n\\x0c\\x66rames_by_id\\x18\\x04 \\x03(\\x0b\\x32*.tensorflow.GraphDebugInfo.FramesByIdEntry\\x12@\\n\\x0ctraces_by_id\\x18\\x06 \\x03(\\x0b\\x32*.tensorflow.GraphDebugInfo.TracesByIdEntry\\x12\\x36\\n\\x06traces\\x18\\x02 \\x03(\\x0b\\x32&.tensorflow.GraphDebugInfo.TracesEntry\\x12G\\n\\x10name_to_trace_id\\x18\\x05 \\x03(\\x0b\\x32-.tensorflow.GraphDebugInfo.NameToTraceIdEntry\\x1aX\\n\\x0b\\x46ileLineCol\\x12\\x12\\n\\nfile_index\\x18\\x01 \\x01(\\x05\\x12\\x0c\\n\\x04line\\x18\\x02 \\x01(\\x05\\x12\\x0b\\n\\x03\\x63ol\\x18\\x03 \\x01(\\x05\\x12\\x0c\\n\\x04\\x66unc\\x18\\x04 \\x01(\\t\\x12\\x0c\\n\\x04\\x63ode\\x18\\x05 \\x01(\\t\\x1a\\x62\\n\\nStackTrace\\x12>\\n\\x0e\\x66ile_line_cols\\x18\\x01 \\x03(\\x0b\\x32&.tensorflow.GraphDebugInfo.FileLineCol\\x12\\x14\\n\\x08\\x66rame_id\\x18\\x02 \\x03(\\x06\\x42\\x02\\x10\\x01\\x1aY\\n\\x0f\\x46ramesByIdEntry\\x12\\x0b\\n\\x03key\\x18\\x01 \\x01(\\x06\\x12\\x35\\n\\x05value\\x18\\x02 \\x01(\\x0b\\x32&.tensorflow.GraphDebugInfo.FileLineCol:\\x02\\x38\\x01\\x1aX\\n\\x0fTracesByIdEntry\\x12\\x0b\\n\\x03key\\x18\\x01 \\x01(\\x06\\x12\\x34\\n\\x05value\\x18\\x02 \\x01(\\x0b\\x32%.tensorflow.GraphDebugInfo.StackTrace:\\x02\\x38\\x01\\x1aT\\n\\x0bTracesEntry\\x12\\x0b\\n\\x03key\\x18\\x01 \\x01(\\t\\x12\\x34\\n\\x05value\\x18\\x02 \\x01(\\x0b\\x32%.tensorflow.GraphDebugInfo.StackTrace:\\x02\\x38\\x01\\x1a\\x34\\n\\x12NameToTraceIdEntry\\x12\\x0b\\n\\x03key\\x18\\x01 \\x01(\\t\\x12\\r\\n\\x05value\\x18\\x02 \\x01(\\x06:\\x02\\x38\\x01\\x42\\x8c\\x01\\n\\x18org.tensorflow.frameworkB\\x14GraphDebugInfoProtosP\\x01ZUgithub.com/tensorflow/tensorflow/tensorflow/go/core/protobuf/for_core_protos_go_proto\\xf8\\x01\\x01')\n",
      "TypeError: Couldn't build proto file into descriptor pool: duplicate file name tensorflow/core/framework/graph_debug_info.proto\n",
      "]\n",
      "[autoreload of tensorflow.core.framework.versions_pb2 failed: Traceback (most recent call last):\n",
      "  File \"/Users/artemsereda/miniconda3/envs/tft/lib/python3.10/site-packages/IPython/extensions/autoreload.py\", line 276, in check\n",
      "    superreload(m, reload, self.old_objects)\n",
      "  File \"/Users/artemsereda/miniconda3/envs/tft/lib/python3.10/site-packages/IPython/extensions/autoreload.py\", line 500, in superreload\n",
      "    update_generic(old_obj, new_obj)\n",
      "  File \"/Users/artemsereda/miniconda3/envs/tft/lib/python3.10/site-packages/IPython/extensions/autoreload.py\", line 397, in update_generic\n",
      "    update(a, b)\n",
      "  File \"/Users/artemsereda/miniconda3/envs/tft/lib/python3.10/site-packages/IPython/extensions/autoreload.py\", line 365, in update_class\n",
      "    update_instances(old, new)\n",
      "  File \"/Users/artemsereda/miniconda3/envs/tft/lib/python3.10/site-packages/IPython/extensions/autoreload.py\", line 323, in update_instances\n",
      "    object.__setattr__(ref, \"__class__\", new)\n",
      "TypeError: can't apply this __setattr__ to VersionDef object\n",
      "]\n",
      "[autoreload of tensorflow.core.protobuf.rewriter_config_pb2 failed: Traceback (most recent call last):\n",
      "  File \"/Users/artemsereda/miniconda3/envs/tft/lib/python3.10/site-packages/IPython/extensions/autoreload.py\", line 276, in check\n",
      "    superreload(m, reload, self.old_objects)\n",
      "  File \"/Users/artemsereda/miniconda3/envs/tft/lib/python3.10/site-packages/IPython/extensions/autoreload.py\", line 475, in superreload\n",
      "    module = reload(module)\n",
      "  File \"/Users/artemsereda/miniconda3/envs/tft/lib/python3.10/importlib/__init__.py\", line 169, in reload\n",
      "    _bootstrap._exec(spec, module)\n",
      "  File \"<frozen importlib._bootstrap>\", line 619, in _exec\n",
      "  File \"<frozen importlib._bootstrap_external>\", line 883, in exec_module\n",
      "  File \"<frozen importlib._bootstrap>\", line 241, in _call_with_frames_removed\n",
      "  File \"/Users/artemsereda/miniconda3/envs/tft/lib/python3.10/site-packages/tensorflow/core/protobuf/rewriter_config_pb2.py\", line 18, in <module>\n",
      "    DESCRIPTOR = _descriptor_pool.Default().AddSerializedFile(b'\\n.tensorflow/core/protobuf/rewriter_config.proto\\x12\\ntensorflow\\x1a*tensorflow/core/framework/attr_value.proto\\x1a.tensorflow/core/protobuf/verifier_config.proto\\\";\\n\\x13\\x41utoParallelOptions\\x12\\x0e\\n\\x06\\x65nable\\x18\\x01 \\x01(\\x08\\x12\\x14\\n\\x0cnum_replicas\\x18\\x02 \\x01(\\x05\\\"+\\n\\x16ScopedAllocatorOptions\\x12\\x11\\n\\tenable_op\\x18\\x01 \\x03(\\t\\\"\\x95\\x16\\n\\x0eRewriterConfig\\x12\\x43\\n\\x15\\x63pu_layout_conversion\\x18\\x32 \\x01(\\x0e\\x32$.tensorflow.RewriterConfig.CpuLayout\\x12;\\n\\x10layout_optimizer\\x18\\x01 \\x01(\\x0e\\x32!.tensorflow.RewriterConfig.Toggle\\x12;\\n\\x10\\x63onstant_folding\\x18\\x03 \\x01(\\x0e\\x32!.tensorflow.RewriterConfig.Toggle\\x12=\\n\\x12shape_optimization\\x18\\r \\x01(\\x0e\\x32!.tensorflow.RewriterConfig.Toggle\\x12\\x34\\n\\tremapping\\x18\\x0e \\x01(\\x0e\\x32!.tensorflow.RewriterConfig.Toggle\\x12\\x46\\n\\x1b\\x63ommon_subgraph_elimination\\x18\\x18 \\x01(\\x0e\\x32!.tensorflow.RewriterConfig.Toggle\\x12\\x42\\n\\x17\\x61rithmetic_optimization\\x18\\x07 \\x01(\\x0e\\x32!.tensorflow.RewriterConfig.Toggle\\x12\\x42\\n\\x17\\x64\\x65pendency_optimization\\x18\\x08 \\x01(\\x0e\\x32!.tensorflow.RewriterConfig.Toggle\\x12<\\n\\x11loop_optimization\\x18\\t \\x01(\\x0e\\x32!.tensorflow.RewriterConfig.Toggle\\x12@\\n\\x15\\x66unction_optimization\\x18\\n \\x01(\\x0e\\x32!.tensorflow.RewriterConfig.Toggle\\x12\\x39\\n\\x0e\\x64\\x65\\x62ug_stripper\\x18\\x0b \\x01(\\x0e\\x32!.tensorflow.RewriterConfig.Toggle\\x12\\x1d\\n\\x15\\x64isable_model_pruning\\x18\\x02 \\x01(\\x08\\x12H\\n\\x1dscoped_allocator_optimization\\x18\\x0f \\x01(\\x0e\\x32!.tensorflow.RewriterConfig.Toggle\\x12\\x43\\n\\x18pin_to_host_optimization\\x18\\x12 \\x01(\\x0e\\x32!.tensorflow.RewriterConfig.Toggle\\x12\\x42\\n\\x17implementation_selector\\x18\\x16 \\x01(\\x0e\\x32!.tensorflow.RewriterConfig.Toggle\\x12?\\n\\x14\\x61uto_mixed_precision\\x18\\x17 \\x01(\\x0e\\x32!.tensorflow.RewriterConfig.Toggle\\x12\\x43\\n\\x18\\x61uto_mixed_precision_mkl\\x18\\x19 \\x01(\\x0e\\x32!.tensorflow.RewriterConfig.Toggle\\x12O\\n$auto_mixed_precision_onednn_bfloat16\\x18\\x1f \\x01(\\x0e\\x32!.tensorflow.RewriterConfig.Toggle\\x12\\x43\\n\\x18\\x61uto_mixed_precision_cpu\\x18\\x1d \\x01(\\x0e\\x32!.tensorflow.RewriterConfig.Toggle\\x12\\x1e\\n\\x16\\x64isable_meta_optimizer\\x18\\x13 \\x01(\\x08\\x12\\x1d\\n\\x15\\x64isable_tfg_optimizer\\x18  \\x01(\\x08\\x12@\\n\\x15use_plugin_optimizers\\x18\\x1c \\x01(\\x0e\\x32!.tensorflow.RewriterConfig.Toggle\\x12O\\n$experimental_conditional_code_motion\\x18\\x1e \\x01(\\x0e\\x32!.tensorflow.RewriterConfig.Toggle\\x12O\\n\\x19meta_optimizer_iterations\\x18\\x0c \\x01(\\x0e\\x32,.tensorflow.RewriterConfig.NumIterationsType\\x12\\x17\\n\\x0fmin_graph_nodes\\x18\\x11 \\x01(\\x05\\x12;\\n3experimental_disable_compressed_tensor_optimization\\x18\\x1a \\x01(\\x08\\x12;\\n3experimental_disable_folding_quantization_emulation\\x18\\x1b \\x01(\\x08\\x12\\x42\\n\\x13memory_optimization\\x18\\x04 \\x01(\\x0e\\x32%.tensorflow.RewriterConfig.MemOptType\\x12/\\n\\'memory_optimizer_target_node_name_scope\\x18\\x06 \\x01(\\t\\x12!\\n\\x19meta_optimizer_timeout_ms\\x18\\x14 \\x01(\\x03\\x12\\x36\\n\\rauto_parallel\\x18\\x05 \\x01(\\x0b\\x32\\x1f.tensorflow.AutoParallelOptions\\x12 \\n\\x18\\x66\\x61il_on_optimizer_errors\\x18\\x15 \\x01(\\x08\\x12\\x41\\n\\x15scoped_allocator_opts\\x18\\x10 \\x01(\\x0b\\x32\\\".tensorflow.ScopedAllocatorOptions\\x12\\x12\\n\\noptimizers\\x18\\x64 \\x03(\\t\\x12K\\n\\x11\\x63ustom_optimizers\\x18\\xc8\\x01 \\x03(\\x0b\\x32/.tensorflow.RewriterConfig.CustomGraphOptimizer\\x12\\x44\\n\\x1finter_optimizer_verifier_config\\x18\\xac\\x02 \\x01(\\x0b\\x32\\x1a.tensorflow.VerifierConfig\\x12\\x46\\n!post_optimization_verifier_config\\x18\\xad\\x02 \\x01(\\x0b\\x32\\x1a.tensorflow.VerifierConfig\\x1a\\xca\\x01\\n\\x14\\x43ustomGraphOptimizer\\x12\\x0c\\n\\x04name\\x18\\x01 \\x01(\\t\\x12X\\n\\rparameter_map\\x18\\x02 \\x03(\\x0b\\x32\\x41.tensorflow.RewriterConfig.CustomGraphOptimizer.ParameterMapEntry\\x1aJ\\n\\x11ParameterMapEntry\\x12\\x0b\\n\\x03key\\x18\\x01 \\x01(\\t\\x12$\\n\\x05value\\x18\\x02 \\x01(\\x0b\\x32\\x15.tensorflow.AttrValue:\\x02\\x38\\x01\\\"d\\n\\x06Toggle\\x12\\x0b\\n\\x07\\x44\\x45\\x46\\x41ULT\\x10\\x00\\x12\\x06\\n\\x02ON\\x10\\x01\\x12\\x07\\n\\x03OFF\\x10\\x02\\x12\\x0e\\n\\nAGGRESSIVE\\x10\\x03\\x12\\x15\\n\\x11\\x45XPERIMENTAL_MLIR\\x10\\x04\\x12\\x15\\n\\x11\\x45XPERIMENTAL_BOTH\\x10\\x05\\\"I\\n\\tCpuLayout\\x12\\x18\\n\\x14NO_CONVERSION_ON_CPU\\x10\\x00\\x12\\x10\\n\\x0cNCHW_TO_NHWC\\x10\\x01\\x12\\x10\\n\\x0cNHWC_TO_NCHW\\x10\\x02\\\"<\\n\\x11NumIterationsType\\x12\\x15\\n\\x11\\x44\\x45\\x46\\x41ULT_NUM_ITERS\\x10\\x00\\x12\\x07\\n\\x03ONE\\x10\\x01\\x12\\x07\\n\\x03TWO\\x10\\x02\\\"\\x9f\\x01\\n\\nMemOptType\\x12\\x13\\n\\x0f\\x44\\x45\\x46\\x41ULT_MEM_OPT\\x10\\x00\\x12\\x0e\\n\\nNO_MEM_OPT\\x10\\x01\\x12\\n\\n\\x06MANUAL\\x10\\x02\\x12\\x17\\n\\x13SWAPPING_HEURISTICS\\x10\\x04\\x12\\x1c\\n\\x18RECOMPUTATION_HEURISTICS\\x10\\x05\\x12\\x19\\n\\x15SCHEDULING_HEURISTICS\\x10\\x06\\x12\\x0e\\n\\nHEURISTICS\\x10\\x03\\x42\\x8c\\x01\\n\\x18org.tensorflow.frameworkB\\x14RewriterConfigProtosP\\x01ZUgithub.com/tensorflow/tensorflow/tensorflow/go/core/protobuf/for_core_protos_go_proto\\xf8\\x01\\x01\\x62\\x06proto3')\n",
      "TypeError: Couldn't build proto file into descriptor pool: duplicate file name tensorflow/core/protobuf/rewriter_config.proto\n",
      "]\n",
      "[autoreload of tensorflow.python.util.tf_stack failed: Traceback (most recent call last):\n",
      "  File \"/Users/artemsereda/miniconda3/envs/tft/lib/python3.10/site-packages/IPython/extensions/autoreload.py\", line 276, in check\n",
      "    superreload(m, reload, self.old_objects)\n",
      "  File \"/Users/artemsereda/miniconda3/envs/tft/lib/python3.10/site-packages/IPython/extensions/autoreload.py\", line 475, in superreload\n",
      "    module = reload(module)\n",
      "  File \"/Users/artemsereda/miniconda3/envs/tft/lib/python3.10/importlib/__init__.py\", line 169, in reload\n",
      "    _bootstrap._exec(spec, module)\n",
      "  File \"<frozen importlib._bootstrap>\", line 619, in _exec\n",
      "  File \"<frozen importlib._bootstrap_external>\", line 883, in exec_module\n",
      "  File \"<frozen importlib._bootstrap>\", line 241, in _call_with_frames_removed\n",
      "  File \"/Users/artemsereda/miniconda3/envs/tft/lib/python3.10/site-packages/tensorflow/python/util/tf_stack.py\", line 173, in <module>\n",
      "    class GraphDebugInfoBuilder(_tf_stack.GraphDebugInfoBuilder):\n",
      "AttributeError: module 'tensorflow.python.util._tf_stack' has no attribute 'GraphDebugInfoBuilder'\n",
      "]\n"
     ]
    }
   ],
   "source": [
    "import polars as pl\n",
    "import numpy as np\n",
    "import matplotlib.pyplot as plt\n",
    "from datetime import datetime, timedelta\n",
    "import matplotlib.dates as mdates\n",
    "import matplotx\n",
    "import matplotlib\n",
    "import jax\n",
    "\n",
    "matplotlib.style.use(matplotx.styles.dufte)\n",
    "\n",
    "import temporal_fusion_transformer as tft"
   ],
   "metadata": {
    "collapsed": false,
    "is_executing": true,
    "ExecuteTime": {
     "start_time": "2023-09-28T00:21:32.408958Z"
    }
   },
   "id": "initial_id"
  },
  {
   "cell_type": "code",
   "execution_count": 7,
   "outputs": [],
   "source": [
    "data_config = tft.experiments.fixed_parameters.get_config(\"electricity\")"
   ],
   "metadata": {
    "collapsed": false,
    "ExecuteTime": {
     "end_time": "2023-09-27T22:17:45.134033Z",
     "start_time": "2023-09-27T22:17:45.099422Z"
    }
   },
   "id": "58310c8bef8fd4c6"
  },
  {
   "cell_type": "code",
   "execution_count": 46,
   "outputs": [
    {
     "data": {
      "text/plain": "shape: (124_690, 7)\n┌──────────────┬──────┬───────┬──────┬─────┬─────────────┬────────┐\n│ power_usage  ┆ year ┆ month ┆ hour ┆ day ┆ day_of_week ┆ id     │\n│ ---          ┆ ---  ┆ ---   ┆ ---  ┆ --- ┆ ---         ┆ ---    │\n│ f32          ┆ u16  ┆ u8    ┆ u8   ┆ u8  ┆ u8          ┆ str    │\n╞══════════════╪══════╪═══════╪══════╪═════╪═════════════╪════════╡\n│ 16.81472     ┆ 2014 ┆ 8     ┆ 0    ┆ 25  ┆ 1           ┆ MT_001 │\n│ 16.180202    ┆ 2014 ┆ 8     ┆ 1    ┆ 25  ┆ 1           ┆ MT_001 │\n│ 16.180202    ┆ 2014 ┆ 8     ┆ 2    ┆ 25  ┆ 1           ┆ MT_001 │\n│ 16.81472     ┆ 2014 ┆ 8     ┆ 3    ┆ 25  ┆ 1           ┆ MT_001 │\n│ …            ┆ …    ┆ …     ┆ …    ┆ …   ┆ …           ┆ …      │\n│ 20202.703125 ┆ 2014 ┆ 9     ┆ 21   ┆ 7   ┆ 7           ┆ MT_370 │\n│ 19851.351562 ┆ 2014 ┆ 9     ┆ 22   ┆ 7   ┆ 7           ┆ MT_370 │\n│ 20135.134766 ┆ 2014 ┆ 9     ┆ 23   ┆ 7   ┆ 7           ┆ MT_370 │\n│ 21716.216797 ┆ 2014 ┆ 9     ┆ 0    ┆ 8   ┆ 1           ┆ MT_370 │\n└──────────────┴──────┴───────┴──────┴─────┴─────────────┴────────┘",
      "text/html": "<div><style>\n.dataframe > thead > tr > th,\n.dataframe > tbody > tr > td {\n  text-align: right;\n  white-space: pre-wrap;\n}\n</style>\n<small>shape: (124_690, 7)</small><table border=\"1\" class=\"dataframe\"><thead><tr><th>power_usage</th><th>year</th><th>month</th><th>hour</th><th>day</th><th>day_of_week</th><th>id</th></tr><tr><td>f32</td><td>u16</td><td>u8</td><td>u8</td><td>u8</td><td>u8</td><td>str</td></tr></thead><tbody><tr><td>16.81472</td><td>2014</td><td>8</td><td>0</td><td>25</td><td>1</td><td>&quot;MT_001&quot;</td></tr><tr><td>16.180202</td><td>2014</td><td>8</td><td>1</td><td>25</td><td>1</td><td>&quot;MT_001&quot;</td></tr><tr><td>16.180202</td><td>2014</td><td>8</td><td>2</td><td>25</td><td>1</td><td>&quot;MT_001&quot;</td></tr><tr><td>16.81472</td><td>2014</td><td>8</td><td>3</td><td>25</td><td>1</td><td>&quot;MT_001&quot;</td></tr><tr><td>16.497461</td><td>2014</td><td>8</td><td>4</td><td>25</td><td>1</td><td>&quot;MT_001&quot;</td></tr><tr><td>16.180202</td><td>2014</td><td>8</td><td>5</td><td>25</td><td>1</td><td>&quot;MT_001&quot;</td></tr><tr><td>16.497461</td><td>2014</td><td>8</td><td>6</td><td>25</td><td>1</td><td>&quot;MT_001&quot;</td></tr><tr><td>15.545685</td><td>2014</td><td>8</td><td>7</td><td>25</td><td>1</td><td>&quot;MT_001&quot;</td></tr><tr><td>19.035534</td><td>2014</td><td>8</td><td>8</td><td>25</td><td>1</td><td>&quot;MT_001&quot;</td></tr><tr><td>16.81472</td><td>2014</td><td>8</td><td>9</td><td>25</td><td>1</td><td>&quot;MT_001&quot;</td></tr><tr><td>14.593908</td><td>2014</td><td>8</td><td>10</td><td>25</td><td>1</td><td>&quot;MT_001&quot;</td></tr><tr><td>17.766497</td><td>2014</td><td>8</td><td>11</td><td>25</td><td>1</td><td>&quot;MT_001&quot;</td></tr><tr><td>&hellip;</td><td>&hellip;</td><td>&hellip;</td><td>&hellip;</td><td>&hellip;</td><td>&hellip;</td><td>&hellip;</td></tr><tr><td>20067.568359</td><td>2014</td><td>9</td><td>13</td><td>7</td><td>7</td><td>&quot;MT_370&quot;</td></tr><tr><td>20013.513672</td><td>2014</td><td>9</td><td>14</td><td>7</td><td>7</td><td>&quot;MT_370&quot;</td></tr><tr><td>22189.189453</td><td>2014</td><td>9</td><td>15</td><td>7</td><td>7</td><td>&quot;MT_370&quot;</td></tr><tr><td>21445.945312</td><td>2014</td><td>9</td><td>16</td><td>7</td><td>7</td><td>&quot;MT_370&quot;</td></tr><tr><td>22662.162109</td><td>2014</td><td>9</td><td>17</td><td>7</td><td>7</td><td>&quot;MT_370&quot;</td></tr><tr><td>23729.730469</td><td>2014</td><td>9</td><td>18</td><td>7</td><td>7</td><td>&quot;MT_370&quot;</td></tr><tr><td>20824.324219</td><td>2014</td><td>9</td><td>19</td><td>7</td><td>7</td><td>&quot;MT_370&quot;</td></tr><tr><td>19527.027344</td><td>2014</td><td>9</td><td>20</td><td>7</td><td>7</td><td>&quot;MT_370&quot;</td></tr><tr><td>20202.703125</td><td>2014</td><td>9</td><td>21</td><td>7</td><td>7</td><td>&quot;MT_370&quot;</td></tr><tr><td>19851.351562</td><td>2014</td><td>9</td><td>22</td><td>7</td><td>7</td><td>&quot;MT_370&quot;</td></tr><tr><td>20135.134766</td><td>2014</td><td>9</td><td>23</td><td>7</td><td>7</td><td>&quot;MT_370&quot;</td></tr><tr><td>21716.216797</td><td>2014</td><td>9</td><td>0</td><td>8</td><td>1</td><td>&quot;MT_370&quot;</td></tr></tbody></table></div>"
     },
     "execution_count": 46,
     "metadata": {},
     "output_type": "execute_result"
    }
   ],
   "source": [
    "df = pl.read_parquet(\"../data/electricity/test.parquet\")\n",
    "df"
   ],
   "metadata": {
    "collapsed": false,
    "ExecuteTime": {
     "end_time": "2023-09-27T22:53:25.066222Z",
     "start_time": "2023-09-27T22:53:24.625584Z"
    }
   },
   "id": "55eb836141e48862"
  },
  {
   "cell_type": "code",
   "execution_count": 47,
   "outputs": [
    {
     "data": {
      "text/plain": "shape: (337, 7)\n┌─────────────┬──────┬───────┬──────┬─────┬─────────────┬────────┐\n│ power_usage ┆ year ┆ month ┆ hour ┆ day ┆ day_of_week ┆ id     │\n│ ---         ┆ ---  ┆ ---   ┆ ---  ┆ --- ┆ ---         ┆ ---    │\n│ f32         ┆ u16  ┆ u8    ┆ u8   ┆ u8  ┆ u8          ┆ str    │\n╞═════════════╪══════╪═══════╪══════╪═════╪═════════════╪════════╡\n│ 346.889954  ┆ 2014 ┆ 8     ┆ 0    ┆ 25  ┆ 1           ┆ MT_124 │\n│ 321.770325  ┆ 2014 ┆ 8     ┆ 1    ┆ 25  ┆ 1           ┆ MT_124 │\n│ 224.880386  ┆ 2014 ┆ 8     ┆ 2    ┆ 25  ┆ 1           ┆ MT_124 │\n│ 178.22966   ┆ 2014 ┆ 8     ┆ 3    ┆ 25  ┆ 1           ┆ MT_124 │\n│ …           ┆ …    ┆ …     ┆ …    ┆ …   ┆ …           ┆ …      │\n│ 545.454529  ┆ 2014 ┆ 9     ┆ 21   ┆ 7   ┆ 7           ┆ MT_124 │\n│ 474.880371  ┆ 2014 ┆ 9     ┆ 22   ┆ 7   ┆ 7           ┆ MT_124 │\n│ 392.344482  ┆ 2014 ┆ 9     ┆ 23   ┆ 7   ┆ 7           ┆ MT_124 │\n│ 374.401917  ┆ 2014 ┆ 9     ┆ 0    ┆ 8   ┆ 1           ┆ MT_124 │\n└─────────────┴──────┴───────┴──────┴─────┴─────────────┴────────┘",
      "text/html": "<div><style>\n.dataframe > thead > tr > th,\n.dataframe > tbody > tr > td {\n  text-align: right;\n  white-space: pre-wrap;\n}\n</style>\n<small>shape: (337, 7)</small><table border=\"1\" class=\"dataframe\"><thead><tr><th>power_usage</th><th>year</th><th>month</th><th>hour</th><th>day</th><th>day_of_week</th><th>id</th></tr><tr><td>f32</td><td>u16</td><td>u8</td><td>u8</td><td>u8</td><td>u8</td><td>str</td></tr></thead><tbody><tr><td>346.889954</td><td>2014</td><td>8</td><td>0</td><td>25</td><td>1</td><td>&quot;MT_124&quot;</td></tr><tr><td>321.770325</td><td>2014</td><td>8</td><td>1</td><td>25</td><td>1</td><td>&quot;MT_124&quot;</td></tr><tr><td>224.880386</td><td>2014</td><td>8</td><td>2</td><td>25</td><td>1</td><td>&quot;MT_124&quot;</td></tr><tr><td>178.22966</td><td>2014</td><td>8</td><td>3</td><td>25</td><td>1</td><td>&quot;MT_124&quot;</td></tr><tr><td>129.1866</td><td>2014</td><td>8</td><td>4</td><td>25</td><td>1</td><td>&quot;MT_124&quot;</td></tr><tr><td>83.732056</td><td>2014</td><td>8</td><td>5</td><td>25</td><td>1</td><td>&quot;MT_124&quot;</td></tr><tr><td>68.181816</td><td>2014</td><td>8</td><td>6</td><td>25</td><td>1</td><td>&quot;MT_124&quot;</td></tr><tr><td>99.282295</td><td>2014</td><td>8</td><td>7</td><td>25</td><td>1</td><td>&quot;MT_124&quot;</td></tr><tr><td>129.1866</td><td>2014</td><td>8</td><td>8</td><td>25</td><td>1</td><td>&quot;MT_124&quot;</td></tr><tr><td>150.717697</td><td>2014</td><td>8</td><td>9</td><td>25</td><td>1</td><td>&quot;MT_124&quot;</td></tr><tr><td>130.382782</td><td>2014</td><td>8</td><td>10</td><td>25</td><td>1</td><td>&quot;MT_124&quot;</td></tr><tr><td>321.770325</td><td>2014</td><td>8</td><td>11</td><td>25</td><td>1</td><td>&quot;MT_124&quot;</td></tr><tr><td>&hellip;</td><td>&hellip;</td><td>&hellip;</td><td>&hellip;</td><td>&hellip;</td><td>&hellip;</td><td>&hellip;</td></tr><tr><td>477.272736</td><td>2014</td><td>9</td><td>13</td><td>7</td><td>7</td><td>&quot;MT_124&quot;</td></tr><tr><td>461.722473</td><td>2014</td><td>9</td><td>14</td><td>7</td><td>7</td><td>&quot;MT_124&quot;</td></tr><tr><td>418.660278</td><td>2014</td><td>9</td><td>15</td><td>7</td><td>7</td><td>&quot;MT_124&quot;</td></tr><tr><td>478.468903</td><td>2014</td><td>9</td><td>16</td><td>7</td><td>7</td><td>&quot;MT_124&quot;</td></tr><tr><td>527.511963</td><td>2014</td><td>9</td><td>17</td><td>7</td><td>7</td><td>&quot;MT_124&quot;</td></tr><tr><td>516.746399</td><td>2014</td><td>9</td><td>18</td><td>7</td><td>7</td><td>&quot;MT_124&quot;</td></tr><tr><td>559.808594</td><td>2014</td><td>9</td><td>19</td><td>7</td><td>7</td><td>&quot;MT_124&quot;</td></tr><tr><td>620.813416</td><td>2014</td><td>9</td><td>20</td><td>7</td><td>7</td><td>&quot;MT_124&quot;</td></tr><tr><td>545.454529</td><td>2014</td><td>9</td><td>21</td><td>7</td><td>7</td><td>&quot;MT_124&quot;</td></tr><tr><td>474.880371</td><td>2014</td><td>9</td><td>22</td><td>7</td><td>7</td><td>&quot;MT_124&quot;</td></tr><tr><td>392.344482</td><td>2014</td><td>9</td><td>23</td><td>7</td><td>7</td><td>&quot;MT_124&quot;</td></tr><tr><td>374.401917</td><td>2014</td><td>9</td><td>0</td><td>8</td><td>1</td><td>&quot;MT_124&quot;</td></tr></tbody></table></div>"
     },
     "execution_count": 47,
     "metadata": {},
     "output_type": "execute_result"
    }
   ],
   "source": [
    "mt_124_df = df.filter(pl.col(\"id\").eq(\"MT_124\"))\n",
    "mt_124_df"
   ],
   "metadata": {
    "collapsed": false,
    "ExecuteTime": {
     "end_time": "2023-09-27T22:53:29.627814Z",
     "start_time": "2023-09-27T22:53:29.573884Z"
    }
   },
   "id": "3d0ea9888c5d01b5"
  },
  {
   "cell_type": "code",
   "execution_count": 10,
   "outputs": [
    {
     "data": {
      "text/plain": "shape: (9, 8)\n┌────────────┬─────────────┬────────┬──────────┬───────────┬───────────┬─────────────┬────────┐\n│ describe   ┆ power_usage ┆ year   ┆ month    ┆ hour      ┆ day       ┆ day_of_week ┆ id     │\n│ ---        ┆ ---         ┆ ---    ┆ ---      ┆ ---       ┆ ---       ┆ ---         ┆ ---    │\n│ str        ┆ f64         ┆ f64    ┆ f64      ┆ f64       ┆ f64       ┆ f64         ┆ str    │\n╞════════════╪═════════════╪════════╪══════════╪═══════════╪═══════════╪═════════════╪════════╡\n│ count      ┆ 337.0       ┆ 337.0  ┆ 337.0    ┆ 337.0     ┆ 337.0     ┆ 337.0       ┆ 337    │\n│ null_count ┆ 0.0         ┆ 0.0    ┆ 0.0      ┆ 0.0       ┆ 0.0       ┆ 0.0         ┆ 0      │\n│ mean       ┆ 337.714569  ┆ 2014.0 ┆ 8.501484 ┆ 11.465875 ┆ 15.976261 ┆ 3.991098    ┆ null   │\n│ std        ┆ 148.767532  ┆ 0.0    ┆ 0.500741 ┆ 6.950475  ┆ 12.173328 ┆ 2.006665    ┆ null   │\n│ min        ┆ 61.004784   ┆ 2014.0 ┆ 8.0      ┆ 0.0       ┆ 1.0       ┆ 1.0         ┆ MT_124 │\n│ 25%        ┆ 181.818176  ┆ 2014.0 ┆ 8.0      ┆ 5.0       ┆ 4.0       ┆ 2.0         ┆ null   │\n│ 50%        ┆ 386.363647  ┆ 2014.0 ┆ 9.0      ┆ 11.0      ┆ 8.0       ┆ 4.0         ┆ null   │\n│ 75%        ┆ 447.368408  ┆ 2014.0 ┆ 9.0      ┆ 17.0      ┆ 28.0      ┆ 6.0         ┆ null   │\n│ max        ┆ 643.540649  ┆ 2014.0 ┆ 9.0      ┆ 23.0      ┆ 31.0      ┆ 7.0         ┆ MT_124 │\n└────────────┴─────────────┴────────┴──────────┴───────────┴───────────┴─────────────┴────────┘",
      "text/html": "<div><style>\n.dataframe > thead > tr > th,\n.dataframe > tbody > tr > td {\n  text-align: right;\n  white-space: pre-wrap;\n}\n</style>\n<small>shape: (9, 8)</small><table border=\"1\" class=\"dataframe\"><thead><tr><th>describe</th><th>power_usage</th><th>year</th><th>month</th><th>hour</th><th>day</th><th>day_of_week</th><th>id</th></tr><tr><td>str</td><td>f64</td><td>f64</td><td>f64</td><td>f64</td><td>f64</td><td>f64</td><td>str</td></tr></thead><tbody><tr><td>&quot;count&quot;</td><td>337.0</td><td>337.0</td><td>337.0</td><td>337.0</td><td>337.0</td><td>337.0</td><td>&quot;337&quot;</td></tr><tr><td>&quot;null_count&quot;</td><td>0.0</td><td>0.0</td><td>0.0</td><td>0.0</td><td>0.0</td><td>0.0</td><td>&quot;0&quot;</td></tr><tr><td>&quot;mean&quot;</td><td>337.714569</td><td>2014.0</td><td>8.501484</td><td>11.465875</td><td>15.976261</td><td>3.991098</td><td>null</td></tr><tr><td>&quot;std&quot;</td><td>148.767532</td><td>0.0</td><td>0.500741</td><td>6.950475</td><td>12.173328</td><td>2.006665</td><td>null</td></tr><tr><td>&quot;min&quot;</td><td>61.004784</td><td>2014.0</td><td>8.0</td><td>0.0</td><td>1.0</td><td>1.0</td><td>&quot;MT_124&quot;</td></tr><tr><td>&quot;25%&quot;</td><td>181.818176</td><td>2014.0</td><td>8.0</td><td>5.0</td><td>4.0</td><td>2.0</td><td>null</td></tr><tr><td>&quot;50%&quot;</td><td>386.363647</td><td>2014.0</td><td>9.0</td><td>11.0</td><td>8.0</td><td>4.0</td><td>null</td></tr><tr><td>&quot;75%&quot;</td><td>447.368408</td><td>2014.0</td><td>9.0</td><td>17.0</td><td>28.0</td><td>6.0</td><td>null</td></tr><tr><td>&quot;max&quot;</td><td>643.540649</td><td>2014.0</td><td>9.0</td><td>23.0</td><td>31.0</td><td>7.0</td><td>&quot;MT_124&quot;</td></tr></tbody></table></div>"
     },
     "execution_count": 10,
     "metadata": {},
     "output_type": "execute_result"
    }
   ],
   "source": [
    "mt_124_df.describe()"
   ],
   "metadata": {
    "collapsed": false,
    "ExecuteTime": {
     "end_time": "2023-09-27T22:17:45.747951Z",
     "start_time": "2023-09-27T22:17:45.692625Z"
    }
   },
   "id": "8222860edb3132ff"
  },
  {
   "cell_type": "code",
   "execution_count": 11,
   "outputs": [
    {
     "data": {
      "text/plain": "shape: (9, 9)\n┌────────────┬─────────────┬────────┬──────────┬───┬───────────┬─────────────┬────────┬────────────┐\n│ describe   ┆ power_usage ┆ year   ┆ month    ┆ … ┆ day       ┆ day_of_week ┆ id     ┆ date       │\n│ ---        ┆ ---         ┆ ---    ┆ ---      ┆   ┆ ---       ┆ ---         ┆ ---    ┆ ---        │\n│ str        ┆ f64         ┆ f64    ┆ f64      ┆   ┆ f64       ┆ f64         ┆ str    ┆ str        │\n╞════════════╪═════════════╪════════╪══════════╪═══╪═══════════╪═════════════╪════════╪════════════╡\n│ count      ┆ 337.0       ┆ 337.0  ┆ 337.0    ┆ … ┆ 337.0     ┆ 337.0       ┆ 337    ┆ 337        │\n│ null_count ┆ 0.0         ┆ 0.0    ┆ 0.0      ┆ … ┆ 0.0       ┆ 0.0         ┆ 0      ┆ 0          │\n│ mean       ┆ 337.714569  ┆ 2014.0 ┆ 8.501484 ┆ … ┆ 15.976261 ┆ 3.991098    ┆ null   ┆ null       │\n│ std        ┆ 148.767532  ┆ 0.0    ┆ 0.500741 ┆ … ┆ 12.173328 ┆ 2.006665    ┆ null   ┆ null       │\n│ min        ┆ 61.004784   ┆ 2014.0 ┆ 8.0      ┆ … ┆ 1.0       ┆ 1.0         ┆ MT_124 ┆ 2014-08-25 │\n│            ┆             ┆        ┆          ┆   ┆           ┆             ┆        ┆ 00:00:00   │\n│ 25%        ┆ 181.818176  ┆ 2014.0 ┆ 8.0      ┆ … ┆ 4.0       ┆ 2.0         ┆ null   ┆ null       │\n│ 50%        ┆ 386.363647  ┆ 2014.0 ┆ 9.0      ┆ … ┆ 8.0       ┆ 4.0         ┆ null   ┆ null       │\n│ 75%        ┆ 447.368408  ┆ 2014.0 ┆ 9.0      ┆ … ┆ 28.0      ┆ 6.0         ┆ null   ┆ null       │\n│ max        ┆ 643.540649  ┆ 2014.0 ┆ 9.0      ┆ … ┆ 31.0      ┆ 7.0         ┆ MT_124 ┆ 2014-09-08 │\n│            ┆             ┆        ┆          ┆   ┆           ┆             ┆        ┆ 00:00:00   │\n└────────────┴─────────────┴────────┴──────────┴───┴───────────┴─────────────┴────────┴────────────┘",
      "text/html": "<div><style>\n.dataframe > thead > tr > th,\n.dataframe > tbody > tr > td {\n  text-align: right;\n  white-space: pre-wrap;\n}\n</style>\n<small>shape: (9, 9)</small><table border=\"1\" class=\"dataframe\"><thead><tr><th>describe</th><th>power_usage</th><th>year</th><th>month</th><th>hour</th><th>day</th><th>day_of_week</th><th>id</th><th>date</th></tr><tr><td>str</td><td>f64</td><td>f64</td><td>f64</td><td>f64</td><td>f64</td><td>f64</td><td>str</td><td>str</td></tr></thead><tbody><tr><td>&quot;count&quot;</td><td>337.0</td><td>337.0</td><td>337.0</td><td>337.0</td><td>337.0</td><td>337.0</td><td>&quot;337&quot;</td><td>&quot;337&quot;</td></tr><tr><td>&quot;null_count&quot;</td><td>0.0</td><td>0.0</td><td>0.0</td><td>0.0</td><td>0.0</td><td>0.0</td><td>&quot;0&quot;</td><td>&quot;0&quot;</td></tr><tr><td>&quot;mean&quot;</td><td>337.714569</td><td>2014.0</td><td>8.501484</td><td>11.465875</td><td>15.976261</td><td>3.991098</td><td>null</td><td>null</td></tr><tr><td>&quot;std&quot;</td><td>148.767532</td><td>0.0</td><td>0.500741</td><td>6.950475</td><td>12.173328</td><td>2.006665</td><td>null</td><td>null</td></tr><tr><td>&quot;min&quot;</td><td>61.004784</td><td>2014.0</td><td>8.0</td><td>0.0</td><td>1.0</td><td>1.0</td><td>&quot;MT_124&quot;</td><td>&quot;2014-08-25 00:…</td></tr><tr><td>&quot;25%&quot;</td><td>181.818176</td><td>2014.0</td><td>8.0</td><td>5.0</td><td>4.0</td><td>2.0</td><td>null</td><td>null</td></tr><tr><td>&quot;50%&quot;</td><td>386.363647</td><td>2014.0</td><td>9.0</td><td>11.0</td><td>8.0</td><td>4.0</td><td>null</td><td>null</td></tr><tr><td>&quot;75%&quot;</td><td>447.368408</td><td>2014.0</td><td>9.0</td><td>17.0</td><td>28.0</td><td>6.0</td><td>null</td><td>null</td></tr><tr><td>&quot;max&quot;</td><td>643.540649</td><td>2014.0</td><td>9.0</td><td>23.0</td><td>31.0</td><td>7.0</td><td>&quot;MT_124&quot;</td><td>&quot;2014-09-08 00:…</td></tr></tbody></table></div>"
     },
     "execution_count": 11,
     "metadata": {},
     "output_type": "execute_result"
    }
   ],
   "source": [
    "mt_124_df = mt_124_df.with_columns(\n",
    "    [\n",
    "        pl.datetime(\"year\", \"month\", \"day\", \"hour\")\n",
    "        .dt.strftime(\"%Y/%m/%d %H:%M:%S\")\n",
    "        .alias(\"date\")\n",
    "        .str.to_datetime()\n",
    "    ]\n",
    ")\n",
    "\n",
    "mt_124_df.describe()"
   ],
   "metadata": {
    "collapsed": false,
    "ExecuteTime": {
     "end_time": "2023-09-27T22:17:45.953878Z",
     "start_time": "2023-09-27T22:17:45.903409Z"
    }
   },
   "id": "23278105a04a9efe"
  },
  {
   "cell_type": "code",
   "execution_count": 12,
   "outputs": [],
   "source": [
    "max_date = mt_124_df[\"date\"].max()\n",
    "boundary = max_date - timedelta(hours=192)\n",
    "\n",
    "mt_124_df = mt_124_df.filter(pl.col(\"date\") >= boundary)"
   ],
   "metadata": {
    "collapsed": false,
    "ExecuteTime": {
     "end_time": "2023-09-27T22:17:46.132706Z",
     "start_time": "2023-09-27T22:17:46.081321Z"
    }
   },
   "id": "7fcb8d7d54689c08"
  },
  {
   "cell_type": "code",
   "execution_count": 13,
   "outputs": [],
   "source": [
    "ts = mt_124_df[\"date\"].to_list()\n",
    "pu = mt_124_df[\"power_usage\"].to_numpy()"
   ],
   "metadata": {
    "collapsed": false,
    "ExecuteTime": {
     "end_time": "2023-09-27T22:17:46.309680Z",
     "start_time": "2023-09-27T22:17:46.269442Z"
    }
   },
   "id": "b5ea60dba0216953"
  },
  {
   "cell_type": "code",
   "execution_count": 48,
   "outputs": [],
   "source": [
    "pu"
   ],
   "metadata": {
    "collapsed": false,
    "ExecuteTime": {
     "end_time": "2023-09-27T22:53:34.379876Z",
     "start_time": "2023-09-27T22:53:34.330951Z"
    }
   },
   "id": "379c949cf3efa40a"
  },
  {
   "cell_type": "code",
   "execution_count": 15,
   "outputs": [
    {
     "data": {
      "text/plain": "<Figure size 640x480 with 1 Axes>",
      "image/png": "[encoded data removed]"
     },
     "metadata": {},
     "output_type": "display_data"
    }
   ],
   "source": [
    "plt.plot(ts, pu)\n",
    "plt.gca().xaxis.set_major_formatter(mdates.DateFormatter(\"%M/%d/%H\"))\n",
    "plt.gca().xaxis.set_major_locator(mdates.HourLocator(interval=10))\n",
    "plt.xticks(rotation=90)\n",
    "plt.tight_layout()"
   ],
   "metadata": {
    "collapsed": false,
    "ExecuteTime": {
     "end_time": "2023-09-27T22:17:47.426295Z",
     "start_time": "2023-09-27T22:17:47.033795Z"
    }
   },
   "id": "a3797a7e7d191360"
  },
  {
   "cell_type": "code",
   "execution_count": 16,
   "outputs": [
    {
     "data": {
      "text/plain": "{'categorical': {'day': LabelEncoder(),\n  'day_of_week': LabelEncoder(),\n  'hour': LabelEncoder(),\n  'id': LabelEncoder(),\n  'month': LabelEncoder()},\n 'real': {'MT_001': StandardScaler(),\n  'MT_002': StandardScaler(),\n  'MT_003': StandardScaler(),\n  'MT_004': StandardScaler(),\n  'MT_005': StandardScaler(),\n  'MT_006': StandardScaler(),\n  'MT_007': StandardScaler(),\n  'MT_008': StandardScaler(),\n  'MT_009': StandardScaler(),\n  'MT_010': StandardScaler(),\n  'MT_011': StandardScaler(),\n  'MT_012': StandardScaler(),\n  'MT_013': StandardScaler(),\n  'MT_014': StandardScaler(),\n  'MT_015': StandardScaler(),\n  'MT_016': StandardScaler(),\n  'MT_017': StandardScaler(),\n  'MT_018': StandardScaler(),\n  'MT_019': StandardScaler(),\n  'MT_020': StandardScaler(),\n  'MT_021': StandardScaler(),\n  'MT_022': StandardScaler(),\n  'MT_023': StandardScaler(),\n  'MT_024': StandardScaler(),\n  'MT_025': StandardScaler(),\n  'MT_026': StandardScaler(),\n  'MT_027': StandardScaler(),\n  'MT_028': StandardScaler(),\n  'MT_029': StandardScaler(),\n  'MT_030': StandardScaler(),\n  'MT_031': StandardScaler(),\n  'MT_032': StandardScaler(),\n  'MT_033': StandardScaler(),\n  'MT_034': StandardScaler(),\n  'MT_035': StandardScaler(),\n  'MT_036': StandardScaler(),\n  'MT_037': StandardScaler(),\n  'MT_038': StandardScaler(),\n  'MT_039': StandardScaler(),\n  'MT_040': StandardScaler(),\n  'MT_041': StandardScaler(),\n  'MT_042': StandardScaler(),\n  'MT_043': StandardScaler(),\n  'MT_044': StandardScaler(),\n  'MT_045': StandardScaler(),\n  'MT_046': StandardScaler(),\n  'MT_047': StandardScaler(),\n  'MT_048': StandardScaler(),\n  'MT_049': StandardScaler(),\n  'MT_050': StandardScaler(),\n  'MT_051': StandardScaler(),\n  'MT_052': StandardScaler(),\n  'MT_053': StandardScaler(),\n  'MT_054': StandardScaler(),\n  'MT_055': StandardScaler(),\n  'MT_056': StandardScaler(),\n  'MT_057': StandardScaler(),\n  'MT_058': StandardScaler(),\n  'MT_059': StandardScaler(),\n  'MT_060': StandardScaler(),\n  'MT_061': StandardScaler(),\n  'MT_062': StandardScaler(),\n  'MT_063': StandardScaler(),\n  'MT_064': StandardScaler(),\n  'MT_065': StandardScaler(),\n  'MT_066': StandardScaler(),\n  'MT_067': StandardScaler(),\n  'MT_068': StandardScaler(),\n  'MT_069': StandardScaler(),\n  'MT_070': StandardScaler(),\n  'MT_071': StandardScaler(),\n  'MT_072': StandardScaler(),\n  'MT_073': StandardScaler(),\n  'MT_074': StandardScaler(),\n  'MT_075': StandardScaler(),\n  'MT_076': StandardScaler(),\n  'MT_077': StandardScaler(),\n  'MT_078': StandardScaler(),\n  'MT_079': StandardScaler(),\n  'MT_080': StandardScaler(),\n  'MT_081': StandardScaler(),\n  'MT_082': StandardScaler(),\n  'MT_083': StandardScaler(),\n  'MT_084': StandardScaler(),\n  'MT_085': StandardScaler(),\n  'MT_086': StandardScaler(),\n  'MT_087': StandardScaler(),\n  'MT_088': StandardScaler(),\n  'MT_089': StandardScaler(),\n  'MT_090': StandardScaler(),\n  'MT_091': StandardScaler(),\n  'MT_092': StandardScaler(),\n  'MT_093': StandardScaler(),\n  'MT_094': StandardScaler(),\n  'MT_095': StandardScaler(),\n  'MT_096': StandardScaler(),\n  'MT_097': StandardScaler(),\n  'MT_098': StandardScaler(),\n  'MT_099': StandardScaler(),\n  'MT_100': StandardScaler(),\n  'MT_101': StandardScaler(),\n  'MT_102': StandardScaler(),\n  'MT_103': StandardScaler(),\n  'MT_104': StandardScaler(),\n  'MT_105': StandardScaler(),\n  'MT_106': StandardScaler(),\n  'MT_107': StandardScaler(),\n  'MT_108': StandardScaler(),\n  'MT_109': StandardScaler(),\n  'MT_110': StandardScaler(),\n  'MT_111': StandardScaler(),\n  'MT_112': StandardScaler(),\n  'MT_113': StandardScaler(),\n  'MT_114': StandardScaler(),\n  'MT_115': StandardScaler(),\n  'MT_116': StandardScaler(),\n  'MT_117': StandardScaler(),\n  'MT_118': StandardScaler(),\n  'MT_119': StandardScaler(),\n  'MT_120': StandardScaler(),\n  'MT_121': StandardScaler(),\n  'MT_122': StandardScaler(),\n  'MT_123': StandardScaler(),\n  'MT_124': StandardScaler(),\n  'MT_125': StandardScaler(),\n  'MT_126': StandardScaler(),\n  'MT_127': StandardScaler(),\n  'MT_128': StandardScaler(),\n  'MT_129': StandardScaler(),\n  'MT_130': StandardScaler(),\n  'MT_131': StandardScaler(),\n  'MT_132': StandardScaler(),\n  'MT_133': StandardScaler(),\n  'MT_134': StandardScaler(),\n  'MT_135': StandardScaler(),\n  'MT_136': StandardScaler(),\n  'MT_137': StandardScaler(),\n  'MT_138': StandardScaler(),\n  'MT_139': StandardScaler(),\n  'MT_140': StandardScaler(),\n  'MT_141': StandardScaler(),\n  'MT_142': StandardScaler(),\n  'MT_143': StandardScaler(),\n  'MT_144': StandardScaler(),\n  'MT_145': StandardScaler(),\n  'MT_146': StandardScaler(),\n  'MT_147': StandardScaler(),\n  'MT_148': StandardScaler(),\n  'MT_149': StandardScaler(),\n  'MT_150': StandardScaler(),\n  'MT_151': StandardScaler(),\n  'MT_152': StandardScaler(),\n  'MT_153': StandardScaler(),\n  'MT_154': StandardScaler(),\n  'MT_155': StandardScaler(),\n  'MT_156': StandardScaler(),\n  'MT_157': StandardScaler(),\n  'MT_158': StandardScaler(),\n  'MT_159': StandardScaler(),\n  'MT_160': StandardScaler(),\n  'MT_161': StandardScaler(),\n  'MT_162': StandardScaler(),\n  'MT_163': StandardScaler(),\n  'MT_164': StandardScaler(),\n  'MT_165': StandardScaler(),\n  'MT_166': StandardScaler(),\n  'MT_167': StandardScaler(),\n  'MT_168': StandardScaler(),\n  'MT_169': StandardScaler(),\n  'MT_170': StandardScaler(),\n  'MT_171': StandardScaler(),\n  'MT_172': StandardScaler(),\n  'MT_173': StandardScaler(),\n  'MT_174': StandardScaler(),\n  'MT_175': StandardScaler(),\n  'MT_176': StandardScaler(),\n  'MT_177': StandardScaler(),\n  'MT_178': StandardScaler(),\n  'MT_179': StandardScaler(),\n  'MT_180': StandardScaler(),\n  'MT_181': StandardScaler(),\n  'MT_182': StandardScaler(),\n  'MT_183': StandardScaler(),\n  'MT_184': StandardScaler(),\n  'MT_185': StandardScaler(),\n  'MT_186': StandardScaler(),\n  'MT_187': StandardScaler(),\n  'MT_188': StandardScaler(),\n  'MT_189': StandardScaler(),\n  'MT_190': StandardScaler(),\n  'MT_191': StandardScaler(),\n  'MT_192': StandardScaler(),\n  'MT_193': StandardScaler(),\n  'MT_194': StandardScaler(),\n  'MT_195': StandardScaler(),\n  'MT_196': StandardScaler(),\n  'MT_197': StandardScaler(),\n  'MT_198': StandardScaler(),\n  'MT_199': StandardScaler(),\n  'MT_200': StandardScaler(),\n  'MT_201': StandardScaler(),\n  'MT_202': StandardScaler(),\n  'MT_203': StandardScaler(),\n  'MT_204': StandardScaler(),\n  'MT_205': StandardScaler(),\n  'MT_206': StandardScaler(),\n  'MT_207': StandardScaler(),\n  'MT_208': StandardScaler(),\n  'MT_209': StandardScaler(),\n  'MT_210': StandardScaler(),\n  'MT_211': StandardScaler(),\n  'MT_212': StandardScaler(),\n  'MT_213': StandardScaler(),\n  'MT_214': StandardScaler(),\n  'MT_215': StandardScaler(),\n  'MT_216': StandardScaler(),\n  'MT_217': StandardScaler(),\n  'MT_218': StandardScaler(),\n  'MT_219': StandardScaler(),\n  'MT_220': StandardScaler(),\n  'MT_221': StandardScaler(),\n  'MT_222': StandardScaler(),\n  'MT_223': StandardScaler(),\n  'MT_224': StandardScaler(),\n  'MT_225': StandardScaler(),\n  'MT_226': StandardScaler(),\n  'MT_227': StandardScaler(),\n  'MT_228': StandardScaler(),\n  'MT_229': StandardScaler(),\n  'MT_230': StandardScaler(),\n  'MT_231': StandardScaler(),\n  'MT_232': StandardScaler(),\n  'MT_233': StandardScaler(),\n  'MT_234': StandardScaler(),\n  'MT_235': StandardScaler(),\n  'MT_236': StandardScaler(),\n  'MT_237': StandardScaler(),\n  'MT_238': StandardScaler(),\n  'MT_239': StandardScaler(),\n  'MT_240': StandardScaler(),\n  'MT_241': StandardScaler(),\n  'MT_242': StandardScaler(),\n  'MT_243': StandardScaler(),\n  'MT_244': StandardScaler(),\n  'MT_245': StandardScaler(),\n  'MT_246': StandardScaler(),\n  'MT_247': StandardScaler(),\n  'MT_248': StandardScaler(),\n  'MT_249': StandardScaler(),\n  'MT_250': StandardScaler(),\n  'MT_251': StandardScaler(),\n  'MT_252': StandardScaler(),\n  'MT_253': StandardScaler(),\n  'MT_254': StandardScaler(),\n  'MT_255': StandardScaler(),\n  'MT_256': StandardScaler(),\n  'MT_257': StandardScaler(),\n  'MT_258': StandardScaler(),\n  'MT_259': StandardScaler(),\n  'MT_260': StandardScaler(),\n  'MT_261': StandardScaler(),\n  'MT_262': StandardScaler(),\n  'MT_263': StandardScaler(),\n  'MT_264': StandardScaler(),\n  'MT_265': StandardScaler(),\n  'MT_266': StandardScaler(),\n  'MT_267': StandardScaler(),\n  'MT_268': StandardScaler(),\n  'MT_269': StandardScaler(),\n  'MT_270': StandardScaler(),\n  'MT_271': StandardScaler(),\n  'MT_272': StandardScaler(),\n  'MT_273': StandardScaler(),\n  'MT_274': StandardScaler(),\n  'MT_275': StandardScaler(),\n  'MT_276': StandardScaler(),\n  'MT_277': StandardScaler(),\n  'MT_278': StandardScaler(),\n  'MT_279': StandardScaler(),\n  'MT_280': StandardScaler(),\n  'MT_281': StandardScaler(),\n  'MT_282': StandardScaler(),\n  'MT_283': StandardScaler(),\n  'MT_284': StandardScaler(),\n  'MT_285': StandardScaler(),\n  'MT_286': StandardScaler(),\n  'MT_287': StandardScaler(),\n  'MT_288': StandardScaler(),\n  'MT_289': StandardScaler(),\n  'MT_290': StandardScaler(),\n  'MT_291': StandardScaler(),\n  'MT_292': StandardScaler(),\n  'MT_293': StandardScaler(),\n  'MT_294': StandardScaler(),\n  'MT_295': StandardScaler(),\n  'MT_296': StandardScaler(),\n  'MT_297': StandardScaler(),\n  'MT_298': StandardScaler(),\n  'MT_299': StandardScaler(),\n  'MT_300': StandardScaler(),\n  'MT_301': StandardScaler(),\n  'MT_302': StandardScaler(),\n  'MT_303': StandardScaler(),\n  'MT_304': StandardScaler(),\n  'MT_305': StandardScaler(),\n  'MT_306': StandardScaler(),\n  'MT_307': StandardScaler(),\n  'MT_308': StandardScaler(),\n  'MT_309': StandardScaler(),\n  'MT_310': StandardScaler(),\n  'MT_311': StandardScaler(),\n  'MT_312': StandardScaler(),\n  'MT_313': StandardScaler(),\n  'MT_314': StandardScaler(),\n  'MT_315': StandardScaler(),\n  'MT_316': StandardScaler(),\n  'MT_317': StandardScaler(),\n  'MT_318': StandardScaler(),\n  'MT_319': StandardScaler(),\n  'MT_320': StandardScaler(),\n  'MT_321': StandardScaler(),\n  'MT_322': StandardScaler(),\n  'MT_323': StandardScaler(),\n  'MT_324': StandardScaler(),\n  'MT_325': StandardScaler(),\n  'MT_326': StandardScaler(),\n  'MT_327': StandardScaler(),\n  'MT_328': StandardScaler(),\n  'MT_329': StandardScaler(),\n  'MT_330': StandardScaler(),\n  'MT_331': StandardScaler(),\n  'MT_332': StandardScaler(),\n  'MT_333': StandardScaler(),\n  'MT_334': StandardScaler(),\n  'MT_335': StandardScaler(),\n  'MT_336': StandardScaler(),\n  'MT_337': StandardScaler(),\n  'MT_338': StandardScaler(),\n  'MT_339': StandardScaler(),\n  'MT_340': StandardScaler(),\n  'MT_341': StandardScaler(),\n  'MT_342': StandardScaler(),\n  'MT_343': StandardScaler(),\n  'MT_344': StandardScaler(),\n  'MT_345': StandardScaler(),\n  'MT_346': StandardScaler(),\n  'MT_347': StandardScaler(),\n  'MT_348': StandardScaler(),\n  'MT_349': StandardScaler(),\n  'MT_350': StandardScaler(),\n  'MT_351': StandardScaler(),\n  'MT_352': StandardScaler(),\n  'MT_353': StandardScaler(),\n  'MT_354': StandardScaler(),\n  'MT_355': StandardScaler(),\n  'MT_356': StandardScaler(),\n  'MT_357': StandardScaler(),\n  'MT_358': StandardScaler(),\n  'MT_359': StandardScaler(),\n  'MT_360': StandardScaler(),\n  'MT_361': StandardScaler(),\n  'MT_362': StandardScaler(),\n  'MT_363': StandardScaler(),\n  'MT_364': StandardScaler(),\n  'MT_365': StandardScaler(),\n  'MT_366': StandardScaler(),\n  'MT_367': StandardScaler(),\n  'MT_368': StandardScaler(),\n  'MT_369': StandardScaler(),\n  'MT_370': StandardScaler()},\n 'target': {'MT_001': StandardScaler(),\n  'MT_002': StandardScaler(),\n  'MT_003': StandardScaler(),\n  'MT_004': StandardScaler(),\n  'MT_005': StandardScaler(),\n  'MT_006': StandardScaler(),\n  'MT_007': StandardScaler(),\n  'MT_008': StandardScaler(),\n  'MT_009': StandardScaler(),\n  'MT_010': StandardScaler(),\n  'MT_011': StandardScaler(),\n  'MT_012': StandardScaler(),\n  'MT_013': StandardScaler(),\n  'MT_014': StandardScaler(),\n  'MT_015': StandardScaler(),\n  'MT_016': StandardScaler(),\n  'MT_017': StandardScaler(),\n  'MT_018': StandardScaler(),\n  'MT_019': StandardScaler(),\n  'MT_020': StandardScaler(),\n  'MT_021': StandardScaler(),\n  'MT_022': StandardScaler(),\n  'MT_023': StandardScaler(),\n  'MT_024': StandardScaler(),\n  'MT_025': StandardScaler(),\n  'MT_026': StandardScaler(),\n  'MT_027': StandardScaler(),\n  'MT_028': StandardScaler(),\n  'MT_029': StandardScaler(),\n  'MT_030': StandardScaler(),\n  'MT_031': StandardScaler(),\n  'MT_032': StandardScaler(),\n  'MT_033': StandardScaler(),\n  'MT_034': StandardScaler(),\n  'MT_035': StandardScaler(),\n  'MT_036': StandardScaler(),\n  'MT_037': StandardScaler(),\n  'MT_038': StandardScaler(),\n  'MT_039': StandardScaler(),\n  'MT_040': StandardScaler(),\n  'MT_041': StandardScaler(),\n  'MT_042': StandardScaler(),\n  'MT_043': StandardScaler(),\n  'MT_044': StandardScaler(),\n  'MT_045': StandardScaler(),\n  'MT_046': StandardScaler(),\n  'MT_047': StandardScaler(),\n  'MT_048': StandardScaler(),\n  'MT_049': StandardScaler(),\n  'MT_050': StandardScaler(),\n  'MT_051': StandardScaler(),\n  'MT_052': StandardScaler(),\n  'MT_053': StandardScaler(),\n  'MT_054': StandardScaler(),\n  'MT_055': StandardScaler(),\n  'MT_056': StandardScaler(),\n  'MT_057': StandardScaler(),\n  'MT_058': StandardScaler(),\n  'MT_059': StandardScaler(),\n  'MT_060': StandardScaler(),\n  'MT_061': StandardScaler(),\n  'MT_062': StandardScaler(),\n  'MT_063': StandardScaler(),\n  'MT_064': StandardScaler(),\n  'MT_065': StandardScaler(),\n  'MT_066': StandardScaler(),\n  'MT_067': StandardScaler(),\n  'MT_068': StandardScaler(),\n  'MT_069': StandardScaler(),\n  'MT_070': StandardScaler(),\n  'MT_071': StandardScaler(),\n  'MT_072': StandardScaler(),\n  'MT_073': StandardScaler(),\n  'MT_074': StandardScaler(),\n  'MT_075': StandardScaler(),\n  'MT_076': StandardScaler(),\n  'MT_077': StandardScaler(),\n  'MT_078': StandardScaler(),\n  'MT_079': StandardScaler(),\n  'MT_080': StandardScaler(),\n  'MT_081': StandardScaler(),\n  'MT_082': StandardScaler(),\n  'MT_083': StandardScaler(),\n  'MT_084': StandardScaler(),\n  'MT_085': StandardScaler(),\n  'MT_086': StandardScaler(),\n  'MT_087': StandardScaler(),\n  'MT_088': StandardScaler(),\n  'MT_089': StandardScaler(),\n  'MT_090': StandardScaler(),\n  'MT_091': StandardScaler(),\n  'MT_092': StandardScaler(),\n  'MT_093': StandardScaler(),\n  'MT_094': StandardScaler(),\n  'MT_095': StandardScaler(),\n  'MT_096': StandardScaler(),\n  'MT_097': StandardScaler(),\n  'MT_098': StandardScaler(),\n  'MT_099': StandardScaler(),\n  'MT_100': StandardScaler(),\n  'MT_101': StandardScaler(),\n  'MT_102': StandardScaler(),\n  'MT_103': StandardScaler(),\n  'MT_104': StandardScaler(),\n  'MT_105': StandardScaler(),\n  'MT_106': StandardScaler(),\n  'MT_107': StandardScaler(),\n  'MT_108': StandardScaler(),\n  'MT_109': StandardScaler(),\n  'MT_110': StandardScaler(),\n  'MT_111': StandardScaler(),\n  'MT_112': StandardScaler(),\n  'MT_113': StandardScaler(),\n  'MT_114': StandardScaler(),\n  'MT_115': StandardScaler(),\n  'MT_116': StandardScaler(),\n  'MT_117': StandardScaler(),\n  'MT_118': StandardScaler(),\n  'MT_119': StandardScaler(),\n  'MT_120': StandardScaler(),\n  'MT_121': StandardScaler(),\n  'MT_122': StandardScaler(),\n  'MT_123': StandardScaler(),\n  'MT_124': StandardScaler(),\n  'MT_125': StandardScaler(),\n  'MT_126': StandardScaler(),\n  'MT_127': StandardScaler(),\n  'MT_128': StandardScaler(),\n  'MT_129': StandardScaler(),\n  'MT_130': StandardScaler(),\n  'MT_131': StandardScaler(),\n  'MT_132': StandardScaler(),\n  'MT_133': StandardScaler(),\n  'MT_134': StandardScaler(),\n  'MT_135': StandardScaler(),\n  'MT_136': StandardScaler(),\n  'MT_137': StandardScaler(),\n  'MT_138': StandardScaler(),\n  'MT_139': StandardScaler(),\n  'MT_140': StandardScaler(),\n  'MT_141': StandardScaler(),\n  'MT_142': StandardScaler(),\n  'MT_143': StandardScaler(),\n  'MT_144': StandardScaler(),\n  'MT_145': StandardScaler(),\n  'MT_146': StandardScaler(),\n  'MT_147': StandardScaler(),\n  'MT_148': StandardScaler(),\n  'MT_149': StandardScaler(),\n  'MT_150': StandardScaler(),\n  'MT_151': StandardScaler(),\n  'MT_152': StandardScaler(),\n  'MT_153': StandardScaler(),\n  'MT_154': StandardScaler(),\n  'MT_155': StandardScaler(),\n  'MT_156': StandardScaler(),\n  'MT_157': StandardScaler(),\n  'MT_158': StandardScaler(),\n  'MT_159': StandardScaler(),\n  'MT_160': StandardScaler(),\n  'MT_161': StandardScaler(),\n  'MT_162': StandardScaler(),\n  'MT_163': StandardScaler(),\n  'MT_164': StandardScaler(),\n  'MT_165': StandardScaler(),\n  'MT_166': StandardScaler(),\n  'MT_167': StandardScaler(),\n  'MT_168': StandardScaler(),\n  'MT_169': StandardScaler(),\n  'MT_170': StandardScaler(),\n  'MT_171': StandardScaler(),\n  'MT_172': StandardScaler(),\n  'MT_173': StandardScaler(),\n  'MT_174': StandardScaler(),\n  'MT_175': StandardScaler(),\n  'MT_176': StandardScaler(),\n  'MT_177': StandardScaler(),\n  'MT_178': StandardScaler(),\n  'MT_179': StandardScaler(),\n  'MT_180': StandardScaler(),\n  'MT_181': StandardScaler(),\n  'MT_182': StandardScaler(),\n  'MT_183': StandardScaler(),\n  'MT_184': StandardScaler(),\n  'MT_185': StandardScaler(),\n  'MT_186': StandardScaler(),\n  'MT_187': StandardScaler(),\n  'MT_188': StandardScaler(),\n  'MT_189': StandardScaler(),\n  'MT_190': StandardScaler(),\n  'MT_191': StandardScaler(),\n  'MT_192': StandardScaler(),\n  'MT_193': StandardScaler(),\n  'MT_194': StandardScaler(),\n  'MT_195': StandardScaler(),\n  'MT_196': StandardScaler(),\n  'MT_197': StandardScaler(),\n  'MT_198': StandardScaler(),\n  'MT_199': StandardScaler(),\n  'MT_200': StandardScaler(),\n  'MT_201': StandardScaler(),\n  'MT_202': StandardScaler(),\n  'MT_203': StandardScaler(),\n  'MT_204': StandardScaler(),\n  'MT_205': StandardScaler(),\n  'MT_206': StandardScaler(),\n  'MT_207': StandardScaler(),\n  'MT_208': StandardScaler(),\n  'MT_209': StandardScaler(),\n  'MT_210': StandardScaler(),\n  'MT_211': StandardScaler(),\n  'MT_212': StandardScaler(),\n  'MT_213': StandardScaler(),\n  'MT_214': StandardScaler(),\n  'MT_215': StandardScaler(),\n  'MT_216': StandardScaler(),\n  'MT_217': StandardScaler(),\n  'MT_218': StandardScaler(),\n  'MT_219': StandardScaler(),\n  'MT_220': StandardScaler(),\n  'MT_221': StandardScaler(),\n  'MT_222': StandardScaler(),\n  'MT_223': StandardScaler(),\n  'MT_224': StandardScaler(),\n  'MT_225': StandardScaler(),\n  'MT_226': StandardScaler(),\n  'MT_227': StandardScaler(),\n  'MT_228': StandardScaler(),\n  'MT_229': StandardScaler(),\n  'MT_230': StandardScaler(),\n  'MT_231': StandardScaler(),\n  'MT_232': StandardScaler(),\n  'MT_233': StandardScaler(),\n  'MT_234': StandardScaler(),\n  'MT_235': StandardScaler(),\n  'MT_236': StandardScaler(),\n  'MT_237': StandardScaler(),\n  'MT_238': StandardScaler(),\n  'MT_239': StandardScaler(),\n  'MT_240': StandardScaler(),\n  'MT_241': StandardScaler(),\n  'MT_242': StandardScaler(),\n  'MT_243': StandardScaler(),\n  'MT_244': StandardScaler(),\n  'MT_245': StandardScaler(),\n  'MT_246': StandardScaler(),\n  'MT_247': StandardScaler(),\n  'MT_248': StandardScaler(),\n  'MT_249': StandardScaler(),\n  'MT_250': StandardScaler(),\n  'MT_251': StandardScaler(),\n  'MT_252': StandardScaler(),\n  'MT_253': StandardScaler(),\n  'MT_254': StandardScaler(),\n  'MT_255': StandardScaler(),\n  'MT_256': StandardScaler(),\n  'MT_257': StandardScaler(),\n  'MT_258': StandardScaler(),\n  'MT_259': StandardScaler(),\n  'MT_260': StandardScaler(),\n  'MT_261': StandardScaler(),\n  'MT_262': StandardScaler(),\n  'MT_263': StandardScaler(),\n  'MT_264': StandardScaler(),\n  'MT_265': StandardScaler(),\n  'MT_266': StandardScaler(),\n  'MT_267': StandardScaler(),\n  'MT_268': StandardScaler(),\n  'MT_269': StandardScaler(),\n  'MT_270': StandardScaler(),\n  'MT_271': StandardScaler(),\n  'MT_272': StandardScaler(),\n  'MT_273': StandardScaler(),\n  'MT_274': StandardScaler(),\n  'MT_275': StandardScaler(),\n  'MT_276': StandardScaler(),\n  'MT_277': StandardScaler(),\n  'MT_278': StandardScaler(),\n  'MT_279': StandardScaler(),\n  'MT_280': StandardScaler(),\n  'MT_281': StandardScaler(),\n  'MT_282': StandardScaler(),\n  'MT_283': StandardScaler(),\n  'MT_284': StandardScaler(),\n  'MT_285': StandardScaler(),\n  'MT_286': StandardScaler(),\n  'MT_287': StandardScaler(),\n  'MT_288': StandardScaler(),\n  'MT_289': StandardScaler(),\n  'MT_290': StandardScaler(),\n  'MT_291': StandardScaler(),\n  'MT_292': StandardScaler(),\n  'MT_293': StandardScaler(),\n  'MT_294': StandardScaler(),\n  'MT_295': StandardScaler(),\n  'MT_296': StandardScaler(),\n  'MT_297': StandardScaler(),\n  'MT_298': StandardScaler(),\n  'MT_299': StandardScaler(),\n  'MT_300': StandardScaler(),\n  'MT_301': StandardScaler(),\n  'MT_302': StandardScaler(),\n  'MT_303': StandardScaler(),\n  'MT_304': StandardScaler(),\n  'MT_305': StandardScaler(),\n  'MT_306': StandardScaler(),\n  'MT_307': StandardScaler(),\n  'MT_308': StandardScaler(),\n  'MT_309': StandardScaler(),\n  'MT_310': StandardScaler(),\n  'MT_311': StandardScaler(),\n  'MT_312': StandardScaler(),\n  'MT_313': StandardScaler(),\n  'MT_314': StandardScaler(),\n  'MT_315': StandardScaler(),\n  'MT_316': StandardScaler(),\n  'MT_317': StandardScaler(),\n  'MT_318': StandardScaler(),\n  'MT_319': StandardScaler(),\n  'MT_320': StandardScaler(),\n  'MT_321': StandardScaler(),\n  'MT_322': StandardScaler(),\n  'MT_323': StandardScaler(),\n  'MT_324': StandardScaler(),\n  'MT_325': StandardScaler(),\n  'MT_326': StandardScaler(),\n  'MT_327': StandardScaler(),\n  'MT_328': StandardScaler(),\n  'MT_329': StandardScaler(),\n  'MT_330': StandardScaler(),\n  'MT_331': StandardScaler(),\n  'MT_332': StandardScaler(),\n  'MT_333': StandardScaler(),\n  'MT_334': StandardScaler(),\n  'MT_335': StandardScaler(),\n  'MT_336': StandardScaler(),\n  'MT_337': StandardScaler(),\n  'MT_338': StandardScaler(),\n  'MT_339': StandardScaler(),\n  'MT_340': StandardScaler(),\n  'MT_341': StandardScaler(),\n  'MT_342': StandardScaler(),\n  'MT_343': StandardScaler(),\n  'MT_344': StandardScaler(),\n  'MT_345': StandardScaler(),\n  'MT_346': StandardScaler(),\n  'MT_347': StandardScaler(),\n  'MT_348': StandardScaler(),\n  'MT_349': StandardScaler(),\n  'MT_350': StandardScaler(),\n  'MT_351': StandardScaler(),\n  'MT_352': StandardScaler(),\n  'MT_353': StandardScaler(),\n  'MT_354': StandardScaler(),\n  'MT_355': StandardScaler(),\n  'MT_356': StandardScaler(),\n  'MT_357': StandardScaler(),\n  'MT_358': StandardScaler(),\n  'MT_359': StandardScaler(),\n  'MT_360': StandardScaler(),\n  'MT_361': StandardScaler(),\n  'MT_362': StandardScaler(),\n  'MT_363': StandardScaler(),\n  'MT_364': StandardScaler(),\n  'MT_365': StandardScaler(),\n  'MT_366': StandardScaler(),\n  'MT_367': StandardScaler(),\n  'MT_368': StandardScaler(),\n  'MT_369': StandardScaler(),\n  'MT_370': StandardScaler()}}"
     },
     "execution_count": 16,
     "metadata": {},
     "output_type": "execute_result"
    }
   ],
   "source": [
    "preprocessor = tft.experiments.Electricity().reload_preprocessor(\n",
    "    \"/Users/artemsereda/Documents/IdeaProjects/temporal_fusion_transformer/data/electricity/preprocessor.msgpack\"\n",
    ")\n",
    "preprocessor.preprocessor"
   ],
   "metadata": {
    "collapsed": false,
    "ExecuteTime": {
     "end_time": "2023-09-27T22:17:47.994328Z",
     "start_time": "2023-09-27T22:17:47.607045Z"
    }
   },
   "id": "1309e539949dc5ba"
  },
  {
   "cell_type": "code",
   "execution_count": 17,
   "outputs": [
    {
     "data": {
      "text/plain": "Applying scalers...:   0%|          | 0/193 [00:00<?, ?it/s]",
      "application/vnd.jupyter.widget-view+json": {
       "version_major": 2,
       "version_minor": 0,
       "model_id": "442e5f0018704890b5886e8018840d8b"
      }
     },
     "metadata": {},
     "output_type": "display_data"
    },
    {
     "data": {
      "text/plain": "Applying label encoders...:   0%|          | 0/4 [00:00<?, ?it/s]",
      "application/vnd.jupyter.widget-view+json": {
       "version_major": 2,
       "version_minor": 0,
       "model_id": "2e0156aee97e428d90ef153012f91a62"
      }
     },
     "metadata": {},
     "output_type": "display_data"
    },
    {
     "data": {
      "text/plain": "shape: (193, 8)\n┌─────────────┬──────┬─────────────────────┬───────┬─────┬──────┬─────────────┬─────┐\n│ power_usage ┆ year ┆ date                ┆ month ┆ day ┆ hour ┆ day_of_week ┆ id  │\n│ ---         ┆ ---  ┆ ---                 ┆ ---   ┆ --- ┆ ---  ┆ ---         ┆ --- │\n│ f32         ┆ f32  ┆ datetime[μs]        ┆ i8    ┆ i8  ┆ i8   ┆ i8          ┆ u16 │\n╞═════════════╪══════╪═════════════════════╪═══════╪═════╪══════╪═════════════╪═════╡\n│ -0.061102   ┆ 0.0  ┆ 2014-08-31 00:00:00 ┆ 7     ┆ 30  ┆ 0    ┆ 6           ┆ 123 │\n│ -0.061102   ┆ 0.0  ┆ 2014-08-31 01:00:00 ┆ 7     ┆ 30  ┆ 1    ┆ 6           ┆ 123 │\n│ -0.061102   ┆ 0.0  ┆ 2014-08-31 02:00:00 ┆ 7     ┆ 30  ┆ 2    ┆ 6           ┆ 123 │\n│ -0.061102   ┆ 0.0  ┆ 2014-08-31 03:00:00 ┆ 7     ┆ 30  ┆ 3    ┆ 6           ┆ 123 │\n│ …           ┆ …    ┆ …                   ┆ …     ┆ …   ┆ …    ┆ …           ┆ …   │\n│ -0.061102   ┆ 0.0  ┆ 2014-09-07 21:00:00 ┆ 8     ┆ 6   ┆ 21   ┆ 6           ┆ 123 │\n│ -0.061102   ┆ 0.0  ┆ 2014-09-07 22:00:00 ┆ 8     ┆ 6   ┆ 22   ┆ 6           ┆ 123 │\n│ -0.061102   ┆ 0.0  ┆ 2014-09-07 23:00:00 ┆ 8     ┆ 6   ┆ 23   ┆ 6           ┆ 123 │\n│ -0.061102   ┆ 0.0  ┆ 2014-09-08 00:00:00 ┆ 8     ┆ 7   ┆ 0    ┆ 0           ┆ 123 │\n└─────────────┴──────┴─────────────────────┴───────┴─────┴──────┴─────────────┴─────┘",
      "text/html": "<div><style>\n.dataframe > thead > tr > th,\n.dataframe > tbody > tr > td {\n  text-align: right;\n  white-space: pre-wrap;\n}\n</style>\n<small>shape: (193, 8)</small><table border=\"1\" class=\"dataframe\"><thead><tr><th>power_usage</th><th>year</th><th>date</th><th>month</th><th>day</th><th>hour</th><th>day_of_week</th><th>id</th></tr><tr><td>f32</td><td>f32</td><td>datetime[μs]</td><td>i8</td><td>i8</td><td>i8</td><td>i8</td><td>u16</td></tr></thead><tbody><tr><td>-0.061102</td><td>0.0</td><td>2014-08-31 00:00:00</td><td>7</td><td>30</td><td>0</td><td>6</td><td>123</td></tr><tr><td>-0.061102</td><td>0.0</td><td>2014-08-31 01:00:00</td><td>7</td><td>30</td><td>1</td><td>6</td><td>123</td></tr><tr><td>-0.061102</td><td>0.0</td><td>2014-08-31 02:00:00</td><td>7</td><td>30</td><td>2</td><td>6</td><td>123</td></tr><tr><td>-0.061102</td><td>0.0</td><td>2014-08-31 03:00:00</td><td>7</td><td>30</td><td>3</td><td>6</td><td>123</td></tr><tr><td>-0.061102</td><td>0.0</td><td>2014-08-31 04:00:00</td><td>7</td><td>30</td><td>4</td><td>6</td><td>123</td></tr><tr><td>-0.061102</td><td>0.0</td><td>2014-08-31 05:00:00</td><td>7</td><td>30</td><td>5</td><td>6</td><td>123</td></tr><tr><td>-0.061102</td><td>0.0</td><td>2014-08-31 06:00:00</td><td>7</td><td>30</td><td>6</td><td>6</td><td>123</td></tr><tr><td>-0.061102</td><td>0.0</td><td>2014-08-31 07:00:00</td><td>7</td><td>30</td><td>7</td><td>6</td><td>123</td></tr><tr><td>-0.061102</td><td>0.0</td><td>2014-08-31 08:00:00</td><td>7</td><td>30</td><td>8</td><td>6</td><td>123</td></tr><tr><td>-0.061102</td><td>0.0</td><td>2014-08-31 09:00:00</td><td>7</td><td>30</td><td>9</td><td>6</td><td>123</td></tr><tr><td>-0.061102</td><td>0.0</td><td>2014-08-31 10:00:00</td><td>7</td><td>30</td><td>10</td><td>6</td><td>123</td></tr><tr><td>-0.061102</td><td>0.0</td><td>2014-08-31 11:00:00</td><td>7</td><td>30</td><td>11</td><td>6</td><td>123</td></tr><tr><td>&hellip;</td><td>&hellip;</td><td>&hellip;</td><td>&hellip;</td><td>&hellip;</td><td>&hellip;</td><td>&hellip;</td><td>&hellip;</td></tr><tr><td>-0.061102</td><td>0.0</td><td>2014-09-07 13:00:00</td><td>8</td><td>6</td><td>13</td><td>6</td><td>123</td></tr><tr><td>-0.061102</td><td>0.0</td><td>2014-09-07 14:00:00</td><td>8</td><td>6</td><td>14</td><td>6</td><td>123</td></tr><tr><td>-0.061102</td><td>0.0</td><td>2014-09-07 15:00:00</td><td>8</td><td>6</td><td>15</td><td>6</td><td>123</td></tr><tr><td>-0.061102</td><td>0.0</td><td>2014-09-07 16:00:00</td><td>8</td><td>6</td><td>16</td><td>6</td><td>123</td></tr><tr><td>-0.061102</td><td>0.0</td><td>2014-09-07 17:00:00</td><td>8</td><td>6</td><td>17</td><td>6</td><td>123</td></tr><tr><td>-0.061102</td><td>0.0</td><td>2014-09-07 18:00:00</td><td>8</td><td>6</td><td>18</td><td>6</td><td>123</td></tr><tr><td>-0.061102</td><td>0.0</td><td>2014-09-07 19:00:00</td><td>8</td><td>6</td><td>19</td><td>6</td><td>123</td></tr><tr><td>-0.061102</td><td>0.0</td><td>2014-09-07 20:00:00</td><td>8</td><td>6</td><td>20</td><td>6</td><td>123</td></tr><tr><td>-0.061102</td><td>0.0</td><td>2014-09-07 21:00:00</td><td>8</td><td>6</td><td>21</td><td>6</td><td>123</td></tr><tr><td>-0.061102</td><td>0.0</td><td>2014-09-07 22:00:00</td><td>8</td><td>6</td><td>22</td><td>6</td><td>123</td></tr><tr><td>-0.061102</td><td>0.0</td><td>2014-09-07 23:00:00</td><td>8</td><td>6</td><td>23</td><td>6</td><td>123</td></tr><tr><td>-0.061102</td><td>0.0</td><td>2014-09-08 00:00:00</td><td>8</td><td>7</td><td>0</td><td>0</td><td>123</td></tr></tbody></table></div>"
     },
     "execution_count": 17,
     "metadata": {},
     "output_type": "execute_result"
    }
   ],
   "source": [
    "df_v2 = preprocessor.apply(mt_124_df)\n",
    "df_v2"
   ],
   "metadata": {
    "collapsed": false,
    "ExecuteTime": {
     "end_time": "2023-09-27T22:17:48.825103Z",
     "start_time": "2023-09-27T22:17:48.710775Z"
    }
   },
   "id": "37cf52f7f4531962"
  },
  {
   "cell_type": "code",
   "execution_count": 18,
   "outputs": [
    {
     "data": {
      "text/plain": "Applying scalers...:   0%|          | 0/193 [00:00<?, ?it/s]",
      "application/vnd.jupyter.widget-view+json": {
       "version_major": 2,
       "version_minor": 0,
       "model_id": "8925e6b0b8384ede8ce237570cd1dfd6"
      }
     },
     "metadata": {},
     "output_type": "display_data"
    },
    {
     "data": {
      "text/plain": "Applying label encoders...:   0%|          | 0/4 [00:00<?, ?it/s]",
      "application/vnd.jupyter.widget-view+json": {
       "version_major": 2,
       "version_minor": 0,
       "model_id": "ca286189e0484f478919bb6dff7ad036"
      }
     },
     "metadata": {},
     "output_type": "display_data"
    },
    {
     "data": {
      "text/plain": "Converting to time-series dataset: 0it [00:00, ?it/s]",
      "application/vnd.jupyter.widget-view+json": {
       "version_major": 2,
       "version_minor": 0,
       "model_id": "987157d456d84a5a8792fd2ae3f44154"
      }
     },
     "metadata": {},
     "output_type": "display_data"
    },
    {
     "data": {
      "text/plain": "<_ParallelMapDataset element_spec=(TensorSpec(shape=(None, 6), dtype=tf.float32, name=None), TensorSpec(shape=(None, 1), dtype=tf.float32, name=None))>"
     },
     "execution_count": 18,
     "metadata": {},
     "output_type": "execute_result"
    }
   ],
   "source": [
    "tf_ds = preprocessor.convert_dataframe_to_tf_dataset(mt_124_df)\n",
    "tf_ds"
   ],
   "metadata": {
    "collapsed": false,
    "ExecuteTime": {
     "end_time": "2023-09-27T22:17:49.568795Z",
     "start_time": "2023-09-27T22:17:49.395441Z"
    }
   },
   "id": "b805b79244516c7c"
  },
  {
   "cell_type": "code",
   "execution_count": 19,
   "outputs": [
    {
     "data": {
      "text/plain": "((2, 192, 6), (2, 192, 1))"
     },
     "execution_count": 19,
     "metadata": {},
     "output_type": "execute_result"
    }
   ],
   "source": [
    "x, y = tf_ds.batch(8, drop_remainder=False).as_numpy_iterator().next()\n",
    "x.shape, y.shape"
   ],
   "metadata": {
    "collapsed": false,
    "ExecuteTime": {
     "end_time": "2023-09-27T22:17:52.577770Z",
     "start_time": "2023-09-27T22:17:52.461553Z"
    }
   },
   "id": "44ca348f0ec5399a"
  },
  {
   "cell_type": "code",
   "execution_count": 20,
   "outputs": [],
   "source": [
    "from temporal_fusion_transformer.src.modeling.tft_model import make_temporal_fusion_transformer\n",
    "from temporal_fusion_transformer.src.experiments.configs.hyperparameters import get_config\n",
    "\n",
    "\n",
    "config2 = get_config(\"electricity\")\n",
    "\n",
    "model = make_temporal_fusion_transformer(config2.model, data_config)\n",
    "rng = jax.random.PRNGKey(0)\n",
    "# params = model.init(rng, np.ones(shape=(2, 192, 6), dtype=np.float32))[\"params\"]"
   ],
   "metadata": {
    "collapsed": false,
    "ExecuteTime": {
     "end_time": "2023-09-27T22:17:53.008096Z",
     "start_time": "2023-09-27T22:17:52.766345Z"
    }
   },
   "id": "d2d126ca7513ea42"
  },
  {
   "cell_type": "code",
   "execution_count": 21,
   "outputs": [],
   "source": [
    "from absl_extra.flax_utils import load_from_msgpack\n",
    "\n",
    "reloaded_params = load_from_msgpack(None, \"../data/electricity/model.msgpack\")\n",
    "bound_model = model.bind({\"params\": reloaded_params})"
   ],
   "metadata": {
    "collapsed": false,
    "ExecuteTime": {
     "end_time": "2023-09-27T22:17:53.301056Z",
     "start_time": "2023-09-27T22:17:53.196516Z"
    }
   },
   "id": "30370c6a24bc3e96"
  },
  {
   "cell_type": "code",
   "execution_count": 22,
   "outputs": [],
   "source": [
    "y_predicted = bound_model(x)"
   ],
   "metadata": {
    "collapsed": false,
    "ExecuteTime": {
     "end_time": "2023-09-27T22:17:57.104717Z",
     "start_time": "2023-09-27T22:17:54.221065Z"
    }
   },
   "id": "15292ad1f92b16fe"
  },
  {
   "cell_type": "code",
   "execution_count": 23,
   "outputs": [
    {
     "data": {
      "text/plain": "(2, 24, 1, 3)"
     },
     "execution_count": 23,
     "metadata": {},
     "output_type": "execute_result"
    }
   ],
   "source": [
    "y_predicted.shape"
   ],
   "metadata": {
    "collapsed": false,
    "ExecuteTime": {
     "end_time": "2023-09-27T22:17:57.145012Z",
     "start_time": "2023-09-27T22:17:57.103221Z"
    }
   },
   "id": "99ba39ee28764f45"
  },
  {
   "cell_type": "code",
   "execution_count": 24,
   "outputs": [
    {
     "data": {
      "text/plain": "array(['MT_131'], dtype='<U6')"
     },
     "execution_count": 24,
     "metadata": {},
     "output_type": "execute_result"
    }
   ],
   "source": [
    "preprocessor.preprocessor[\"categorical\"][\"id\"].inverse_transform([130])"
   ],
   "metadata": {
    "collapsed": false,
    "ExecuteTime": {
     "end_time": "2023-09-27T22:17:57.199023Z",
     "start_time": "2023-09-27T22:17:57.139573Z"
    }
   },
   "id": "b5fd2fc7044671de"
  },
  {
   "cell_type": "code",
   "execution_count": 28,
   "outputs": [],
   "source": [
    "from absl_extra.flax_utils import save_as_msgpack\n",
    "\n",
    "save_as_msgpack(\n",
    "    {\"x_batch\": x, \"y_batch\": y, \"y_predicted\": y_predicted, \"id\": \"MT_124\"}, \"data.msgpack\"\n",
    ")"
   ],
   "metadata": {
    "collapsed": false,
    "ExecuteTime": {
     "end_time": "2023-09-27T22:24:29.157221Z",
     "start_time": "2023-09-27T22:24:29.099976Z"
    }
   },
   "id": "65f34571844514f4"
  },
  {
   "cell_type": "code",
   "execution_count": 41,
   "outputs": [
    {
     "data": {
      "text/plain": "shape: (384, 7)\n┌───────┬─────┬──────┬─────────────┬────────┬────────┬─────────────┐\n│ month ┆ day ┆ hour ┆ day_of_week ┆ id     ┆ year   ┆ power_usage │\n│ ---   ┆ --- ┆ ---  ┆ ---         ┆ ---    ┆ ---    ┆ ---         │\n│ u8    ┆ u8  ┆ u8   ┆ u8          ┆ str    ┆ f32    ┆ f32         │\n╞═══════╪═════╪══════╪═════════════╪════════╪════════╪═════════════╡\n│ 8     ┆ 31  ┆ 0    ┆ 7           ┆ MT_124 ┆ 2014.0 ┆ 389.952148  │\n│ 8     ┆ 31  ┆ 1    ┆ 7           ┆ MT_124 ┆ 2014.0 ┆ 389.952148  │\n│ 8     ┆ 31  ┆ 2    ┆ 7           ┆ MT_124 ┆ 2014.0 ┆ 389.952148  │\n│ 8     ┆ 31  ┆ 3    ┆ 7           ┆ MT_124 ┆ 2014.0 ┆ 389.952148  │\n│ …     ┆ …   ┆ …    ┆ …           ┆ …      ┆ …      ┆ …           │\n│ 9     ┆ 7   ┆ 21   ┆ 7           ┆ MT_124 ┆ 2014.0 ┆ 389.952148  │\n│ 9     ┆ 7   ┆ 22   ┆ 7           ┆ MT_124 ┆ 2014.0 ┆ 389.952148  │\n│ 9     ┆ 7   ┆ 23   ┆ 7           ┆ MT_124 ┆ 2014.0 ┆ 389.952148  │\n│ 9     ┆ 8   ┆ 0    ┆ 1           ┆ MT_124 ┆ 2014.0 ┆ 389.952148  │\n└───────┴─────┴──────┴─────────────┴────────┴────────┴─────────────┘",
      "text/html": "<div><style>\n.dataframe > thead > tr > th,\n.dataframe > tbody > tr > td {\n  text-align: right;\n  white-space: pre-wrap;\n}\n</style>\n<small>shape: (384, 7)</small><table border=\"1\" class=\"dataframe\"><thead><tr><th>month</th><th>day</th><th>hour</th><th>day_of_week</th><th>id</th><th>year</th><th>power_usage</th></tr><tr><td>u8</td><td>u8</td><td>u8</td><td>u8</td><td>str</td><td>f32</td><td>f32</td></tr></thead><tbody><tr><td>8</td><td>31</td><td>0</td><td>7</td><td>&quot;MT_124&quot;</td><td>2014.0</td><td>389.952148</td></tr><tr><td>8</td><td>31</td><td>1</td><td>7</td><td>&quot;MT_124&quot;</td><td>2014.0</td><td>389.952148</td></tr><tr><td>8</td><td>31</td><td>2</td><td>7</td><td>&quot;MT_124&quot;</td><td>2014.0</td><td>389.952148</td></tr><tr><td>8</td><td>31</td><td>3</td><td>7</td><td>&quot;MT_124&quot;</td><td>2014.0</td><td>389.952148</td></tr><tr><td>8</td><td>31</td><td>4</td><td>7</td><td>&quot;MT_124&quot;</td><td>2014.0</td><td>389.952148</td></tr><tr><td>8</td><td>31</td><td>5</td><td>7</td><td>&quot;MT_124&quot;</td><td>2014.0</td><td>389.952148</td></tr><tr><td>8</td><td>31</td><td>6</td><td>7</td><td>&quot;MT_124&quot;</td><td>2014.0</td><td>389.952148</td></tr><tr><td>8</td><td>31</td><td>7</td><td>7</td><td>&quot;MT_124&quot;</td><td>2014.0</td><td>389.952148</td></tr><tr><td>8</td><td>31</td><td>8</td><td>7</td><td>&quot;MT_124&quot;</td><td>2014.0</td><td>389.952148</td></tr><tr><td>8</td><td>31</td><td>9</td><td>7</td><td>&quot;MT_124&quot;</td><td>2014.0</td><td>389.952148</td></tr><tr><td>8</td><td>31</td><td>10</td><td>7</td><td>&quot;MT_124&quot;</td><td>2014.0</td><td>389.952148</td></tr><tr><td>8</td><td>31</td><td>11</td><td>7</td><td>&quot;MT_124&quot;</td><td>2014.0</td><td>389.952148</td></tr><tr><td>&hellip;</td><td>&hellip;</td><td>&hellip;</td><td>&hellip;</td><td>&hellip;</td><td>&hellip;</td><td>&hellip;</td></tr><tr><td>9</td><td>7</td><td>13</td><td>7</td><td>&quot;MT_124&quot;</td><td>2014.0</td><td>389.952148</td></tr><tr><td>9</td><td>7</td><td>14</td><td>7</td><td>&quot;MT_124&quot;</td><td>2014.0</td><td>389.952148</td></tr><tr><td>9</td><td>7</td><td>15</td><td>7</td><td>&quot;MT_124&quot;</td><td>2014.0</td><td>389.952148</td></tr><tr><td>9</td><td>7</td><td>16</td><td>7</td><td>&quot;MT_124&quot;</td><td>2014.0</td><td>389.952148</td></tr><tr><td>9</td><td>7</td><td>17</td><td>7</td><td>&quot;MT_124&quot;</td><td>2014.0</td><td>389.952148</td></tr><tr><td>9</td><td>7</td><td>18</td><td>7</td><td>&quot;MT_124&quot;</td><td>2014.0</td><td>389.952148</td></tr><tr><td>9</td><td>7</td><td>19</td><td>7</td><td>&quot;MT_124&quot;</td><td>2014.0</td><td>389.952148</td></tr><tr><td>9</td><td>7</td><td>20</td><td>7</td><td>&quot;MT_124&quot;</td><td>2014.0</td><td>389.952148</td></tr><tr><td>9</td><td>7</td><td>21</td><td>7</td><td>&quot;MT_124&quot;</td><td>2014.0</td><td>389.952148</td></tr><tr><td>9</td><td>7</td><td>22</td><td>7</td><td>&quot;MT_124&quot;</td><td>2014.0</td><td>389.952148</td></tr><tr><td>9</td><td>7</td><td>23</td><td>7</td><td>&quot;MT_124&quot;</td><td>2014.0</td><td>389.952148</td></tr><tr><td>9</td><td>8</td><td>0</td><td>1</td><td>&quot;MT_124&quot;</td><td>2014.0</td><td>389.952148</td></tr></tbody></table></div>"
     },
     "execution_count": 41,
     "metadata": {},
     "output_type": "execute_result"
    }
   ],
   "source": [
    "from temporal_fusion_transformer.src.experiments.electricity import (\n",
    "    _ID_COLUMN,\n",
    "    _REAL_INPUTS,\n",
    "    _CATEGORICAL_INPUTS,\n",
    "    _TARGETS,\n",
    ")\n",
    "from temporal_fusion_transformer.src.experiments.configs import fixed_parameters\n",
    "\n",
    "\n",
    "def inverse_transform_for_single_id(\n",
    "    _preprocessor,\n",
    "    x_batch: np.ndarray,\n",
    "    y_batch: np.ndarray,\n",
    "    entity_id: str,\n",
    ") -> pl.LazyFrame:\n",
    "    config = fixed_parameters.get_config(\"electricity\")\n",
    "\n",
    "    print(f\"{config = }\")\n",
    "\n",
    "    y_new = _preprocessor[\"target\"][entity_id].inverse_transform(y_batch)\n",
    "\n",
    "    x_categorical = np.take(\n",
    "        x_batch, list(config.input_known_categorical_idx) + list(config.input_static_idx), axis=-1\n",
    "    )\n",
    "\n",
    "    def map_fn(i, j):\n",
    "        print(f\"{i = }, {j = }\")\n",
    "        _preprocessor[\"categorical\"][j].inverse_transform(np.asarray(i, dtype=np.int32))\n",
    "\n",
    "    x_categorical_new = [\n",
    "        # _preprocessor[\"categorical\"][j].inverse_transform(np.asarray(i, dtype=np.int32))\n",
    "        map_fn(i, j)\n",
    "        for i, j in zip(x_categorical, _CATEGORICAL_INPUTS + [_ID_COLUMN])\n",
    "    ]\n",
    "\n",
    "    x_real = np.take(\n",
    "        x_batch, list(config.input_known_real_idx) + list(config.input_observed_idx), axis=-1\n",
    "    )\n",
    "\n",
    "    x_real_new = _preprocessor[\"real\"][entity_id].inverse_transform(x_real)\n",
    "\n",
    "    return (\n",
    "        pl.DataFrame()\n",
    "        .with_columns(\n",
    "            [\n",
    "                pl.col(j).lit(i)\n",
    "                for i, j in zip(x_categorical_new, _CATEGORICAL_INPUTS + [_ID_COLUMN])\n",
    "            ]\n",
    "        )\n",
    "        .with_columns(pl.col(j).lit(i) for i, j in zip(x_real_new, _REAL_INPUTS))\n",
    "        .with_columns(pl.col(j).lit(i) for i, j in zip(y_new, _TARGETS))\n",
    "        .rechunk()\n",
    "    )\n",
    "\n",
    "\n",
    "inverse_transform_for_single_id(\n",
    "    preprocessor.preprocessor, np.reshape(x, (-1, 6)), np.reshape(y, (-1, 1)), \"MT_124\"\n",
    ")"
   ],
   "metadata": {
    "collapsed": false,
    "ExecuteTime": {
     "end_time": "2023-09-27T22:30:39.349931Z",
     "start_time": "2023-09-27T22:30:39.258025Z"
    }
   },
   "id": "53a15fd6483700b5"
  },
  {
   "cell_type": "code",
   "execution_count": 44,
   "outputs": [
    {
     "data": {
      "text/plain": "(384, 1)"
     },
     "execution_count": 44,
     "metadata": {},
     "output_type": "execute_result"
    }
   ],
   "source": [
    "ids = np.asarray(np.reshape(x, (-1, 6))[..., 5], np.int32)\n",
    "ids"
   ],
   "metadata": {
    "collapsed": false,
    "ExecuteTime": {
     "end_time": "2023-09-27T22:34:13.558335Z",
     "start_time": "2023-09-27T22:34:13.471800Z"
    }
   },
   "id": "fb676e95f5df6385"
  },
  {
   "cell_type": "code",
   "execution_count": 33,
   "outputs": [
    {
     "data": {
      "text/plain": "shape: (384,)\nSeries: 'power_usage' [f32]\n[\n\t389.952148\n\t389.952148\n\t389.952148\n\t389.952148\n\t389.952148\n\t389.952148\n\t389.952148\n\t389.952148\n\t389.952148\n\t389.952148\n\t389.952148\n\t389.952148\n\t…\n\t389.952148\n\t389.952148\n\t389.952148\n\t389.952148\n\t389.952148\n\t389.952148\n\t389.952148\n\t389.952148\n\t389.952148\n\t389.952148\n\t389.952148\n\t389.952148\n\t389.952148\n]",
      "text/html": "<div><style>\n.dataframe > thead > tr > th,\n.dataframe > tbody > tr > td {\n  text-align: right;\n  white-space: pre-wrap;\n}\n</style>\n<small>shape: (384,)</small><table border=\"1\" class=\"dataframe\"><thead><tr><th>power_usage</th></tr><tr><td>f32</td></tr></thead><tbody><tr><td>389.952148</td></tr><tr><td>389.952148</td></tr><tr><td>389.952148</td></tr><tr><td>389.952148</td></tr><tr><td>389.952148</td></tr><tr><td>389.952148</td></tr><tr><td>389.952148</td></tr><tr><td>389.952148</td></tr><tr><td>389.952148</td></tr><tr><td>389.952148</td></tr><tr><td>389.952148</td></tr><tr><td>389.952148</td></tr><tr><td>&hellip;</td></tr><tr><td>389.952148</td></tr><tr><td>389.952148</td></tr><tr><td>389.952148</td></tr><tr><td>389.952148</td></tr><tr><td>389.952148</td></tr><tr><td>389.952148</td></tr><tr><td>389.952148</td></tr><tr><td>389.952148</td></tr><tr><td>389.952148</td></tr><tr><td>389.952148</td></tr><tr><td>389.952148</td></tr><tr><td>389.952148</td></tr></tbody></table></div>"
     },
     "execution_count": 33,
     "metadata": {},
     "output_type": "execute_result"
    }
   ],
   "source": [
    "np.argwhere(ids == 123).reshape(-1).shape"
   ],
   "metadata": {
    "collapsed": false,
    "ExecuteTime": {
     "end_time": "2023-09-27T22:25:57.121116Z",
     "start_time": "2023-09-27T22:25:57.054315Z"
    }
   },
   "id": "f710846978189127"
  },
  {
   "cell_type": "code",
   "execution_count": 38,
   "outputs": [
    {
     "data": {
      "text/plain": "array([389.95215 , 413.8756  , 357.6555  , 324.1627  , 272.72726 ,\n       165.0718  , 144.73686 , 102.870804, 163.8756  , 166.26796 ,\n       206.93782 , 392.34448 , 429.42584 , 544.25836 , 507.17703 ,\n       489.23444 , 480.86124 , 484.44977 , 522.7273  , 599.2823  ,\n       643.54065 , 629.1866  , 513.1579  , 460.5263  , 403.11005 ,\n       374.40192 , 254.78468 , 181.81819 , 123.205765,  69.378006,\n        64.59328 ,  95.6938  , 174.64116 , 163.8756  , 206.93782 ,\n       404.3062  , 453.34927 , 510.76556 , 458.13397 , 424.64114 ,\n       466.50717 , 456.9378  , 442.58374 , 490.43063 , 564.5933  ,\n       491.6268  , 474.88037 , 443.7799  , 412.6794  , 357.6555  ,\n       271.5311  , 181.81819 , 123.205765,  68.18184 ,  70.57417 ,\n        95.6938  , 130.3828  , 160.2871  , 205.74162 , 446.17224 ,\n       454.54544 , 480.86124 , 425.8373  , 417.4641  , 413.8756  ,\n       421.05264 , 389.95215 , 442.58374 , 507.17703 , 478.4689  ,\n       444.97607 , 404.3062  , 387.5598  , 345.6938  , 255.98088 ,\n       235.64595 , 143.5407  ,  83.73207 ,  68.18184 ,  95.6938  ,\n       132.77513 , 159.09093 , 178.22966 , 363.63632 , 366.02872 ,\n       465.311   , 374.40192 , 346.88995 , 392.34448 , 356.45932 ,\n       407.89474 , 427.03348 , 503.58853 , 448.5646  , 411.48325 ,\n       403.11005 , 327.7512  , 360.04782 , 279.9043  , 204.54546 ,\n       138.75603 ,  80.14357 ,  64.59328 , 106.459305, 131.57896 ,\n       163.8756  , 209.33015 , 358.85165 , 370.8134  , 448.5646  ,\n       411.48325 , 366.02872 , 382.77512 , 410.28708 , 385.16745 ,\n       416.26794 , 500.      , 480.86124 , 369.61722 , 373.20575 ,\n       361.244   , 338.51675 , 266.7464  , 217.70335 , 149.52153 ,\n        78.94734 ,  71.77034 ,  92.10524 , 151.9139  , 148.32536 ,\n       159.09093 , 334.92822 , 407.89474 , 498.80383 , 398.32535 ,\n       401.91388 , 438.9952  , 395.933   , 413.8756  , 502.39233 ,\n       576.55505 , 563.39716 , 464.11484 , 479.66507 , 406.69858 ,\n       383.97128 , 366.02872 , 361.244   , 272.72726 , 184.21053 ,\n       130.3828  , 108.85164 , 172.24883 , 154.30623 , 200.95695 ,\n       391.14832 , 405.50238 , 501.19617 , 422.2488  , 400.7177  ,\n       434.21054 , 453.34927 , 433.01434 , 497.60767 , 617.22485 ,\n       575.3588  , 488.03827 , 436.60287 , 431.81818 , 407.89474 ,\n       374.40192 , 350.47845 , 254.78468 , 177.0335  , 126.794235,\n       108.85164 , 160.2871  , 165.0718  , 204.54546 , 330.14355 ,\n       383.97128 , 477.27274 , 461.72247 , 418.66028 , 478.4689  ,\n       527.51196 , 516.7464  , 559.8086  , 620.8134  , 545.4545  ,\n       474.88037 , 392.34448 , 374.40192 ], dtype=float32)"
     },
     "execution_count": 38,
     "metadata": {},
     "output_type": "execute_result"
    }
   ],
   "source": [
    "np.take(np.reshape(x, (-1, 6)), np.argwhere(ids == 123).reshape(-1), axis=0).shape"
   ],
   "metadata": {
    "collapsed": false,
    "ExecuteTime": {
     "end_time": "2023-09-27T22:29:14.738256Z",
     "start_time": "2023-09-27T22:29:14.640611Z"
    }
   },
   "id": "ff090cec66f7447"
  },
  {
   "cell_type": "code",
   "execution_count": 39,
   "outputs": [
    {
     "data": {
      "text/plain": "array([389.95215 , 413.8756  , 357.65552 , 324.1627  , 272.72726 ,\n       165.07178 , 144.73685 , 102.87081 , 163.8756  , 166.26794 ,\n       206.9378  , 392.34448 , 429.42584 , 544.25836 , 507.17703 ,\n       489.23444 , 480.86124 , 484.44977 , 522.7273  , 599.2823  ,\n       643.54065 , 629.1866  , 513.1579  , 460.5263  , 403.11005 ,\n       374.40192 , 254.78468 , 181.81818 , 123.20574 ,  69.37799 ,\n        64.5933  ,  95.69378 , 174.64114 , 163.8756  , 206.9378  ,\n       404.3062  , 453.34927 , 510.76556 , 458.13397 , 424.64114 ,\n       466.50717 , 456.9378  , 442.58374 , 490.43063 , 564.5933  ,\n       491.6268  , 474.88037 , 443.7799  , 412.6794  , 357.65552 ,\n       271.5311  , 181.81818 , 123.20574 ,  68.181816,  70.574165,\n        95.69378 , 130.38278 , 160.28708 , 205.74162 , 446.17224 ,\n       454.54544 , 480.86124 , 425.8373  , 417.4641  , 413.8756  ,\n       421.05264 , 389.95215 , 442.58374 , 507.17703 , 478.4689  ,\n       444.97607 , 404.3062  , 387.5598  , 345.6938  , 255.98087 ,\n       235.64594 , 143.54066 ,  83.732056,  68.181816,  95.69378 ,\n       132.77512 , 159.09091 , 178.22966 , 363.63635 , 366.02872 ,\n       465.311   , 374.40192 , 346.88995 , 392.34448 , 356.45932 ,\n       407.89474 , 427.03348 , 503.58853 , 448.5646  , 411.48325 ,\n       403.11005 , 327.7512  , 360.04785 , 279.9043  , 204.54546 ,\n       138.75598 ,  80.14354 ,  64.5933  , 106.45933 , 131.57895 ,\n       163.8756  , 209.33014 , 358.85168 , 370.8134  , 448.5646  ,\n       411.48325 , 366.02872 , 382.77512 , 410.28708 , 385.16745 ,\n       416.26794 , 500.      , 480.86124 , 369.61722 , 373.20575 ,\n       361.24402 , 338.51675 , 266.7464  , 217.70335 , 149.52153 ,\n        78.947365,  71.77033 ,  92.10526 , 151.91388 , 148.32536 ,\n       159.09091 , 334.92822 , 407.89474 , 498.80383 , 398.32535 ,\n       401.91388 , 438.9952  , 395.933   , 413.8756  , 502.39233 ,\n       576.55505 , 563.39716 , 464.11484 , 479.66507 , 406.69858 ,\n       383.97128 , 366.02872 , 361.24402 , 272.72726 , 184.21053 ,\n       130.38278 , 108.85168 , 172.24881 , 154.30621 , 200.95694 ,\n       391.14832 , 405.50238 , 501.19617 , 422.2488  , 400.7177  ,\n       434.21054 , 453.34927 , 433.01434 , 497.60767 , 617.22485 ,\n       575.3588  , 488.03827 , 436.60287 , 431.81818 , 407.89474 ,\n       374.40192 , 350.47845 , 254.78468 , 177.0335  , 126.79426 ,\n       108.85168 , 160.28708 , 165.07178 , 204.54546 , 330.14355 ,\n       383.97128 , 477.27274 , 461.72247 , 418.66028 , 478.4689  ,\n       527.51196 , 516.7464  , 559.8086  , 620.8134  , 545.4545  ,\n       474.88037 , 392.34448 , 374.40192 ], dtype=float32)"
     },
     "execution_count": 39,
     "metadata": {},
     "output_type": "execute_result"
    }
   ],
   "source": [
    "len(np.unique(ids))"
   ],
   "metadata": {
    "collapsed": false,
    "ExecuteTime": {
     "end_time": "2023-09-27T22:29:18.649610Z",
     "start_time": "2023-09-27T22:29:18.608143Z"
    }
   },
   "id": "da97ec96e10d6f6c"
  },
  {
   "cell_type": "code",
   "execution_count": 40,
   "outputs": [
    {
     "data": {
      "text/plain": "array([ True,  True, False,  True,  True, False, False, False,  True,\n       False, False,  True,  True,  True,  True,  True,  True,  True,\n        True,  True,  True,  True,  True,  True,  True,  True,  True,\n       False, False, False, False, False, False,  True, False,  True,\n        True,  True,  True,  True,  True,  True,  True,  True,  True,\n        True,  True,  True,  True, False,  True, False, False, False,\n       False, False, False, False,  True,  True,  True,  True,  True,\n        True,  True,  True,  True,  True,  True,  True,  True,  True,\n        True,  True, False, False, False, False, False, False, False,\n       False,  True, False,  True,  True,  True,  True,  True,  True,\n        True,  True,  True,  True,  True,  True,  True, False,  True,\n        True, False, False, False, False, False,  True, False, False,\n        True,  True,  True,  True,  True,  True,  True,  True,  True,\n        True,  True,  True, False,  True,  True,  True,  True, False,\n       False, False, False,  True, False,  True,  True,  True,  True,\n        True,  True,  True,  True,  True,  True,  True,  True,  True,\n        True,  True,  True, False,  True,  True, False, False, False,\n       False, False,  True,  True,  True,  True,  True,  True,  True,\n        True,  True,  True,  True,  True,  True,  True,  True,  True,\n        True,  True,  True, False, False, False, False,  True,  True,\n        True,  True,  True,  True,  True,  True,  True,  True,  True,\n        True,  True,  True,  True])"
     },
     "execution_count": 40,
     "metadata": {},
     "output_type": "execute_result"
    }
   ],
   "source": [],
   "metadata": {
    "collapsed": false,
    "ExecuteTime": {
     "end_time": "2023-09-27T22:29:37.624513Z",
     "start_time": "2023-09-27T22:29:37.580020Z"
    }
   },
   "id": "a69891d47dd2f5ee"
  }
 ],
 "metadata": {
  "kernelspec": {
   "display_name": "Python 3",
   "language": "python",
   "name": "python3"
  },
  "language_info": {
   "codemirror_mode": {
    "name": "ipython",
    "version": 2
   },
   "file_extension": ".py",
   "mimetype": "text/x-python",
   "name": "python",
   "nbconvert_exporter": "python",
   "pygments_lexer": "ipython2",
   "version": "2.7.6"
  }
 },
 "nbformat": 4,
 "nbformat_minor": 5
}
