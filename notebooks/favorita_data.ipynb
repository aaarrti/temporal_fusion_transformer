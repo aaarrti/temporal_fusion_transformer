{
 "cells": [
  {
   "cell_type": "code",
   "execution_count": 1,
   "id": "initial_id",
   "metadata": {
    "collapsed": true,
    "ExecuteTime": {
     "end_time": "2023-09-25T00:38:51.839286Z",
     "start_time": "2023-09-25T00:38:51.827462Z"
    }
   },
   "outputs": [],
   "source": [
    "%load_ext autoreload\n",
    "%autoreload 2"
   ]
  },
  {
   "cell_type": "code",
   "execution_count": 2,
   "outputs": [],
   "source": [
    "import polars as pl\n",
    "from datetime import datetime\n",
    "import gc\n",
    "from temporal_fusion_transformer.src.experiments.favorita import read_temporal\n",
    "\n",
    "start_date = datetime(2016, 1, 1)\n",
    "end_date = datetime(2016, 6, 1)\n",
    "data_dir = \"../data/favorita\""
   ],
   "metadata": {
    "collapsed": false,
    "ExecuteTime": {
     "end_time": "2023-09-25T00:38:55.405822Z",
     "start_time": "2023-09-25T00:38:51.839940Z"
    }
   },
   "id": "66cc98b37a375376"
  },
  {
   "cell_type": "code",
   "execution_count": 3,
   "outputs": [
    {
     "data": {
      "text/plain": "0"
     },
     "execution_count": 3,
     "metadata": {},
     "output_type": "execute_result"
    }
   ],
   "source": [
    "gc.collect()"
   ],
   "metadata": {
    "collapsed": false,
    "ExecuteTime": {
     "end_time": "2023-09-25T00:38:55.512188Z",
     "start_time": "2023-09-25T00:38:55.406262Z"
    }
   },
   "id": "d4a98b054b49dfde"
  },
  {
   "cell_type": "code",
   "execution_count": 4,
   "outputs": [
    {
     "data": {
      "text/plain": "shape: (19_642_724, 7)\n┌────────────┬───────────┬──────────┬───────────┬─────────────┬───────────┬──────┐\n│ date       ┆ store_nbr ┆ item_nbr ┆ log_sales ┆ onpromotion ┆ traj_id   ┆ open │\n│ ---        ┆ ---       ┆ ---      ┆ ---       ┆ ---         ┆ ---       ┆ ---  │\n│ date       ┆ u8        ┆ u32      ┆ f32       ┆ u8          ┆ str       ┆ i8   │\n╞════════════╪═══════════╪══════════╪═══════════╪═════════════╪═══════════╪══════╡\n│ 2016-01-02 ┆ 54        ┆ 594045   ┆ 0.693147  ┆ 0           ┆ 54_594045 ┆ 1    │\n│ 2016-01-03 ┆ 54        ┆ 594045   ┆ 0.0       ┆ 1           ┆ 54_594045 ┆ 1    │\n│ 2016-01-04 ┆ 54        ┆ 594045   ┆ 0.693147  ┆ 0           ┆ 54_594045 ┆ 1    │\n│ 2016-01-05 ┆ 54        ┆ 594045   ┆ 0.693147  ┆ 0           ┆ 54_594045 ┆ 1    │\n│ …          ┆ …         ┆ …        ┆ …         ┆ …           ┆ …         ┆ …    │\n│ 2016-05-29 ┆ 50        ┆ 871600   ┆ 2.079442  ┆ 0           ┆ 50_871600 ┆ 1    │\n│ 2016-05-30 ┆ 50        ┆ 871600   ┆ 2.197225  ┆ 0           ┆ 50_871600 ┆ 1    │\n│ 2016-05-31 ┆ 50        ┆ 871600   ┆ 2.56495   ┆ 0           ┆ 50_871600 ┆ 1    │\n│ 2016-06-01 ┆ 50        ┆ 871600   ┆ 1.79176   ┆ 0           ┆ 50_871600 ┆ 1    │\n└────────────┴───────────┴──────────┴───────────┴─────────────┴───────────┴──────┘",
      "text/html": "<div><style>\n.dataframe > thead > tr > th,\n.dataframe > tbody > tr > td {\n  text-align: right;\n  white-space: pre-wrap;\n}\n</style>\n<small>shape: (19_642_724, 7)</small><table border=\"1\" class=\"dataframe\"><thead><tr><th>date</th><th>store_nbr</th><th>item_nbr</th><th>log_sales</th><th>onpromotion</th><th>traj_id</th><th>open</th></tr><tr><td>date</td><td>u8</td><td>u32</td><td>f32</td><td>u8</td><td>str</td><td>i8</td></tr></thead><tbody><tr><td>2016-01-02</td><td>54</td><td>594045</td><td>0.693147</td><td>0</td><td>&quot;54_594045&quot;</td><td>1</td></tr><tr><td>2016-01-03</td><td>54</td><td>594045</td><td>0.0</td><td>1</td><td>&quot;54_594045&quot;</td><td>1</td></tr><tr><td>2016-01-04</td><td>54</td><td>594045</td><td>0.693147</td><td>0</td><td>&quot;54_594045&quot;</td><td>1</td></tr><tr><td>2016-01-05</td><td>54</td><td>594045</td><td>0.693147</td><td>0</td><td>&quot;54_594045&quot;</td><td>1</td></tr><tr><td>2016-01-06</td><td>54</td><td>594045</td><td>0.0</td><td>0</td><td>&quot;54_594045&quot;</td><td>1</td></tr><tr><td>2016-01-07</td><td>54</td><td>594045</td><td>0.693147</td><td>0</td><td>&quot;54_594045&quot;</td><td>1</td></tr><tr><td>2016-01-08</td><td>54</td><td>594045</td><td>0.693147</td><td>0</td><td>&quot;54_594045&quot;</td><td>1</td></tr><tr><td>2016-01-09</td><td>54</td><td>594045</td><td>0.693147</td><td>0</td><td>&quot;54_594045&quot;</td><td>1</td></tr><tr><td>2016-01-10</td><td>54</td><td>594045</td><td>0.693147</td><td>0</td><td>&quot;54_594045&quot;</td><td>1</td></tr><tr><td>2016-01-11</td><td>54</td><td>594045</td><td>0.693147</td><td>0</td><td>&quot;54_594045&quot;</td><td>1</td></tr><tr><td>2016-01-12</td><td>54</td><td>594045</td><td>0.693147</td><td>0</td><td>&quot;54_594045&quot;</td><td>1</td></tr><tr><td>2016-01-13</td><td>54</td><td>594045</td><td>0.693147</td><td>0</td><td>&quot;54_594045&quot;</td><td>1</td></tr><tr><td>&hellip;</td><td>&hellip;</td><td>&hellip;</td><td>&hellip;</td><td>&hellip;</td><td>&hellip;</td><td>&hellip;</td></tr><tr><td>2016-05-21</td><td>50</td><td>871600</td><td>2.079442</td><td>0</td><td>&quot;50_871600&quot;</td><td>1</td></tr><tr><td>2016-05-22</td><td>50</td><td>871600</td><td>2.70805</td><td>0</td><td>&quot;50_871600&quot;</td><td>1</td></tr><tr><td>2016-05-23</td><td>50</td><td>871600</td><td>1.386294</td><td>0</td><td>&quot;50_871600&quot;</td><td>1</td></tr><tr><td>2016-05-24</td><td>50</td><td>871600</td><td>2.397896</td><td>0</td><td>&quot;50_871600&quot;</td><td>1</td></tr><tr><td>2016-05-25</td><td>50</td><td>871600</td><td>2.302585</td><td>0</td><td>&quot;50_871600&quot;</td><td>1</td></tr><tr><td>2016-05-26</td><td>50</td><td>871600</td><td>0.693147</td><td>0</td><td>&quot;50_871600&quot;</td><td>1</td></tr><tr><td>2016-05-27</td><td>50</td><td>871600</td><td>2.56495</td><td>0</td><td>&quot;50_871600&quot;</td><td>1</td></tr><tr><td>2016-05-28</td><td>50</td><td>871600</td><td>2.639058</td><td>0</td><td>&quot;50_871600&quot;</td><td>1</td></tr><tr><td>2016-05-29</td><td>50</td><td>871600</td><td>2.079442</td><td>0</td><td>&quot;50_871600&quot;</td><td>1</td></tr><tr><td>2016-05-30</td><td>50</td><td>871600</td><td>2.197225</td><td>0</td><td>&quot;50_871600&quot;</td><td>1</td></tr><tr><td>2016-05-31</td><td>50</td><td>871600</td><td>2.56495</td><td>0</td><td>&quot;50_871600&quot;</td><td>1</td></tr><tr><td>2016-06-01</td><td>50</td><td>871600</td><td>1.79176</td><td>0</td><td>&quot;50_871600&quot;</td><td>1</td></tr></tbody></table></div>"
     },
     "execution_count": 4,
     "metadata": {},
     "output_type": "execute_result"
    }
   ],
   "source": [
    "temporal = read_temporal(data_dir)\n",
    "temporal.collect(streaming=True)"
   ],
   "metadata": {
    "collapsed": false,
    "ExecuteTime": {
     "end_time": "2023-09-25T00:40:06.703083Z",
     "start_time": "2023-09-25T00:38:55.510656Z"
    }
   },
   "id": "9a8d9b8de4de4139"
  },
  {
   "cell_type": "code",
   "execution_count": 6,
   "outputs": [],
   "source": [
    "store_info = (\n",
    "    pl.read_parquet(f\"{data_dir}/stores.parquet\")\n",
    "    .with_columns(pl.col(\"cluster\").cast(pl.UInt8))\n",
    "    .shrink_to_fit(in_place=True)\n",
    "    .rechunk()\n",
    "    .lazy()\n",
    ")\n",
    "\n",
    "items = (\n",
    "    pl.read_parquet(f\"{data_dir}/items.parquet\")\n",
    "    .with_columns([pl.col(\"perishable\").cast(pl.UInt8), pl.col(\"class\").cast(pl.UInt16)])\n",
    "    .shrink_to_fit(in_place=True)\n",
    "    .rechunk()\n",
    "    .lazy()\n",
    ")\n",
    "transactions = (\n",
    "    pl.scan_parquet(f\"{data_dir}/transactions.parquet\")\n",
    "    .with_columns([pl.col(\"store_nbr\").cast(pl.UInt8), pl.col(\"transactions\").cast(pl.UInt16)])\n",
    "    .collect()\n",
    "    .shrink_to_fit(in_place=True)\n",
    "    .rechunk()\n",
    "    .lazy()\n",
    ")\n",
    "oil = (\n",
    "    pl.read_parquet(f\"{data_dir}/oil.parquet\")\n",
    "    .rename({\"dcoilwtico\": \"oil_price\"})\n",
    "    .with_columns(pl.col(\"oil_price\").cast(pl.Float32))\n",
    "    .shrink_to_fit(in_place=True)\n",
    "    .rechunk()\n",
    "    .lazy()\n",
    ")\n",
    "holidays = pl.scan_parquet(f\"{data_dir}/holidays_events.parquet\")\n",
    "\n",
    "national_holidays = (\n",
    "    holidays.filter(pl.col(\"locale\") == \"National\")\n",
    "    .select([\"description\", \"date\"])\n",
    "    .rename({\"description\": \"national_hol\"})\n",
    "    .collect()\n",
    "    .shrink_to_fit(in_place=True)\n",
    "    .rechunk()\n",
    "    .lazy()\n",
    ")\n",
    "regional_holidays = (\n",
    "    holidays.filter(pl.col(\"locale\") == \"Regional\")\n",
    "    .select([\"description\", \"locale_name\", \"date\"])\n",
    "    .rename({\"locale_name\": \"state\", \"description\": \"regional_hol\"})\n",
    "    .collect()\n",
    "    .shrink_to_fit(in_place=True)\n",
    "    .rechunk()\n",
    "    .lazy()\n",
    ")\n",
    "local_holidays = (\n",
    "    holidays.filter(pl.col(\"locale\") == \"Local\")\n",
    "    .select([\"description\", \"locale_name\", \"date\"])\n",
    "    .rename({\"locale_name\": \"city\", \"description\": \"local_hol\"})\n",
    "    .collect()\n",
    "    .shrink_to_fit(in_place=True)\n",
    "    .rechunk()\n",
    "    .lazy()\n",
    ")"
   ],
   "metadata": {
    "collapsed": false,
    "ExecuteTime": {
     "end_time": "2023-09-25T00:40:15.216835Z",
     "start_time": "2023-09-25T00:40:14.231077Z"
    }
   },
   "id": "4dea074c7e19c00"
  },
  {
   "cell_type": "code",
   "execution_count": 30,
   "outputs": [
    {
     "data": {
      "text/plain": "shape: (19_802_907, 19)\n┌───────────┬───────────┬──────────┬───────────┬───┬───────────┬───────────┬───────────┬───────────┐\n│ date      ┆ store_nbr ┆ item_nbr ┆ log_sales ┆ … ┆ transacti ┆ national_ ┆ regional_ ┆ local_hol │\n│ ---       ┆ ---       ┆ ---      ┆ ---       ┆   ┆ ons       ┆ hol       ┆ hol       ┆ ---       │\n│ date      ┆ u8        ┆ u32      ┆ f32       ┆   ┆ ---       ┆ ---       ┆ ---       ┆ str       │\n│           ┆           ┆          ┆           ┆   ┆ u16       ┆ str       ┆ str       ┆           │\n╞═══════════╪═══════════╪══════════╪═══════════╪═══╪═══════════╪═══════════╪═══════════╪═══════════╡\n│ 2016-01-0 ┆ 54        ┆ 594045   ┆ 0.693147  ┆ … ┆ 1004      ┆ null      ┆ null      ┆ null      │\n│ 2         ┆           ┆          ┆           ┆   ┆           ┆           ┆           ┆           │\n│ 2016-01-0 ┆ 54        ┆ 594045   ┆ 0.693147  ┆ … ┆ 866       ┆ null      ┆ null      ┆ null      │\n│ 5         ┆           ┆          ┆           ┆   ┆           ┆           ┆           ┆           │\n│ 2016-01-0 ┆ 54        ┆ 594045   ┆ 0.0       ┆ … ┆ 808       ┆ null      ┆ null      ┆ null      │\n│ 6         ┆           ┆          ┆           ┆   ┆           ┆           ┆           ┆           │\n│ 2016-01-0 ┆ 54        ┆ 594045   ┆ 0.693147  ┆ … ┆ 733       ┆ null      ┆ null      ┆ null      │\n│ 7         ┆           ┆          ┆           ┆   ┆           ┆           ┆           ┆           │\n│ …         ┆ …         ┆ …        ┆ …         ┆ … ┆ …         ┆ …         ┆ …         ┆ …         │\n│ 2016-05-2 ┆ 50        ┆ 871600   ┆ 2.079442  ┆ … ┆ 2635      ┆ null      ┆ null      ┆ null      │\n│ 9         ┆           ┆          ┆           ┆   ┆           ┆           ┆           ┆           │\n│ 2016-05-3 ┆ 50        ┆ 871600   ┆ 2.197225  ┆ … ┆ 2184      ┆ null      ┆ null      ┆ null      │\n│ 0         ┆           ┆          ┆           ┆   ┆           ┆           ┆           ┆           │\n│ 2016-05-3 ┆ 50        ┆ 871600   ┆ 2.56495   ┆ … ┆ 2567      ┆ null      ┆ null      ┆ null      │\n│ 1         ┆           ┆          ┆           ┆   ┆           ┆           ┆           ┆           │\n│ 2016-06-0 ┆ 50        ┆ 871600   ┆ 1.79176   ┆ … ┆ 2426      ┆ null      ┆ null      ┆ null      │\n│ 1         ┆           ┆          ┆           ┆   ┆           ┆           ┆           ┆           │\n└───────────┴───────────┴──────────┴───────────┴───┴───────────┴───────────┴───────────┴───────────┘",
      "text/html": "<div><style>\n.dataframe > thead > tr > th,\n.dataframe > tbody > tr > td {\n  text-align: right;\n  white-space: pre-wrap;\n}\n</style>\n<small>shape: (19_802_907, 19)</small><table border=\"1\" class=\"dataframe\"><thead><tr><th>date</th><th>store_nbr</th><th>item_nbr</th><th>log_sales</th><th>onpromotion</th><th>traj_id</th><th>open</th><th>oil_price</th><th>city</th><th>state</th><th>type</th><th>cluster</th><th>family</th><th>class</th><th>perishable</th><th>transactions</th><th>national_hol</th><th>regional_hol</th><th>local_hol</th></tr><tr><td>date</td><td>u8</td><td>u32</td><td>f32</td><td>u8</td><td>str</td><td>i8</td><td>f32</td><td>str</td><td>str</td><td>str</td><td>u8</td><td>str</td><td>u16</td><td>u8</td><td>u16</td><td>str</td><td>str</td><td>str</td></tr></thead><tbody><tr><td>2016-01-02</td><td>54</td><td>594045</td><td>0.693147</td><td>0</td><td>&quot;54_594045&quot;</td><td>1</td><td>null</td><td>null</td><td>null</td><td>null</td><td>null</td><td>null</td><td>null</td><td>null</td><td>1004</td><td>null</td><td>null</td><td>null</td></tr><tr><td>2016-01-05</td><td>54</td><td>594045</td><td>0.693147</td><td>0</td><td>&quot;54_594045&quot;</td><td>1</td><td>35.970001</td><td>null</td><td>null</td><td>null</td><td>null</td><td>null</td><td>null</td><td>null</td><td>866</td><td>null</td><td>null</td><td>null</td></tr><tr><td>2016-01-06</td><td>54</td><td>594045</td><td>0.0</td><td>0</td><td>&quot;54_594045&quot;</td><td>1</td><td>33.970001</td><td>null</td><td>null</td><td>null</td><td>null</td><td>null</td><td>null</td><td>null</td><td>808</td><td>null</td><td>null</td><td>null</td></tr><tr><td>2016-01-07</td><td>54</td><td>594045</td><td>0.693147</td><td>0</td><td>&quot;54_594045&quot;</td><td>1</td><td>33.290001</td><td>null</td><td>null</td><td>null</td><td>null</td><td>null</td><td>null</td><td>null</td><td>733</td><td>null</td><td>null</td><td>null</td></tr><tr><td>2016-01-08</td><td>54</td><td>594045</td><td>0.693147</td><td>0</td><td>&quot;54_594045&quot;</td><td>1</td><td>33.200001</td><td>null</td><td>null</td><td>null</td><td>null</td><td>null</td><td>null</td><td>null</td><td>868</td><td>null</td><td>null</td><td>null</td></tr><tr><td>2016-01-09</td><td>54</td><td>594045</td><td>0.693147</td><td>0</td><td>&quot;54_594045&quot;</td><td>1</td><td>null</td><td>null</td><td>null</td><td>null</td><td>null</td><td>null</td><td>null</td><td>null</td><td>814</td><td>null</td><td>null</td><td>null</td></tr><tr><td>2016-01-10</td><td>54</td><td>594045</td><td>0.693147</td><td>0</td><td>&quot;54_594045&quot;</td><td>1</td><td>null</td><td>null</td><td>null</td><td>null</td><td>null</td><td>null</td><td>null</td><td>null</td><td>1134</td><td>null</td><td>null</td><td>null</td></tr><tr><td>2016-01-11</td><td>54</td><td>594045</td><td>0.693147</td><td>0</td><td>&quot;54_594045&quot;</td><td>1</td><td>31.42</td><td>null</td><td>null</td><td>null</td><td>null</td><td>null</td><td>null</td><td>null</td><td>827</td><td>null</td><td>null</td><td>null</td></tr><tr><td>2016-01-12</td><td>54</td><td>594045</td><td>0.693147</td><td>0</td><td>&quot;54_594045&quot;</td><td>1</td><td>30.42</td><td>null</td><td>null</td><td>null</td><td>null</td><td>null</td><td>null</td><td>null</td><td>784</td><td>null</td><td>null</td><td>null</td></tr><tr><td>2016-01-13</td><td>54</td><td>594045</td><td>0.693147</td><td>0</td><td>&quot;54_594045&quot;</td><td>1</td><td>30.42</td><td>null</td><td>null</td><td>null</td><td>null</td><td>null</td><td>null</td><td>null</td><td>674</td><td>null</td><td>null</td><td>null</td></tr><tr><td>2016-01-14</td><td>54</td><td>594045</td><td>0.693147</td><td>0</td><td>&quot;54_594045&quot;</td><td>1</td><td>31.219999</td><td>null</td><td>null</td><td>null</td><td>null</td><td>null</td><td>null</td><td>null</td><td>689</td><td>null</td><td>null</td><td>null</td></tr><tr><td>2016-01-15</td><td>54</td><td>594045</td><td>0.693147</td><td>0</td><td>&quot;54_594045&quot;</td><td>1</td><td>29.450001</td><td>null</td><td>null</td><td>null</td><td>null</td><td>null</td><td>null</td><td>null</td><td>764</td><td>null</td><td>null</td><td>null</td></tr><tr><td>&hellip;</td><td>&hellip;</td><td>&hellip;</td><td>&hellip;</td><td>&hellip;</td><td>&hellip;</td><td>&hellip;</td><td>&hellip;</td><td>&hellip;</td><td>&hellip;</td><td>&hellip;</td><td>&hellip;</td><td>&hellip;</td><td>&hellip;</td><td>&hellip;</td><td>&hellip;</td><td>&hellip;</td><td>&hellip;</td><td>&hellip;</td></tr><tr><td>2016-05-21</td><td>50</td><td>871600</td><td>2.079442</td><td>0</td><td>&quot;50_871600&quot;</td><td>1</td><td>null</td><td>null</td><td>null</td><td>null</td><td>null</td><td>null</td><td>null</td><td>null</td><td>3014</td><td>null</td><td>null</td><td>null</td></tr><tr><td>2016-05-22</td><td>50</td><td>871600</td><td>2.70805</td><td>0</td><td>&quot;50_871600&quot;</td><td>1</td><td>null</td><td>null</td><td>null</td><td>null</td><td>null</td><td>null</td><td>null</td><td>null</td><td>2783</td><td>null</td><td>null</td><td>null</td></tr><tr><td>2016-05-23</td><td>50</td><td>871600</td><td>1.386294</td><td>0</td><td>&quot;50_871600&quot;</td><td>1</td><td>48.119999</td><td>null</td><td>null</td><td>null</td><td>null</td><td>null</td><td>null</td><td>null</td><td>2016</td><td>null</td><td>null</td><td>null</td></tr><tr><td>2016-05-24</td><td>50</td><td>871600</td><td>2.397896</td><td>0</td><td>&quot;50_871600&quot;</td><td>1</td><td>48.040001</td><td>null</td><td>null</td><td>null</td><td>null</td><td>null</td><td>null</td><td>null</td><td>1857</td><td>&quot;Batalla de Pic…</td><td>null</td><td>null</td></tr><tr><td>2016-05-25</td><td>50</td><td>871600</td><td>2.302585</td><td>0</td><td>&quot;50_871600&quot;</td><td>1</td><td>49.099998</td><td>null</td><td>null</td><td>null</td><td>null</td><td>null</td><td>null</td><td>null</td><td>1883</td><td>null</td><td>null</td><td>null</td></tr><tr><td>2016-05-26</td><td>50</td><td>871600</td><td>0.693147</td><td>0</td><td>&quot;50_871600&quot;</td><td>1</td><td>49.0</td><td>null</td><td>null</td><td>null</td><td>null</td><td>null</td><td>null</td><td>null</td><td>2076</td><td>null</td><td>null</td><td>null</td></tr><tr><td>2016-05-27</td><td>50</td><td>871600</td><td>2.56495</td><td>0</td><td>&quot;50_871600&quot;</td><td>1</td><td>49.360001</td><td>null</td><td>null</td><td>null</td><td>null</td><td>null</td><td>null</td><td>null</td><td>2920</td><td>&quot;Traslado Batal…</td><td>null</td><td>null</td></tr><tr><td>2016-05-28</td><td>50</td><td>871600</td><td>2.639058</td><td>0</td><td>&quot;50_871600&quot;</td><td>1</td><td>null</td><td>null</td><td>null</td><td>null</td><td>null</td><td>null</td><td>null</td><td>null</td><td>2833</td><td>null</td><td>null</td><td>null</td></tr><tr><td>2016-05-29</td><td>50</td><td>871600</td><td>2.079442</td><td>0</td><td>&quot;50_871600&quot;</td><td>1</td><td>null</td><td>null</td><td>null</td><td>null</td><td>null</td><td>null</td><td>null</td><td>null</td><td>2635</td><td>null</td><td>null</td><td>null</td></tr><tr><td>2016-05-30</td><td>50</td><td>871600</td><td>2.197225</td><td>0</td><td>&quot;50_871600&quot;</td><td>1</td><td>null</td><td>null</td><td>null</td><td>null</td><td>null</td><td>null</td><td>null</td><td>null</td><td>2184</td><td>null</td><td>null</td><td>null</td></tr><tr><td>2016-05-31</td><td>50</td><td>871600</td><td>2.56495</td><td>0</td><td>&quot;50_871600&quot;</td><td>1</td><td>49.099998</td><td>null</td><td>null</td><td>null</td><td>null</td><td>null</td><td>null</td><td>null</td><td>2567</td><td>null</td><td>null</td><td>null</td></tr><tr><td>2016-06-01</td><td>50</td><td>871600</td><td>1.79176</td><td>0</td><td>&quot;50_871600&quot;</td><td>1</td><td>49.07</td><td>null</td><td>null</td><td>null</td><td>null</td><td>null</td><td>null</td><td>null</td><td>2426</td><td>null</td><td>null</td><td>null</td></tr></tbody></table></div>"
     },
     "execution_count": 30,
     "metadata": {},
     "output_type": "execute_result"
    }
   ],
   "source": [
    "df: pl.DataFrame = (\n",
    "    temporal.join(oil, on=\"date\", how=\"left\")\n",
    "    .join(store_info, on=\"store_nbr\", how=\"left\")\n",
    "    .join(items, on=\"item_nbr\", how=\"left\")\n",
    "    .join(transactions, on=[\"store_nbr\", \"date\"])\n",
    "    .join(national_holidays, on=\"date\", how=\"left\")\n",
    "    .join(regional_holidays, on=[\"date\", \"state\"], how=\"left\")\n",
    "    .join(local_holidays, on=[\"date\", \"city\"], how=\"left\")\n",
    "    # .with_columns(\n",
    "    #    [\n",
    "    #        pl.col(\"oil_price\").fill_null(strategy=\"forward\"),\n",
    "    #        pl.col(\"national_hol\").fill_null(\"\"),\n",
    "    #        pl.col(\"regional_hol\").fill_null(\"\"),\n",
    "    #        pl.col(\"local_hol\").fill_null(\"\"),\n",
    "    #        pl.col(\"date\").dt.month().alias(\"month\"),\n",
    "    #        pl.col(\"date\").dt.day().alias(\"day_of_month\"),\n",
    "    #        pl.col(\"date\").dt.weekday().alias(\"day_of_week\"),\n",
    "    #    ]\n",
    "    # )\n",
    "    # .filter(pl.col(\"oil_price\").is_not_null())\n",
    "    # .sort(\"date\", \"traj_id\")\n",
    "    .collect(streaming=True)\n",
    "    .shrink_to_fit(in_place=True)\n",
    "    .rechunk()\n",
    ")\n",
    "\n",
    "df"
   ],
   "metadata": {
    "collapsed": false,
    "ExecuteTime": {
     "end_time": "2023-09-25T00:48:02.877057Z",
     "start_time": "2023-09-25T00:47:56.022824Z"
    }
   },
   "id": "d3b3b57c4d35750a"
  },
  {
   "cell_type": "code",
   "execution_count": 31,
   "outputs": [
    {
     "data": {
      "text/plain": "shape: (9, 20)\n┌───────────┬───────────┬───────────┬───────────┬───┬───────────┬───────────┬───────────┬──────────┐\n│ describe  ┆ date      ┆ store_nbr ┆ item_nbr  ┆ … ┆ transacti ┆ national_ ┆ regional_ ┆ local_ho │\n│ ---       ┆ ---       ┆ ---       ┆ ---       ┆   ┆ ons       ┆ hol       ┆ hol       ┆ l        │\n│ str       ┆ str       ┆ f64       ┆ f64       ┆   ┆ ---       ┆ ---       ┆ ---       ┆ ---      │\n│           ┆           ┆           ┆           ┆   ┆ f64       ┆ str       ┆ str       ┆ str      │\n╞═══════════╪═══════════╪═══════════╪═══════════╪═══╪═══════════╪═══════════╪═══════════╪══════════╡\n│ count     ┆ 19802907  ┆ 1.9802907 ┆ 1.9802907 ┆ … ┆ 1.9802907 ┆ 19802907  ┆ 19802907  ┆ 19802907 │\n│           ┆           ┆ e7        ┆ e7        ┆   ┆ e7        ┆           ┆           ┆          │\n│ null_coun ┆ 0         ┆ 0.0       ┆ 0.0       ┆ … ┆ 0.0       ┆ 14669476  ┆ 19802907  ┆ 19802907 │\n│ t         ┆           ┆           ┆           ┆   ┆           ┆           ┆           ┆          │\n│ mean      ┆ null      ┆ 27.418253 ┆ 1.0915e6  ┆ … ┆ 1723.3305 ┆ null      ┆ null      ┆ null     │\n│           ┆           ┆           ┆           ┆   ┆ 38        ┆           ┆           ┆          │\n│ std       ┆ null      ┆ 15.868059 ┆ 534417.49 ┆ … ┆ 952.88553 ┆ null      ┆ null      ┆ null     │\n│           ┆           ┆           ┆ 5393      ┆   ┆ 3         ┆           ┆           ┆          │\n│ min       ┆ 2016-01-0 ┆ 1.0       ┆ 99197.0   ┆ … ┆ 6.0       ┆ Batalla   ┆ null      ┆ null     │\n│           ┆ 2         ┆           ┆           ┆   ┆           ┆ de        ┆           ┆          │\n│           ┆           ┆           ┆           ┆   ┆           ┆ Pichincha ┆           ┆          │\n│ 25%       ┆ null      ┆ 13.0      ┆ 668752.0  ┆ … ┆ 1054.0    ┆ null      ┆ null      ┆ null     │\n│ 50%       ┆ null      ┆ 28.0      ┆ 1.143686e ┆ … ┆ 1425.0    ┆ null      ┆ null      ┆ null     │\n│           ┆           ┆           ┆ 6         ┆   ┆           ┆           ┆           ┆          │\n│ 75%       ┆ null      ┆ 42.0      ┆ 1.46379e6 ┆ … ┆ 2130.0    ┆ null      ┆ null      ┆ null     │\n│ max       ┆ 2016-06-0 ┆ 54.0      ┆ 2.037487e ┆ … ┆ 6194.0    ┆ Viernes   ┆ null      ┆ null     │\n│           ┆ 1         ┆           ┆ 6         ┆   ┆           ┆ Santo     ┆           ┆          │\n└───────────┴───────────┴───────────┴───────────┴───┴───────────┴───────────┴───────────┴──────────┘",
      "text/html": "<div><style>\n.dataframe > thead > tr > th,\n.dataframe > tbody > tr > td {\n  text-align: right;\n  white-space: pre-wrap;\n}\n</style>\n<small>shape: (9, 20)</small><table border=\"1\" class=\"dataframe\"><thead><tr><th>describe</th><th>date</th><th>store_nbr</th><th>item_nbr</th><th>log_sales</th><th>onpromotion</th><th>traj_id</th><th>open</th><th>oil_price</th><th>city</th><th>state</th><th>type</th><th>cluster</th><th>family</th><th>class</th><th>perishable</th><th>transactions</th><th>national_hol</th><th>regional_hol</th><th>local_hol</th></tr><tr><td>str</td><td>str</td><td>f64</td><td>f64</td><td>f64</td><td>f64</td><td>str</td><td>f64</td><td>f64</td><td>str</td><td>str</td><td>str</td><td>f64</td><td>str</td><td>f64</td><td>f64</td><td>f64</td><td>str</td><td>str</td><td>str</td></tr></thead><tbody><tr><td>&quot;count&quot;</td><td>&quot;19802907&quot;</td><td>1.9802907e7</td><td>1.9802907e7</td><td>1.9802907e7</td><td>1.9802907e7</td><td>&quot;19802907&quot;</td><td>1.9802907e7</td><td>1.9802907e7</td><td>&quot;19802907&quot;</td><td>&quot;19802907&quot;</td><td>&quot;19802907&quot;</td><td>1.9802907e7</td><td>&quot;19802907&quot;</td><td>1.9802907e7</td><td>1.9802907e7</td><td>1.9802907e7</td><td>&quot;19802907&quot;</td><td>&quot;19802907&quot;</td><td>&quot;19802907&quot;</td></tr><tr><td>&quot;null_count&quot;</td><td>&quot;0&quot;</td><td>0.0</td><td>0.0</td><td>0.0</td><td>0.0</td><td>&quot;0&quot;</td><td>0.0</td><td>6.430704e6</td><td>&quot;19802907&quot;</td><td>&quot;19802907&quot;</td><td>&quot;19802907&quot;</td><td>1.9802907e7</td><td>&quot;19802907&quot;</td><td>1.9802907e7</td><td>1.9802907e7</td><td>0.0</td><td>&quot;14669476&quot;</td><td>&quot;19802907&quot;</td><td>&quot;19802907&quot;</td></tr><tr><td>&quot;mean&quot;</td><td>null</td><td>27.418253</td><td>1.0915e6</td><td>1.209991</td><td>0.069158</td><td>null</td><td>1.0</td><td>37.697075</td><td>null</td><td>null</td><td>null</td><td>null</td><td>null</td><td>null</td><td>null</td><td>1723.330538</td><td>null</td><td>null</td><td>null</td></tr><tr><td>&quot;std&quot;</td><td>null</td><td>15.868059</td><td>534417.495393</td><td>1.074361</td><td>0.253722</td><td>null</td><td>0.0</td><td>6.446909</td><td>null</td><td>null</td><td>null</td><td>null</td><td>null</td><td>null</td><td>null</td><td>952.885533</td><td>null</td><td>null</td><td>null</td></tr><tr><td>&quot;min&quot;</td><td>&quot;2016-01-02&quot;</td><td>1.0</td><td>99197.0</td><td>-6.907756</td><td>0.0</td><td>&quot;10_1001305&quot;</td><td>1.0</td><td>26.190001</td><td>null</td><td>null</td><td>null</td><td>null</td><td>null</td><td>null</td><td>null</td><td>6.0</td><td>&quot;Batalla de Pic…</td><td>null</td><td>null</td></tr><tr><td>&quot;25%&quot;</td><td>null</td><td>13.0</td><td>668752.0</td><td>0.0</td><td>0.0</td><td>null</td><td>1.0</td><td>31.65</td><td>null</td><td>null</td><td>null</td><td>null</td><td>null</td><td>null</td><td>null</td><td>1054.0</td><td>null</td><td>null</td><td>null</td></tr><tr><td>&quot;50%&quot;</td><td>null</td><td>28.0</td><td>1.143686e6</td><td>1.098612</td><td>0.0</td><td>null</td><td>1.0</td><td>37.299999</td><td>null</td><td>null</td><td>null</td><td>null</td><td>null</td><td>null</td><td>null</td><td>1425.0</td><td>null</td><td>null</td><td>null</td></tr><tr><td>&quot;75%&quot;</td><td>null</td><td>42.0</td><td>1.46379e6</td><td>1.94591</td><td>0.0</td><td>null</td><td>1.0</td><td>42.759998</td><td>null</td><td>null</td><td>null</td><td>null</td><td>null</td><td>null</td><td>null</td><td>2130.0</td><td>null</td><td>null</td><td>null</td></tr><tr><td>&quot;max&quot;</td><td>&quot;2016-06-01&quot;</td><td>54.0</td><td>2.037487e6</td><td>10.695168</td><td>1.0</td><td>&quot;9_999547&quot;</td><td>1.0</td><td>49.360001</td><td>null</td><td>null</td><td>null</td><td>null</td><td>null</td><td>null</td><td>null</td><td>6194.0</td><td>&quot;Viernes Santo&quot;</td><td>null</td><td>null</td></tr></tbody></table></div>"
     },
     "execution_count": 31,
     "metadata": {},
     "output_type": "execute_result"
    }
   ],
   "source": [
    "df.describe()"
   ],
   "metadata": {
    "collapsed": false,
    "ExecuteTime": {
     "end_time": "2023-09-25T00:48:11.323747Z",
     "start_time": "2023-09-25T00:48:10.942358Z"
    }
   },
   "id": "19240632493bc34b"
  },
  {
   "cell_type": "code",
   "execution_count": 36,
   "outputs": [
    {
     "data": {
      "text/plain": "[Int64]"
     },
     "execution_count": 36,
     "metadata": {},
     "output_type": "execute_result"
    }
   ],
   "source": [
    "store_info.select(\"store_nbr\").collect().dtypes"
   ],
   "metadata": {
    "collapsed": false,
    "ExecuteTime": {
     "end_time": "2023-09-25T00:49:39.795743Z",
     "start_time": "2023-09-25T00:49:39.741282Z"
    }
   },
   "id": "ae97ffe90c9fa93c"
  },
  {
   "cell_type": "code",
   "execution_count": 35,
   "outputs": [
    {
     "data": {
      "text/plain": "[UInt8]"
     },
     "execution_count": 35,
     "metadata": {},
     "output_type": "execute_result"
    }
   ],
   "source": [
    "temporal.select(\"store_nbr\").collect().dtypes"
   ],
   "metadata": {
    "collapsed": false,
    "ExecuteTime": {
     "end_time": "2023-09-25T00:49:23.597323Z",
     "start_time": "2023-09-25T00:49:23.551332Z"
    }
   },
   "id": "e5fb987a909a884e"
  },
  {
   "cell_type": "code",
   "execution_count": null,
   "outputs": [],
   "source": [],
   "metadata": {
    "collapsed": false
   },
   "id": "c43f53f3742cd96c"
  }
 ],
 "metadata": {
  "kernelspec": {
   "display_name": "Python 3",
   "language": "python",
   "name": "python3"
  },
  "language_info": {
   "codemirror_mode": {
    "name": "ipython",
    "version": 2
   },
   "file_extension": ".py",
   "mimetype": "text/x-python",
   "name": "python",
   "nbconvert_exporter": "python",
   "pygments_lexer": "ipython2",
   "version": "2.7.6"
  }
 },
 "nbformat": 4,
 "nbformat_minor": 5
}
