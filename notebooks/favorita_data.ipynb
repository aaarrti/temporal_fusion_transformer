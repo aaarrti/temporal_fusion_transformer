{
 "cells": [
  {
   "cell_type": "code",
   "execution_count": 2,
   "id": "initial_id",
   "metadata": {
    "collapsed": true,
    "ExecuteTime": {
     "end_time": "2023-08-30T22:42:20.335243Z",
     "start_time": "2023-08-30T22:42:20.316560Z"
    }
   },
   "outputs": [],
   "source": [
    "%load_ext autoreload\n",
    "%autoreload 2"
   ]
  },
  {
   "cell_type": "code",
   "execution_count": 4,
   "outputs": [],
   "source": [
    "import polars as pl\n",
    "import tensorflow as tf\n",
    "from temporal_fusion_transformer.src.datasets.favorita import Favorita"
   ],
   "metadata": {
    "collapsed": false,
    "ExecuteTime": {
     "end_time": "2023-08-30T22:42:28.634839Z",
     "start_time": "2023-08-30T22:42:28.591385Z"
    }
   },
   "id": "66cc98b37a375376"
  },
  {
   "cell_type": "code",
   "execution_count": 5,
   "outputs": [
    {
     "data": {
      "text/plain": "shape: (9, 7)\n┌────────────┬──────────────┬────────────┬─────────────┬───────────────┬─────────────┬─────────────┐\n│ describe   ┆ id           ┆ date       ┆ store_nbr   ┆ item_nbr      ┆ unit_sales  ┆ onpromotion │\n│ ---        ┆ ---          ┆ ---        ┆ ---         ┆ ---           ┆ ---         ┆ ---         │\n│ str        ┆ f64          ┆ str        ┆ f64         ┆ f64           ┆ f64         ┆ str         │\n╞════════════╪══════════════╪════════════╪═════════════╪═══════════════╪═════════════╪═════════════╡\n│ count      ┆ 1.2549704e8  ┆ 125497040  ┆ 1.2549704e8 ┆ 1.2549704e8   ┆ 1.2549704e8 ┆ 125497040   │\n│ null_count ┆ 0.0          ┆ 0          ┆ 0.0         ┆ 0.0           ┆ 0.0         ┆ 21657651    │\n│ mean       ┆ 6.2749e7     ┆ null       ┆ 27.464578   ┆ 972769.152723 ┆ 8.554865    ┆ null        │\n│ std        ┆ 3.6228e7     ┆ null       ┆ 16.33051    ┆ 520533.59861  ┆ 23.605152   ┆ null        │\n│ min        ┆ 0.0          ┆ 2013-01-01 ┆ 1.0         ┆ 96995.0       ┆ -15372.0    ┆ False       │\n│ 25%        ┆ 3.137426e7   ┆ null       ┆ 12.0        ┆ 522383.0      ┆ 2.0         ┆ null        │\n│ 50%        ┆ 6.274852e7   ┆ null       ┆ 28.0        ┆ 959500.0      ┆ 4.0         ┆ null        │\n│ 75%        ┆ 9.412278e7   ┆ null       ┆ 43.0        ┆ 1.35438e6     ┆ 9.0         ┆ null        │\n│ max        ┆ 1.25497039e8 ┆ 2017-08-15 ┆ 54.0        ┆ 2.127114e6    ┆ 89440.0     ┆ True        │\n└────────────┴──────────────┴────────────┴─────────────┴───────────────┴─────────────┴─────────────┘",
      "text/html": "<div><style>\n.dataframe > thead > tr > th,\n.dataframe > tbody > tr > td {\n  text-align: right;\n}\n</style>\n<small>shape: (9, 7)</small><table border=\"1\" class=\"dataframe\"><thead><tr><th>describe</th><th>id</th><th>date</th><th>store_nbr</th><th>item_nbr</th><th>unit_sales</th><th>onpromotion</th></tr><tr><td>str</td><td>f64</td><td>str</td><td>f64</td><td>f64</td><td>f64</td><td>str</td></tr></thead><tbody><tr><td>&quot;count&quot;</td><td>1.2549704e8</td><td>&quot;125497040&quot;</td><td>1.2549704e8</td><td>1.2549704e8</td><td>1.2549704e8</td><td>&quot;125497040&quot;</td></tr><tr><td>&quot;null_count&quot;</td><td>0.0</td><td>&quot;0&quot;</td><td>0.0</td><td>0.0</td><td>0.0</td><td>&quot;21657651&quot;</td></tr><tr><td>&quot;mean&quot;</td><td>6.2749e7</td><td>null</td><td>27.464578</td><td>972769.152723</td><td>8.554865</td><td>null</td></tr><tr><td>&quot;std&quot;</td><td>3.6228e7</td><td>null</td><td>16.33051</td><td>520533.59861</td><td>23.605152</td><td>null</td></tr><tr><td>&quot;min&quot;</td><td>0.0</td><td>&quot;2013-01-01&quot;</td><td>1.0</td><td>96995.0</td><td>-15372.0</td><td>&quot;False&quot;</td></tr><tr><td>&quot;25%&quot;</td><td>3.137426e7</td><td>null</td><td>12.0</td><td>522383.0</td><td>2.0</td><td>null</td></tr><tr><td>&quot;50%&quot;</td><td>6.274852e7</td><td>null</td><td>28.0</td><td>959500.0</td><td>4.0</td><td>null</td></tr><tr><td>&quot;75%&quot;</td><td>9.412278e7</td><td>null</td><td>43.0</td><td>1.35438e6</td><td>9.0</td><td>null</td></tr><tr><td>&quot;max&quot;</td><td>1.25497039e8</td><td>&quot;2017-08-15&quot;</td><td>54.0</td><td>2.127114e6</td><td>89440.0</td><td>&quot;True&quot;</td></tr></tbody></table></div>"
     },
     "execution_count": 5,
     "metadata": {},
     "output_type": "execute_result"
    }
   ],
   "source": [
    "pl.read_parquet(\"../data/favorita/train.parquet\").describe()"
   ],
   "metadata": {
    "collapsed": false,
    "ExecuteTime": {
     "end_time": "2023-08-30T22:42:58.853517Z",
     "start_time": "2023-08-30T22:42:32.008187Z"
    }
   },
   "id": "8dcebcb8f54c191f"
  },
  {
   "cell_type": "code",
   "execution_count": null,
   "outputs": [],
   "source": [
    "df = pl.read_parquet(\"../data/favorita/df.parquet\")\n",
    "df"
   ],
   "metadata": {
    "collapsed": false
   },
   "id": "d5859fcbbc32809"
  },
  {
   "cell_type": "code",
   "execution_count": null,
   "outputs": [],
   "source": [],
   "metadata": {
    "collapsed": false
   },
   "id": "40c55bfea5aa4cc9"
  }
 ],
 "metadata": {
  "kernelspec": {
   "display_name": "Python 3",
   "language": "python",
   "name": "python3"
  },
  "language_info": {
   "codemirror_mode": {
    "name": "ipython",
    "version": 2
   },
   "file_extension": ".py",
   "mimetype": "text/x-python",
   "name": "python",
   "nbconvert_exporter": "python",
   "pygments_lexer": "ipython2",
   "version": "2.7.6"
  }
 },
 "nbformat": 4,
 "nbformat_minor": 5
}
