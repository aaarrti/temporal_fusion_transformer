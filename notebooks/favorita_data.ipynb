{
 "cells": [
  {
   "cell_type": "code",
   "execution_count": 1,
   "id": "initial_id",
   "metadata": {
    "collapsed": true,
    "ExecuteTime": {
     "end_time": "2023-08-27T19:45:05.211571Z",
     "start_time": "2023-08-27T19:45:05.200220Z"
    }
   },
   "outputs": [],
   "source": [
    "%load_ext autoreload\n",
    "%autoreload 2"
   ]
  },
  {
   "cell_type": "code",
   "execution_count": 2,
   "outputs": [],
   "source": [
    "import polars as pl\n",
    "from absl_extra import logging_utils\n",
    "from temporal_fusion_transformer.src.datasets import downcast_dataframe\n",
    "from datetime import datetime\n",
    "from absl import logging\n",
    "\n",
    "logging_utils.setup_logging()\n",
    "\n",
    "start_date = datetime(2016, 5, 1)\n",
    "end_date = datetime(2016, 6, 1)"
   ],
   "metadata": {
    "collapsed": false,
    "ExecuteTime": {
     "end_time": "2023-08-27T19:45:09.018722Z",
     "start_time": "2023-08-27T19:45:05.212352Z"
    }
   },
   "id": "66cc98b37a375376"
  },
  {
   "cell_type": "code",
   "execution_count": 3,
   "outputs": [
    {
     "name": "stderr",
     "output_type": "stream",
     "text": [
      "2023-08-27 21:45:09,053:[2607012406.py:6-><module>()]:DEBUG: Adding trajectory identifier\n",
      "2023-08-27 21:45:09,053:[2607012406.py:13-><module>()]:DEBUG: Removing returns data\n"
     ]
    },
    {
     "data": {
      "text/plain": "shape: (3_075_289, 8)\n┌──────────┬────────────┬───────────┬──────────┬────────────┬─────────────┬────────────┬──────┐\n│ id       ┆ date       ┆ store_nbr ┆ item_nbr ┆ unit_sales ┆ onpromotion ┆ traj_id    ┆ open │\n│ ---      ┆ ---        ┆ ---       ┆ ---      ┆ ---        ┆ ---         ┆ ---        ┆ ---  │\n│ i32      ┆ date       ┆ i32       ┆ i32      ┆ f32        ┆ str         ┆ str        ┆ i32  │\n╞══════════╪════════════╪═══════════╪══════════╪════════════╪═════════════╪════════════╪══════╡\n│ 77852003 ┆ 2016-05-01 ┆ 1         ┆ 103665   ┆ 4.0        ┆ False       ┆ 1_103665   ┆ 1    │\n│ 77852004 ┆ 2016-05-01 ┆ 1         ┆ 105575   ┆ 7.0        ┆ False       ┆ 1_105575   ┆ 1    │\n│ 77852005 ┆ 2016-05-01 ┆ 1         ┆ 105693   ┆ 2.0        ┆ False       ┆ 1_105693   ┆ 1    │\n│ 77852006 ┆ 2016-05-01 ┆ 1         ┆ 105857   ┆ 5.0        ┆ False       ┆ 1_105857   ┆ 1    │\n│ …        ┆ …          ┆ …         ┆ …        ┆ …          ┆ …           ┆ …          ┆ …    │\n│ 80931986 ┆ 2016-06-01 ┆ 54        ┆ 2026801  ┆ 5.0        ┆ False       ┆ 54_2026801 ┆ 1    │\n│ 80931987 ┆ 2016-06-01 ┆ 54        ┆ 2026893  ┆ 1.0        ┆ False       ┆ 54_2026893 ┆ 1    │\n│ 80931988 ┆ 2016-06-01 ┆ 54        ┆ 2026983  ┆ 5.0        ┆ False       ┆ 54_2026983 ┆ 1    │\n│ 80931989 ┆ 2016-06-01 ┆ 54        ┆ 2027252  ┆ 1.0        ┆ False       ┆ 54_2027252 ┆ 1    │\n└──────────┴────────────┴───────────┴──────────┴────────────┴─────────────┴────────────┴──────┘",
      "text/html": "<div><style>\n.dataframe > thead > tr > th,\n.dataframe > tbody > tr > td {\n  text-align: right;\n}\n</style>\n<small>shape: (3_075_289, 8)</small><table border=\"1\" class=\"dataframe\"><thead><tr><th>id</th><th>date</th><th>store_nbr</th><th>item_nbr</th><th>unit_sales</th><th>onpromotion</th><th>traj_id</th><th>open</th></tr><tr><td>i32</td><td>date</td><td>i32</td><td>i32</td><td>f32</td><td>str</td><td>str</td><td>i32</td></tr></thead><tbody><tr><td>77852003</td><td>2016-05-01</td><td>1</td><td>103665</td><td>4.0</td><td>&quot;False&quot;</td><td>&quot;1_103665&quot;</td><td>1</td></tr><tr><td>77852004</td><td>2016-05-01</td><td>1</td><td>105575</td><td>7.0</td><td>&quot;False&quot;</td><td>&quot;1_105575&quot;</td><td>1</td></tr><tr><td>77852005</td><td>2016-05-01</td><td>1</td><td>105693</td><td>2.0</td><td>&quot;False&quot;</td><td>&quot;1_105693&quot;</td><td>1</td></tr><tr><td>77852006</td><td>2016-05-01</td><td>1</td><td>105857</td><td>5.0</td><td>&quot;False&quot;</td><td>&quot;1_105857&quot;</td><td>1</td></tr><tr><td>77852007</td><td>2016-05-01</td><td>1</td><td>106716</td><td>2.0</td><td>&quot;False&quot;</td><td>&quot;1_106716&quot;</td><td>1</td></tr><tr><td>77852008</td><td>2016-05-01</td><td>1</td><td>108696</td><td>1.0</td><td>&quot;False&quot;</td><td>&quot;1_108696&quot;</td><td>1</td></tr><tr><td>77852009</td><td>2016-05-01</td><td>1</td><td>108698</td><td>1.0</td><td>&quot;False&quot;</td><td>&quot;1_108698&quot;</td><td>1</td></tr><tr><td>77852010</td><td>2016-05-01</td><td>1</td><td>108786</td><td>1.0</td><td>&quot;False&quot;</td><td>&quot;1_108786&quot;</td><td>1</td></tr><tr><td>77852011</td><td>2016-05-01</td><td>1</td><td>108797</td><td>2.0</td><td>&quot;False&quot;</td><td>&quot;1_108797&quot;</td><td>1</td></tr><tr><td>77852012</td><td>2016-05-01</td><td>1</td><td>108952</td><td>1.0</td><td>&quot;False&quot;</td><td>&quot;1_108952&quot;</td><td>1</td></tr><tr><td>77852013</td><td>2016-05-01</td><td>1</td><td>111223</td><td>8.0</td><td>&quot;False&quot;</td><td>&quot;1_111223&quot;</td><td>1</td></tr><tr><td>77852014</td><td>2016-05-01</td><td>1</td><td>111397</td><td>2.0</td><td>&quot;False&quot;</td><td>&quot;1_111397&quot;</td><td>1</td></tr><tr><td>&hellip;</td><td>&hellip;</td><td>&hellip;</td><td>&hellip;</td><td>&hellip;</td><td>&hellip;</td><td>&hellip;</td><td>&hellip;</td></tr><tr><td>80931978</td><td>2016-06-01</td><td>54</td><td>2011329</td><td>11.0</td><td>&quot;False&quot;</td><td>&quot;54_2011329&quot;</td><td>1</td></tr><tr><td>80931979</td><td>2016-06-01</td><td>54</td><td>2011401</td><td>2.0</td><td>&quot;False&quot;</td><td>&quot;54_2011401&quot;</td><td>1</td></tr><tr><td>80931980</td><td>2016-06-01</td><td>54</td><td>2011463</td><td>4.0</td><td>&quot;False&quot;</td><td>&quot;54_2011463&quot;</td><td>1</td></tr><tr><td>80931981</td><td>2016-06-01</td><td>54</td><td>2016738</td><td>3.0</td><td>&quot;False&quot;</td><td>&quot;54_2016738&quot;</td><td>1</td></tr><tr><td>80931982</td><td>2016-06-01</td><td>54</td><td>2026444</td><td>4.0</td><td>&quot;False&quot;</td><td>&quot;54_2026444&quot;</td><td>1</td></tr><tr><td>80931983</td><td>2016-06-01</td><td>54</td><td>2026454</td><td>5.0</td><td>&quot;False&quot;</td><td>&quot;54_2026454&quot;</td><td>1</td></tr><tr><td>80931984</td><td>2016-06-01</td><td>54</td><td>2026501</td><td>1.0</td><td>&quot;False&quot;</td><td>&quot;54_2026501&quot;</td><td>1</td></tr><tr><td>80931985</td><td>2016-06-01</td><td>54</td><td>2026650</td><td>4.0</td><td>&quot;False&quot;</td><td>&quot;54_2026650&quot;</td><td>1</td></tr><tr><td>80931986</td><td>2016-06-01</td><td>54</td><td>2026801</td><td>5.0</td><td>&quot;False&quot;</td><td>&quot;54_2026801&quot;</td><td>1</td></tr><tr><td>80931987</td><td>2016-06-01</td><td>54</td><td>2026893</td><td>1.0</td><td>&quot;False&quot;</td><td>&quot;54_2026893&quot;</td><td>1</td></tr><tr><td>80931988</td><td>2016-06-01</td><td>54</td><td>2026983</td><td>5.0</td><td>&quot;False&quot;</td><td>&quot;54_2026983&quot;</td><td>1</td></tr><tr><td>80931989</td><td>2016-06-01</td><td>54</td><td>2027252</td><td>1.0</td><td>&quot;False&quot;</td><td>&quot;54_2027252&quot;</td><td>1</td></tr></tbody></table></div>"
     },
     "execution_count": 3,
     "metadata": {},
     "output_type": "execute_result"
    }
   ],
   "source": [
    "lazy_temporal = pl.scan_csv(\"../data/favorita/train.csv\", try_parse_dates=True)\n",
    "lazy_temporal = downcast_dataframe(lazy_temporal)\n",
    "\n",
    "lazy_temporal = lazy_temporal.filter(pl.col(\"date\") >= start_date)\n",
    "lazy_temporal = lazy_temporal.filter(pl.col(\"date\") <= end_date)\n",
    "logging.debug(\"Adding trajectory identifier\")\n",
    "lazy_temporal = lazy_temporal.with_columns(\n",
    "    [\n",
    "        pl.format(\"{}_{}\", \"store_nbr\", \"item_nbr\").alias(\"traj_id\"),\n",
    "    ]\n",
    ")\n",
    "# Remove all IDs with negative returns\n",
    "logging.debug(\"Removing returns data\")\n",
    "\n",
    "lazy_temporal = lazy_temporal.filter(pl.col(\"unit_sales\").min().over(\"traj_id\") >= 0)\n",
    "lazy_temporal = lazy_temporal.with_columns(open=pl.lit(1))\n",
    "lazy_temporal.collect()"
   ],
   "metadata": {
    "collapsed": false,
    "ExecuteTime": {
     "end_time": "2023-08-27T19:45:21.765185Z",
     "start_time": "2023-08-27T19:45:09.019799Z"
    }
   },
   "id": "889992b00475b35f"
  },
  {
   "cell_type": "code",
   "execution_count": 4,
   "outputs": [
    {
     "data": {
      "text/plain": "shape: (91_773_594, 8)\n┌────────────┬──────────┬───────────┬──────────┬────────────┬─────────────┬───────────┬──────┐\n│ date       ┆ id       ┆ store_nbr ┆ item_nbr ┆ unit_sales ┆ onpromotion ┆ traj_id   ┆ open │\n│ ---        ┆ ---      ┆ ---       ┆ ---      ┆ ---        ┆ ---         ┆ ---       ┆ ---  │\n│ date       ┆ i32      ┆ i32       ┆ i32      ┆ f32        ┆ str         ┆ str       ┆ i32  │\n╞════════════╪══════════╪═══════════╪══════════╪════════════╪═════════════╪═══════════╪══════╡\n│ 2016-05-01 ┆ 77869579 ┆ 8         ┆ 1489850  ┆ 52.761002  ┆ False       ┆ 8_1489850 ┆ 1    │\n│ 2016-05-01 ┆ 77869579 ┆ 8         ┆ 1489850  ┆ 52.761002  ┆ False       ┆ 8_1489850 ┆ 1    │\n│ 2016-05-01 ┆ 77869579 ┆ 8         ┆ 1489850  ┆ 52.761002  ┆ False       ┆ 8_1489850 ┆ 1    │\n│ 2016-05-01 ┆ 77869579 ┆ 8         ┆ 1489850  ┆ 52.761002  ┆ False       ┆ 8_1489850 ┆ 1    │\n│ …          ┆ …        ┆ …         ┆ …        ┆ …          ┆ …           ┆ …         ┆ …    │\n│ 2016-05-31 ┆ 80746519 ┆ 6         ┆ 323013   ┆ 25.0       ┆ False       ┆ 6_323013  ┆ 1    │\n│ 2016-05-31 ┆ 80746519 ┆ 6         ┆ 323013   ┆ 25.0       ┆ False       ┆ 6_323013  ┆ 1    │\n│ 2016-05-31 ┆ 80746519 ┆ 6         ┆ 323013   ┆ 25.0       ┆ False       ┆ 6_323013  ┆ 1    │\n│ 2016-06-01 ┆ 80846387 ┆ 6         ┆ 323013   ┆ 16.0       ┆ False       ┆ 6_323013  ┆ 1    │\n└────────────┴──────────┴───────────┴──────────┴────────────┴─────────────┴───────────┴──────┘",
      "text/html": "<div><style>\n.dataframe > thead > tr > th,\n.dataframe > tbody > tr > td {\n  text-align: right;\n}\n</style>\n<small>shape: (91_773_594, 8)</small><table border=\"1\" class=\"dataframe\"><thead><tr><th>date</th><th>id</th><th>store_nbr</th><th>item_nbr</th><th>unit_sales</th><th>onpromotion</th><th>traj_id</th><th>open</th></tr><tr><td>date</td><td>i32</td><td>i32</td><td>i32</td><td>f32</td><td>str</td><td>str</td><td>i32</td></tr></thead><tbody><tr><td>2016-05-01</td><td>77869579</td><td>8</td><td>1489850</td><td>52.761002</td><td>&quot;False&quot;</td><td>&quot;8_1489850&quot;</td><td>1</td></tr><tr><td>2016-05-01</td><td>77869579</td><td>8</td><td>1489850</td><td>52.761002</td><td>&quot;False&quot;</td><td>&quot;8_1489850&quot;</td><td>1</td></tr><tr><td>2016-05-01</td><td>77869579</td><td>8</td><td>1489850</td><td>52.761002</td><td>&quot;False&quot;</td><td>&quot;8_1489850&quot;</td><td>1</td></tr><tr><td>2016-05-01</td><td>77869579</td><td>8</td><td>1489850</td><td>52.761002</td><td>&quot;False&quot;</td><td>&quot;8_1489850&quot;</td><td>1</td></tr><tr><td>2016-05-01</td><td>77869579</td><td>8</td><td>1489850</td><td>52.761002</td><td>&quot;False&quot;</td><td>&quot;8_1489850&quot;</td><td>1</td></tr><tr><td>2016-05-01</td><td>77869579</td><td>8</td><td>1489850</td><td>52.761002</td><td>&quot;False&quot;</td><td>&quot;8_1489850&quot;</td><td>1</td></tr><tr><td>2016-05-01</td><td>77869579</td><td>8</td><td>1489850</td><td>52.761002</td><td>&quot;False&quot;</td><td>&quot;8_1489850&quot;</td><td>1</td></tr><tr><td>2016-05-01</td><td>77869579</td><td>8</td><td>1489850</td><td>52.761002</td><td>&quot;False&quot;</td><td>&quot;8_1489850&quot;</td><td>1</td></tr><tr><td>2016-05-01</td><td>77869579</td><td>8</td><td>1489850</td><td>52.761002</td><td>&quot;False&quot;</td><td>&quot;8_1489850&quot;</td><td>1</td></tr><tr><td>2016-05-01</td><td>77869579</td><td>8</td><td>1489850</td><td>52.761002</td><td>&quot;False&quot;</td><td>&quot;8_1489850&quot;</td><td>1</td></tr><tr><td>2016-05-01</td><td>77869579</td><td>8</td><td>1489850</td><td>52.761002</td><td>&quot;False&quot;</td><td>&quot;8_1489850&quot;</td><td>1</td></tr><tr><td>2016-05-01</td><td>77869579</td><td>8</td><td>1489850</td><td>52.761002</td><td>&quot;False&quot;</td><td>&quot;8_1489850&quot;</td><td>1</td></tr><tr><td>&hellip;</td><td>&hellip;</td><td>&hellip;</td><td>&hellip;</td><td>&hellip;</td><td>&hellip;</td><td>&hellip;</td><td>&hellip;</td></tr><tr><td>2016-05-31</td><td>80746519</td><td>6</td><td>323013</td><td>25.0</td><td>&quot;False&quot;</td><td>&quot;6_323013&quot;</td><td>1</td></tr><tr><td>2016-05-31</td><td>80746519</td><td>6</td><td>323013</td><td>25.0</td><td>&quot;False&quot;</td><td>&quot;6_323013&quot;</td><td>1</td></tr><tr><td>2016-05-31</td><td>80746519</td><td>6</td><td>323013</td><td>25.0</td><td>&quot;False&quot;</td><td>&quot;6_323013&quot;</td><td>1</td></tr><tr><td>2016-05-31</td><td>80746519</td><td>6</td><td>323013</td><td>25.0</td><td>&quot;False&quot;</td><td>&quot;6_323013&quot;</td><td>1</td></tr><tr><td>2016-05-31</td><td>80746519</td><td>6</td><td>323013</td><td>25.0</td><td>&quot;False&quot;</td><td>&quot;6_323013&quot;</td><td>1</td></tr><tr><td>2016-05-31</td><td>80746519</td><td>6</td><td>323013</td><td>25.0</td><td>&quot;False&quot;</td><td>&quot;6_323013&quot;</td><td>1</td></tr><tr><td>2016-05-31</td><td>80746519</td><td>6</td><td>323013</td><td>25.0</td><td>&quot;False&quot;</td><td>&quot;6_323013&quot;</td><td>1</td></tr><tr><td>2016-05-31</td><td>80746519</td><td>6</td><td>323013</td><td>25.0</td><td>&quot;False&quot;</td><td>&quot;6_323013&quot;</td><td>1</td></tr><tr><td>2016-05-31</td><td>80746519</td><td>6</td><td>323013</td><td>25.0</td><td>&quot;False&quot;</td><td>&quot;6_323013&quot;</td><td>1</td></tr><tr><td>2016-05-31</td><td>80746519</td><td>6</td><td>323013</td><td>25.0</td><td>&quot;False&quot;</td><td>&quot;6_323013&quot;</td><td>1</td></tr><tr><td>2016-05-31</td><td>80746519</td><td>6</td><td>323013</td><td>25.0</td><td>&quot;False&quot;</td><td>&quot;6_323013&quot;</td><td>1</td></tr><tr><td>2016-06-01</td><td>80846387</td><td>6</td><td>323013</td><td>16.0</td><td>&quot;False&quot;</td><td>&quot;6_323013&quot;</td><td>1</td></tr></tbody></table></div>"
     },
     "execution_count": 4,
     "metadata": {},
     "output_type": "execute_result"
    }
   ],
   "source": [
    "# LazyFrame does not support up-sampling\n",
    "temporal = (\n",
    "    lazy_temporal.sort(\"date\", \"traj_id\")\n",
    "    .collect()\n",
    "    .upsample(\"date\", every=\"1h\", by=\"traj_id\")\n",
    "    .fill_null(strategy=\"forward\")\n",
    ")\n",
    "temporal"
   ],
   "metadata": {
    "collapsed": false,
    "ExecuteTime": {
     "end_time": "2023-08-27T19:46:59.901144Z",
     "start_time": "2023-08-27T19:45:21.764658Z"
    }
   },
   "id": "a44a051a4134f8b7"
  },
  {
   "cell_type": "code",
   "execution_count": 5,
   "outputs": [
    {
     "data": {
      "text/plain": "shape: (91_773_594, 8)\n┌────────────┬──────────┬───────────┬──────────┬─────────────┬───────────┬──────┬───────────┐\n│ date       ┆ id       ┆ store_nbr ┆ item_nbr ┆ onpromotion ┆ traj_id   ┆ open ┆ log_sales │\n│ ---        ┆ ---      ┆ ---       ┆ ---      ┆ ---         ┆ ---       ┆ ---  ┆ ---       │\n│ date       ┆ i32      ┆ i32       ┆ i32      ┆ str         ┆ str       ┆ i32  ┆ f32       │\n╞════════════╪══════════╪═══════════╪══════════╪═════════════╪═══════════╪══════╪═══════════╡\n│ 2016-05-01 ┆ 77869579 ┆ 8         ┆ 1489850  ┆ False       ┆ 8_1489850 ┆ 1    ┆ 3.965773  │\n│ 2016-05-01 ┆ 77869579 ┆ 8         ┆ 1489850  ┆ False       ┆ 8_1489850 ┆ 1    ┆ 3.965773  │\n│ 2016-05-01 ┆ 77869579 ┆ 8         ┆ 1489850  ┆ False       ┆ 8_1489850 ┆ 1    ┆ 3.965773  │\n│ 2016-05-01 ┆ 77869579 ┆ 8         ┆ 1489850  ┆ False       ┆ 8_1489850 ┆ 1    ┆ 3.965773  │\n│ …          ┆ …        ┆ …         ┆ …        ┆ …           ┆ …         ┆ …    ┆ …         │\n│ 2016-05-31 ┆ 80746519 ┆ 6         ┆ 323013   ┆ False       ┆ 6_323013  ┆ 1    ┆ 3.218876  │\n│ 2016-05-31 ┆ 80746519 ┆ 6         ┆ 323013   ┆ False       ┆ 6_323013  ┆ 1    ┆ 3.218876  │\n│ 2016-05-31 ┆ 80746519 ┆ 6         ┆ 323013   ┆ False       ┆ 6_323013  ┆ 1    ┆ 3.218876  │\n│ 2016-06-01 ┆ 80846387 ┆ 6         ┆ 323013   ┆ False       ┆ 6_323013  ┆ 1    ┆ 2.772589  │\n└────────────┴──────────┴───────────┴──────────┴─────────────┴───────────┴──────┴───────────┘",
      "text/html": "<div><style>\n.dataframe > thead > tr > th,\n.dataframe > tbody > tr > td {\n  text-align: right;\n}\n</style>\n<small>shape: (91_773_594, 8)</small><table border=\"1\" class=\"dataframe\"><thead><tr><th>date</th><th>id</th><th>store_nbr</th><th>item_nbr</th><th>onpromotion</th><th>traj_id</th><th>open</th><th>log_sales</th></tr><tr><td>date</td><td>i32</td><td>i32</td><td>i32</td><td>str</td><td>str</td><td>i32</td><td>f32</td></tr></thead><tbody><tr><td>2016-05-01</td><td>77869579</td><td>8</td><td>1489850</td><td>&quot;False&quot;</td><td>&quot;8_1489850&quot;</td><td>1</td><td>3.965773</td></tr><tr><td>2016-05-01</td><td>77869579</td><td>8</td><td>1489850</td><td>&quot;False&quot;</td><td>&quot;8_1489850&quot;</td><td>1</td><td>3.965773</td></tr><tr><td>2016-05-01</td><td>77869579</td><td>8</td><td>1489850</td><td>&quot;False&quot;</td><td>&quot;8_1489850&quot;</td><td>1</td><td>3.965773</td></tr><tr><td>2016-05-01</td><td>77869579</td><td>8</td><td>1489850</td><td>&quot;False&quot;</td><td>&quot;8_1489850&quot;</td><td>1</td><td>3.965773</td></tr><tr><td>2016-05-01</td><td>77869579</td><td>8</td><td>1489850</td><td>&quot;False&quot;</td><td>&quot;8_1489850&quot;</td><td>1</td><td>3.965773</td></tr><tr><td>2016-05-01</td><td>77869579</td><td>8</td><td>1489850</td><td>&quot;False&quot;</td><td>&quot;8_1489850&quot;</td><td>1</td><td>3.965773</td></tr><tr><td>2016-05-01</td><td>77869579</td><td>8</td><td>1489850</td><td>&quot;False&quot;</td><td>&quot;8_1489850&quot;</td><td>1</td><td>3.965773</td></tr><tr><td>2016-05-01</td><td>77869579</td><td>8</td><td>1489850</td><td>&quot;False&quot;</td><td>&quot;8_1489850&quot;</td><td>1</td><td>3.965773</td></tr><tr><td>2016-05-01</td><td>77869579</td><td>8</td><td>1489850</td><td>&quot;False&quot;</td><td>&quot;8_1489850&quot;</td><td>1</td><td>3.965773</td></tr><tr><td>2016-05-01</td><td>77869579</td><td>8</td><td>1489850</td><td>&quot;False&quot;</td><td>&quot;8_1489850&quot;</td><td>1</td><td>3.965773</td></tr><tr><td>2016-05-01</td><td>77869579</td><td>8</td><td>1489850</td><td>&quot;False&quot;</td><td>&quot;8_1489850&quot;</td><td>1</td><td>3.965773</td></tr><tr><td>2016-05-01</td><td>77869579</td><td>8</td><td>1489850</td><td>&quot;False&quot;</td><td>&quot;8_1489850&quot;</td><td>1</td><td>3.965773</td></tr><tr><td>&hellip;</td><td>&hellip;</td><td>&hellip;</td><td>&hellip;</td><td>&hellip;</td><td>&hellip;</td><td>&hellip;</td><td>&hellip;</td></tr><tr><td>2016-05-31</td><td>80746519</td><td>6</td><td>323013</td><td>&quot;False&quot;</td><td>&quot;6_323013&quot;</td><td>1</td><td>3.218876</td></tr><tr><td>2016-05-31</td><td>80746519</td><td>6</td><td>323013</td><td>&quot;False&quot;</td><td>&quot;6_323013&quot;</td><td>1</td><td>3.218876</td></tr><tr><td>2016-05-31</td><td>80746519</td><td>6</td><td>323013</td><td>&quot;False&quot;</td><td>&quot;6_323013&quot;</td><td>1</td><td>3.218876</td></tr><tr><td>2016-05-31</td><td>80746519</td><td>6</td><td>323013</td><td>&quot;False&quot;</td><td>&quot;6_323013&quot;</td><td>1</td><td>3.218876</td></tr><tr><td>2016-05-31</td><td>80746519</td><td>6</td><td>323013</td><td>&quot;False&quot;</td><td>&quot;6_323013&quot;</td><td>1</td><td>3.218876</td></tr><tr><td>2016-05-31</td><td>80746519</td><td>6</td><td>323013</td><td>&quot;False&quot;</td><td>&quot;6_323013&quot;</td><td>1</td><td>3.218876</td></tr><tr><td>2016-05-31</td><td>80746519</td><td>6</td><td>323013</td><td>&quot;False&quot;</td><td>&quot;6_323013&quot;</td><td>1</td><td>3.218876</td></tr><tr><td>2016-05-31</td><td>80746519</td><td>6</td><td>323013</td><td>&quot;False&quot;</td><td>&quot;6_323013&quot;</td><td>1</td><td>3.218876</td></tr><tr><td>2016-05-31</td><td>80746519</td><td>6</td><td>323013</td><td>&quot;False&quot;</td><td>&quot;6_323013&quot;</td><td>1</td><td>3.218876</td></tr><tr><td>2016-05-31</td><td>80746519</td><td>6</td><td>323013</td><td>&quot;False&quot;</td><td>&quot;6_323013&quot;</td><td>1</td><td>3.218876</td></tr><tr><td>2016-05-31</td><td>80746519</td><td>6</td><td>323013</td><td>&quot;False&quot;</td><td>&quot;6_323013&quot;</td><td>1</td><td>3.218876</td></tr><tr><td>2016-06-01</td><td>80846387</td><td>6</td><td>323013</td><td>&quot;False&quot;</td><td>&quot;6_323013&quot;</td><td>1</td><td>2.772589</td></tr></tbody></table></div>"
     },
     "execution_count": 5,
     "metadata": {},
     "output_type": "execute_result"
    }
   ],
   "source": [
    "temporal = temporal.with_columns([pl.col(\"unit_sales\").log().alias(\"log_sales\")]).drop([\"unit_sales\"])\n",
    "temporal"
   ],
   "metadata": {
    "collapsed": false,
    "ExecuteTime": {
     "end_time": "2023-08-27T19:47:00.542003Z",
     "start_time": "2023-08-27T19:46:59.899160Z"
    }
   },
   "id": "e99658732105e1e1"
  },
  {
   "cell_type": "code",
   "execution_count": 6,
   "outputs": [],
   "source": [
    "store_info = downcast_dataframe(pl.read_csv(\"../data/favorita/stores.csv\"))\n",
    "items = downcast_dataframe(pl.read_csv(\"../data/favorita/items.csv\"))\n",
    "transactions = downcast_dataframe(pl.read_csv(\"../data/favorita/transactions.csv\", try_parse_dates=True))"
   ],
   "metadata": {
    "collapsed": false,
    "ExecuteTime": {
     "end_time": "2023-08-27T19:47:00.628830Z",
     "start_time": "2023-08-27T19:47:00.543067Z"
    }
   },
   "id": "7bfd0ece4df90a77"
  },
  {
   "cell_type": "code",
   "execution_count": 18,
   "outputs": [
    {
     "data": {
      "text/plain": "shape: (1_217, 2)\n┌────────────┬───────────┐\n│ date       ┆ oil_price │\n│ ---        ┆ ---       │\n│ date       ┆ f32       │\n╞════════════╪═══════════╡\n│ 2013-01-02 ┆ 93.139999 │\n│ 2013-01-03 ┆ 92.970001 │\n│ 2013-01-04 ┆ 93.120003 │\n│ 2013-01-07 ┆ 93.199997 │\n│ …          ┆ …         │\n│ 2017-08-28 ┆ 46.400002 │\n│ 2017-08-29 ┆ 46.459999 │\n│ 2017-08-30 ┆ 45.959999 │\n│ 2017-08-31 ┆ 47.259998 │\n└────────────┴───────────┘",
      "text/html": "<div><style>\n.dataframe > thead > tr > th,\n.dataframe > tbody > tr > td {\n  text-align: right;\n}\n</style>\n<small>shape: (1_217, 2)</small><table border=\"1\" class=\"dataframe\"><thead><tr><th>date</th><th>oil_price</th></tr><tr><td>date</td><td>f32</td></tr></thead><tbody><tr><td>2013-01-02</td><td>93.139999</td></tr><tr><td>2013-01-03</td><td>92.970001</td></tr><tr><td>2013-01-04</td><td>93.120003</td></tr><tr><td>2013-01-07</td><td>93.199997</td></tr><tr><td>2013-01-08</td><td>93.209999</td></tr><tr><td>2013-01-09</td><td>93.080002</td></tr><tr><td>2013-01-10</td><td>93.809998</td></tr><tr><td>2013-01-11</td><td>93.599998</td></tr><tr><td>2013-01-14</td><td>94.269997</td></tr><tr><td>2013-01-15</td><td>93.260002</td></tr><tr><td>2013-01-16</td><td>94.279999</td></tr><tr><td>2013-01-17</td><td>95.489998</td></tr><tr><td>&hellip;</td><td>&hellip;</td></tr><tr><td>2017-08-16</td><td>46.799999</td></tr><tr><td>2017-08-17</td><td>47.07</td></tr><tr><td>2017-08-18</td><td>48.59</td></tr><tr><td>2017-08-21</td><td>47.389999</td></tr><tr><td>2017-08-22</td><td>47.650002</td></tr><tr><td>2017-08-23</td><td>48.450001</td></tr><tr><td>2017-08-24</td><td>47.240002</td></tr><tr><td>2017-08-25</td><td>47.650002</td></tr><tr><td>2017-08-28</td><td>46.400002</td></tr><tr><td>2017-08-29</td><td>46.459999</td></tr><tr><td>2017-08-30</td><td>45.959999</td></tr><tr><td>2017-08-31</td><td>47.259998</td></tr></tbody></table></div>"
     },
     "execution_count": 18,
     "metadata": {},
     "output_type": "execute_result"
    }
   ],
   "source": [
    "oil = downcast_dataframe(\n",
    "    pl.read_csv(\"../data/favorita/oil.csv\", try_parse_dates=True)\n",
    "    .sort(\"date\")\n",
    "    .with_columns(pl.col(\"dcoilwtico\").fill_null(strategy=\"forward\"))\n",
    "    .filter(pl.col(\"dcoilwtico\").is_not_null())\n",
    "    .rename({\"dcoilwtico\": \"oil_price\"})\n",
    ")\n",
    "oil"
   ],
   "metadata": {
    "collapsed": false,
    "ExecuteTime": {
     "end_time": "2023-08-27T20:45:14.943952Z",
     "start_time": "2023-08-27T20:45:14.843458Z"
    }
   },
   "id": "403369422c098bb"
  },
  {
   "cell_type": "code",
   "execution_count": 7,
   "outputs": [],
   "source": [
    "holidays = downcast_dataframe(pl.read_csv(\"../data/favorita/holidays_events.csv\", try_parse_dates=True))"
   ],
   "metadata": {
    "collapsed": false,
    "ExecuteTime": {
     "end_time": "2023-08-27T19:47:00.656183Z",
     "start_time": "2023-08-27T19:47:00.612247Z"
    }
   },
   "id": "b5caccdfea3e4dd5"
  },
  {
   "cell_type": "code",
   "execution_count": 8,
   "outputs": [],
   "source": [
    "national_holidays = (\n",
    "    holidays.filter(pl.col(\"locale\") == \"National\")\n",
    "    .select([\"description\", \"date\"])\n",
    "    .rename({\"description\": \"national_hol\"})\n",
    ")"
   ],
   "metadata": {
    "collapsed": false,
    "ExecuteTime": {
     "end_time": "2023-08-27T19:47:00.687181Z",
     "start_time": "2023-08-27T19:47:00.653046Z"
    }
   },
   "id": "de5bba0bbfbdcc28"
  },
  {
   "cell_type": "code",
   "execution_count": 13,
   "outputs": [],
   "source": [
    "regional_holidays = (\n",
    "    holidays.filter(pl.col(\"locale\") == \"Regional\")\n",
    "    .select([\"description\", \"locale_name\", \"date\"])\n",
    "    .rename({\"locale_name\": \"state\", \"description\": \"regional_hol\"})\n",
    ")\n",
    "local_holidays = (\n",
    "    holidays.filter(pl.col(\"locale\") == \"Local\")\n",
    "    .select([\"description\", \"locale_name\", \"date\"])\n",
    "    .rename({\"locale_name\": \"city\", \"description\": \"local_hol\"})\n",
    ")"
   ],
   "metadata": {
    "collapsed": false,
    "ExecuteTime": {
     "end_time": "2023-08-27T20:39:38.523431Z",
     "start_time": "2023-08-27T20:39:38.381788Z"
    }
   },
   "id": "776172edb155c125"
  },
  {
   "cell_type": "code",
   "execution_count": null,
   "outputs": [],
   "source": [
    "temporal: pl.DataFrame\n",
    "\n",
    "df = (\n",
    "    temporal.join(oil, on=\"date\", how=\"left\")\n",
    "    .join(store_info, on=\"store_nbr\")\n",
    "    .join(items, on=\"item_nbr\")\n",
    "    .join(transactions, on=[\"store_nbr\", \"date\"])\n",
    "    .join(national_holidays, on=\"date\", how=\"left\")\n",
    "    .join(regional_holidays, on=[\"date\", \"state\"], how=\"left\")\n",
    "    .join(local_holidays, on=[\"date\", \"city\"], how=\"left\")\n",
    "    .with_columns(\n",
    "        [\n",
    "            pl.col(\"oil_price\").fill_null(strategy=\"forward\"),\n",
    "            pl.col(\"national_hol\").fill_null(\"\"),\n",
    "            pl.col(\"regional_hol\").fill_null(\"\"),\n",
    "            pl.col(\"local_hol\").fill_null(\"\"),\n",
    "        ]\n",
    "    )\n",
    ")\n",
    "df"
   ],
   "metadata": {
    "collapsed": false,
    "is_executing": true,
    "ExecuteTime": {
     "start_time": "2023-08-27T20:46:10.660133Z"
    }
   },
   "id": "67e7c9cb22417386"
  },
  {
   "cell_type": "code",
   "execution_count": null,
   "outputs": [],
   "source": [],
   "metadata": {
    "collapsed": false
   },
   "id": "40c55bfea5aa4cc9"
  }
 ],
 "metadata": {
  "kernelspec": {
   "display_name": "Python 3",
   "language": "python",
   "name": "python3"
  },
  "language_info": {
   "codemirror_mode": {
    "name": "ipython",
    "version": 2
   },
   "file_extension": ".py",
   "mimetype": "text/x-python",
   "name": "python",
   "nbconvert_exporter": "python",
   "pygments_lexer": "ipython2",
   "version": "2.7.6"
  }
 },
 "nbformat": 4,
 "nbformat_minor": 5
}
