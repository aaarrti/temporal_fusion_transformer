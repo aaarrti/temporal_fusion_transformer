{
 "cells": [
  {
   "cell_type": "code",
   "execution_count": 5,
   "id": "initial_id",
   "metadata": {
    "collapsed": true,
    "ExecuteTime": {
     "end_time": "2023-08-26T13:32:07.181008Z",
     "start_time": "2023-08-26T13:32:06.281107Z"
    }
   },
   "outputs": [
    {
     "name": "stdout",
     "output_type": "stream",
     "text": [
      "The autoreload extension is already loaded. To reload it, use:\n",
      "  %reload_ext autoreload\n"
     ]
    }
   ],
   "source": [
    "%load_ext autoreload\n",
    "%autoreload 2"
   ]
  },
  {
   "cell_type": "code",
   "execution_count": 20,
   "outputs": [],
   "source": [
    "import polars as pl\n",
    "from absl_extra import logging_utils\n",
    "from temporal_fusion_transformer.src.datasets.favorita import read_raw_csv, make_temporal_dataframe\n",
    "\n",
    "logging_utils.setup_logging()"
   ],
   "metadata": {
    "collapsed": false,
    "ExecuteTime": {
     "end_time": "2023-08-26T14:04:59.126780Z",
     "start_time": "2023-08-26T14:04:58.919968Z"
    }
   },
   "id": "66cc98b37a375376"
  },
  {
   "cell_type": "code",
   "execution_count": 21,
   "outputs": [
    {
     "name": "stderr",
     "output_type": "stream",
     "text": [
      "2023-08-26 16:04:59,602:[favorita.py:195->make_temporal_dataframe()]:INFO: Adding trajectory identifier\n",
      "2023-08-26 16:04:59,602:[favorita.py:205->make_temporal_dataframe()]:INFO: Removing returns data\n",
      "2023-08-26 16:05:32,563:[favorita.py:212->make_temporal_dataframe()]:DEBUG: columns_to_resample = ['id', 'store_nbr', 'item_nbr', 'unit_sales', 'onpromotion', 'unique_id', 'open']\n"
     ]
    },
    {
     "data": {
      "text/plain": "Resampling:   0%|          | 0/143658 [00:00<?, ?it/s]",
      "application/vnd.jupyter.widget-view+json": {
       "version_major": 2,
       "version_minor": 0,
       "model_id": "3c9145cbd27341acbdb0e9ef9d30a0c3"
      }
     },
     "metadata": {},
     "output_type": "display_data"
    },
    {
     "data": {
      "text/plain": "shape: (41_611_386, 8)\n┌────────────┬─────────────┬───────────┬────────────┬─────────────┬───────────┬──────┬───────────┐\n│ date       ┆ id          ┆ store_nbr ┆ item_nbr   ┆ onpromotion ┆ unique_id ┆ open ┆ log_sales │\n│ ---        ┆ ---         ┆ ---       ┆ ---        ┆ ---         ┆ ---       ┆ ---  ┆ ---       │\n│ date       ┆ f64         ┆ f64       ┆ f64        ┆ str         ┆ str       ┆ f64  ┆ f64       │\n╞════════════╪═════════════╪═══════════╪════════════╪═════════════╪═══════════╪══════╪═══════════╡\n│ 2015-10-02 ┆ 5.814085e7  ┆ 42.0      ┆ 2.010519e6 ┆ null        ┆ null      ┆ 1.0  ┆ 0.693147  │\n│ 2015-10-03 ┆ 5.8239619e7 ┆ 42.0      ┆ 2.010519e6 ┆ null        ┆ null      ┆ 1.0  ┆ 1.098612  │\n│ 2015-10-04 ┆ 5.8337954e7 ┆ 42.0      ┆ 2.010519e6 ┆ null        ┆ null      ┆ 1.0  ┆ 0.0       │\n│ 2015-10-05 ┆ 5.843118e7  ┆ 42.0      ┆ 2.010519e6 ┆ null        ┆ null      ┆ 1.0  ┆ 0.693147  │\n│ …          ┆ …           ┆ …         ┆ …          ┆ …           ┆ …         ┆ …    ┆ …         │\n│ 2016-05-29 ┆ 8.0572053e7 ┆ 17.0      ┆ 1.456916e6 ┆ null        ┆ null      ┆ 1.0  ┆ 1.791759  │\n│ 2016-05-30 ┆ 8.067113e7  ┆ 17.0      ┆ 1.456916e6 ┆ null        ┆ null      ┆ 1.0  ┆ 2.302585  │\n│ 2016-05-31 ┆ 8.0766972e7 ┆ 17.0      ┆ 1.456916e6 ┆ null        ┆ null      ┆ 1.0  ┆ 2.833213  │\n│ 2016-06-01 ┆ 8.0866082e7 ┆ 17.0      ┆ 1.456916e6 ┆ null        ┆ null      ┆ 1.0  ┆ 1.386294  │\n└────────────┴─────────────┴───────────┴────────────┴─────────────┴───────────┴──────┴───────────┘",
      "text/html": "<div><style>\n.dataframe > thead > tr > th,\n.dataframe > tbody > tr > td {\n  text-align: right;\n}\n</style>\n<small>shape: (41_611_386, 8)</small><table border=\"1\" class=\"dataframe\"><thead><tr><th>date</th><th>id</th><th>store_nbr</th><th>item_nbr</th><th>onpromotion</th><th>unique_id</th><th>open</th><th>log_sales</th></tr><tr><td>date</td><td>f64</td><td>f64</td><td>f64</td><td>str</td><td>str</td><td>f64</td><td>f64</td></tr></thead><tbody><tr><td>2015-10-02</td><td>5.814085e7</td><td>42.0</td><td>2.010519e6</td><td>null</td><td>null</td><td>1.0</td><td>0.693147</td></tr><tr><td>2015-10-03</td><td>5.8239619e7</td><td>42.0</td><td>2.010519e6</td><td>null</td><td>null</td><td>1.0</td><td>1.098612</td></tr><tr><td>2015-10-04</td><td>5.8337954e7</td><td>42.0</td><td>2.010519e6</td><td>null</td><td>null</td><td>1.0</td><td>0.0</td></tr><tr><td>2015-10-05</td><td>5.843118e7</td><td>42.0</td><td>2.010519e6</td><td>null</td><td>null</td><td>1.0</td><td>0.693147</td></tr><tr><td>2015-10-18</td><td>5.9622663e7</td><td>42.0</td><td>2.010519e6</td><td>null</td><td>null</td><td>1.0</td><td>0.693147</td></tr><tr><td>2015-10-23</td><td>6.0067778e7</td><td>42.0</td><td>2.010519e6</td><td>null</td><td>null</td><td>1.0</td><td>0.693147</td></tr><tr><td>2015-10-26</td><td>6.0351847e7</td><td>42.0</td><td>2.010519e6</td><td>null</td><td>null</td><td>1.0</td><td>0.0</td></tr><tr><td>2015-10-28</td><td>6.0525371e7</td><td>42.0</td><td>2.010519e6</td><td>null</td><td>null</td><td>1.0</td><td>0.693147</td></tr><tr><td>2015-10-31</td><td>6.0796568e7</td><td>42.0</td><td>2.010519e6</td><td>null</td><td>null</td><td>1.0</td><td>0.0</td></tr><tr><td>2015-11-01</td><td>6.0892457e7</td><td>42.0</td><td>2.010519e6</td><td>null</td><td>null</td><td>1.0</td><td>0.693147</td></tr><tr><td>2015-11-03</td><td>6.1083026e7</td><td>42.0</td><td>2.010519e6</td><td>null</td><td>null</td><td>1.0</td><td>0.0</td></tr><tr><td>2015-11-06</td><td>6.1359067e7</td><td>42.0</td><td>2.010519e6</td><td>null</td><td>null</td><td>1.0</td><td>0.0</td></tr><tr><td>&hellip;</td><td>&hellip;</td><td>&hellip;</td><td>&hellip;</td><td>&hellip;</td><td>&hellip;</td><td>&hellip;</td><td>&hellip;</td></tr><tr><td>2016-05-21</td><td>7.9807566e7</td><td>17.0</td><td>1.456916e6</td><td>null</td><td>null</td><td>1.0</td><td>2.639057</td></tr><tr><td>2016-05-22</td><td>7.9909416e7</td><td>17.0</td><td>1.456916e6</td><td>null</td><td>null</td><td>1.0</td><td>2.302585</td></tr><tr><td>2016-05-23</td><td>8.0010183e7</td><td>17.0</td><td>1.456916e6</td><td>null</td><td>null</td><td>1.0</td><td>1.94591</td></tr><tr><td>2016-05-24</td><td>8.0103128e7</td><td>17.0</td><td>1.456916e6</td><td>null</td><td>null</td><td>1.0</td><td>1.386294</td></tr><tr><td>2016-05-25</td><td>8.0193736e7</td><td>17.0</td><td>1.456916e6</td><td>null</td><td>null</td><td>1.0</td><td>2.197225</td></tr><tr><td>2016-05-26</td><td>8.0283514e7</td><td>17.0</td><td>1.456916e6</td><td>null</td><td>null</td><td>1.0</td><td>0.0</td></tr><tr><td>2016-05-27</td><td>8.0374682e7</td><td>17.0</td><td>1.456916e6</td><td>null</td><td>null</td><td>1.0</td><td>1.94591</td></tr><tr><td>2016-05-28</td><td>8.0473627e7</td><td>17.0</td><td>1.456916e6</td><td>null</td><td>null</td><td>1.0</td><td>2.772589</td></tr><tr><td>2016-05-29</td><td>8.0572053e7</td><td>17.0</td><td>1.456916e6</td><td>null</td><td>null</td><td>1.0</td><td>1.791759</td></tr><tr><td>2016-05-30</td><td>8.067113e7</td><td>17.0</td><td>1.456916e6</td><td>null</td><td>null</td><td>1.0</td><td>2.302585</td></tr><tr><td>2016-05-31</td><td>8.0766972e7</td><td>17.0</td><td>1.456916e6</td><td>null</td><td>null</td><td>1.0</td><td>2.833213</td></tr><tr><td>2016-06-01</td><td>8.0866082e7</td><td>17.0</td><td>1.456916e6</td><td>null</td><td>null</td><td>1.0</td><td>1.386294</td></tr></tbody></table></div>"
     },
     "execution_count": 21,
     "metadata": {},
     "output_type": "execute_result"
    }
   ],
   "source": [
    "df = make_temporal_dataframe(\"../data/favorita\")\n",
    "df"
   ],
   "metadata": {
    "collapsed": false,
    "ExecuteTime": {
     "end_time": "2023-08-26T14:08:23.442658Z",
     "start_time": "2023-08-26T14:04:59.575993Z"
    }
   },
   "id": "cc935d7bd77eca46"
  },
  {
   "cell_type": "code",
   "execution_count": 10,
   "outputs": [
    {
     "data": {
      "text/plain": "shape: (9, 9)\n┌───────────┬───────────┬───────────┬───────────┬───┬───────────┬───────────┬───────────┬──────────┐\n│ describe  ┆ date      ┆ id        ┆ store_nbr ┆ … ┆ onpromoti ┆ unique_id ┆ open      ┆ log_sale │\n│ ---       ┆ ---       ┆ ---       ┆ ---       ┆   ┆ on        ┆ ---       ┆ ---       ┆ s        │\n│ str       ┆ str       ┆ f64       ┆ f64       ┆   ┆ ---       ┆ str       ┆ f64       ┆ ---      │\n│           ┆           ┆           ┆           ┆   ┆ str       ┆           ┆           ┆ f64      │\n╞═══════════╪═══════════╪═══════════╪═══════════╪═══╪═══════════╪═══════════╪═══════════╪══════════╡\n│ count     ┆ 41611386  ┆ 4.1611386 ┆ 4.1611386 ┆ … ┆ 41611386  ┆ 41611386  ┆ 4.1611386 ┆ 4.161138 │\n│           ┆           ┆ e7        ┆ e7        ┆   ┆           ┆           ┆ e7        ┆ 6e7      │\n│ null_coun ┆ 0         ┆ 0.0       ┆ 0.0       ┆ … ┆ 41611386  ┆ 41611386  ┆ 0.0       ┆ 0.0      │\n│ t         ┆           ┆           ┆           ┆   ┆           ┆           ┆           ┆          │\n│ mean      ┆ null      ┆ 5.9769e7  ┆ 27.465545 ┆ … ┆ null      ┆ null      ┆ 1.0       ┆ 1.460551 │\n│ std       ┆ null      ┆ 1.2223e7  ┆ 16.207287 ┆ … ┆ null      ┆ null      ┆ 0.0       ┆ 1.08561  │\n│ min       ┆ 2015-01-0 ┆ 3.8594265 ┆ 1.0       ┆ … ┆ null      ┆ null      ┆ 1.0       ┆ -6.90775 │\n│           ┆ 1         ┆ e7        ┆           ┆   ┆           ┆           ┆           ┆ 5        │\n│ 25%       ┆ null      ┆ 4.9183423 ┆ 12.0      ┆ … ┆ null      ┆ null      ┆ 1.0       ┆ 0.693147 │\n│           ┆           ┆ e7        ┆           ┆   ┆           ┆           ┆           ┆          │\n│ 50%       ┆ null      ┆ 5.9772888 ┆ 28.0      ┆ … ┆ null      ┆ null      ┆ 1.0       ┆ 1.386294 │\n│           ┆           ┆ e7        ┆           ┆   ┆           ┆           ┆           ┆          │\n│ 75%       ┆ null      ┆ 7.0355529 ┆ 43.0      ┆ … ┆ null      ┆ null      ┆ 1.0       ┆ 2.197225 │\n│           ┆           ┆ e7        ┆           ┆   ┆           ┆           ┆           ┆          │\n│ max       ┆ 2016-06-0 ┆ 8.0931989 ┆ 54.0      ┆ … ┆ null      ┆ null      ┆ 1.0       ┆ 10.69516 │\n│           ┆ 1         ┆ e7        ┆           ┆   ┆           ┆           ┆           ┆ 7        │\n└───────────┴───────────┴───────────┴───────────┴───┴───────────┴───────────┴───────────┴──────────┘",
      "text/html": "<div><style>\n.dataframe > thead > tr > th,\n.dataframe > tbody > tr > td {\n  text-align: right;\n}\n</style>\n<small>shape: (9, 9)</small><table border=\"1\" class=\"dataframe\"><thead><tr><th>describe</th><th>date</th><th>id</th><th>store_nbr</th><th>item_nbr</th><th>onpromotion</th><th>unique_id</th><th>open</th><th>log_sales</th></tr><tr><td>str</td><td>str</td><td>f64</td><td>f64</td><td>f64</td><td>str</td><td>str</td><td>f64</td><td>f64</td></tr></thead><tbody><tr><td>&quot;count&quot;</td><td>&quot;41611386&quot;</td><td>4.1611386e7</td><td>4.1611386e7</td><td>4.1611386e7</td><td>&quot;41611386&quot;</td><td>&quot;41611386&quot;</td><td>4.1611386e7</td><td>4.1611386e7</td></tr><tr><td>&quot;null_count&quot;</td><td>&quot;0&quot;</td><td>0.0</td><td>0.0</td><td>0.0</td><td>&quot;41611386&quot;</td><td>&quot;41611386&quot;</td><td>0.0</td><td>0.0</td></tr><tr><td>&quot;mean&quot;</td><td>null</td><td>5.9769e7</td><td>27.465545</td><td>983126.395237</td><td>null</td><td>null</td><td>1.0</td><td>1.460551</td></tr><tr><td>&quot;std&quot;</td><td>null</td><td>1.2223e7</td><td>16.207287</td><td>499115.754904</td><td>null</td><td>null</td><td>0.0</td><td>1.08561</td></tr><tr><td>&quot;min&quot;</td><td>&quot;2015-01-01&quot;</td><td>3.8594265e7</td><td>1.0</td><td>99197.0</td><td>null</td><td>null</td><td>1.0</td><td>-6.907755</td></tr><tr><td>&quot;25%&quot;</td><td>null</td><td>4.9183423e7</td><td>12.0</td><td>564272.0</td><td>null</td><td>null</td><td>1.0</td><td>0.693147</td></tr><tr><td>&quot;50%&quot;</td><td>null</td><td>5.9772888e7</td><td>28.0</td><td>1.037838e6</td><td>null</td><td>null</td><td>1.0</td><td>1.386294</td></tr><tr><td>&quot;75%&quot;</td><td>null</td><td>7.0355529e7</td><td>43.0</td><td>1.363878e6</td><td>null</td><td>null</td><td>1.0</td><td>2.197225</td></tr><tr><td>&quot;max&quot;</td><td>&quot;2016-06-01&quot;</td><td>8.0931989e7</td><td>54.0</td><td>2.037487e6</td><td>null</td><td>null</td><td>1.0</td><td>10.695167</td></tr></tbody></table></div>"
     },
     "execution_count": 10,
     "metadata": {},
     "output_type": "execute_result"
    }
   ],
   "source": [
    "df.describe()"
   ],
   "metadata": {
    "collapsed": false,
    "ExecuteTime": {
     "end_time": "2023-08-26T13:51:07.932654Z",
     "start_time": "2023-08-26T13:51:04.216591Z"
    }
   },
   "id": "433885feed8f2695"
  },
  {
   "cell_type": "code",
   "execution_count": null,
   "outputs": [],
   "source": [],
   "metadata": {
    "collapsed": false
   },
   "id": "73f29edb465a42a2"
  },
  {
   "cell_type": "code",
   "execution_count": null,
   "outputs": [],
   "source": [],
   "metadata": {
    "collapsed": false
   },
   "id": "defb437f41b370e6"
  },
  {
   "cell_type": "code",
   "execution_count": 11,
   "outputs": [],
   "source": [
    "from datetime import datetime\n",
    "_DEFAULT_START_DATE = datetime(2015, 1, 1)\n",
    "_DEFAULT_END_DATE = datetime(2016, 6, 1)\n"
   ],
   "metadata": {
    "collapsed": false,
    "ExecuteTime": {
     "end_time": "2023-08-26T13:59:13.129401Z",
     "start_time": "2023-08-26T13:59:12.310247Z"
    }
   },
   "id": "c2a5816355df1dcc"
  },
  {
   "cell_type": "code",
   "execution_count": 13,
   "outputs": [
    {
     "data": {
      "text/plain": "shape: (42_337_726, 6)\n┌──────────┬────────────┬───────────┬──────────┬────────────┬─────────────┐\n│ id       ┆ date       ┆ store_nbr ┆ item_nbr ┆ unit_sales ┆ onpromotion │\n│ ---      ┆ ---        ┆ ---       ┆ ---      ┆ ---        ┆ ---         │\n│ i64      ┆ date       ┆ i64       ┆ i64      ┆ f64        ┆ str         │\n╞══════════╪════════════╪═══════════╪══════════╪════════════╪═════════════╡\n│ 38594264 ┆ 2015-01-01 ┆ 25        ┆ 103665   ┆ 12.0       ┆ False       │\n│ 38594265 ┆ 2015-01-01 ┆ 25        ┆ 105575   ┆ 23.0       ┆ False       │\n│ 38594266 ┆ 2015-01-01 ┆ 25        ┆ 108634   ┆ 1.0        ┆ False       │\n│ 38594267 ┆ 2015-01-01 ┆ 25        ┆ 108698   ┆ 6.0        ┆ False       │\n│ …        ┆ …          ┆ …         ┆ …        ┆ …          ┆ …           │\n│ 80931986 ┆ 2016-06-01 ┆ 54        ┆ 2026801  ┆ 5.0        ┆ False       │\n│ 80931987 ┆ 2016-06-01 ┆ 54        ┆ 2026893  ┆ 1.0        ┆ False       │\n│ 80931988 ┆ 2016-06-01 ┆ 54        ┆ 2026983  ┆ 5.0        ┆ False       │\n│ 80931989 ┆ 2016-06-01 ┆ 54        ┆ 2027252  ┆ 1.0        ┆ False       │\n└──────────┴────────────┴───────────┴──────────┴────────────┴─────────────┘",
      "text/html": "<div><style>\n.dataframe > thead > tr > th,\n.dataframe > tbody > tr > td {\n  text-align: right;\n}\n</style>\n<small>shape: (42_337_726, 6)</small><table border=\"1\" class=\"dataframe\"><thead><tr><th>id</th><th>date</th><th>store_nbr</th><th>item_nbr</th><th>unit_sales</th><th>onpromotion</th></tr><tr><td>i64</td><td>date</td><td>i64</td><td>i64</td><td>f64</td><td>str</td></tr></thead><tbody><tr><td>38594264</td><td>2015-01-01</td><td>25</td><td>103665</td><td>12.0</td><td>&quot;False&quot;</td></tr><tr><td>38594265</td><td>2015-01-01</td><td>25</td><td>105575</td><td>23.0</td><td>&quot;False&quot;</td></tr><tr><td>38594266</td><td>2015-01-01</td><td>25</td><td>108634</td><td>1.0</td><td>&quot;False&quot;</td></tr><tr><td>38594267</td><td>2015-01-01</td><td>25</td><td>108698</td><td>6.0</td><td>&quot;False&quot;</td></tr><tr><td>38594268</td><td>2015-01-01</td><td>25</td><td>108786</td><td>6.0</td><td>&quot;False&quot;</td></tr><tr><td>38594269</td><td>2015-01-01</td><td>25</td><td>108831</td><td>4.538</td><td>&quot;False&quot;</td></tr><tr><td>38594270</td><td>2015-01-01</td><td>25</td><td>108862</td><td>3.0</td><td>&quot;False&quot;</td></tr><tr><td>38594271</td><td>2015-01-01</td><td>25</td><td>108952</td><td>5.0</td><td>&quot;False&quot;</td></tr><tr><td>38594272</td><td>2015-01-01</td><td>25</td><td>111397</td><td>6.0</td><td>&quot;False&quot;</td></tr><tr><td>38594273</td><td>2015-01-01</td><td>25</td><td>112830</td><td>1.0</td><td>&quot;False&quot;</td></tr><tr><td>38594274</td><td>2015-01-01</td><td>25</td><td>114778</td><td>3.0</td><td>&quot;False&quot;</td></tr><tr><td>38594275</td><td>2015-01-01</td><td>25</td><td>114790</td><td>6.0</td><td>&quot;False&quot;</td></tr><tr><td>&hellip;</td><td>&hellip;</td><td>&hellip;</td><td>&hellip;</td><td>&hellip;</td><td>&hellip;</td></tr><tr><td>80931978</td><td>2016-06-01</td><td>54</td><td>2011329</td><td>11.0</td><td>&quot;False&quot;</td></tr><tr><td>80931979</td><td>2016-06-01</td><td>54</td><td>2011401</td><td>2.0</td><td>&quot;False&quot;</td></tr><tr><td>80931980</td><td>2016-06-01</td><td>54</td><td>2011463</td><td>4.0</td><td>&quot;False&quot;</td></tr><tr><td>80931981</td><td>2016-06-01</td><td>54</td><td>2016738</td><td>3.0</td><td>&quot;False&quot;</td></tr><tr><td>80931982</td><td>2016-06-01</td><td>54</td><td>2026444</td><td>4.0</td><td>&quot;False&quot;</td></tr><tr><td>80931983</td><td>2016-06-01</td><td>54</td><td>2026454</td><td>5.0</td><td>&quot;False&quot;</td></tr><tr><td>80931984</td><td>2016-06-01</td><td>54</td><td>2026501</td><td>1.0</td><td>&quot;False&quot;</td></tr><tr><td>80931985</td><td>2016-06-01</td><td>54</td><td>2026650</td><td>4.0</td><td>&quot;False&quot;</td></tr><tr><td>80931986</td><td>2016-06-01</td><td>54</td><td>2026801</td><td>5.0</td><td>&quot;False&quot;</td></tr><tr><td>80931987</td><td>2016-06-01</td><td>54</td><td>2026893</td><td>1.0</td><td>&quot;False&quot;</td></tr><tr><td>80931988</td><td>2016-06-01</td><td>54</td><td>2026983</td><td>5.0</td><td>&quot;False&quot;</td></tr><tr><td>80931989</td><td>2016-06-01</td><td>54</td><td>2027252</td><td>1.0</td><td>&quot;False&quot;</td></tr></tbody></table></div>"
     },
     "execution_count": 13,
     "metadata": {},
     "output_type": "execute_result"
    }
   ],
   "source": [
    "lazy_df = pl.scan_csv(\"../data/favorita/train.csv\", try_parse_dates=True)\n",
    "lazy_df = lazy_df.filter(pl.col(\"date\") >= _DEFAULT_START_DATE)\n",
    "lazy_df = lazy_df.filter(pl.col(\"date\") <= _DEFAULT_END_DATE)\n",
    "\n",
    "lazy_df.collect()"
   ],
   "metadata": {
    "collapsed": false,
    "ExecuteTime": {
     "end_time": "2023-08-26T14:00:36.616474Z",
     "start_time": "2023-08-26T14:00:17.867690Z"
    }
   },
   "id": "73496ad5603c1e7c"
  },
  {
   "cell_type": "code",
   "execution_count": 14,
   "outputs": [
    {
     "data": {
      "text/plain": "shape: (42_337_726, 8)\n┌──────────┬────────────┬───────────┬──────────┬────────────┬────────────┬────────────┬────────────┐\n│ id       ┆ date       ┆ store_nbr ┆ item_nbr ┆ unit_sales ┆ onpromotio ┆ traj_id    ┆ unique_id  │\n│ ---      ┆ ---        ┆ ---       ┆ ---      ┆ ---        ┆ n          ┆ ---        ┆ ---        │\n│ i64      ┆ date       ┆ i64       ┆ i64      ┆ f64        ┆ ---        ┆ str        ┆ str        │\n│          ┆            ┆           ┆          ┆            ┆ str        ┆            ┆            │\n╞══════════╪════════════╪═══════════╪══════════╪════════════╪════════════╪════════════╪════════════╡\n│ 38594264 ┆ 2015-01-01 ┆ 25        ┆ 103665   ┆ 12.0       ┆ False      ┆ 25_103665  ┆ 25_103665_ │\n│          ┆            ┆           ┆          ┆            ┆            ┆            ┆ 2015-01-01 │\n│ 38594265 ┆ 2015-01-01 ┆ 25        ┆ 105575   ┆ 23.0       ┆ False      ┆ 25_105575  ┆ 25_105575_ │\n│          ┆            ┆           ┆          ┆            ┆            ┆            ┆ 2015-01-01 │\n│ 38594266 ┆ 2015-01-01 ┆ 25        ┆ 108634   ┆ 1.0        ┆ False      ┆ 25_108634  ┆ 25_108634_ │\n│          ┆            ┆           ┆          ┆            ┆            ┆            ┆ 2015-01-01 │\n│ 38594267 ┆ 2015-01-01 ┆ 25        ┆ 108698   ┆ 6.0        ┆ False      ┆ 25_108698  ┆ 25_108698_ │\n│          ┆            ┆           ┆          ┆            ┆            ┆            ┆ 2015-01-01 │\n│ …        ┆ …          ┆ …         ┆ …        ┆ …          ┆ …          ┆ …          ┆ …          │\n│ 80931986 ┆ 2016-06-01 ┆ 54        ┆ 2026801  ┆ 5.0        ┆ False      ┆ 54_2026801 ┆ 54_2026801 │\n│          ┆            ┆           ┆          ┆            ┆            ┆            ┆ _2016-06-0 │\n│          ┆            ┆           ┆          ┆            ┆            ┆            ┆ 1          │\n│ 80931987 ┆ 2016-06-01 ┆ 54        ┆ 2026893  ┆ 1.0        ┆ False      ┆ 54_2026893 ┆ 54_2026893 │\n│          ┆            ┆           ┆          ┆            ┆            ┆            ┆ _2016-06-0 │\n│          ┆            ┆           ┆          ┆            ┆            ┆            ┆ 1          │\n│ 80931988 ┆ 2016-06-01 ┆ 54        ┆ 2026983  ┆ 5.0        ┆ False      ┆ 54_2026983 ┆ 54_2026983 │\n│          ┆            ┆           ┆          ┆            ┆            ┆            ┆ _2016-06-0 │\n│          ┆            ┆           ┆          ┆            ┆            ┆            ┆ 1          │\n│ 80931989 ┆ 2016-06-01 ┆ 54        ┆ 2027252  ┆ 1.0        ┆ False      ┆ 54_2027252 ┆ 54_2027252 │\n│          ┆            ┆           ┆          ┆            ┆            ┆            ┆ _2016-06-0 │\n│          ┆            ┆           ┆          ┆            ┆            ┆            ┆ 1          │\n└──────────┴────────────┴───────────┴──────────┴────────────┴────────────┴────────────┴────────────┘",
      "text/html": "<div><style>\n.dataframe > thead > tr > th,\n.dataframe > tbody > tr > td {\n  text-align: right;\n}\n</style>\n<small>shape: (42_337_726, 8)</small><table border=\"1\" class=\"dataframe\"><thead><tr><th>id</th><th>date</th><th>store_nbr</th><th>item_nbr</th><th>unit_sales</th><th>onpromotion</th><th>traj_id</th><th>unique_id</th></tr><tr><td>i64</td><td>date</td><td>i64</td><td>i64</td><td>f64</td><td>str</td><td>str</td><td>str</td></tr></thead><tbody><tr><td>38594264</td><td>2015-01-01</td><td>25</td><td>103665</td><td>12.0</td><td>&quot;False&quot;</td><td>&quot;25_103665&quot;</td><td>&quot;25_103665_2015…</td></tr><tr><td>38594265</td><td>2015-01-01</td><td>25</td><td>105575</td><td>23.0</td><td>&quot;False&quot;</td><td>&quot;25_105575&quot;</td><td>&quot;25_105575_2015…</td></tr><tr><td>38594266</td><td>2015-01-01</td><td>25</td><td>108634</td><td>1.0</td><td>&quot;False&quot;</td><td>&quot;25_108634&quot;</td><td>&quot;25_108634_2015…</td></tr><tr><td>38594267</td><td>2015-01-01</td><td>25</td><td>108698</td><td>6.0</td><td>&quot;False&quot;</td><td>&quot;25_108698&quot;</td><td>&quot;25_108698_2015…</td></tr><tr><td>38594268</td><td>2015-01-01</td><td>25</td><td>108786</td><td>6.0</td><td>&quot;False&quot;</td><td>&quot;25_108786&quot;</td><td>&quot;25_108786_2015…</td></tr><tr><td>38594269</td><td>2015-01-01</td><td>25</td><td>108831</td><td>4.538</td><td>&quot;False&quot;</td><td>&quot;25_108831&quot;</td><td>&quot;25_108831_2015…</td></tr><tr><td>38594270</td><td>2015-01-01</td><td>25</td><td>108862</td><td>3.0</td><td>&quot;False&quot;</td><td>&quot;25_108862&quot;</td><td>&quot;25_108862_2015…</td></tr><tr><td>38594271</td><td>2015-01-01</td><td>25</td><td>108952</td><td>5.0</td><td>&quot;False&quot;</td><td>&quot;25_108952&quot;</td><td>&quot;25_108952_2015…</td></tr><tr><td>38594272</td><td>2015-01-01</td><td>25</td><td>111397</td><td>6.0</td><td>&quot;False&quot;</td><td>&quot;25_111397&quot;</td><td>&quot;25_111397_2015…</td></tr><tr><td>38594273</td><td>2015-01-01</td><td>25</td><td>112830</td><td>1.0</td><td>&quot;False&quot;</td><td>&quot;25_112830&quot;</td><td>&quot;25_112830_2015…</td></tr><tr><td>38594274</td><td>2015-01-01</td><td>25</td><td>114778</td><td>3.0</td><td>&quot;False&quot;</td><td>&quot;25_114778&quot;</td><td>&quot;25_114778_2015…</td></tr><tr><td>38594275</td><td>2015-01-01</td><td>25</td><td>114790</td><td>6.0</td><td>&quot;False&quot;</td><td>&quot;25_114790&quot;</td><td>&quot;25_114790_2015…</td></tr><tr><td>&hellip;</td><td>&hellip;</td><td>&hellip;</td><td>&hellip;</td><td>&hellip;</td><td>&hellip;</td><td>&hellip;</td><td>&hellip;</td></tr><tr><td>80931978</td><td>2016-06-01</td><td>54</td><td>2011329</td><td>11.0</td><td>&quot;False&quot;</td><td>&quot;54_2011329&quot;</td><td>&quot;54_2011329_201…</td></tr><tr><td>80931979</td><td>2016-06-01</td><td>54</td><td>2011401</td><td>2.0</td><td>&quot;False&quot;</td><td>&quot;54_2011401&quot;</td><td>&quot;54_2011401_201…</td></tr><tr><td>80931980</td><td>2016-06-01</td><td>54</td><td>2011463</td><td>4.0</td><td>&quot;False&quot;</td><td>&quot;54_2011463&quot;</td><td>&quot;54_2011463_201…</td></tr><tr><td>80931981</td><td>2016-06-01</td><td>54</td><td>2016738</td><td>3.0</td><td>&quot;False&quot;</td><td>&quot;54_2016738&quot;</td><td>&quot;54_2016738_201…</td></tr><tr><td>80931982</td><td>2016-06-01</td><td>54</td><td>2026444</td><td>4.0</td><td>&quot;False&quot;</td><td>&quot;54_2026444&quot;</td><td>&quot;54_2026444_201…</td></tr><tr><td>80931983</td><td>2016-06-01</td><td>54</td><td>2026454</td><td>5.0</td><td>&quot;False&quot;</td><td>&quot;54_2026454&quot;</td><td>&quot;54_2026454_201…</td></tr><tr><td>80931984</td><td>2016-06-01</td><td>54</td><td>2026501</td><td>1.0</td><td>&quot;False&quot;</td><td>&quot;54_2026501&quot;</td><td>&quot;54_2026501_201…</td></tr><tr><td>80931985</td><td>2016-06-01</td><td>54</td><td>2026650</td><td>4.0</td><td>&quot;False&quot;</td><td>&quot;54_2026650&quot;</td><td>&quot;54_2026650_201…</td></tr><tr><td>80931986</td><td>2016-06-01</td><td>54</td><td>2026801</td><td>5.0</td><td>&quot;False&quot;</td><td>&quot;54_2026801&quot;</td><td>&quot;54_2026801_201…</td></tr><tr><td>80931987</td><td>2016-06-01</td><td>54</td><td>2026893</td><td>1.0</td><td>&quot;False&quot;</td><td>&quot;54_2026893&quot;</td><td>&quot;54_2026893_201…</td></tr><tr><td>80931988</td><td>2016-06-01</td><td>54</td><td>2026983</td><td>5.0</td><td>&quot;False&quot;</td><td>&quot;54_2026983&quot;</td><td>&quot;54_2026983_201…</td></tr><tr><td>80931989</td><td>2016-06-01</td><td>54</td><td>2027252</td><td>1.0</td><td>&quot;False&quot;</td><td>&quot;54_2027252&quot;</td><td>&quot;54_2027252_201…</td></tr></tbody></table></div>"
     },
     "execution_count": 14,
     "metadata": {},
     "output_type": "execute_result"
    }
   ],
   "source": [
    "lazy_df = lazy_df.with_columns(\n",
    "        [\n",
    "            pl.format(\"{}_{}\", \"store_nbr\", \"item_nbr\").alias(\"traj_id\"),\n",
    "            pl.format(\"{}_{}_{}\", \"store_nbr\", \"item_nbr\", \"date\").alias(\"unique_id\"),\n",
    "        ]\n",
    ")\n",
    "lazy_df.collect()"
   ],
   "metadata": {
    "collapsed": false,
    "ExecuteTime": {
     "end_time": "2023-08-26T14:01:29.552102Z",
     "start_time": "2023-08-26T14:01:02.043839Z"
    }
   },
   "id": "98db364cf49d5b77"
  },
  {
   "cell_type": "code",
   "execution_count": 15,
   "outputs": [],
   "source": [
    "lazy_df = lazy_df.with_columns(open=pl.lit(1))"
   ],
   "metadata": {
    "collapsed": false,
    "ExecuteTime": {
     "end_time": "2023-08-26T14:01:47.428435Z",
     "start_time": "2023-08-26T14:01:47.366556Z"
    }
   },
   "id": "89d4f02ff5938354"
  },
  {
   "cell_type": "code",
   "execution_count": 17,
   "outputs": [
    {
     "data": {
      "text/plain": "shape: (9, 10)\n┌───────────┬───────────┬───────────┬───────────┬───┬───────────┬───────────┬───────────┬──────────┐\n│ describe  ┆ id        ┆ date      ┆ store_nbr ┆ … ┆ onpromoti ┆ traj_id   ┆ unique_id ┆ open     │\n│ ---       ┆ ---       ┆ ---       ┆ ---       ┆   ┆ on        ┆ ---       ┆ ---       ┆ ---      │\n│ str       ┆ f64       ┆ str       ┆ f64       ┆   ┆ ---       ┆ str       ┆ str       ┆ f64      │\n│           ┆           ┆           ┆           ┆   ┆ str       ┆           ┆           ┆          │\n╞═══════════╪═══════════╪═══════════╪═══════════╪═══╪═══════════╪═══════════╪═══════════╪══════════╡\n│ count     ┆ 4.2337726 ┆ 42337726  ┆ 4.2337726 ┆ … ┆ 42337726  ┆ 42337726  ┆ 42337726  ┆ 4.233772 │\n│           ┆ e7        ┆           ┆ e7        ┆   ┆           ┆           ┆           ┆ 6e7      │\n│ null_coun ┆ 0.0       ┆ 0         ┆ 0.0       ┆ … ┆ 0         ┆ 0         ┆ 0         ┆ 0.0      │\n│ t         ┆           ┆           ┆           ┆   ┆           ┆           ┆           ┆          │\n│ mean      ┆ 5.9763e7  ┆ null      ┆ 27.458892 ┆ … ┆ null      ┆ null      ┆ null      ┆ 1.0      │\n│ std       ┆ 1.2222e7  ┆ null      ┆ 16.231528 ┆ … ┆ null      ┆ null      ┆ null      ┆ 0.0      │\n│ min       ┆ 3.8594264 ┆ 2015-01-0 ┆ 1.0       ┆ … ┆ False     ┆ 10_100130 ┆ 10_100130 ┆ 1.0      │\n│           ┆ e7        ┆ 1         ┆           ┆   ┆           ┆ 5         ┆ 5_2015-01 ┆          │\n│           ┆           ┆           ┆           ┆   ┆           ┆           ┆ -02       ┆          │\n│ 25%       ┆ 4.9178695 ┆ null      ┆ 12.0      ┆ … ┆ null      ┆ null      ┆ null      ┆ 1.0      │\n│           ┆ e7        ┆           ┆           ┆   ┆           ┆           ┆           ┆          │\n│ 50%       ┆ 5.9763127 ┆ null      ┆ 28.0      ┆ … ┆ null      ┆ null      ┆ null      ┆ 1.0      │\n│           ┆ e7        ┆           ┆           ┆   ┆           ┆           ┆           ┆          │\n│ 75%       ┆ 7.0347558 ┆ null      ┆ 43.0      ┆ … ┆ null      ┆ null      ┆ null      ┆ 1.0      │\n│           ┆ e7        ┆           ┆           ┆   ┆           ┆           ┆           ┆          │\n│ max       ┆ 8.0931989 ┆ 2016-06-0 ┆ 54.0      ┆ … ┆ True      ┆ 9_999547  ┆ 9_999547_ ┆ 1.0      │\n│           ┆ e7        ┆ 1         ┆           ┆   ┆           ┆           ┆ 2016-06-0 ┆          │\n│           ┆           ┆           ┆           ┆   ┆           ┆           ┆ 1         ┆          │\n└───────────┴───────────┴───────────┴───────────┴───┴───────────┴───────────┴───────────┴──────────┘",
      "text/html": "<div><style>\n.dataframe > thead > tr > th,\n.dataframe > tbody > tr > td {\n  text-align: right;\n}\n</style>\n<small>shape: (9, 10)</small><table border=\"1\" class=\"dataframe\"><thead><tr><th>describe</th><th>id</th><th>date</th><th>store_nbr</th><th>item_nbr</th><th>unit_sales</th><th>onpromotion</th><th>traj_id</th><th>unique_id</th><th>open</th></tr><tr><td>str</td><td>f64</td><td>str</td><td>f64</td><td>f64</td><td>f64</td><td>str</td><td>str</td><td>str</td><td>f64</td></tr></thead><tbody><tr><td>&quot;count&quot;</td><td>4.2337726e7</td><td>&quot;42337726&quot;</td><td>4.2337726e7</td><td>4.2337726e7</td><td>4.2337726e7</td><td>&quot;42337726&quot;</td><td>&quot;42337726&quot;</td><td>&quot;42337726&quot;</td><td>4.2337726e7</td></tr><tr><td>&quot;null_count&quot;</td><td>0.0</td><td>&quot;0&quot;</td><td>0.0</td><td>0.0</td><td>0.0</td><td>&quot;0&quot;</td><td>&quot;0&quot;</td><td>&quot;0&quot;</td><td>0.0</td></tr><tr><td>&quot;mean&quot;</td><td>5.9763e7</td><td>null</td><td>27.458892</td><td>982959.998745</td><td>8.537535</td><td>null</td><td>null</td><td>null</td><td>1.0</td></tr><tr><td>&quot;std&quot;</td><td>1.2222e7</td><td>null</td><td>16.231528</td><td>498889.420159</td><td>23.031582</td><td>null</td><td>null</td><td>null</td><td>0.0</td></tr><tr><td>&quot;min&quot;</td><td>3.8594264e7</td><td>&quot;2015-01-01&quot;</td><td>1.0</td><td>99197.0</td><td>-15372.0</td><td>&quot;False&quot;</td><td>&quot;10_1001305&quot;</td><td>&quot;10_1001305_201…</td><td>1.0</td></tr><tr><td>&quot;25%&quot;</td><td>4.9178695e7</td><td>null</td><td>12.0</td><td>564110.0</td><td>2.0</td><td>null</td><td>null</td><td>null</td><td>1.0</td></tr><tr><td>&quot;50%&quot;</td><td>5.9763127e7</td><td>null</td><td>28.0</td><td>1.037845e6</td><td>4.0</td><td>null</td><td>null</td><td>null</td><td>1.0</td></tr><tr><td>&quot;75%&quot;</td><td>7.0347558e7</td><td>null</td><td>43.0</td><td>1.364636e6</td><td>9.0</td><td>null</td><td>null</td><td>null</td><td>1.0</td></tr><tr><td>&quot;max&quot;</td><td>8.0931989e7</td><td>&quot;2016-06-01&quot;</td><td>54.0</td><td>2.037487e6</td><td>44142.0</td><td>&quot;True&quot;</td><td>&quot;9_999547&quot;</td><td>&quot;9_999547_2016-…</td><td>1.0</td></tr></tbody></table></div>"
     },
     "execution_count": 17,
     "metadata": {},
     "output_type": "execute_result"
    }
   ],
   "source": [
    "lazy_df.collect().describe()"
   ],
   "metadata": {
    "collapsed": false,
    "ExecuteTime": {
     "end_time": "2023-08-26T14:03:20.630079Z",
     "start_time": "2023-08-26T14:02:53.061711Z"
    }
   },
   "id": "217bf05d122385de"
  },
  {
   "cell_type": "code",
   "execution_count": null,
   "outputs": [],
   "source": [],
   "metadata": {
    "collapsed": false
   },
   "id": "52023065f75ce0dd"
  }
 ],
 "metadata": {
  "kernelspec": {
   "display_name": "Python 3",
   "language": "python",
   "name": "python3"
  },
  "language_info": {
   "codemirror_mode": {
    "name": "ipython",
    "version": 2
   },
   "file_extension": ".py",
   "mimetype": "text/x-python",
   "name": "python",
   "nbconvert_exporter": "python",
   "pygments_lexer": "ipython2",
   "version": "2.7.6"
  }
 },
 "nbformat": 4,
 "nbformat_minor": 5
}
