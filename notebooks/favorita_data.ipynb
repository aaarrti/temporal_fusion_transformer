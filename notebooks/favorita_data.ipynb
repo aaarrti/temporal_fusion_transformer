{
 "cells": [
  {
   "cell_type": "code",
   "execution_count": 2,
   "id": "initial_id",
   "metadata": {
    "collapsed": true,
    "ExecuteTime": {
     "end_time": "2023-08-27T14:58:30.580860Z",
     "start_time": "2023-08-27T14:58:30.429153Z"
    }
   },
   "outputs": [
    {
     "name": "stdout",
     "output_type": "stream",
     "text": [
      "The autoreload extension is already loaded. To reload it, use:\n",
      "  %reload_ext autoreload\n"
     ]
    }
   ],
   "source": [
    "%load_ext autoreload\n",
    "%autoreload 2"
   ]
  },
  {
   "cell_type": "code",
   "execution_count": 3,
   "outputs": [],
   "source": [
    "import polars as pl\n",
    "from absl_extra import logging_utils\n",
    "from temporal_fusion_transformer.src.datasets.favorita import read_raw_csv, make_temporal_dataframe, downcast_dataframe\n",
    "\n",
    "logging_utils.setup_logging()"
   ],
   "metadata": {
    "collapsed": false,
    "ExecuteTime": {
     "end_time": "2023-08-27T14:58:34.001668Z",
     "start_time": "2023-08-27T14:58:31.235145Z"
    }
   },
   "id": "66cc98b37a375376"
  },
  {
   "cell_type": "code",
   "execution_count": null,
   "outputs": [
    {
     "name": "stderr",
     "output_type": "stream",
     "text": [
      "2023-08-27 16:58:36,277:[favorita.py:200->make_temporal_dataframe()]:DEBUG: Adding trajectory identifier\n",
      "2023-08-27 16:58:36,278:[favorita.py:207->make_temporal_dataframe()]:DEBUG: Removing returns data\n"
     ]
    },
    {
     "data": {
      "text/plain": "Resampling to regular grid:   0%|          | 0/143658 [00:00<?, ?it/s]",
      "application/vnd.jupyter.widget-view+json": {
       "version_major": 2,
       "version_minor": 0,
       "model_id": "eb1bb1001dee4d07aaf0ac0064d0c940"
      }
     },
     "metadata": {},
     "output_type": "display_data"
    }
   ],
   "source": [
    "df = make_temporal_dataframe(\"../data/favorita\")\n",
    "df"
   ],
   "metadata": {
    "collapsed": false,
    "is_executing": true,
    "ExecuteTime": {
     "start_time": "2023-08-27T14:58:36.229207Z"
    }
   },
   "id": "382774e4b469691a"
  },
  {
   "cell_type": "code",
   "execution_count": null,
   "outputs": [],
   "source": [
    "store_info = pl.read_csv(\"../data/favorita/stores.csv\")\n",
    "items = pl.read_csv(\"../data/favorita/items.csv\")\n",
    "transactions = pl.read_csv(\"../data/favorita/transactions.csv\", try_parse_dates=True)\n",
    "oil = (\n",
    "    pl.read_csv(\"../data/favorita/oil.csv\", try_parse_dates=True)\n",
    "    .with_columns(pl.col(\"dcoilwtico\").forward_fill())\n",
    "    .filter(pl.col(\"dcoilwtico\").is_not_null())\n",
    ")\n",
    "\n",
    "holidays = pl.read_csv(\"../data/favorita/holidays_events.csv\", try_parse_dates=True)"
   ],
   "metadata": {
    "collapsed": false
   },
   "id": "7bfd0ece4df90a77"
  },
  {
   "cell_type": "code",
   "execution_count": null,
   "outputs": [],
   "source": [
    "national_holidays = holidays.filter(pl.col(\"locale\") == \"National\")\n",
    "regional_holidays = holidays.filter(pl.col(\"locale\") == \"Regional\").rename({\"locale_name\": \"state\"})\n",
    "local_holidays = holidays.filter(pl.col(\"locale\") == \"Local\").rename({\"locale_name\": \"city\"})"
   ],
   "metadata": {
    "collapsed": false
   },
   "id": "de5bba0bbfbdcc28"
  },
  {
   "cell_type": "code",
   "execution_count": null,
   "outputs": [],
   "source": [
    "temporal = (\n",
    "    df.join(oil, on=\"date\", how=\"left\", suffix=\"oil_\")\n",
    "    .join(store_info, on=\"store_nbr\", how=\"left\", suffix=\"store_info\")\n",
    "    .join(items, on=\"item_nbr\", how=\"left\", suffix=\"items_\")\n",
    "    .join(transactions, on=[\"date\", \"store_nbr\"], suffix=\"transactions_\")\n",
    "    .join(national_holidays, on=\"date\", suffix=\"national_holidays_\")\n",
    "    .join(regional_holidays, on=[\"date\", \"sate\"], suffix=\"regional_holidays_\")\n",
    "    .join(local_holidays, on=[\"date\", \"city\"], suffix=\"local_holidays_\")\n",
    "    .sort(\"traj_id\", \"date\")\n",
    ")"
   ],
   "metadata": {
    "collapsed": false
   },
   "id": "2cc939299f32690e"
  }
 ],
 "metadata": {
  "kernelspec": {
   "display_name": "Python 3",
   "language": "python",
   "name": "python3"
  },
  "language_info": {
   "codemirror_mode": {
    "name": "ipython",
    "version": 2
   },
   "file_extension": ".py",
   "mimetype": "text/x-python",
   "name": "python",
   "nbconvert_exporter": "python",
   "pygments_lexer": "ipython2",
   "version": "2.7.6"
  }
 },
 "nbformat": 4,
 "nbformat_minor": 5
}
