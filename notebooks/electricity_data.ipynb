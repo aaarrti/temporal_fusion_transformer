{
 "cells": [
  {
   "cell_type": "code",
   "execution_count": 1,
   "id": "initial_id",
   "metadata": {
    "collapsed": true,
    "ExecuteTime": {
     "end_time": "2023-08-31T17:34:22.594586Z",
     "start_time": "2023-08-31T17:34:22.581906Z"
    }
   },
   "outputs": [],
   "source": [
    "%load_ext autoreload\n",
    "%autoreload 2"
   ]
  },
  {
   "cell_type": "code",
   "execution_count": 1,
   "outputs": [],
   "source": [
    "import temporal_fusion_transformer as tft\n",
    "from tqdm.notebook import tqdm\n",
    "import polars as pl\n",
    "from absl_extra import flax_utils"
   ],
   "metadata": {
    "collapsed": false,
    "ExecuteTime": {
     "end_time": "2023-08-31T20:18:25.434379Z",
     "start_time": "2023-08-31T20:18:21.790613Z"
    }
   },
   "id": "a82c147fcc4ad6f8"
  },
  {
   "cell_type": "code",
   "execution_count": null,
   "outputs": [
    {
     "data": {
      "text/plain": "Formatting inputs:   0%|          | 0/370 [00:00<?, ?it/s]",
      "application/vnd.jupyter.widget-view+json": {
       "version_major": 2,
       "version_minor": 0,
       "model_id": "812cbd2699844bac917bdcc072a1bfbd"
      }
     },
     "metadata": {},
     "output_type": "display_data"
    }
   ],
   "source": [
    "df = tft.datasets.electricity.read_parquet(\"../data/electricity\")\n",
    "df.head()"
   ],
   "metadata": {
    "collapsed": false,
    "is_executing": true,
    "ExecuteTime": {
     "start_time": "2023-08-31T20:18:27.691531Z"
    }
   },
   "id": "2585f1bed1714fc0"
  },
  {
   "cell_type": "code",
   "execution_count": 4,
   "outputs": [],
   "source": [
    "training_df, validation_df, test_df = tft.datasets.electricity.split_data(df)"
   ],
   "metadata": {
    "collapsed": false,
    "ExecuteTime": {
     "end_time": "2023-08-31T17:37:28.082285Z",
     "start_time": "2023-08-31T17:37:27.912795Z"
    }
   },
   "id": "b2f5d7075423c555"
  },
  {
   "cell_type": "code",
   "execution_count": 8,
   "outputs": [
    {
     "data": {
      "text/plain": "Training scalers:   0%|          | 0/370 [00:00<?, ?it/s]",
      "application/vnd.jupyter.widget-view+json": {
       "version_major": 2,
       "version_minor": 0,
       "model_id": "aa9bdca953c74bcd9ba7f2678e3a5660"
      }
     },
     "metadata": {},
     "output_type": "display_data"
    },
    {
     "data": {
      "text/plain": "Fitting label encoders:   0%|          | 0/4 [00:00<?, ?it/s]",
      "application/vnd.jupyter.widget-view+json": {
       "version_major": 2,
       "version_minor": 0,
       "model_id": "1b285c960af644eebe8864314fe3b545"
      }
     },
     "metadata": {},
     "output_type": "display_data"
    }
   ],
   "source": [
    "preprocessor = tft.datasets.electricity.train_preprocessor(df)"
   ],
   "metadata": {
    "collapsed": false,
    "ExecuteTime": {
     "end_time": "2023-08-31T17:38:42.219902Z",
     "start_time": "2023-08-31T17:38:36.746Z"
    }
   },
   "id": "f68329b88e91b9a8"
  },
  {
   "cell_type": "code",
   "execution_count": 9,
   "outputs": [
    {
     "data": {
      "text/plain": "{'real': {'MT_325': StandardScaler(),\n  'MT_256': StandardScaler(),\n  'MT_355': StandardScaler(),\n  'MT_097': StandardScaler(),\n  'MT_282': StandardScaler(),\n  'MT_290': StandardScaler(),\n  'MT_028': StandardScaler(),\n  'MT_208': StandardScaler(),\n  'MT_035': StandardScaler(),\n  'MT_368': StandardScaler(),\n  'MT_263': StandardScaler(),\n  'MT_215': StandardScaler(),\n  'MT_279': StandardScaler(),\n  'MT_187': StandardScaler(),\n  'MT_147': StandardScaler(),\n  'MT_205': StandardScaler(),\n  'MT_227': StandardScaler(),\n  'MT_104': StandardScaler(),\n  'MT_084': StandardScaler(),\n  'MT_138': StandardScaler(),\n  'MT_136': StandardScaler(),\n  'MT_004': StandardScaler(),\n  'MT_025': StandardScaler(),\n  'MT_365': StandardScaler(),\n  'MT_285': StandardScaler(),\n  'MT_220': StandardScaler(),\n  'MT_029': StandardScaler(),\n  'MT_012': StandardScaler(),\n  'MT_036': StandardScaler(),\n  'MT_273': StandardScaler(),\n  'MT_107': StandardScaler(),\n  'MT_191': StandardScaler(),\n  'MT_261': StandardScaler(),\n  'MT_334': StandardScaler(),\n  'MT_335': StandardScaler(),\n  'MT_248': StandardScaler(),\n  'MT_252': StandardScaler(),\n  'MT_331': StandardScaler(),\n  'MT_058': StandardScaler(),\n  'MT_223': StandardScaler(),\n  'MT_287': StandardScaler(),\n  'MT_295': StandardScaler(),\n  'MT_346': StandardScaler(),\n  'MT_024': StandardScaler(),\n  'MT_083': StandardScaler(),\n  'MT_118': StandardScaler(),\n  'MT_160': StandardScaler(),\n  'MT_342': StandardScaler(),\n  'MT_007': StandardScaler(),\n  'MT_146': StandardScaler(),\n  'MT_123': StandardScaler(),\n  'MT_196': StandardScaler(),\n  'MT_067': StandardScaler(),\n  'MT_231': StandardScaler(),\n  'MT_145': StandardScaler(),\n  'MT_253': StandardScaler(),\n  'MT_001': StandardScaler(),\n  'MT_284': StandardScaler(),\n  'MT_201': StandardScaler(),\n  'MT_124': StandardScaler(),\n  'MT_052': StandardScaler(),\n  'MT_214': StandardScaler(),\n  'MT_192': StandardScaler(),\n  'MT_347': StandardScaler(),\n  'MT_151': StandardScaler(),\n  'MT_189': StandardScaler(),\n  'MT_166': StandardScaler(),\n  'MT_202': StandardScaler(),\n  'MT_309': StandardScaler(),\n  'MT_343': StandardScaler(),\n  'MT_262': StandardScaler(),\n  'MT_240': StandardScaler(),\n  'MT_037': StandardScaler(),\n  'MT_247': StandardScaler(),\n  'MT_270': StandardScaler(),\n  'MT_241': StandardScaler(),\n  'MT_283': StandardScaler(),\n  'MT_132': StandardScaler(),\n  'MT_225': StandardScaler(),\n  'MT_131': StandardScaler(),\n  'MT_257': StandardScaler(),\n  'MT_077': StandardScaler(),\n  'MT_207': StandardScaler(),\n  'MT_165': StandardScaler(),\n  'MT_110': StandardScaler(),\n  'MT_074': StandardScaler(),\n  'MT_301': StandardScaler(),\n  'MT_003': StandardScaler(),\n  'MT_057': StandardScaler(),\n  'MT_289': StandardScaler(),\n  'MT_143': StandardScaler(),\n  'MT_218': StandardScaler(),\n  'MT_304': StandardScaler(),\n  'MT_090': StandardScaler(),\n  'MT_095': StandardScaler(),\n  'MT_127': StandardScaler(),\n  'MT_221': StandardScaler(),\n  'MT_098': StandardScaler(),\n  'MT_180': StandardScaler(),\n  'MT_171': StandardScaler(),\n  'MT_112': StandardScaler(),\n  'MT_050': StandardScaler(),\n  'MT_162': StandardScaler(),\n  'MT_350': StandardScaler(),\n  'MT_033': StandardScaler(),\n  'MT_193': StandardScaler(),\n  'MT_170': StandardScaler(),\n  'MT_015': StandardScaler(),\n  'MT_002': StandardScaler(),\n  'MT_363': StandardScaler(),\n  'MT_161': StandardScaler(),\n  'MT_319': StandardScaler(),\n  'MT_298': StandardScaler(),\n  'MT_317': StandardScaler(),\n  'MT_222': StandardScaler(),\n  'MT_337': StandardScaler(),\n  'MT_142': StandardScaler(),\n  'MT_178': StandardScaler(),\n  'MT_340': StandardScaler(),\n  'MT_305': StandardScaler(),\n  'MT_041': StandardScaler(),\n  'MT_264': StandardScaler(),\n  'MT_049': StandardScaler(),\n  'MT_156': StandardScaler(),\n  'MT_019': StandardScaler(),\n  'MT_367': StandardScaler(),\n  'MT_176': StandardScaler(),\n  'MT_129': StandardScaler(),\n  'MT_339': StandardScaler(),\n  'MT_303': StandardScaler(),\n  'MT_338': StandardScaler(),\n  'MT_082': StandardScaler(),\n  'MT_190': StandardScaler(),\n  'MT_210': StandardScaler(),\n  'MT_194': StandardScaler(),\n  'MT_179': StandardScaler(),\n  'MT_155': StandardScaler(),\n  'MT_361': StandardScaler(),\n  'MT_370': StandardScaler(),\n  'MT_159': StandardScaler(),\n  'MT_174': StandardScaler(),\n  'MT_228': StandardScaler(),\n  'MT_119': StandardScaler(),\n  'MT_271': StandardScaler(),\n  'MT_022': StandardScaler(),\n  'MT_250': StandardScaler(),\n  'MT_061': StandardScaler(),\n  'MT_237': StandardScaler(),\n  'MT_265': StandardScaler(),\n  'MT_358': StandardScaler(),\n  'MT_311': StandardScaler(),\n  'MT_064': StandardScaler(),\n  'MT_181': StandardScaler(),\n  'MT_013': StandardScaler(),\n  'MT_006': StandardScaler(),\n  'MT_236': StandardScaler(),\n  'MT_152': StandardScaler(),\n  'MT_306': StandardScaler(),\n  'MT_276': StandardScaler(),\n  'MT_294': StandardScaler(),\n  'MT_114': StandardScaler(),\n  'MT_103': StandardScaler(),\n  'MT_333': StandardScaler(),\n  'MT_046': StandardScaler(),\n  'MT_034': StandardScaler(),\n  'MT_280': StandardScaler(),\n  'MT_327': StandardScaler(),\n  'MT_351': StandardScaler(),\n  'MT_349': StandardScaler(),\n  'MT_195': StandardScaler(),\n  'MT_291': StandardScaler(),\n  'MT_126': StandardScaler(),\n  'MT_182': StandardScaler(),\n  'MT_318': StandardScaler(),\n  'MT_045': StandardScaler(),\n  'MT_163': StandardScaler(),\n  'MT_030': StandardScaler(),\n  'MT_242': StandardScaler(),\n  'MT_356': StandardScaler(),\n  'MT_328': StandardScaler(),\n  'MT_292': StandardScaler(),\n  'MT_011': StandardScaler(),\n  'MT_158': StandardScaler(),\n  'MT_274': StandardScaler(),\n  'MT_169': StandardScaler(),\n  'MT_018': StandardScaler(),\n  'MT_172': StandardScaler(),\n  'MT_239': StandardScaler(),\n  'MT_063': StandardScaler(),\n  'MT_226': StandardScaler(),\n  'MT_296': StandardScaler(),\n  'MT_324': StandardScaler(),\n  'MT_133': StandardScaler(),\n  'MT_079': StandardScaler(),\n  'MT_093': StandardScaler(),\n  'MT_281': StandardScaler(),\n  'MT_197': StandardScaler(),\n  'MT_075': StandardScaler(),\n  'MT_268': StandardScaler(),\n  'MT_066': StandardScaler(),\n  'MT_213': StandardScaler(),\n  'MT_360': StandardScaler(),\n  'MT_186': StandardScaler(),\n  'MT_089': StandardScaler(),\n  'MT_243': StandardScaler(),\n  'MT_130': StandardScaler(),\n  'MT_272': StandardScaler(),\n  'MT_330': StandardScaler(),\n  'MT_039': StandardScaler(),\n  'MT_091': StandardScaler(),\n  'MT_238': StandardScaler(),\n  'MT_198': StandardScaler(),\n  'MT_329': StandardScaler(),\n  'MT_044': StandardScaler(),\n  'MT_144': StandardScaler(),\n  'MT_080': StandardScaler(),\n  'MT_094': StandardScaler(),\n  'MT_134': StandardScaler(),\n  'MT_021': StandardScaler(),\n  'MT_359': StandardScaler(),\n  'MT_017': StandardScaler(),\n  'MT_088': StandardScaler(),\n  'MT_106': StandardScaler(),\n  'MT_070': StandardScaler(),\n  'MT_073': StandardScaler(),\n  'MT_139': StandardScaler(),\n  'MT_068': StandardScaler(),\n  'MT_199': StandardScaler(),\n  'MT_120': StandardScaler(),\n  'MT_020': StandardScaler(),\n  'MT_245': StandardScaler(),\n  'MT_148': StandardScaler(),\n  'MT_099': StandardScaler(),\n  'MT_286': StandardScaler(),\n  'MT_150': StandardScaler(),\n  'MT_072': StandardScaler(),\n  'MT_040': StandardScaler(),\n  'MT_323': StandardScaler(),\n  'MT_081': StandardScaler(),\n  'MT_362': StandardScaler(),\n  'MT_016': StandardScaler(),\n  'MT_336': StandardScaler(),\n  'MT_047': StandardScaler(),\n  'MT_125': StandardScaler(),\n  'MT_184': StandardScaler(),\n  'MT_229': StandardScaler(),\n  'MT_321': StandardScaler(),\n  'MT_060': StandardScaler(),\n  'MT_320': StandardScaler(),\n  'MT_087': StandardScaler(),\n  'MT_069': StandardScaler(),\n  'MT_085': StandardScaler(),\n  'MT_111': StandardScaler(),\n  'MT_244': StandardScaler(),\n  'MT_153': StandardScaler(),\n  'MT_059': StandardScaler(),\n  'MT_076': StandardScaler(),\n  'MT_216': StandardScaler(),\n  'MT_149': StandardScaler(),\n  'MT_056': StandardScaler(),\n  'MT_026': StandardScaler(),\n  'MT_023': StandardScaler(),\n  'MT_211': StandardScaler(),\n  'MT_307': StandardScaler(),\n  'MT_322': StandardScaler(),\n  'MT_175': StandardScaler(),\n  'MT_164': StandardScaler(),\n  'MT_092': StandardScaler(),\n  'MT_141': StandardScaler(),\n  'MT_230': StandardScaler(),\n  'MT_062': StandardScaler(),\n  'MT_014': StandardScaler(),\n  'MT_038': StandardScaler(),\n  'MT_101': StandardScaler(),\n  'MT_316': StandardScaler(),\n  'MT_121': StandardScaler(),\n  'MT_185': StandardScaler(),\n  'MT_326': StandardScaler(),\n  'MT_217': StandardScaler(),\n  'MT_332': StandardScaler(),\n  'MT_183': StandardScaler(),\n  'MT_258': StandardScaler(),\n  'MT_200': StandardScaler(),\n  'MT_352': StandardScaler(),\n  'MT_299': StandardScaler(),\n  'MT_232': StandardScaler(),\n  'MT_341': StandardScaler(),\n  'MT_288': StandardScaler(),\n  'MT_308': StandardScaler(),\n  'MT_269': StandardScaler(),\n  'MT_206': StandardScaler(),\n  'MT_249': StandardScaler(),\n  'MT_212': StandardScaler(),\n  'MT_313': StandardScaler(),\n  'MT_357': StandardScaler(),\n  'MT_312': StandardScaler(),\n  'MT_137': StandardScaler(),\n  'MT_042': StandardScaler(),\n  'MT_204': StandardScaler(),\n  'MT_235': StandardScaler(),\n  'MT_008': StandardScaler(),\n  'MT_122': StandardScaler(),\n  'MT_096': StandardScaler(),\n  'MT_364': StandardScaler(),\n  'MT_267': StandardScaler(),\n  'MT_251': StandardScaler(),\n  'MT_048': StandardScaler(),\n  'MT_086': StandardScaler(),\n  'MT_108': StandardScaler(),\n  'MT_135': StandardScaler(),\n  'MT_078': StandardScaler(),\n  'MT_259': StandardScaler(),\n  'MT_109': StandardScaler(),\n  'MT_117': StandardScaler(),\n  'MT_209': StandardScaler(),\n  'MT_354': StandardScaler(),\n  'MT_234': StandardScaler(),\n  'MT_293': StandardScaler(),\n  'MT_344': StandardScaler(),\n  'MT_157': StandardScaler(),\n  'MT_154': StandardScaler(),\n  'MT_353': StandardScaler(),\n  'MT_275': StandardScaler(),\n  'MT_167': StandardScaler(),\n  'MT_188': StandardScaler(),\n  'MT_027': StandardScaler(),\n  'MT_100': StandardScaler(),\n  'MT_140': StandardScaler(),\n  'MT_266': StandardScaler(),\n  'MT_168': StandardScaler(),\n  'MT_105': StandardScaler(),\n  'MT_369': StandardScaler(),\n  'MT_128': StandardScaler(),\n  'MT_009': StandardScaler(),\n  'MT_260': StandardScaler(),\n  'MT_031': StandardScaler(),\n  'MT_219': StandardScaler(),\n  'MT_010': StandardScaler(),\n  'MT_203': StandardScaler(),\n  'MT_115': StandardScaler(),\n  'MT_005': StandardScaler(),\n  'MT_254': StandardScaler(),\n  'MT_366': StandardScaler(),\n  'MT_278': StandardScaler(),\n  'MT_102': StandardScaler(),\n  'MT_310': StandardScaler(),\n  'MT_224': StandardScaler(),\n  'MT_300': StandardScaler(),\n  'MT_297': StandardScaler(),\n  'MT_255': StandardScaler(),\n  'MT_043': StandardScaler(),\n  'MT_348': StandardScaler(),\n  'MT_055': StandardScaler(),\n  'MT_071': StandardScaler(),\n  'MT_302': StandardScaler(),\n  'MT_177': StandardScaler(),\n  'MT_314': StandardScaler(),\n  'MT_345': StandardScaler(),\n  'MT_051': StandardScaler(),\n  'MT_173': StandardScaler(),\n  'MT_277': StandardScaler(),\n  'MT_233': StandardScaler(),\n  'MT_116': StandardScaler(),\n  'MT_053': StandardScaler(),\n  'MT_315': StandardScaler(),\n  'MT_032': StandardScaler(),\n  'MT_113': StandardScaler(),\n  'MT_054': StandardScaler(),\n  'MT_065': StandardScaler(),\n  'MT_246': StandardScaler()},\n 'target': {'MT_325': StandardScaler(),\n  'MT_256': StandardScaler(),\n  'MT_355': StandardScaler(),\n  'MT_097': StandardScaler(),\n  'MT_282': StandardScaler(),\n  'MT_290': StandardScaler(),\n  'MT_028': StandardScaler(),\n  'MT_208': StandardScaler(),\n  'MT_035': StandardScaler(),\n  'MT_368': StandardScaler(),\n  'MT_263': StandardScaler(),\n  'MT_215': StandardScaler(),\n  'MT_279': StandardScaler(),\n  'MT_187': StandardScaler(),\n  'MT_147': StandardScaler(),\n  'MT_205': StandardScaler(),\n  'MT_227': StandardScaler(),\n  'MT_104': StandardScaler(),\n  'MT_084': StandardScaler(),\n  'MT_138': StandardScaler(),\n  'MT_136': StandardScaler(),\n  'MT_004': StandardScaler(),\n  'MT_025': StandardScaler(),\n  'MT_365': StandardScaler(),\n  'MT_285': StandardScaler(),\n  'MT_220': StandardScaler(),\n  'MT_029': StandardScaler(),\n  'MT_012': StandardScaler(),\n  'MT_036': StandardScaler(),\n  'MT_273': StandardScaler(),\n  'MT_107': StandardScaler(),\n  'MT_191': StandardScaler(),\n  'MT_261': StandardScaler(),\n  'MT_334': StandardScaler(),\n  'MT_335': StandardScaler(),\n  'MT_248': StandardScaler(),\n  'MT_252': StandardScaler(),\n  'MT_331': StandardScaler(),\n  'MT_058': StandardScaler(),\n  'MT_223': StandardScaler(),\n  'MT_287': StandardScaler(),\n  'MT_295': StandardScaler(),\n  'MT_346': StandardScaler(),\n  'MT_024': StandardScaler(),\n  'MT_083': StandardScaler(),\n  'MT_118': StandardScaler(),\n  'MT_160': StandardScaler(),\n  'MT_342': StandardScaler(),\n  'MT_007': StandardScaler(),\n  'MT_146': StandardScaler(),\n  'MT_123': StandardScaler(),\n  'MT_196': StandardScaler(),\n  'MT_067': StandardScaler(),\n  'MT_231': StandardScaler(),\n  'MT_145': StandardScaler(),\n  'MT_253': StandardScaler(),\n  'MT_001': StandardScaler(),\n  'MT_284': StandardScaler(),\n  'MT_201': StandardScaler(),\n  'MT_124': StandardScaler(),\n  'MT_052': StandardScaler(),\n  'MT_214': StandardScaler(),\n  'MT_192': StandardScaler(),\n  'MT_347': StandardScaler(),\n  'MT_151': StandardScaler(),\n  'MT_189': StandardScaler(),\n  'MT_166': StandardScaler(),\n  'MT_202': StandardScaler(),\n  'MT_309': StandardScaler(),\n  'MT_343': StandardScaler(),\n  'MT_262': StandardScaler(),\n  'MT_240': StandardScaler(),\n  'MT_037': StandardScaler(),\n  'MT_247': StandardScaler(),\n  'MT_270': StandardScaler(),\n  'MT_241': StandardScaler(),\n  'MT_283': StandardScaler(),\n  'MT_132': StandardScaler(),\n  'MT_225': StandardScaler(),\n  'MT_131': StandardScaler(),\n  'MT_257': StandardScaler(),\n  'MT_077': StandardScaler(),\n  'MT_207': StandardScaler(),\n  'MT_165': StandardScaler(),\n  'MT_110': StandardScaler(),\n  'MT_074': StandardScaler(),\n  'MT_301': StandardScaler(),\n  'MT_003': StandardScaler(),\n  'MT_057': StandardScaler(),\n  'MT_289': StandardScaler(),\n  'MT_143': StandardScaler(),\n  'MT_218': StandardScaler(),\n  'MT_304': StandardScaler(),\n  'MT_090': StandardScaler(),\n  'MT_095': StandardScaler(),\n  'MT_127': StandardScaler(),\n  'MT_221': StandardScaler(),\n  'MT_098': StandardScaler(),\n  'MT_180': StandardScaler(),\n  'MT_171': StandardScaler(),\n  'MT_112': StandardScaler(),\n  'MT_050': StandardScaler(),\n  'MT_162': StandardScaler(),\n  'MT_350': StandardScaler(),\n  'MT_033': StandardScaler(),\n  'MT_193': StandardScaler(),\n  'MT_170': StandardScaler(),\n  'MT_015': StandardScaler(),\n  'MT_002': StandardScaler(),\n  'MT_363': StandardScaler(),\n  'MT_161': StandardScaler(),\n  'MT_319': StandardScaler(),\n  'MT_298': StandardScaler(),\n  'MT_317': StandardScaler(),\n  'MT_222': StandardScaler(),\n  'MT_337': StandardScaler(),\n  'MT_142': StandardScaler(),\n  'MT_178': StandardScaler(),\n  'MT_340': StandardScaler(),\n  'MT_305': StandardScaler(),\n  'MT_041': StandardScaler(),\n  'MT_264': StandardScaler(),\n  'MT_049': StandardScaler(),\n  'MT_156': StandardScaler(),\n  'MT_019': StandardScaler(),\n  'MT_367': StandardScaler(),\n  'MT_176': StandardScaler(),\n  'MT_129': StandardScaler(),\n  'MT_339': StandardScaler(),\n  'MT_303': StandardScaler(),\n  'MT_338': StandardScaler(),\n  'MT_082': StandardScaler(),\n  'MT_190': StandardScaler(),\n  'MT_210': StandardScaler(),\n  'MT_194': StandardScaler(),\n  'MT_179': StandardScaler(),\n  'MT_155': StandardScaler(),\n  'MT_361': StandardScaler(),\n  'MT_370': StandardScaler(),\n  'MT_159': StandardScaler(),\n  'MT_174': StandardScaler(),\n  'MT_228': StandardScaler(),\n  'MT_119': StandardScaler(),\n  'MT_271': StandardScaler(),\n  'MT_022': StandardScaler(),\n  'MT_250': StandardScaler(),\n  'MT_061': StandardScaler(),\n  'MT_237': StandardScaler(),\n  'MT_265': StandardScaler(),\n  'MT_358': StandardScaler(),\n  'MT_311': StandardScaler(),\n  'MT_064': StandardScaler(),\n  'MT_181': StandardScaler(),\n  'MT_013': StandardScaler(),\n  'MT_006': StandardScaler(),\n  'MT_236': StandardScaler(),\n  'MT_152': StandardScaler(),\n  'MT_306': StandardScaler(),\n  'MT_276': StandardScaler(),\n  'MT_294': StandardScaler(),\n  'MT_114': StandardScaler(),\n  'MT_103': StandardScaler(),\n  'MT_333': StandardScaler(),\n  'MT_046': StandardScaler(),\n  'MT_034': StandardScaler(),\n  'MT_280': StandardScaler(),\n  'MT_327': StandardScaler(),\n  'MT_351': StandardScaler(),\n  'MT_349': StandardScaler(),\n  'MT_195': StandardScaler(),\n  'MT_291': StandardScaler(),\n  'MT_126': StandardScaler(),\n  'MT_182': StandardScaler(),\n  'MT_318': StandardScaler(),\n  'MT_045': StandardScaler(),\n  'MT_163': StandardScaler(),\n  'MT_030': StandardScaler(),\n  'MT_242': StandardScaler(),\n  'MT_356': StandardScaler(),\n  'MT_328': StandardScaler(),\n  'MT_292': StandardScaler(),\n  'MT_011': StandardScaler(),\n  'MT_158': StandardScaler(),\n  'MT_274': StandardScaler(),\n  'MT_169': StandardScaler(),\n  'MT_018': StandardScaler(),\n  'MT_172': StandardScaler(),\n  'MT_239': StandardScaler(),\n  'MT_063': StandardScaler(),\n  'MT_226': StandardScaler(),\n  'MT_296': StandardScaler(),\n  'MT_324': StandardScaler(),\n  'MT_133': StandardScaler(),\n  'MT_079': StandardScaler(),\n  'MT_093': StandardScaler(),\n  'MT_281': StandardScaler(),\n  'MT_197': StandardScaler(),\n  'MT_075': StandardScaler(),\n  'MT_268': StandardScaler(),\n  'MT_066': StandardScaler(),\n  'MT_213': StandardScaler(),\n  'MT_360': StandardScaler(),\n  'MT_186': StandardScaler(),\n  'MT_089': StandardScaler(),\n  'MT_243': StandardScaler(),\n  'MT_130': StandardScaler(),\n  'MT_272': StandardScaler(),\n  'MT_330': StandardScaler(),\n  'MT_039': StandardScaler(),\n  'MT_091': StandardScaler(),\n  'MT_238': StandardScaler(),\n  'MT_198': StandardScaler(),\n  'MT_329': StandardScaler(),\n  'MT_044': StandardScaler(),\n  'MT_144': StandardScaler(),\n  'MT_080': StandardScaler(),\n  'MT_094': StandardScaler(),\n  'MT_134': StandardScaler(),\n  'MT_021': StandardScaler(),\n  'MT_359': StandardScaler(),\n  'MT_017': StandardScaler(),\n  'MT_088': StandardScaler(),\n  'MT_106': StandardScaler(),\n  'MT_070': StandardScaler(),\n  'MT_073': StandardScaler(),\n  'MT_139': StandardScaler(),\n  'MT_068': StandardScaler(),\n  'MT_199': StandardScaler(),\n  'MT_120': StandardScaler(),\n  'MT_020': StandardScaler(),\n  'MT_245': StandardScaler(),\n  'MT_148': StandardScaler(),\n  'MT_099': StandardScaler(),\n  'MT_286': StandardScaler(),\n  'MT_150': StandardScaler(),\n  'MT_072': StandardScaler(),\n  'MT_040': StandardScaler(),\n  'MT_323': StandardScaler(),\n  'MT_081': StandardScaler(),\n  'MT_362': StandardScaler(),\n  'MT_016': StandardScaler(),\n  'MT_336': StandardScaler(),\n  'MT_047': StandardScaler(),\n  'MT_125': StandardScaler(),\n  'MT_184': StandardScaler(),\n  'MT_229': StandardScaler(),\n  'MT_321': StandardScaler(),\n  'MT_060': StandardScaler(),\n  'MT_320': StandardScaler(),\n  'MT_087': StandardScaler(),\n  'MT_069': StandardScaler(),\n  'MT_085': StandardScaler(),\n  'MT_111': StandardScaler(),\n  'MT_244': StandardScaler(),\n  'MT_153': StandardScaler(),\n  'MT_059': StandardScaler(),\n  'MT_076': StandardScaler(),\n  'MT_216': StandardScaler(),\n  'MT_149': StandardScaler(),\n  'MT_056': StandardScaler(),\n  'MT_026': StandardScaler(),\n  'MT_023': StandardScaler(),\n  'MT_211': StandardScaler(),\n  'MT_307': StandardScaler(),\n  'MT_322': StandardScaler(),\n  'MT_175': StandardScaler(),\n  'MT_164': StandardScaler(),\n  'MT_092': StandardScaler(),\n  'MT_141': StandardScaler(),\n  'MT_230': StandardScaler(),\n  'MT_062': StandardScaler(),\n  'MT_014': StandardScaler(),\n  'MT_038': StandardScaler(),\n  'MT_101': StandardScaler(),\n  'MT_316': StandardScaler(),\n  'MT_121': StandardScaler(),\n  'MT_185': StandardScaler(),\n  'MT_326': StandardScaler(),\n  'MT_217': StandardScaler(),\n  'MT_332': StandardScaler(),\n  'MT_183': StandardScaler(),\n  'MT_258': StandardScaler(),\n  'MT_200': StandardScaler(),\n  'MT_352': StandardScaler(),\n  'MT_299': StandardScaler(),\n  'MT_232': StandardScaler(),\n  'MT_341': StandardScaler(),\n  'MT_288': StandardScaler(),\n  'MT_308': StandardScaler(),\n  'MT_269': StandardScaler(),\n  'MT_206': StandardScaler(),\n  'MT_249': StandardScaler(),\n  'MT_212': StandardScaler(),\n  'MT_313': StandardScaler(),\n  'MT_357': StandardScaler(),\n  'MT_312': StandardScaler(),\n  'MT_137': StandardScaler(),\n  'MT_042': StandardScaler(),\n  'MT_204': StandardScaler(),\n  'MT_235': StandardScaler(),\n  'MT_008': StandardScaler(),\n  'MT_122': StandardScaler(),\n  'MT_096': StandardScaler(),\n  'MT_364': StandardScaler(),\n  'MT_267': StandardScaler(),\n  'MT_251': StandardScaler(),\n  'MT_048': StandardScaler(),\n  'MT_086': StandardScaler(),\n  'MT_108': StandardScaler(),\n  'MT_135': StandardScaler(),\n  'MT_078': StandardScaler(),\n  'MT_259': StandardScaler(),\n  'MT_109': StandardScaler(),\n  'MT_117': StandardScaler(),\n  'MT_209': StandardScaler(),\n  'MT_354': StandardScaler(),\n  'MT_234': StandardScaler(),\n  'MT_293': StandardScaler(),\n  'MT_344': StandardScaler(),\n  'MT_157': StandardScaler(),\n  'MT_154': StandardScaler(),\n  'MT_353': StandardScaler(),\n  'MT_275': StandardScaler(),\n  'MT_167': StandardScaler(),\n  'MT_188': StandardScaler(),\n  'MT_027': StandardScaler(),\n  'MT_100': StandardScaler(),\n  'MT_140': StandardScaler(),\n  'MT_266': StandardScaler(),\n  'MT_168': StandardScaler(),\n  'MT_105': StandardScaler(),\n  'MT_369': StandardScaler(),\n  'MT_128': StandardScaler(),\n  'MT_009': StandardScaler(),\n  'MT_260': StandardScaler(),\n  'MT_031': StandardScaler(),\n  'MT_219': StandardScaler(),\n  'MT_010': StandardScaler(),\n  'MT_203': StandardScaler(),\n  'MT_115': StandardScaler(),\n  'MT_005': StandardScaler(),\n  'MT_254': StandardScaler(),\n  'MT_366': StandardScaler(),\n  'MT_278': StandardScaler(),\n  'MT_102': StandardScaler(),\n  'MT_310': StandardScaler(),\n  'MT_224': StandardScaler(),\n  'MT_300': StandardScaler(),\n  'MT_297': StandardScaler(),\n  'MT_255': StandardScaler(),\n  'MT_043': StandardScaler(),\n  'MT_348': StandardScaler(),\n  'MT_055': StandardScaler(),\n  'MT_071': StandardScaler(),\n  'MT_302': StandardScaler(),\n  'MT_177': StandardScaler(),\n  'MT_314': StandardScaler(),\n  'MT_345': StandardScaler(),\n  'MT_051': StandardScaler(),\n  'MT_173': StandardScaler(),\n  'MT_277': StandardScaler(),\n  'MT_233': StandardScaler(),\n  'MT_116': StandardScaler(),\n  'MT_053': StandardScaler(),\n  'MT_315': StandardScaler(),\n  'MT_032': StandardScaler(),\n  'MT_113': StandardScaler(),\n  'MT_054': StandardScaler(),\n  'MT_065': StandardScaler(),\n  'MT_246': StandardScaler()},\n 'categorical': {'month': LabelEncoder(),\n  'day': LabelEncoder(),\n  'hour': LabelEncoder(),\n  'day_of_week': LabelEncoder()}}"
     },
     "execution_count": 9,
     "metadata": {},
     "output_type": "execute_result"
    }
   ],
   "source": [
    "preprocessor"
   ],
   "metadata": {
    "collapsed": false,
    "ExecuteTime": {
     "end_time": "2023-08-31T17:38:47.321604Z",
     "start_time": "2023-08-31T17:38:47.253764Z"
    }
   },
   "id": "5b781ece4b21afaf"
  },
  {
   "cell_type": "code",
   "execution_count": null,
   "outputs": [],
   "source": [],
   "metadata": {
    "collapsed": false
   },
   "id": "5171f99e5aa594c9"
  },
  {
   "cell_type": "code",
   "execution_count": 14,
   "outputs": [
    {
     "data": {
      "text/plain": "Applying scalers...:   0%|          | 0/370 [00:00<?, ?it/s]",
      "application/vnd.jupyter.widget-view+json": {
       "version_major": 2,
       "version_minor": 0,
       "model_id": "3d4e246761a3492c9a7e9ff57a8392d5"
      }
     },
     "metadata": {},
     "output_type": "display_data"
    },
    {
     "data": {
      "text/plain": "  0%|          | 0/4 [00:00<?, ?it/s]",
      "application/vnd.jupyter.widget-view+json": {
       "version_major": 2,
       "version_minor": 0,
       "model_id": "0c154c577a904c9f9900bf8785261afd"
      }
     },
     "metadata": {},
     "output_type": "display_data"
    },
    {
     "data": {
      "text/plain": "shape: (2_220_370, 8)\n┌─────────────────────┬─────────────┬──────┬────────┬───────┬─────┬──────┬─────────────┐\n│ timestamp           ┆ power_usage ┆ year ┆ id     ┆ month ┆ day ┆ hour ┆ day_of_week │\n│ ---                 ┆ ---         ┆ ---  ┆ ---    ┆ ---   ┆ --- ┆ ---  ┆ ---         │\n│ datetime[μs]        ┆ f32         ┆ f32  ┆ str    ┆ i8    ┆ i8  ┆ i8   ┆ i8          │\n╞═════════════════════╪═════════════╪══════╪════════╪═══════╪═════╪══════╪═════════════╡\n│ 2014-01-01 00:00:00 ┆ 2.538071    ┆ 0.0  ┆ MT_038 ┆ 0     ┆ 0   ┆ 0    ┆ 2           │\n│ 2014-01-01 01:00:00 ┆ 2.538071    ┆ 0.0  ┆ MT_038 ┆ 0     ┆ 0   ┆ 1    ┆ 2           │\n│ 2014-01-01 02:00:00 ┆ 2.538071    ┆ 0.0  ┆ MT_038 ┆ 0     ┆ 0   ┆ 2    ┆ 2           │\n│ 2014-01-01 03:00:00 ┆ 2.538071    ┆ 0.0  ┆ MT_038 ┆ 0     ┆ 0   ┆ 3    ┆ 2           │\n│ …                   ┆ …           ┆ …    ┆ …      ┆ …     ┆ …   ┆ …    ┆ …           │\n│ 2014-09-07 21:00:00 ┆ 2.538071    ┆ 0.0  ┆ MT_248 ┆ 8     ┆ 6   ┆ 21   ┆ 6           │\n│ 2014-09-07 22:00:00 ┆ 2.538071    ┆ 0.0  ┆ MT_248 ┆ 8     ┆ 6   ┆ 22   ┆ 6           │\n│ 2014-09-07 23:00:00 ┆ 2.538071    ┆ 0.0  ┆ MT_248 ┆ 8     ┆ 6   ┆ 23   ┆ 6           │\n│ 2014-09-08 00:00:00 ┆ 2.538071    ┆ 0.0  ┆ MT_248 ┆ 8     ┆ 7   ┆ 0    ┆ 0           │\n└─────────────────────┴─────────────┴──────┴────────┴───────┴─────┴──────┴─────────────┘",
      "text/html": "<div><style>\n.dataframe > thead > tr > th,\n.dataframe > tbody > tr > td {\n  text-align: right;\n}\n</style>\n<small>shape: (2_220_370, 8)</small><table border=\"1\" class=\"dataframe\"><thead><tr><th>timestamp</th><th>power_usage</th><th>year</th><th>id</th><th>month</th><th>day</th><th>hour</th><th>day_of_week</th></tr><tr><td>datetime[μs]</td><td>f32</td><td>f32</td><td>str</td><td>i8</td><td>i8</td><td>i8</td><td>i8</td></tr></thead><tbody><tr><td>2014-01-01 00:00:00</td><td>2.538071</td><td>0.0</td><td>&quot;MT_038&quot;</td><td>0</td><td>0</td><td>0</td><td>2</td></tr><tr><td>2014-01-01 01:00:00</td><td>2.538071</td><td>0.0</td><td>&quot;MT_038&quot;</td><td>0</td><td>0</td><td>1</td><td>2</td></tr><tr><td>2014-01-01 02:00:00</td><td>2.538071</td><td>0.0</td><td>&quot;MT_038&quot;</td><td>0</td><td>0</td><td>2</td><td>2</td></tr><tr><td>2014-01-01 03:00:00</td><td>2.538071</td><td>0.0</td><td>&quot;MT_038&quot;</td><td>0</td><td>0</td><td>3</td><td>2</td></tr><tr><td>2014-01-01 04:00:00</td><td>2.538071</td><td>0.0</td><td>&quot;MT_038&quot;</td><td>0</td><td>0</td><td>4</td><td>2</td></tr><tr><td>2014-01-01 05:00:00</td><td>2.538071</td><td>0.0</td><td>&quot;MT_038&quot;</td><td>0</td><td>0</td><td>5</td><td>2</td></tr><tr><td>2014-01-01 06:00:00</td><td>2.538071</td><td>0.0</td><td>&quot;MT_038&quot;</td><td>0</td><td>0</td><td>6</td><td>2</td></tr><tr><td>2014-01-01 07:00:00</td><td>2.538071</td><td>0.0</td><td>&quot;MT_038&quot;</td><td>0</td><td>0</td><td>7</td><td>2</td></tr><tr><td>2014-01-01 08:00:00</td><td>2.538071</td><td>0.0</td><td>&quot;MT_038&quot;</td><td>0</td><td>0</td><td>8</td><td>2</td></tr><tr><td>2014-01-01 09:00:00</td><td>2.538071</td><td>0.0</td><td>&quot;MT_038&quot;</td><td>0</td><td>0</td><td>9</td><td>2</td></tr><tr><td>2014-01-01 10:00:00</td><td>2.538071</td><td>0.0</td><td>&quot;MT_038&quot;</td><td>0</td><td>0</td><td>10</td><td>2</td></tr><tr><td>2014-01-01 11:00:00</td><td>2.538071</td><td>0.0</td><td>&quot;MT_038&quot;</td><td>0</td><td>0</td><td>11</td><td>2</td></tr><tr><td>&hellip;</td><td>&hellip;</td><td>&hellip;</td><td>&hellip;</td><td>&hellip;</td><td>&hellip;</td><td>&hellip;</td><td>&hellip;</td></tr><tr><td>2014-09-07 13:00:00</td><td>2.538071</td><td>0.0</td><td>&quot;MT_248&quot;</td><td>8</td><td>6</td><td>13</td><td>6</td></tr><tr><td>2014-09-07 14:00:00</td><td>2.538071</td><td>0.0</td><td>&quot;MT_248&quot;</td><td>8</td><td>6</td><td>14</td><td>6</td></tr><tr><td>2014-09-07 15:00:00</td><td>2.538071</td><td>0.0</td><td>&quot;MT_248&quot;</td><td>8</td><td>6</td><td>15</td><td>6</td></tr><tr><td>2014-09-07 16:00:00</td><td>2.538071</td><td>0.0</td><td>&quot;MT_248&quot;</td><td>8</td><td>6</td><td>16</td><td>6</td></tr><tr><td>2014-09-07 17:00:00</td><td>2.538071</td><td>0.0</td><td>&quot;MT_248&quot;</td><td>8</td><td>6</td><td>17</td><td>6</td></tr><tr><td>2014-09-07 18:00:00</td><td>2.538071</td><td>0.0</td><td>&quot;MT_248&quot;</td><td>8</td><td>6</td><td>18</td><td>6</td></tr><tr><td>2014-09-07 19:00:00</td><td>2.538071</td><td>0.0</td><td>&quot;MT_248&quot;</td><td>8</td><td>6</td><td>19</td><td>6</td></tr><tr><td>2014-09-07 20:00:00</td><td>2.538071</td><td>0.0</td><td>&quot;MT_248&quot;</td><td>8</td><td>6</td><td>20</td><td>6</td></tr><tr><td>2014-09-07 21:00:00</td><td>2.538071</td><td>0.0</td><td>&quot;MT_248&quot;</td><td>8</td><td>6</td><td>21</td><td>6</td></tr><tr><td>2014-09-07 22:00:00</td><td>2.538071</td><td>0.0</td><td>&quot;MT_248&quot;</td><td>8</td><td>6</td><td>22</td><td>6</td></tr><tr><td>2014-09-07 23:00:00</td><td>2.538071</td><td>0.0</td><td>&quot;MT_248&quot;</td><td>8</td><td>6</td><td>23</td><td>6</td></tr><tr><td>2014-09-08 00:00:00</td><td>2.538071</td><td>0.0</td><td>&quot;MT_248&quot;</td><td>8</td><td>7</td><td>0</td><td>0</td></tr></tbody></table></div>"
     },
     "execution_count": 14,
     "metadata": {},
     "output_type": "execute_result"
    }
   ],
   "source": [
    "targets = (\"power_usage\",)\n",
    "real_inputs = (\"year\",)\n",
    "categorical_inputs = (\"month\", \"day\", \"hour\", \"day_of_week\")\n",
    "\n",
    "lf_list = []\n",
    "\n",
    "for i, sub_df in tqdm(df.groupby(\"id\"), total=370, desc=\"Applying scalers...\"):\n",
    "    sub_df: pl.DataFrame\n",
    "    sub_lf: pl.LazyFrame = sub_df.lazy()\n",
    "\n",
    "    x_real = df[real_inputs].to_numpy()\n",
    "    x_target = df[targets].to_numpy()\n",
    "\n",
    "    x_real = preprocessor[\"real\"][i].transform(x_real)\n",
    "    x_targets = preprocessor[\"target\"][i].transform(x_target)\n",
    "\n",
    "    sub_lf = sub_lf.with_columns(\n",
    "        [pl.lit(i).alias(j).cast(pl.Float32) for i, j in zip(x_real, real_inputs)]\n",
    "    ).with_columns(pl.lit(i).alias(j).cast(pl.Float32) for i, j in zip(x_target, targets))\n",
    "    lf_list.append(sub_lf)\n",
    "\n",
    "df = pl.concat(lf_list).collect()\n",
    "\n",
    "for i in tqdm(categorical_inputs):\n",
    "    x = df[i].to_numpy()\n",
    "    x = preprocessor[\"categorical\"][i].transform(x)\n",
    "    df = df.drop(i).with_columns(pl.lit(x).alias(i).cast(pl.Int8))\n",
    "\n",
    "df"
   ],
   "metadata": {
    "collapsed": false,
    "ExecuteTime": {
     "end_time": "2023-08-31T17:47:01.436447Z",
     "start_time": "2023-08-31T17:46:57.956863Z"
    }
   },
   "id": "962a2c0807914ba5"
  },
  {
   "cell_type": "code",
   "execution_count": null,
   "outputs": [],
   "source": [],
   "metadata": {
    "collapsed": false
   },
   "id": "28fcefdf3e19b37"
  }
 ],
 "metadata": {
  "kernelspec": {
   "display_name": "Python 3",
   "language": "python",
   "name": "python3"
  },
  "language_info": {
   "codemirror_mode": {
    "name": "ipython",
    "version": 2
   },
   "file_extension": ".py",
   "mimetype": "text/x-python",
   "name": "python",
   "nbconvert_exporter": "python",
   "pygments_lexer": "ipython2",
   "version": "2.7.6"
  }
 },
 "nbformat": 4,
 "nbformat_minor": 5
}
