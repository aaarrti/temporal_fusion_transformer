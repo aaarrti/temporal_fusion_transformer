{
 "cells": [
  {
   "cell_type": "code",
   "execution_count": 26,
   "outputs": [],
   "source": [
    "import pandas as pd\n",
    "import polars as pl\n",
    "import numpy as np\n",
    "from temporal_fusion_transformer.src.datasets.electricity import read_raw_csv_v2, read_raw_csv\n",
    "\n",
    "csv_path = \"/Users/artemsereda/Documents/IdeaProjects/temporal_fusion_transformer/data/electricity/LD2011_2014.txt\""
   ],
   "metadata": {
    "collapsed": false,
    "ExecuteTime": {
     "end_time": "2023-08-16T00:53:45.139319Z",
     "start_time": "2023-08-16T00:53:41.444258Z"
    }
   }
  },
  {
   "cell_type": "code",
   "execution_count": 27,
   "outputs": [
    {
     "data": {
      "text/plain": "  0%|          | 0/35065 [00:00<?, ?it/s]",
      "application/vnd.jupyter.widget-view+json": {
       "version_major": 2,
       "version_minor": 0,
       "model_id": "e7fd530d04ab4cc6af54a6fbe8c722d2"
      }
     },
     "metadata": {},
     "output_type": "display_data"
    },
    {
     "data": {
      "text/plain": "           power_usage  hours_from_start  days_from_start      id  hour  \\\n17544         2.538071           26304.0             1096  MT_001     0   \n17545         2.855330           26305.0             1096  MT_001     1   \n17546         2.855330           26306.0             1096  MT_001     2   \n17547         2.855330           26307.0             1096  MT_001     3   \n17548         2.538071           26308.0             1096  MT_001     4   \n...                ...               ...              ...     ...   ...   \n10461482  20824.324324           32299.0             1345  MT_370    19   \n10461483  19527.027027           32300.0             1345  MT_370    20   \n10461484  20202.702703           32301.0             1345  MT_370    21   \n10461485  19851.351351           32302.0             1345  MT_370    22   \n10461486  20135.135135           32303.0             1345  MT_370    23   \n\n          day_of_week  month  \n17544               2      1  \n17545               2      1  \n17546               2      1  \n17547               2      1  \n17548               2      1  \n...               ...    ...  \n10461482            6      9  \n10461483            6      9  \n10461484            6      9  \n10461485            6      9  \n10461486            6      9  \n\n[2198072 rows x 7 columns]",
      "text/html": "<div>\n<style scoped>\n    .dataframe tbody tr th:only-of-type {\n        vertical-align: middle;\n    }\n\n    .dataframe tbody tr th {\n        vertical-align: top;\n    }\n\n    .dataframe thead th {\n        text-align: right;\n    }\n</style>\n<table border=\"1\" class=\"dataframe\">\n  <thead>\n    <tr style=\"text-align: right;\">\n      <th></th>\n      <th>power_usage</th>\n      <th>hours_from_start</th>\n      <th>days_from_start</th>\n      <th>id</th>\n      <th>hour</th>\n      <th>day_of_week</th>\n      <th>month</th>\n    </tr>\n  </thead>\n  <tbody>\n    <tr>\n      <th>17544</th>\n      <td>2.538071</td>\n      <td>26304.0</td>\n      <td>1096</td>\n      <td>MT_001</td>\n      <td>0</td>\n      <td>2</td>\n      <td>1</td>\n    </tr>\n    <tr>\n      <th>17545</th>\n      <td>2.855330</td>\n      <td>26305.0</td>\n      <td>1096</td>\n      <td>MT_001</td>\n      <td>1</td>\n      <td>2</td>\n      <td>1</td>\n    </tr>\n    <tr>\n      <th>17546</th>\n      <td>2.855330</td>\n      <td>26306.0</td>\n      <td>1096</td>\n      <td>MT_001</td>\n      <td>2</td>\n      <td>2</td>\n      <td>1</td>\n    </tr>\n    <tr>\n      <th>17547</th>\n      <td>2.855330</td>\n      <td>26307.0</td>\n      <td>1096</td>\n      <td>MT_001</td>\n      <td>3</td>\n      <td>2</td>\n      <td>1</td>\n    </tr>\n    <tr>\n      <th>17548</th>\n      <td>2.538071</td>\n      <td>26308.0</td>\n      <td>1096</td>\n      <td>MT_001</td>\n      <td>4</td>\n      <td>2</td>\n      <td>1</td>\n    </tr>\n    <tr>\n      <th>...</th>\n      <td>...</td>\n      <td>...</td>\n      <td>...</td>\n      <td>...</td>\n      <td>...</td>\n      <td>...</td>\n      <td>...</td>\n    </tr>\n    <tr>\n      <th>10461482</th>\n      <td>20824.324324</td>\n      <td>32299.0</td>\n      <td>1345</td>\n      <td>MT_370</td>\n      <td>19</td>\n      <td>6</td>\n      <td>9</td>\n    </tr>\n    <tr>\n      <th>10461483</th>\n      <td>19527.027027</td>\n      <td>32300.0</td>\n      <td>1345</td>\n      <td>MT_370</td>\n      <td>20</td>\n      <td>6</td>\n      <td>9</td>\n    </tr>\n    <tr>\n      <th>10461484</th>\n      <td>20202.702703</td>\n      <td>32301.0</td>\n      <td>1345</td>\n      <td>MT_370</td>\n      <td>21</td>\n      <td>6</td>\n      <td>9</td>\n    </tr>\n    <tr>\n      <th>10461485</th>\n      <td>19851.351351</td>\n      <td>32302.0</td>\n      <td>1345</td>\n      <td>MT_370</td>\n      <td>22</td>\n      <td>6</td>\n      <td>9</td>\n    </tr>\n    <tr>\n      <th>10461486</th>\n      <td>20135.135135</td>\n      <td>32303.0</td>\n      <td>1345</td>\n      <td>MT_370</td>\n      <td>23</td>\n      <td>6</td>\n      <td>9</td>\n    </tr>\n  </tbody>\n</table>\n<p>2198072 rows × 7 columns</p>\n</div>"
     },
     "execution_count": 27,
     "metadata": {},
     "output_type": "execute_result"
    }
   ],
   "source": [
    "read_raw_csv(csv_path)"
   ],
   "metadata": {
    "collapsed": false,
    "ExecuteTime": {
     "end_time": "2023-08-16T00:54:17.840623Z",
     "start_time": "2023-08-16T00:53:52.752366Z"
    }
   }
  },
  {
   "cell_type": "code",
   "execution_count": 28,
   "outputs": [
    {
     "data": {
      "text/plain": "  0%|          | 0/370 [00:00<?, ?it/s]",
      "application/vnd.jupyter.widget-view+json": {
       "version_major": 2,
       "version_minor": 0,
       "model_id": "d8349ccfd3c94f20a5c85db19f1e0cb2"
      }
     },
     "metadata": {},
     "output_type": "display_data"
    },
    {
     "data": {
      "text/plain": "shape: (2_206_928, 9)\n┌──────────────┬──────────────┬─────────────┬─────────────┬───┬─────┬─────────────┬───────┬────────┐\n│ timestamp    ┆ power_usage  ┆ hours_from_ ┆ days_from_s ┆ … ┆ day ┆ day_of_week ┆ month ┆ id     │\n│ ---          ┆ ---          ┆ start       ┆ tart        ┆   ┆ --- ┆ ---         ┆ ---   ┆ ---    │\n│ datetime[ms] ┆ f64          ┆ ---         ┆ ---         ┆   ┆ u32 ┆ u32         ┆ u32   ┆ str    │\n│              ┆              ┆ f64         ┆ i64         ┆   ┆     ┆             ┆       ┆        │\n╞══════════════╪══════════════╪═════════════╪═════════════╪═══╪═════╪═════════════╪═══════╪════════╡\n│ 2014-01-01   ┆ 2.538071     ┆ 26304.0     ┆ 1096        ┆ … ┆ 1   ┆ 3           ┆ 1     ┆ MT_001 │\n│ 00:00:00     ┆              ┆             ┆             ┆   ┆     ┆             ┆       ┆        │\n│ 2014-01-01   ┆ 2.85533      ┆ 26305.0     ┆ 1096        ┆ … ┆ 1   ┆ 3           ┆ 1     ┆ MT_001 │\n│ 01:00:00     ┆              ┆             ┆             ┆   ┆     ┆             ┆       ┆        │\n│ 2014-01-01   ┆ 2.85533      ┆ 26306.0     ┆ 1096        ┆ … ┆ 1   ┆ 3           ┆ 1     ┆ MT_001 │\n│ 02:00:00     ┆              ┆             ┆             ┆   ┆     ┆             ┆       ┆        │\n│ 2014-01-01   ┆ 2.85533      ┆ 26307.0     ┆ 1096        ┆ … ┆ 1   ┆ 3           ┆ 1     ┆ MT_001 │\n│ 03:00:00     ┆              ┆             ┆             ┆   ┆     ┆             ┆       ┆        │\n│ …            ┆ …            ┆ …           ┆ …           ┆ … ┆ …   ┆ …           ┆ …     ┆ …      │\n│ 2014-09-08   ┆ 21770.271484 ┆ 32324.0     ┆ 1346        ┆ … ┆ 8   ┆ 1           ┆ 9     ┆ MT_370 │\n│ 20:00:00     ┆              ┆             ┆             ┆   ┆     ┆             ┆       ┆        │\n│ 2014-09-08   ┆ 26500.0      ┆ 32325.0     ┆ 1346        ┆ … ┆ 8   ┆ 1           ┆ 9     ┆ MT_370 │\n│ 21:00:00     ┆              ┆             ┆             ┆   ┆     ┆             ┆       ┆        │\n│ 2014-09-08   ┆ 24500.0      ┆ 32326.0     ┆ 1346        ┆ … ┆ 8   ┆ 1           ┆ 9     ┆ MT_370 │\n│ 22:00:00     ┆              ┆             ┆             ┆   ┆     ┆             ┆       ┆        │\n│ 2014-09-08   ┆ 24108.109375 ┆ 32327.0     ┆ 1346        ┆ … ┆ 8   ┆ 1           ┆ 9     ┆ MT_370 │\n│ 23:00:00     ┆              ┆             ┆             ┆   ┆     ┆             ┆       ┆        │\n└──────────────┴──────────────┴─────────────┴─────────────┴───┴─────┴─────────────┴───────┴────────┘",
      "text/html": "<div><style>\n.dataframe > thead > tr > th,\n.dataframe > tbody > tr > td {\n  text-align: right;\n}\n</style>\n<small>shape: (2_206_928, 9)</small><table border=\"1\" class=\"dataframe\"><thead><tr><th>timestamp</th><th>power_usage</th><th>hours_from_start</th><th>days_from_start</th><th>hour</th><th>day</th><th>day_of_week</th><th>month</th><th>id</th></tr><tr><td>datetime[ms]</td><td>f64</td><td>f64</td><td>i64</td><td>u32</td><td>u32</td><td>u32</td><td>u32</td><td>str</td></tr></thead><tbody><tr><td>2014-01-01 00:00:00</td><td>2.538071</td><td>26304.0</td><td>1096</td><td>0</td><td>1</td><td>3</td><td>1</td><td>&quot;MT_001&quot;</td></tr><tr><td>2014-01-01 01:00:00</td><td>2.85533</td><td>26305.0</td><td>1096</td><td>1</td><td>1</td><td>3</td><td>1</td><td>&quot;MT_001&quot;</td></tr><tr><td>2014-01-01 02:00:00</td><td>2.85533</td><td>26306.0</td><td>1096</td><td>2</td><td>1</td><td>3</td><td>1</td><td>&quot;MT_001&quot;</td></tr><tr><td>2014-01-01 03:00:00</td><td>2.85533</td><td>26307.0</td><td>1096</td><td>3</td><td>1</td><td>3</td><td>1</td><td>&quot;MT_001&quot;</td></tr><tr><td>2014-01-01 04:00:00</td><td>2.538071</td><td>26308.0</td><td>1096</td><td>4</td><td>1</td><td>3</td><td>1</td><td>&quot;MT_001&quot;</td></tr><tr><td>2014-01-01 05:00:00</td><td>2.538071</td><td>26309.0</td><td>1096</td><td>5</td><td>1</td><td>3</td><td>1</td><td>&quot;MT_001&quot;</td></tr><tr><td>2014-01-01 06:00:00</td><td>3.172589</td><td>26310.0</td><td>1096</td><td>6</td><td>1</td><td>3</td><td>1</td><td>&quot;MT_001&quot;</td></tr><tr><td>2014-01-01 07:00:00</td><td>2.85533</td><td>26311.0</td><td>1096</td><td>7</td><td>1</td><td>3</td><td>1</td><td>&quot;MT_001&quot;</td></tr><tr><td>2014-01-01 08:00:00</td><td>1.269036</td><td>26312.0</td><td>1096</td><td>8</td><td>1</td><td>3</td><td>1</td><td>&quot;MT_001&quot;</td></tr><tr><td>2014-01-01 09:00:00</td><td>0.317259</td><td>26313.0</td><td>1096</td><td>9</td><td>1</td><td>3</td><td>1</td><td>&quot;MT_001&quot;</td></tr><tr><td>2014-01-01 10:00:00</td><td>0.634518</td><td>26314.0</td><td>1096</td><td>10</td><td>1</td><td>3</td><td>1</td><td>&quot;MT_001&quot;</td></tr><tr><td>2014-01-01 11:00:00</td><td>0.317259</td><td>26315.0</td><td>1096</td><td>11</td><td>1</td><td>3</td><td>1</td><td>&quot;MT_001&quot;</td></tr><tr><td>&hellip;</td><td>&hellip;</td><td>&hellip;</td><td>&hellip;</td><td>&hellip;</td><td>&hellip;</td><td>&hellip;</td><td>&hellip;</td><td>&hellip;</td></tr><tr><td>2014-09-08 12:00:00</td><td>19581.082031</td><td>32316.0</td><td>1346</td><td>12</td><td>8</td><td>1</td><td>9</td><td>&quot;MT_370&quot;</td></tr><tr><td>2014-09-08 13:00:00</td><td>20621.621094</td><td>32317.0</td><td>1346</td><td>13</td><td>8</td><td>1</td><td>9</td><td>&quot;MT_370&quot;</td></tr><tr><td>2014-09-08 14:00:00</td><td>22297.296875</td><td>32318.0</td><td>1346</td><td>14</td><td>8</td><td>1</td><td>9</td><td>&quot;MT_370&quot;</td></tr><tr><td>2014-09-08 15:00:00</td><td>24972.972656</td><td>32319.0</td><td>1346</td><td>15</td><td>8</td><td>1</td><td>9</td><td>&quot;MT_370&quot;</td></tr><tr><td>2014-09-08 16:00:00</td><td>27189.189453</td><td>32320.0</td><td>1346</td><td>16</td><td>8</td><td>1</td><td>9</td><td>&quot;MT_370&quot;</td></tr><tr><td>2014-09-08 17:00:00</td><td>25270.269531</td><td>32321.0</td><td>1346</td><td>17</td><td>8</td><td>1</td><td>9</td><td>&quot;MT_370&quot;</td></tr><tr><td>2014-09-08 18:00:00</td><td>24500.0</td><td>32322.0</td><td>1346</td><td>18</td><td>8</td><td>1</td><td>9</td><td>&quot;MT_370&quot;</td></tr><tr><td>2014-09-08 19:00:00</td><td>26864.863281</td><td>32323.0</td><td>1346</td><td>19</td><td>8</td><td>1</td><td>9</td><td>&quot;MT_370&quot;</td></tr><tr><td>2014-09-08 20:00:00</td><td>21770.271484</td><td>32324.0</td><td>1346</td><td>20</td><td>8</td><td>1</td><td>9</td><td>&quot;MT_370&quot;</td></tr><tr><td>2014-09-08 21:00:00</td><td>26500.0</td><td>32325.0</td><td>1346</td><td>21</td><td>8</td><td>1</td><td>9</td><td>&quot;MT_370&quot;</td></tr><tr><td>2014-09-08 22:00:00</td><td>24500.0</td><td>32326.0</td><td>1346</td><td>22</td><td>8</td><td>1</td><td>9</td><td>&quot;MT_370&quot;</td></tr><tr><td>2014-09-08 23:00:00</td><td>24108.109375</td><td>32327.0</td><td>1346</td><td>23</td><td>8</td><td>1</td><td>9</td><td>&quot;MT_370&quot;</td></tr></tbody></table></div>"
     },
     "execution_count": 28,
     "metadata": {},
     "output_type": "execute_result"
    }
   ],
   "source": [
    "read_raw_csv_v2(csv_path)"
   ],
   "metadata": {
    "collapsed": false,
    "ExecuteTime": {
     "end_time": "2023-08-16T00:54:47.457091Z",
     "start_time": "2023-08-16T00:54:21.578438Z"
    }
   }
  },
  {
   "cell_type": "code",
   "execution_count": null,
   "outputs": [],
   "source": [],
   "metadata": {
    "collapsed": false
   }
  }
 ],
 "metadata": {
  "kernelspec": {
   "display_name": "Python 3 (ipykernel)",
   "language": "python",
   "name": "python3"
  },
  "language_info": {
   "codemirror_mode": {
    "name": "ipython",
    "version": 3
   },
   "file_extension": ".py",
   "mimetype": "text/x-python",
   "name": "python",
   "nbconvert_exporter": "python",
   "pygments_lexer": "ipython3",
   "version": "3.10.11"
  }
 },
 "nbformat": 4,
 "nbformat_minor": 1
}
