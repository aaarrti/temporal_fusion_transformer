{
 "cells": [
  {
   "cell_type": "markdown",
   "source": [
    "\n",
    "[![Open In Colab](https://colab.research.google.com/assets/colab-badge.svg)](https://colab.research.google.com/drive/1FhYi4YTFXYHt8Ea8Tz-RjJWrjWZNvfRo?usp=sharing)"
   ],
   "metadata": {
    "id": "PwOcVN7JVCV6"
   },
   "id": "PwOcVN7JVCV6"
  },
  {
   "cell_type": "code",
   "execution_count": 1,
   "outputs": [],
   "source": [
    "%load_ext tensorboard\n",
    "%load_ext autoreload\n",
    "%autoreload 2"
   ],
   "metadata": {
    "ExecuteTime": {
     "end_time": "2023-08-17T16:03:24.606361Z",
     "start_time": "2023-08-17T16:03:24.590406Z"
    },
    "id": "d3ac29453a2d0256"
   },
   "id": "d3ac29453a2d0256"
  },
  {
   "cell_type": "code",
   "source": [
    "!pip install 'temporal_fusion_transformer[training] @ git+https://github.com/aaarrti/temporal_fusion_transformer.git@develop'\n",
    "!pip install \"jax[cuda12_pip]\" -f https://storage.googleapis.com/jax-releases/jax_cuda_releases.html"
   ],
   "metadata": {
    "colab": {
     "base_uri": "https://localhost:8080/"
    },
    "id": "NVImsMNCTMd7",
    "outputId": "9fcca9de-a582-4c00-b39c-5651e892cb3a"
   },
   "id": "NVImsMNCTMd7",
   "execution_count": 2,
   "outputs": [
    {
     "output_type": "stream",
     "name": "stdout",
     "text": [
      "Collecting temporal_fusion_transformer[datasets,training]@ git+https://github.com/aaarrti/temporal_fusion_transformer.git@develop\n",
      "  Cloning https://github.com/aaarrti/temporal_fusion_transformer.git (to revision develop) to /tmp/pip-install-7z8deuie/temporal-fusion-transformer_a1b9f8fe47a34571ac203feb761c74f5\n",
      "  Running command git clone --filter=blob:none --quiet https://github.com/aaarrti/temporal_fusion_transformer.git /tmp/pip-install-7z8deuie/temporal-fusion-transformer_a1b9f8fe47a34571ac203feb761c74f5\n",
      "  Running command git checkout -b develop --track origin/develop\n",
      "  Switched to a new branch 'develop'\n",
      "  Branch 'develop' set up to track remote branch 'develop' from 'origin'.\n",
      "  Resolved https://github.com/aaarrti/temporal_fusion_transformer.git to commit 30ae1f921d81846a19e9d18633a5ad46b3b0b867\n",
      "  Installing build dependencies ... \u001B[?25l\u001B[?25hdone\n",
      "  Getting requirements to build wheel ... \u001B[?25l\u001B[?25hdone\n",
      "  Preparing metadata (pyproject.toml) ... \u001B[?25l\u001B[?25hdone\n",
      "Building wheels for collected packages: temporal_fusion_transformer\n",
      "  Building wheel for temporal_fusion_transformer (pyproject.toml) ... \u001B[?25l\u001B[?25hdone\n",
      "  Created wheel for temporal_fusion_transformer: filename=temporal_fusion_transformer-0.0.1.dev1-py3-none-any.whl size=28705 sha256=72b7c1833b8e2f0505bef9e61ef72380b700013836bdae92e1850d09b481abe5\n",
      "  Stored in directory: /tmp/pip-ephem-wheel-cache-c73j9_mz/wheels/23/b0/56/a946c1aa184c0e2f6e9e9c14f63a9c23476a0834914362f848\n",
      "Successfully built temporal_fusion_transformer\n",
      "Installing collected packages: temporal_fusion_transformer\n",
      "  Attempting uninstall: temporal_fusion_transformer\n",
      "    Found existing installation: temporal_fusion_transformer 0.0.1.dev1\n",
      "    Uninstalling temporal_fusion_transformer-0.0.1.dev1:\n",
      "      Successfully uninstalled temporal_fusion_transformer-0.0.1.dev1\n",
      "Successfully installed temporal_fusion_transformer-0.0.1.dev1\n",
      "Looking in links: https://storage.googleapis.com/jax-releases/jax_cuda_releases.html\n",
      "Requirement already satisfied: jax[cuda12_pip] in /usr/local/lib/python3.10/dist-packages (0.4.14)\n",
      "Requirement already satisfied: ml-dtypes>=0.2.0 in /usr/local/lib/python3.10/dist-packages (from jax[cuda12_pip]) (0.2.0)\n",
      "Requirement already satisfied: numpy>=1.22 in /usr/local/lib/python3.10/dist-packages (from jax[cuda12_pip]) (1.23.5)\n",
      "Requirement already satisfied: opt-einsum in /usr/local/lib/python3.10/dist-packages (from jax[cuda12_pip]) (3.3.0)\n",
      "Requirement already satisfied: scipy>=1.7 in /usr/local/lib/python3.10/dist-packages (from jax[cuda12_pip]) (1.10.1)\n",
      "Requirement already satisfied: jaxlib==0.4.14+cuda12.cudnn89 in /usr/local/lib/python3.10/dist-packages (from jax[cuda12_pip]) (0.4.14+cuda12.cudnn89)\n",
      "Requirement already satisfied: nvidia-cublas-cu12 in /usr/local/lib/python3.10/dist-packages (from jax[cuda12_pip]) (12.2.4.5)\n",
      "Requirement already satisfied: nvidia-cuda-cupti-cu12 in /usr/local/lib/python3.10/dist-packages (from jax[cuda12_pip]) (12.2.131)\n",
      "Requirement already satisfied: nvidia-cuda-nvcc-cu12 in /usr/local/lib/python3.10/dist-packages (from jax[cuda12_pip]) (12.2.128)\n",
      "Requirement already satisfied: nvidia-cuda-runtime-cu12 in /usr/local/lib/python3.10/dist-packages (from jax[cuda12_pip]) (12.2.128)\n",
      "Requirement already satisfied: nvidia-cudnn-cu12>=8.9 in /usr/local/lib/python3.10/dist-packages (from jax[cuda12_pip]) (8.9.4.25)\n",
      "Requirement already satisfied: nvidia-cufft-cu12 in /usr/local/lib/python3.10/dist-packages (from jax[cuda12_pip]) (11.0.8.91)\n",
      "Requirement already satisfied: nvidia-cusolver-cu12 in /usr/local/lib/python3.10/dist-packages (from jax[cuda12_pip]) (11.5.1.129)\n",
      "Requirement already satisfied: nvidia-cusparse-cu12 in /usr/local/lib/python3.10/dist-packages (from jax[cuda12_pip]) (12.1.2.129)\n",
      "Requirement already satisfied: nvidia-cuda-nvrtc-cu12 in /usr/local/lib/python3.10/dist-packages (from nvidia-cudnn-cu12>=8.9->jax[cuda12_pip]) (12.2.128)\n",
      "Requirement already satisfied: nvidia-nvjitlink-cu12 in /usr/local/lib/python3.10/dist-packages (from nvidia-cusolver-cu12->jax[cuda12_pip]) (12.2.128)\n"
     ]
    }
   ]
  },
  {
   "cell_type": "markdown",
   "source": [
    "First, we'd need to upload dataset to GDrive"
   ],
   "metadata": {
    "collapsed": false,
    "id": "fa5e337f02a8f1cc"
   },
   "id": "fa5e337f02a8f1cc"
  },
  {
   "cell_type": "code",
   "execution_count": 1,
   "outputs": [
    {
     "output_type": "stream",
     "name": "stdout",
     "text": [
      "Drive already mounted at /content/drive; to attempt to forcibly remount, call drive.mount(\"/content/drive\", force_remount=True).\n"
     ]
    }
   ],
   "source": [
    "# TODO: use GCS bucket\n",
    "from google.colab import drive\n",
    "\n",
    "drive.mount(\"/content/drive\")\n",
    "\n",
    "data_path = \"/content/drive/MyDrive/datasets\""
   ],
   "metadata": {
    "id": "initial_id",
    "colab": {
     "base_uri": "https://localhost:8080/"
    },
    "outputId": "e810d377-cf1b-4807-b5d5-8913789fe82e"
   },
   "id": "initial_id"
  },
  {
   "cell_type": "code",
   "execution_count": 2,
   "outputs": [
    {
     "output_type": "execute_result",
     "data": {
      "text/plain": [
       "[gpu(id=0)]"
      ]
     },
     "metadata": {},
     "execution_count": 2
    }
   ],
   "source": [
    "import tensorflow as tf\n",
    "import jax\n",
    "from absl_extra import logging_utils\n",
    "import temporal_fusion_transformer as tft\n",
    "\n",
    "tf.config.set_visible_devices([], \"GPU\")\n",
    "jax.config.update(\"jax_debug_nans\", True)\n",
    "logging_utils.setup_logging(log_level=\"INFO\")\n",
    "jax.devices()"
   ],
   "metadata": {
    "ExecuteTime": {
     "end_time": "2023-08-17T16:03:50.846720Z",
     "start_time": "2023-08-17T16:03:50.839485Z"
    },
    "id": "17c98f3a38e7f8da",
    "outputId": "e33829e6-7de1-44c7-ff79-74d569730382",
    "colab": {
     "base_uri": "https://localhost:8080/"
    }
   },
   "id": "17c98f3a38e7f8da"
  },
  {
   "cell_type": "code",
   "execution_count": 4,
   "outputs": [
    {
     "output_type": "execute_result",
     "data": {
      "text/plain": [
       "fixed_params:\n",
       "  input_known_categorical_idx:\n",
       "  - 3\n",
       "  - 4\n",
       "  - 5\n",
       "  - 6\n",
       "  input_known_real_idx:\n",
       "  - 1\n",
       "  - 2\n",
       "  input_observed_idx: []\n",
       "  input_static_idx:\n",
       "  - 0\n",
       "  known_categories_sizes:\n",
       "  - 31\n",
       "  - 24\n",
       "  - 7\n",
       "  - 12\n",
       "  num_encoder_steps: 168\n",
       "  num_outputs: 1\n",
       "  static_categories_sizes:\n",
       "  - 369\n",
       "  total_time_steps: 192\n",
       "hyperparams:\n",
       "  dropout_rate: 0.1\n",
       "  latent_dim: 160\n",
       "  num_attention_heads: 4\n",
       "  num_decoder_blocks: 1\n",
       "  quantiles:\n",
       "  - 0.1\n",
       "  - 0.5\n",
       "  - 0.9\n",
       "optimizer:\n",
       "  clipnorm: 0.1\n",
       "  decay_alpha: 0.05\n",
       "  decay_steps: 0.8\n",
       "  ema: 0.99\n",
       "  learning_rate: 0.001\n",
       "prng_seed: 69\n",
       "shuffle_buffer_size: 1024"
      ]
     },
     "metadata": {},
     "execution_count": 4
    }
   ],
   "source": [
    "config = tft.get_config(\"electricity\")\n",
    "config"
   ],
   "metadata": {
    "ExecuteTime": {
     "end_time": "2023-08-17T16:03:54.531042Z",
     "start_time": "2023-08-17T16:03:54.525998Z"
    },
    "id": "377690fca821a4c6",
    "outputId": "1ef457d5-70c7-4f01-911e-fe36dc6bb62a",
    "colab": {
     "base_uri": "https://localhost:8080/"
    }
   },
   "id": "377690fca821a4c6"
  },
  {
   "cell_type": "code",
   "execution_count": 7,
   "outputs": [
    {
     "output_type": "error",
     "ename": "FloatingPointError",
     "evalue": "ignored",
     "traceback": [
      "\u001B[0;31m---------------------------------------------------------------------------\u001B[0m",
      "\u001B[0;31mFloatingPointError\u001B[0m                        Traceback (most recent call last)",
      "    \u001B[0;31m[... skipping hidden 1 frame]\u001B[0m\n",
      "\u001B[0;32m/usr/local/lib/python3.10/dist-packages/jax/_src/profiler.py\u001B[0m in \u001B[0;36mwrapper\u001B[0;34m(*args, **kwargs)\u001B[0m\n\u001B[1;32m    313\u001B[0m     \u001B[0;32mwith\u001B[0m \u001B[0mTraceAnnotation\u001B[0m\u001B[0;34m(\u001B[0m\u001B[0mname\u001B[0m\u001B[0;34m,\u001B[0m \u001B[0;34m**\u001B[0m\u001B[0mdecorator_kwargs\u001B[0m\u001B[0;34m)\u001B[0m\u001B[0;34m:\u001B[0m\u001B[0;34m\u001B[0m\u001B[0;34m\u001B[0m\u001B[0m\n\u001B[0;32m--> 314\u001B[0;31m       \u001B[0;32mreturn\u001B[0m \u001B[0mfunc\u001B[0m\u001B[0;34m(\u001B[0m\u001B[0;34m*\u001B[0m\u001B[0margs\u001B[0m\u001B[0;34m,\u001B[0m \u001B[0;34m**\u001B[0m\u001B[0mkwargs\u001B[0m\u001B[0;34m)\u001B[0m\u001B[0;34m\u001B[0m\u001B[0;34m\u001B[0m\u001B[0m\n\u001B[0m\u001B[1;32m    315\u001B[0m     \u001B[0;32mreturn\u001B[0m \u001B[0mwrapper\u001B[0m\u001B[0;34m\u001B[0m\u001B[0;34m\u001B[0m\u001B[0m\n",
      "\u001B[0;32m/usr/local/lib/python3.10/dist-packages/jax/_src/interpreters/pxla.py\u001B[0m in \u001B[0;36m__call__\u001B[0;34m(self, *args)\u001B[0m\n\u001B[1;32m   1232\u001B[0m       \u001B[0;32mfor\u001B[0m \u001B[0marrays\u001B[0m \u001B[0;32min\u001B[0m \u001B[0mout_arrays\u001B[0m\u001B[0;34m:\u001B[0m\u001B[0;34m\u001B[0m\u001B[0;34m\u001B[0m\u001B[0m\n\u001B[0;32m-> 1233\u001B[0;31m         \u001B[0mdispatch\u001B[0m\u001B[0;34m.\u001B[0m\u001B[0mcheck_special\u001B[0m\u001B[0;34m(\u001B[0m\u001B[0mself\u001B[0m\u001B[0;34m.\u001B[0m\u001B[0mname\u001B[0m\u001B[0;34m,\u001B[0m \u001B[0marrays\u001B[0m\u001B[0;34m)\u001B[0m\u001B[0;34m\u001B[0m\u001B[0;34m\u001B[0m\u001B[0m\n\u001B[0m\u001B[1;32m   1234\u001B[0m       \u001B[0;32mreturn\u001B[0m \u001B[0mself\u001B[0m\u001B[0;34m.\u001B[0m\u001B[0mout_handler\u001B[0m\u001B[0;34m(\u001B[0m\u001B[0mout_arrays\u001B[0m\u001B[0;34m)\u001B[0m\u001B[0;34m\u001B[0m\u001B[0;34m\u001B[0m\u001B[0m\n",
      "\u001B[0;32m/usr/local/lib/python3.10/dist-packages/jax/_src/dispatch.py\u001B[0m in \u001B[0;36mcheck_special\u001B[0;34m(name, bufs)\u001B[0m\n\u001B[1;32m    435\u001B[0m     \u001B[0;32mfor\u001B[0m \u001B[0mbuf\u001B[0m \u001B[0;32min\u001B[0m \u001B[0mbufs\u001B[0m\u001B[0;34m:\u001B[0m\u001B[0;34m\u001B[0m\u001B[0;34m\u001B[0m\u001B[0m\n\u001B[0;32m--> 436\u001B[0;31m       \u001B[0m_check_special\u001B[0m\u001B[0;34m(\u001B[0m\u001B[0mname\u001B[0m\u001B[0;34m,\u001B[0m \u001B[0mbuf\u001B[0m\u001B[0;34m.\u001B[0m\u001B[0mdtype\u001B[0m\u001B[0;34m,\u001B[0m \u001B[0mbuf\u001B[0m\u001B[0;34m)\u001B[0m\u001B[0;34m\u001B[0m\u001B[0;34m\u001B[0m\u001B[0m\n\u001B[0m\u001B[1;32m    437\u001B[0m \u001B[0;34m\u001B[0m\u001B[0m\n",
      "\u001B[0;32m/usr/local/lib/python3.10/dist-packages/jax/_src/dispatch.py\u001B[0m in \u001B[0;36m_check_special\u001B[0;34m(name, dtype, buf)\u001B[0m\n\u001B[1;32m    440\u001B[0m     \u001B[0;32mif\u001B[0m \u001B[0mconfig\u001B[0m\u001B[0;34m.\u001B[0m\u001B[0mjax_debug_nans\u001B[0m \u001B[0;32mand\u001B[0m \u001B[0mnp\u001B[0m\u001B[0;34m.\u001B[0m\u001B[0many\u001B[0m\u001B[0;34m(\u001B[0m\u001B[0mnp\u001B[0m\u001B[0;34m.\u001B[0m\u001B[0misnan\u001B[0m\u001B[0;34m(\u001B[0m\u001B[0mnp\u001B[0m\u001B[0;34m.\u001B[0m\u001B[0masarray\u001B[0m\u001B[0;34m(\u001B[0m\u001B[0mbuf\u001B[0m\u001B[0;34m)\u001B[0m\u001B[0;34m)\u001B[0m\u001B[0;34m)\u001B[0m\u001B[0;34m:\u001B[0m\u001B[0;34m\u001B[0m\u001B[0;34m\u001B[0m\u001B[0m\n\u001B[0;32m--> 441\u001B[0;31m       \u001B[0;32mraise\u001B[0m \u001B[0mFloatingPointError\u001B[0m\u001B[0;34m(\u001B[0m\u001B[0;34mf\"invalid value (nan) encountered in {name}\"\u001B[0m\u001B[0;34m)\u001B[0m\u001B[0;34m\u001B[0m\u001B[0;34m\u001B[0m\u001B[0m\n\u001B[0m\u001B[1;32m    442\u001B[0m     \u001B[0;32mif\u001B[0m \u001B[0mconfig\u001B[0m\u001B[0;34m.\u001B[0m\u001B[0mjax_debug_infs\u001B[0m \u001B[0;32mand\u001B[0m \u001B[0mnp\u001B[0m\u001B[0;34m.\u001B[0m\u001B[0many\u001B[0m\u001B[0;34m(\u001B[0m\u001B[0mnp\u001B[0m\u001B[0;34m.\u001B[0m\u001B[0misinf\u001B[0m\u001B[0;34m(\u001B[0m\u001B[0mnp\u001B[0m\u001B[0;34m.\u001B[0m\u001B[0masarray\u001B[0m\u001B[0;34m(\u001B[0m\u001B[0mbuf\u001B[0m\u001B[0;34m)\u001B[0m\u001B[0;34m)\u001B[0m\u001B[0;34m)\u001B[0m\u001B[0;34m:\u001B[0m\u001B[0;34m\u001B[0m\u001B[0;34m\u001B[0m\u001B[0m\n",
      "\u001B[0;31mFloatingPointError\u001B[0m: invalid value (nan) encountered in jit(core_fn)",
      "\nDuring handling of the above exception, another exception occurred:\n",
      "\u001B[0;31mJaxStackTraceBeforeTransformation\u001B[0m         Traceback (most recent call last)",
      "\u001B[0;32m/usr/lib/python3.10/runpy.py\u001B[0m in \u001B[0;36m_run_module_as_main\u001B[0;34m()\u001B[0m\n\u001B[1;32m    195\u001B[0m         \u001B[0msys\u001B[0m\u001B[0;34m.\u001B[0m\u001B[0margv\u001B[0m\u001B[0;34m[\u001B[0m\u001B[0;36m0\u001B[0m\u001B[0;34m]\u001B[0m \u001B[0;34m=\u001B[0m \u001B[0mmod_spec\u001B[0m\u001B[0;34m.\u001B[0m\u001B[0morigin\u001B[0m\u001B[0;34m\u001B[0m\u001B[0;34m\u001B[0m\u001B[0m\n\u001B[0;32m--> 196\u001B[0;31m     return _run_code(code, main_globals, None,\n\u001B[0m\u001B[1;32m    197\u001B[0m                      \"__main__\", mod_spec)\n",
      "\u001B[0;32m/usr/lib/python3.10/runpy.py\u001B[0m in \u001B[0;36m_run_code\u001B[0;34m()\u001B[0m\n\u001B[1;32m     85\u001B[0m                        __spec__ = mod_spec)\n\u001B[0;32m---> 86\u001B[0;31m     \u001B[0mexec\u001B[0m\u001B[0;34m(\u001B[0m\u001B[0mcode\u001B[0m\u001B[0;34m,\u001B[0m \u001B[0mrun_globals\u001B[0m\u001B[0;34m)\u001B[0m\u001B[0;34m\u001B[0m\u001B[0;34m\u001B[0m\u001B[0m\n\u001B[0m\u001B[1;32m     87\u001B[0m     \u001B[0;32mreturn\u001B[0m \u001B[0mrun_globals\u001B[0m\u001B[0;34m\u001B[0m\u001B[0;34m\u001B[0m\u001B[0m\n",
      "\u001B[0;32m/usr/local/lib/python3.10/dist-packages/ipykernel_launcher.py\u001B[0m in \u001B[0;36m<module>\u001B[0;34m\u001B[0m\n\u001B[1;32m     15\u001B[0m     \u001B[0;32mfrom\u001B[0m \u001B[0mipykernel\u001B[0m \u001B[0;32mimport\u001B[0m \u001B[0mkernelapp\u001B[0m \u001B[0;32mas\u001B[0m \u001B[0mapp\u001B[0m\u001B[0;34m\u001B[0m\u001B[0;34m\u001B[0m\u001B[0m\n\u001B[0;32m---> 16\u001B[0;31m     \u001B[0mapp\u001B[0m\u001B[0;34m.\u001B[0m\u001B[0mlaunch_new_instance\u001B[0m\u001B[0;34m(\u001B[0m\u001B[0;34m)\u001B[0m\u001B[0;34m\u001B[0m\u001B[0;34m\u001B[0m\u001B[0m\n\u001B[0m",
      "\u001B[0;32m/usr/local/lib/python3.10/dist-packages/traitlets/config/application.py\u001B[0m in \u001B[0;36mlaunch_instance\u001B[0;34m()\u001B[0m\n\u001B[1;32m    991\u001B[0m         \u001B[0mapp\u001B[0m\u001B[0;34m.\u001B[0m\u001B[0minitialize\u001B[0m\u001B[0;34m(\u001B[0m\u001B[0margv\u001B[0m\u001B[0;34m)\u001B[0m\u001B[0;34m\u001B[0m\u001B[0;34m\u001B[0m\u001B[0m\n\u001B[0;32m--> 992\u001B[0;31m         \u001B[0mapp\u001B[0m\u001B[0;34m.\u001B[0m\u001B[0mstart\u001B[0m\u001B[0;34m(\u001B[0m\u001B[0;34m)\u001B[0m\u001B[0;34m\u001B[0m\u001B[0;34m\u001B[0m\u001B[0m\n\u001B[0m\u001B[1;32m    993\u001B[0m \u001B[0;34m\u001B[0m\u001B[0m\n",
      "\u001B[0;32m/usr/local/lib/python3.10/dist-packages/ipykernel/kernelapp.py\u001B[0m in \u001B[0;36mstart\u001B[0;34m()\u001B[0m\n\u001B[1;32m    618\u001B[0m             \u001B[0;32mtry\u001B[0m\u001B[0;34m:\u001B[0m\u001B[0;34m\u001B[0m\u001B[0;34m\u001B[0m\u001B[0m\n\u001B[0;32m--> 619\u001B[0;31m                 \u001B[0mself\u001B[0m\u001B[0;34m.\u001B[0m\u001B[0mio_loop\u001B[0m\u001B[0;34m.\u001B[0m\u001B[0mstart\u001B[0m\u001B[0;34m(\u001B[0m\u001B[0;34m)\u001B[0m\u001B[0;34m\u001B[0m\u001B[0;34m\u001B[0m\u001B[0m\n\u001B[0m\u001B[1;32m    620\u001B[0m             \u001B[0;32mexcept\u001B[0m \u001B[0mKeyboardInterrupt\u001B[0m\u001B[0;34m:\u001B[0m\u001B[0;34m\u001B[0m\u001B[0;34m\u001B[0m\u001B[0m\n",
      "\u001B[0;32m/usr/local/lib/python3.10/dist-packages/tornado/platform/asyncio.py\u001B[0m in \u001B[0;36mstart\u001B[0;34m()\u001B[0m\n\u001B[1;32m    194\u001B[0m     \u001B[0;32mdef\u001B[0m \u001B[0mstart\u001B[0m\u001B[0;34m(\u001B[0m\u001B[0mself\u001B[0m\u001B[0;34m)\u001B[0m \u001B[0;34m->\u001B[0m \u001B[0;32mNone\u001B[0m\u001B[0;34m:\u001B[0m\u001B[0;34m\u001B[0m\u001B[0;34m\u001B[0m\u001B[0m\n\u001B[0;32m--> 195\u001B[0;31m         \u001B[0mself\u001B[0m\u001B[0;34m.\u001B[0m\u001B[0masyncio_loop\u001B[0m\u001B[0;34m.\u001B[0m\u001B[0mrun_forever\u001B[0m\u001B[0;34m(\u001B[0m\u001B[0;34m)\u001B[0m\u001B[0;34m\u001B[0m\u001B[0;34m\u001B[0m\u001B[0m\n\u001B[0m\u001B[1;32m    196\u001B[0m \u001B[0;34m\u001B[0m\u001B[0m\n",
      "\u001B[0;32m/usr/lib/python3.10/asyncio/base_events.py\u001B[0m in \u001B[0;36mrun_forever\u001B[0;34m()\u001B[0m\n\u001B[1;32m    602\u001B[0m             \u001B[0;32mwhile\u001B[0m \u001B[0;32mTrue\u001B[0m\u001B[0;34m:\u001B[0m\u001B[0;34m\u001B[0m\u001B[0;34m\u001B[0m\u001B[0m\n\u001B[0;32m--> 603\u001B[0;31m                 \u001B[0mself\u001B[0m\u001B[0;34m.\u001B[0m\u001B[0m_run_once\u001B[0m\u001B[0;34m(\u001B[0m\u001B[0;34m)\u001B[0m\u001B[0;34m\u001B[0m\u001B[0;34m\u001B[0m\u001B[0m\n\u001B[0m\u001B[1;32m    604\u001B[0m                 \u001B[0;32mif\u001B[0m \u001B[0mself\u001B[0m\u001B[0;34m.\u001B[0m\u001B[0m_stopping\u001B[0m\u001B[0;34m:\u001B[0m\u001B[0;34m\u001B[0m\u001B[0;34m\u001B[0m\u001B[0m\n",
      "\u001B[0;32m/usr/lib/python3.10/asyncio/base_events.py\u001B[0m in \u001B[0;36m_run_once\u001B[0;34m()\u001B[0m\n\u001B[1;32m   1908\u001B[0m             \u001B[0;32melse\u001B[0m\u001B[0;34m:\u001B[0m\u001B[0;34m\u001B[0m\u001B[0;34m\u001B[0m\u001B[0m\n\u001B[0;32m-> 1909\u001B[0;31m                 \u001B[0mhandle\u001B[0m\u001B[0;34m.\u001B[0m\u001B[0m_run\u001B[0m\u001B[0;34m(\u001B[0m\u001B[0;34m)\u001B[0m\u001B[0;34m\u001B[0m\u001B[0;34m\u001B[0m\u001B[0m\n\u001B[0m\u001B[1;32m   1910\u001B[0m         \u001B[0mhandle\u001B[0m \u001B[0;34m=\u001B[0m \u001B[0;32mNone\u001B[0m  \u001B[0;31m# Needed to break cycles when an exception occurs.\u001B[0m\u001B[0;34m\u001B[0m\u001B[0;34m\u001B[0m\u001B[0m\n",
      "\u001B[0;32m/usr/lib/python3.10/asyncio/events.py\u001B[0m in \u001B[0;36m_run\u001B[0;34m()\u001B[0m\n\u001B[1;32m     79\u001B[0m         \u001B[0;32mtry\u001B[0m\u001B[0;34m:\u001B[0m\u001B[0;34m\u001B[0m\u001B[0;34m\u001B[0m\u001B[0m\n\u001B[0;32m---> 80\u001B[0;31m             \u001B[0mself\u001B[0m\u001B[0;34m.\u001B[0m\u001B[0m_context\u001B[0m\u001B[0;34m.\u001B[0m\u001B[0mrun\u001B[0m\u001B[0;34m(\u001B[0m\u001B[0mself\u001B[0m\u001B[0;34m.\u001B[0m\u001B[0m_callback\u001B[0m\u001B[0;34m,\u001B[0m \u001B[0;34m*\u001B[0m\u001B[0mself\u001B[0m\u001B[0;34m.\u001B[0m\u001B[0m_args\u001B[0m\u001B[0;34m)\u001B[0m\u001B[0;34m\u001B[0m\u001B[0;34m\u001B[0m\u001B[0m\n\u001B[0m\u001B[1;32m     81\u001B[0m         \u001B[0;32mexcept\u001B[0m \u001B[0;34m(\u001B[0m\u001B[0mSystemExit\u001B[0m\u001B[0;34m,\u001B[0m \u001B[0mKeyboardInterrupt\u001B[0m\u001B[0;34m)\u001B[0m\u001B[0;34m:\u001B[0m\u001B[0;34m\u001B[0m\u001B[0;34m\u001B[0m\u001B[0m\n",
      "\u001B[0;32m/usr/local/lib/python3.10/dist-packages/tornado/ioloop.py\u001B[0m in \u001B[0;36m<lambda>\u001B[0;34m()\u001B[0m\n\u001B[1;32m    684\u001B[0m             future.add_done_callback(\n\u001B[0;32m--> 685\u001B[0;31m                 \u001B[0;32mlambda\u001B[0m \u001B[0mf\u001B[0m\u001B[0;34m:\u001B[0m \u001B[0mself\u001B[0m\u001B[0;34m.\u001B[0m\u001B[0m_run_callback\u001B[0m\u001B[0;34m(\u001B[0m\u001B[0mfunctools\u001B[0m\u001B[0;34m.\u001B[0m\u001B[0mpartial\u001B[0m\u001B[0;34m(\u001B[0m\u001B[0mcallback\u001B[0m\u001B[0;34m,\u001B[0m \u001B[0mfuture\u001B[0m\u001B[0;34m)\u001B[0m\u001B[0;34m)\u001B[0m\u001B[0;34m\u001B[0m\u001B[0;34m\u001B[0m\u001B[0m\n\u001B[0m\u001B[1;32m    686\u001B[0m             )\n",
      "\u001B[0;32m/usr/local/lib/python3.10/dist-packages/tornado/ioloop.py\u001B[0m in \u001B[0;36m_run_callback\u001B[0;34m()\u001B[0m\n\u001B[1;32m    737\u001B[0m         \u001B[0;32mtry\u001B[0m\u001B[0;34m:\u001B[0m\u001B[0;34m\u001B[0m\u001B[0;34m\u001B[0m\u001B[0m\n\u001B[0;32m--> 738\u001B[0;31m             \u001B[0mret\u001B[0m \u001B[0;34m=\u001B[0m \u001B[0mcallback\u001B[0m\u001B[0;34m(\u001B[0m\u001B[0;34m)\u001B[0m\u001B[0;34m\u001B[0m\u001B[0;34m\u001B[0m\u001B[0m\n\u001B[0m\u001B[1;32m    739\u001B[0m             \u001B[0;32mif\u001B[0m \u001B[0mret\u001B[0m \u001B[0;32mis\u001B[0m \u001B[0;32mnot\u001B[0m \u001B[0;32mNone\u001B[0m\u001B[0;34m:\u001B[0m\u001B[0;34m\u001B[0m\u001B[0;34m\u001B[0m\u001B[0m\n",
      "\u001B[0;32m/usr/local/lib/python3.10/dist-packages/tornado/gen.py\u001B[0m in \u001B[0;36minner\u001B[0;34m()\u001B[0m\n\u001B[1;32m    824\u001B[0m                 \u001B[0mf\u001B[0m \u001B[0;34m=\u001B[0m \u001B[0;32mNone\u001B[0m  \u001B[0;31m# noqa: F841\u001B[0m\u001B[0;34m\u001B[0m\u001B[0;34m\u001B[0m\u001B[0m\n\u001B[0;32m--> 825\u001B[0;31m                 \u001B[0mself\u001B[0m\u001B[0;34m.\u001B[0m\u001B[0mctx_run\u001B[0m\u001B[0;34m(\u001B[0m\u001B[0mself\u001B[0m\u001B[0;34m.\u001B[0m\u001B[0mrun\u001B[0m\u001B[0;34m)\u001B[0m\u001B[0;34m\u001B[0m\u001B[0;34m\u001B[0m\u001B[0m\n\u001B[0m\u001B[1;32m    826\u001B[0m \u001B[0;34m\u001B[0m\u001B[0m\n",
      "\u001B[0;32m/usr/local/lib/python3.10/dist-packages/tornado/gen.py\u001B[0m in \u001B[0;36mrun\u001B[0;34m()\u001B[0m\n\u001B[1;32m    785\u001B[0m                     \u001B[0;32melse\u001B[0m\u001B[0;34m:\u001B[0m\u001B[0;34m\u001B[0m\u001B[0;34m\u001B[0m\u001B[0m\n\u001B[0;32m--> 786\u001B[0;31m                         \u001B[0myielded\u001B[0m \u001B[0;34m=\u001B[0m \u001B[0mself\u001B[0m\u001B[0;34m.\u001B[0m\u001B[0mgen\u001B[0m\u001B[0;34m.\u001B[0m\u001B[0msend\u001B[0m\u001B[0;34m(\u001B[0m\u001B[0mvalue\u001B[0m\u001B[0;34m)\u001B[0m\u001B[0;34m\u001B[0m\u001B[0;34m\u001B[0m\u001B[0m\n\u001B[0m\u001B[1;32m    787\u001B[0m \u001B[0;34m\u001B[0m\u001B[0m\n",
      "\u001B[0;32m/usr/local/lib/python3.10/dist-packages/ipykernel/kernelbase.py\u001B[0m in \u001B[0;36mprocess_one\u001B[0;34m()\u001B[0m\n\u001B[1;32m    360\u001B[0m                 \u001B[0;32mreturn\u001B[0m \u001B[0;32mNone\u001B[0m\u001B[0;34m\u001B[0m\u001B[0;34m\u001B[0m\u001B[0m\n\u001B[0;32m--> 361\u001B[0;31m         \u001B[0;32myield\u001B[0m \u001B[0mgen\u001B[0m\u001B[0;34m.\u001B[0m\u001B[0mmaybe_future\u001B[0m\u001B[0;34m(\u001B[0m\u001B[0mdispatch\u001B[0m\u001B[0;34m(\u001B[0m\u001B[0;34m*\u001B[0m\u001B[0margs\u001B[0m\u001B[0;34m)\u001B[0m\u001B[0;34m)\u001B[0m\u001B[0;34m\u001B[0m\u001B[0;34m\u001B[0m\u001B[0m\n\u001B[0m\u001B[1;32m    362\u001B[0m \u001B[0;34m\u001B[0m\u001B[0m\n",
      "\u001B[0;32m/usr/local/lib/python3.10/dist-packages/tornado/gen.py\u001B[0m in \u001B[0;36mwrapper\u001B[0;34m()\u001B[0m\n\u001B[1;32m    233\u001B[0m                 \u001B[0;32mtry\u001B[0m\u001B[0;34m:\u001B[0m\u001B[0;34m\u001B[0m\u001B[0;34m\u001B[0m\u001B[0m\n\u001B[0;32m--> 234\u001B[0;31m                     \u001B[0myielded\u001B[0m \u001B[0;34m=\u001B[0m \u001B[0mctx_run\u001B[0m\u001B[0;34m(\u001B[0m\u001B[0mnext\u001B[0m\u001B[0;34m,\u001B[0m \u001B[0mresult\u001B[0m\u001B[0;34m)\u001B[0m\u001B[0;34m\u001B[0m\u001B[0;34m\u001B[0m\u001B[0m\n\u001B[0m\u001B[1;32m    235\u001B[0m                 \u001B[0;32mexcept\u001B[0m \u001B[0;34m(\u001B[0m\u001B[0mStopIteration\u001B[0m\u001B[0;34m,\u001B[0m \u001B[0mReturn\u001B[0m\u001B[0;34m)\u001B[0m \u001B[0;32mas\u001B[0m \u001B[0me\u001B[0m\u001B[0;34m:\u001B[0m\u001B[0;34m\u001B[0m\u001B[0;34m\u001B[0m\u001B[0m\n",
      "\u001B[0;32m/usr/local/lib/python3.10/dist-packages/ipykernel/kernelbase.py\u001B[0m in \u001B[0;36mdispatch_shell\u001B[0;34m()\u001B[0m\n\u001B[1;32m    260\u001B[0m             \u001B[0;32mtry\u001B[0m\u001B[0;34m:\u001B[0m\u001B[0;34m\u001B[0m\u001B[0;34m\u001B[0m\u001B[0m\n\u001B[0;32m--> 261\u001B[0;31m                 \u001B[0;32myield\u001B[0m \u001B[0mgen\u001B[0m\u001B[0;34m.\u001B[0m\u001B[0mmaybe_future\u001B[0m\u001B[0;34m(\u001B[0m\u001B[0mhandler\u001B[0m\u001B[0;34m(\u001B[0m\u001B[0mstream\u001B[0m\u001B[0;34m,\u001B[0m \u001B[0midents\u001B[0m\u001B[0;34m,\u001B[0m \u001B[0mmsg\u001B[0m\u001B[0;34m)\u001B[0m\u001B[0;34m)\u001B[0m\u001B[0;34m\u001B[0m\u001B[0;34m\u001B[0m\u001B[0m\n\u001B[0m\u001B[1;32m    262\u001B[0m             \u001B[0;32mexcept\u001B[0m \u001B[0mException\u001B[0m\u001B[0;34m:\u001B[0m\u001B[0;34m\u001B[0m\u001B[0;34m\u001B[0m\u001B[0m\n",
      "\u001B[0;32m/usr/local/lib/python3.10/dist-packages/tornado/gen.py\u001B[0m in \u001B[0;36mwrapper\u001B[0;34m()\u001B[0m\n\u001B[1;32m    233\u001B[0m                 \u001B[0;32mtry\u001B[0m\u001B[0;34m:\u001B[0m\u001B[0;34m\u001B[0m\u001B[0;34m\u001B[0m\u001B[0m\n\u001B[0;32m--> 234\u001B[0;31m                     \u001B[0myielded\u001B[0m \u001B[0;34m=\u001B[0m \u001B[0mctx_run\u001B[0m\u001B[0;34m(\u001B[0m\u001B[0mnext\u001B[0m\u001B[0;34m,\u001B[0m \u001B[0mresult\u001B[0m\u001B[0;34m)\u001B[0m\u001B[0;34m\u001B[0m\u001B[0;34m\u001B[0m\u001B[0m\n\u001B[0m\u001B[1;32m    235\u001B[0m                 \u001B[0;32mexcept\u001B[0m \u001B[0;34m(\u001B[0m\u001B[0mStopIteration\u001B[0m\u001B[0;34m,\u001B[0m \u001B[0mReturn\u001B[0m\u001B[0;34m)\u001B[0m \u001B[0;32mas\u001B[0m \u001B[0me\u001B[0m\u001B[0;34m:\u001B[0m\u001B[0;34m\u001B[0m\u001B[0;34m\u001B[0m\u001B[0m\n",
      "\u001B[0;32m/usr/local/lib/python3.10/dist-packages/ipykernel/kernelbase.py\u001B[0m in \u001B[0;36mexecute_request\u001B[0;34m()\u001B[0m\n\u001B[1;32m    538\u001B[0m         reply_content = yield gen.maybe_future(\n\u001B[0;32m--> 539\u001B[0;31m             self.do_execute(\n\u001B[0m\u001B[1;32m    540\u001B[0m                 \u001B[0mcode\u001B[0m\u001B[0;34m,\u001B[0m \u001B[0msilent\u001B[0m\u001B[0;34m,\u001B[0m \u001B[0mstore_history\u001B[0m\u001B[0;34m,\u001B[0m\u001B[0;34m\u001B[0m\u001B[0;34m\u001B[0m\u001B[0m\n",
      "\u001B[0;32m/usr/local/lib/python3.10/dist-packages/tornado/gen.py\u001B[0m in \u001B[0;36mwrapper\u001B[0;34m()\u001B[0m\n\u001B[1;32m    233\u001B[0m                 \u001B[0;32mtry\u001B[0m\u001B[0;34m:\u001B[0m\u001B[0;34m\u001B[0m\u001B[0;34m\u001B[0m\u001B[0m\n\u001B[0;32m--> 234\u001B[0;31m                     \u001B[0myielded\u001B[0m \u001B[0;34m=\u001B[0m \u001B[0mctx_run\u001B[0m\u001B[0;34m(\u001B[0m\u001B[0mnext\u001B[0m\u001B[0;34m,\u001B[0m \u001B[0mresult\u001B[0m\u001B[0;34m)\u001B[0m\u001B[0;34m\u001B[0m\u001B[0;34m\u001B[0m\u001B[0m\n\u001B[0m\u001B[1;32m    235\u001B[0m                 \u001B[0;32mexcept\u001B[0m \u001B[0;34m(\u001B[0m\u001B[0mStopIteration\u001B[0m\u001B[0;34m,\u001B[0m \u001B[0mReturn\u001B[0m\u001B[0;34m)\u001B[0m \u001B[0;32mas\u001B[0m \u001B[0me\u001B[0m\u001B[0;34m:\u001B[0m\u001B[0;34m\u001B[0m\u001B[0;34m\u001B[0m\u001B[0m\n",
      "\u001B[0;32m/usr/local/lib/python3.10/dist-packages/ipykernel/ipkernel.py\u001B[0m in \u001B[0;36mdo_execute\u001B[0;34m()\u001B[0m\n\u001B[1;32m    301\u001B[0m                 \u001B[0;31m# letting shell dispatch to loop runners\u001B[0m\u001B[0;34m\u001B[0m\u001B[0;34m\u001B[0m\u001B[0m\n\u001B[0;32m--> 302\u001B[0;31m                 \u001B[0mres\u001B[0m \u001B[0;34m=\u001B[0m \u001B[0mshell\u001B[0m\u001B[0;34m.\u001B[0m\u001B[0mrun_cell\u001B[0m\u001B[0;34m(\u001B[0m\u001B[0mcode\u001B[0m\u001B[0;34m,\u001B[0m \u001B[0mstore_history\u001B[0m\u001B[0;34m=\u001B[0m\u001B[0mstore_history\u001B[0m\u001B[0;34m,\u001B[0m \u001B[0msilent\u001B[0m\u001B[0;34m=\u001B[0m\u001B[0msilent\u001B[0m\u001B[0;34m)\u001B[0m\u001B[0;34m\u001B[0m\u001B[0;34m\u001B[0m\u001B[0m\n\u001B[0m\u001B[1;32m    303\u001B[0m         \u001B[0;32mfinally\u001B[0m\u001B[0;34m:\u001B[0m\u001B[0;34m\u001B[0m\u001B[0;34m\u001B[0m\u001B[0m\n",
      "\u001B[0;32m/usr/local/lib/python3.10/dist-packages/ipykernel/zmqshell.py\u001B[0m in \u001B[0;36mrun_cell\u001B[0;34m()\u001B[0m\n\u001B[1;32m    538\u001B[0m         \u001B[0mself\u001B[0m\u001B[0;34m.\u001B[0m\u001B[0m_last_traceback\u001B[0m \u001B[0;34m=\u001B[0m \u001B[0;32mNone\u001B[0m\u001B[0;34m\u001B[0m\u001B[0;34m\u001B[0m\u001B[0m\n\u001B[0;32m--> 539\u001B[0;31m         \u001B[0;32mreturn\u001B[0m \u001B[0msuper\u001B[0m\u001B[0;34m(\u001B[0m\u001B[0mZMQInteractiveShell\u001B[0m\u001B[0;34m,\u001B[0m \u001B[0mself\u001B[0m\u001B[0;34m)\u001B[0m\u001B[0;34m.\u001B[0m\u001B[0mrun_cell\u001B[0m\u001B[0;34m(\u001B[0m\u001B[0;34m*\u001B[0m\u001B[0margs\u001B[0m\u001B[0;34m,\u001B[0m \u001B[0;34m**\u001B[0m\u001B[0mkwargs\u001B[0m\u001B[0;34m)\u001B[0m\u001B[0;34m\u001B[0m\u001B[0;34m\u001B[0m\u001B[0m\n\u001B[0m\u001B[1;32m    540\u001B[0m \u001B[0;34m\u001B[0m\u001B[0m\n",
      "\u001B[0;32m/usr/local/lib/python3.10/dist-packages/IPython/core/interactiveshell.py\u001B[0m in \u001B[0;36mrun_cell\u001B[0;34m()\u001B[0m\n\u001B[1;32m   2974\u001B[0m         \u001B[0;32mtry\u001B[0m\u001B[0;34m:\u001B[0m\u001B[0;34m\u001B[0m\u001B[0;34m\u001B[0m\u001B[0m\n\u001B[0;32m-> 2975\u001B[0;31m             result = self._run_cell(\n\u001B[0m\u001B[1;32m   2976\u001B[0m                 \u001B[0mraw_cell\u001B[0m\u001B[0;34m,\u001B[0m \u001B[0mstore_history\u001B[0m\u001B[0;34m,\u001B[0m \u001B[0msilent\u001B[0m\u001B[0;34m,\u001B[0m \u001B[0mshell_futures\u001B[0m\u001B[0;34m,\u001B[0m \u001B[0mcell_id\u001B[0m\u001B[0;34m\u001B[0m\u001B[0;34m\u001B[0m\u001B[0m\n",
      "\u001B[0;32m/usr/local/lib/python3.10/dist-packages/IPython/core/interactiveshell.py\u001B[0m in \u001B[0;36m_run_cell\u001B[0;34m()\u001B[0m\n\u001B[1;32m   3029\u001B[0m         \u001B[0;32mtry\u001B[0m\u001B[0;34m:\u001B[0m\u001B[0;34m\u001B[0m\u001B[0;34m\u001B[0m\u001B[0m\n\u001B[0;32m-> 3030\u001B[0;31m             \u001B[0;32mreturn\u001B[0m \u001B[0mrunner\u001B[0m\u001B[0;34m(\u001B[0m\u001B[0mcoro\u001B[0m\u001B[0;34m)\u001B[0m\u001B[0;34m\u001B[0m\u001B[0;34m\u001B[0m\u001B[0m\n\u001B[0m\u001B[1;32m   3031\u001B[0m         \u001B[0;32mexcept\u001B[0m \u001B[0mBaseException\u001B[0m \u001B[0;32mas\u001B[0m \u001B[0me\u001B[0m\u001B[0;34m:\u001B[0m\u001B[0;34m\u001B[0m\u001B[0;34m\u001B[0m\u001B[0m\n",
      "\u001B[0;32m/usr/local/lib/python3.10/dist-packages/IPython/core/async_helpers.py\u001B[0m in \u001B[0;36m_pseudo_sync_runner\u001B[0;34m()\u001B[0m\n\u001B[1;32m     77\u001B[0m     \u001B[0;32mtry\u001B[0m\u001B[0;34m:\u001B[0m\u001B[0;34m\u001B[0m\u001B[0;34m\u001B[0m\u001B[0m\n\u001B[0;32m---> 78\u001B[0;31m         \u001B[0mcoro\u001B[0m\u001B[0;34m.\u001B[0m\u001B[0msend\u001B[0m\u001B[0;34m(\u001B[0m\u001B[0;32mNone\u001B[0m\u001B[0;34m)\u001B[0m\u001B[0;34m\u001B[0m\u001B[0;34m\u001B[0m\u001B[0m\n\u001B[0m\u001B[1;32m     79\u001B[0m     \u001B[0;32mexcept\u001B[0m \u001B[0mStopIteration\u001B[0m \u001B[0;32mas\u001B[0m \u001B[0mexc\u001B[0m\u001B[0;34m:\u001B[0m\u001B[0;34m\u001B[0m\u001B[0;34m\u001B[0m\u001B[0m\n",
      "\u001B[0;32m/usr/local/lib/python3.10/dist-packages/IPython/core/interactiveshell.py\u001B[0m in \u001B[0;36mrun_cell_async\u001B[0;34m()\u001B[0m\n\u001B[1;32m   3256\u001B[0m \u001B[0;34m\u001B[0m\u001B[0m\n\u001B[0;32m-> 3257\u001B[0;31m                 has_raised = await self.run_ast_nodes(code_ast.body, cell_name,\n\u001B[0m\u001B[1;32m   3258\u001B[0m                        interactivity=interactivity, compiler=compiler, result=result)\n",
      "\u001B[0;32m/usr/local/lib/python3.10/dist-packages/IPython/core/interactiveshell.py\u001B[0m in \u001B[0;36mrun_ast_nodes\u001B[0;34m()\u001B[0m\n\u001B[1;32m   3472\u001B[0m                         \u001B[0masy\u001B[0m \u001B[0;34m=\u001B[0m \u001B[0mcompare\u001B[0m\u001B[0;34m(\u001B[0m\u001B[0mcode\u001B[0m\u001B[0;34m)\u001B[0m\u001B[0;34m\u001B[0m\u001B[0;34m\u001B[0m\u001B[0m\n\u001B[0;32m-> 3473\u001B[0;31m                     \u001B[0;32mif\u001B[0m \u001B[0;34m(\u001B[0m\u001B[0;32mawait\u001B[0m \u001B[0mself\u001B[0m\u001B[0;34m.\u001B[0m\u001B[0mrun_code\u001B[0m\u001B[0;34m(\u001B[0m\u001B[0mcode\u001B[0m\u001B[0;34m,\u001B[0m \u001B[0mresult\u001B[0m\u001B[0;34m,\u001B[0m  \u001B[0masync_\u001B[0m\u001B[0;34m=\u001B[0m\u001B[0masy\u001B[0m\u001B[0;34m)\u001B[0m\u001B[0;34m)\u001B[0m\u001B[0;34m:\u001B[0m\u001B[0;34m\u001B[0m\u001B[0;34m\u001B[0m\u001B[0m\n\u001B[0m\u001B[1;32m   3474\u001B[0m                         \u001B[0;32mreturn\u001B[0m \u001B[0;32mTrue\u001B[0m\u001B[0;34m\u001B[0m\u001B[0;34m\u001B[0m\u001B[0m\n",
      "\u001B[0;32m/usr/local/lib/python3.10/dist-packages/IPython/core/interactiveshell.py\u001B[0m in \u001B[0;36mrun_code\u001B[0;34m()\u001B[0m\n\u001B[1;32m   3552\u001B[0m                 \u001B[0;32melse\u001B[0m\u001B[0;34m:\u001B[0m\u001B[0;34m\u001B[0m\u001B[0;34m\u001B[0m\u001B[0m\n\u001B[0;32m-> 3553\u001B[0;31m                     \u001B[0mexec\u001B[0m\u001B[0;34m(\u001B[0m\u001B[0mcode_obj\u001B[0m\u001B[0;34m,\u001B[0m \u001B[0mself\u001B[0m\u001B[0;34m.\u001B[0m\u001B[0muser_global_ns\u001B[0m\u001B[0;34m,\u001B[0m \u001B[0mself\u001B[0m\u001B[0;34m.\u001B[0m\u001B[0muser_ns\u001B[0m\u001B[0;34m)\u001B[0m\u001B[0;34m\u001B[0m\u001B[0;34m\u001B[0m\u001B[0m\n\u001B[0m\u001B[1;32m   3554\u001B[0m             \u001B[0;32mfinally\u001B[0m\u001B[0;34m:\u001B[0m\u001B[0;34m\u001B[0m\u001B[0;34m\u001B[0m\u001B[0m\n",
      "\u001B[0;32m<ipython-input-7-7faa16af25c5>\u001B[0m in \u001B[0;36m<cell line: 1>\u001B[0;34m()\u001B[0m\n\u001B[0;32m----> 1\u001B[0;31m tft.training_scripts.train_on_single_device(\n\u001B[0m\u001B[1;32m      2\u001B[0m     \u001B[0mdata_dir\u001B[0m\u001B[0;34m=\u001B[0m\u001B[0mdata_path\u001B[0m\u001B[0;34m,\u001B[0m\u001B[0;34m\u001B[0m\u001B[0;34m\u001B[0m\u001B[0m\n\u001B[1;32m      3\u001B[0m     \u001B[0mbatch_size\u001B[0m\u001B[0;34m=\u001B[0m\u001B[0;36m64\u001B[0m\u001B[0;34m,\u001B[0m\u001B[0;34m\u001B[0m\u001B[0;34m\u001B[0m\u001B[0m\n",
      "\u001B[0;32m/usr/local/lib/python3.10/dist-packages/temporal_fusion_transformer/src/training_scripts.py\u001B[0m in \u001B[0;36mtrain_on_single_device\u001B[0;34m()\u001B[0m\n\u001B[1;32m    101\u001B[0m     \u001B[0;31m# logging.info(f\"Model -> {model_str}\")\u001B[0m\u001B[0;34m\u001B[0m\u001B[0;34m\u001B[0m\u001B[0m\n\u001B[0;32m--> 102\u001B[0;31m     \u001B[0mparams\u001B[0m \u001B[0;34m=\u001B[0m \u001B[0mtraining_model\u001B[0m\u001B[0;34m.\u001B[0m\u001B[0minit\u001B[0m\u001B[0;34m(\u001B[0m\u001B[0mparams_key\u001B[0m\u001B[0;34m,\u001B[0m \u001B[0mfirst_x\u001B[0m\u001B[0;34m)\u001B[0m\u001B[0;34m[\u001B[0m\u001B[0;34m\"params\"\u001B[0m\u001B[0;34m]\u001B[0m\u001B[0;34m\u001B[0m\u001B[0;34m\u001B[0m\u001B[0m\n\u001B[0m\u001B[1;32m    103\u001B[0m \u001B[0;34m\u001B[0m\u001B[0m\n",
      "\u001B[0;32m/usr/local/lib/python3.10/dist-packages/jaxtyping/_decorator.py\u001B[0m in \u001B[0;36mwrapped_fn\u001B[0;34m()\u001B[0m\n\u001B[1;32m    120\u001B[0m             \u001B[0;32mtry\u001B[0m\u001B[0;34m:\u001B[0m\u001B[0;34m\u001B[0m\u001B[0;34m\u001B[0m\u001B[0m\n\u001B[0;32m--> 121\u001B[0;31m                 \u001B[0;32mreturn\u001B[0m \u001B[0mfn\u001B[0m\u001B[0;34m(\u001B[0m\u001B[0;34m*\u001B[0m\u001B[0margs\u001B[0m\u001B[0;34m,\u001B[0m \u001B[0;34m**\u001B[0m\u001B[0mkwargs\u001B[0m\u001B[0;34m)\u001B[0m\u001B[0;34m\u001B[0m\u001B[0;34m\u001B[0m\u001B[0m\n\u001B[0m\u001B[1;32m    122\u001B[0m             \u001B[0;32mfinally\u001B[0m\u001B[0;34m:\u001B[0m\u001B[0;34m\u001B[0m\u001B[0;34m\u001B[0m\u001B[0m\n",
      "\u001B[0;32m/usr/local/lib/python3.10/dist-packages/temporal_fusion_transformer/src/tft_model.py\u001B[0m in \u001B[0;36m__call__\u001B[0;34m()\u001B[0m\n\u001B[1;32m    155\u001B[0m         \u001B[0mfuture_inputs\u001B[0m \u001B[0;34m=\u001B[0m \u001B[0membeddings\u001B[0m\u001B[0;34m.\u001B[0m\u001B[0mknown\u001B[0m\u001B[0;34m[\u001B[0m\u001B[0;34m:\u001B[0m\u001B[0;34m,\u001B[0m \u001B[0mself\u001B[0m\u001B[0;34m.\u001B[0m\u001B[0mnum_encoder_steps\u001B[0m \u001B[0;34m:\u001B[0m \u001B[0mself\u001B[0m\u001B[0;34m.\u001B[0m\u001B[0mtotal_time_steps\u001B[0m\u001B[0;34m]\u001B[0m\u001B[0;34m\u001B[0m\u001B[0;34m\u001B[0m\u001B[0m\n\u001B[0;32m--> 156\u001B[0;31m         historical_features, historical_flags, _ = VariableSelectionNetwork(\n\u001B[0m\u001B[1;32m    157\u001B[0m             \u001B[0mlatent_dim\u001B[0m\u001B[0;34m=\u001B[0m\u001B[0mself\u001B[0m\u001B[0;34m.\u001B[0m\u001B[0mlatent_dim\u001B[0m\u001B[0;34m,\u001B[0m\u001B[0;34m\u001B[0m\u001B[0;34m\u001B[0m\u001B[0m\n",
      "\u001B[0;32m/usr/local/lib/python3.10/dist-packages/temporal_fusion_transformer/src/tft_layers.py\u001B[0m in \u001B[0;36m__call__\u001B[0;34m()\u001B[0m\n\u001B[1;32m    342\u001B[0m     ) -> Tuple[jnp.ndarray, jnp.ndarray, jnp.ndarray]:\n\u001B[0;32m--> 343\u001B[0;31m         mlp_outputs, static_gate = GatedResidualNetwork(\n\u001B[0m\u001B[1;32m    344\u001B[0m             \u001B[0mlatent_dim\u001B[0m\u001B[0;34m=\u001B[0m\u001B[0mself\u001B[0m\u001B[0;34m.\u001B[0m\u001B[0mlatent_dim\u001B[0m\u001B[0;34m,\u001B[0m\u001B[0;34m\u001B[0m\u001B[0;34m\u001B[0m\u001B[0m\n",
      "\u001B[0;32m/usr/local/lib/python3.10/dist-packages/temporal_fusion_transformer/src/tft_layers.py\u001B[0m in \u001B[0;36m__call__\u001B[0;34m()\u001B[0m\n\u001B[1;32m    128\u001B[0m \u001B[0;34m\u001B[0m\u001B[0m\n\u001B[0;32m--> 129\u001B[0;31m         \u001B[0mx_skip\u001B[0m \u001B[0;34m=\u001B[0m \u001B[0mskip_connection\u001B[0m\u001B[0;34m(\u001B[0m\u001B[0minputs\u001B[0m\u001B[0;34m)\u001B[0m\u001B[0;34m\u001B[0m\u001B[0;34m\u001B[0m\u001B[0m\n\u001B[0m\u001B[1;32m    130\u001B[0m         \u001B[0mx\u001B[0m \u001B[0;34m=\u001B[0m \u001B[0mpre_elu_dense\u001B[0m\u001B[0;34m(\u001B[0m\u001B[0minputs\u001B[0m\u001B[0;34m)\u001B[0m\u001B[0;34m\u001B[0m\u001B[0;34m\u001B[0m\u001B[0m\n",
      "\u001B[0;32m/usr/local/lib/python3.10/dist-packages/temporal_fusion_transformer/src/tft_layers.py\u001B[0m in \u001B[0;36m__call__\u001B[0;34m()\u001B[0m\n\u001B[1;32m     28\u001B[0m         \u001B[0;31m# (num_samples * timesteps, ...)\u001B[0m\u001B[0;34m\u001B[0m\u001B[0;34m\u001B[0m\u001B[0m\n\u001B[0;32m---> 29\u001B[0;31m         \u001B[0my\u001B[0m \u001B[0;34m=\u001B[0m \u001B[0mself\u001B[0m\u001B[0;34m.\u001B[0m\u001B[0mlayer\u001B[0m\u001B[0;34m(\u001B[0m\u001B[0minputs\u001B[0m\u001B[0;34m,\u001B[0m \u001B[0;34m**\u001B[0m\u001B[0mkwargs\u001B[0m\u001B[0;34m)\u001B[0m\u001B[0;34m\u001B[0m\u001B[0;34m\u001B[0m\u001B[0m\n\u001B[0m\u001B[1;32m     30\u001B[0m         \u001B[0;31m# Reconstruct the output shape by re-splitting the 0th dimension\u001B[0m\u001B[0;34m\u001B[0m\u001B[0;34m\u001B[0m\u001B[0m\n",
      "\u001B[0;32m/usr/local/lib/python3.10/dist-packages/flax/linen/linear.py\u001B[0m in \u001B[0;36m__call__\u001B[0;34m()\u001B[0m\n\u001B[1;32m    238\u001B[0m     \u001B[0minputs\u001B[0m\u001B[0;34m,\u001B[0m \u001B[0mkernel\u001B[0m\u001B[0;34m,\u001B[0m \u001B[0mbias\u001B[0m \u001B[0;34m=\u001B[0m \u001B[0mpromote_dtype\u001B[0m\u001B[0;34m(\u001B[0m\u001B[0minputs\u001B[0m\u001B[0;34m,\u001B[0m \u001B[0mkernel\u001B[0m\u001B[0;34m,\u001B[0m \u001B[0mbias\u001B[0m\u001B[0;34m,\u001B[0m \u001B[0mdtype\u001B[0m\u001B[0;34m=\u001B[0m\u001B[0mself\u001B[0m\u001B[0;34m.\u001B[0m\u001B[0mdtype\u001B[0m\u001B[0;34m)\u001B[0m\u001B[0;34m\u001B[0m\u001B[0;34m\u001B[0m\u001B[0m\n\u001B[0;32m--> 239\u001B[0;31m     y = self.dot_general(\n\u001B[0m\u001B[1;32m    240\u001B[0m         \u001B[0minputs\u001B[0m\u001B[0;34m,\u001B[0m\u001B[0;34m\u001B[0m\u001B[0;34m\u001B[0m\u001B[0m\n",
      "\u001B[0;31mJaxStackTraceBeforeTransformation\u001B[0m: FloatingPointError: invalid value (nan) encountered in jit(dot_general)\n\nThe preceding stack trace is the source of the JAX operation that, once transformed by JAX, triggered the following exception.\n\n--------------------",
      "\nThe above exception was the direct cause of the following exception:\n",
      "\u001B[0;31mFloatingPointError\u001B[0m                        Traceback (most recent call last)",
      "\u001B[0;32m<ipython-input-7-7faa16af25c5>\u001B[0m in \u001B[0;36m<cell line: 1>\u001B[0;34m()\u001B[0m\n\u001B[0;32m----> 1\u001B[0;31m tft.training_scripts.train_on_single_device(\n\u001B[0m\u001B[1;32m      2\u001B[0m     \u001B[0mdata_dir\u001B[0m\u001B[0;34m=\u001B[0m\u001B[0mdata_path\u001B[0m\u001B[0;34m,\u001B[0m\u001B[0;34m\u001B[0m\u001B[0;34m\u001B[0m\u001B[0m\n\u001B[1;32m      3\u001B[0m     \u001B[0mbatch_size\u001B[0m\u001B[0;34m=\u001B[0m\u001B[0;36m64\u001B[0m\u001B[0;34m,\u001B[0m\u001B[0;34m\u001B[0m\u001B[0;34m\u001B[0m\u001B[0m\n\u001B[1;32m      4\u001B[0m     \u001B[0mexperiment_name\u001B[0m\u001B[0;34m=\u001B[0m\u001B[0;34m\"electricity\"\u001B[0m\u001B[0;34m,\u001B[0m\u001B[0;34m\u001B[0m\u001B[0;34m\u001B[0m\u001B[0m\n\u001B[1;32m      5\u001B[0m     \u001B[0mmixed_precision\u001B[0m\u001B[0;34m=\u001B[0m\u001B[0;32mTrue\u001B[0m\u001B[0;34m,\u001B[0m\u001B[0;34m\u001B[0m\u001B[0;34m\u001B[0m\u001B[0m\n",
      "\u001B[0;32m/usr/local/lib/python3.10/dist-packages/temporal_fusion_transformer/src/training_scripts.py\u001B[0m in \u001B[0;36mtrain_on_single_device\u001B[0;34m(data_dir, batch_size, experiment_name, config, epochs, mixed_precision, jit_module, save_path)\u001B[0m\n\u001B[1;32m    100\u001B[0m     \u001B[0;31m# model_str = training_model.tabulate(params_key, first_x)\u001B[0m\u001B[0;34m\u001B[0m\u001B[0;34m\u001B[0m\u001B[0m\n\u001B[1;32m    101\u001B[0m     \u001B[0;31m# logging.info(f\"Model -> {model_str}\")\u001B[0m\u001B[0;34m\u001B[0m\u001B[0;34m\u001B[0m\u001B[0m\n\u001B[0;32m--> 102\u001B[0;31m     \u001B[0mparams\u001B[0m \u001B[0;34m=\u001B[0m \u001B[0mtraining_model\u001B[0m\u001B[0;34m.\u001B[0m\u001B[0minit\u001B[0m\u001B[0;34m(\u001B[0m\u001B[0mparams_key\u001B[0m\u001B[0;34m,\u001B[0m \u001B[0mfirst_x\u001B[0m\u001B[0;34m)\u001B[0m\u001B[0;34m[\u001B[0m\u001B[0;34m\"params\"\u001B[0m\u001B[0;34m]\u001B[0m\u001B[0;34m\u001B[0m\u001B[0;34m\u001B[0m\u001B[0m\n\u001B[0m\u001B[1;32m    103\u001B[0m \u001B[0;34m\u001B[0m\u001B[0m\n\u001B[1;32m    104\u001B[0m     \u001B[0mlearning_rate\u001B[0m \u001B[0;34m=\u001B[0m \u001B[0mconfig\u001B[0m\u001B[0;34m.\u001B[0m\u001B[0moptimizer\u001B[0m\u001B[0;34m.\u001B[0m\u001B[0mlearning_rate\u001B[0m\u001B[0;34m\u001B[0m\u001B[0;34m\u001B[0m\u001B[0m\n",
      "    \u001B[0;31m[... skipping hidden 29 frame]\u001B[0m\n",
      "\u001B[0;32m/usr/local/lib/python3.10/dist-packages/jax/_src/dispatch.py\u001B[0m in \u001B[0;36m_check_special\u001B[0;34m(name, dtype, buf)\u001B[0m\n\u001B[1;32m    439\u001B[0m   \u001B[0;32mif\u001B[0m \u001B[0mdtypes\u001B[0m\u001B[0;34m.\u001B[0m\u001B[0missubdtype\u001B[0m\u001B[0;34m(\u001B[0m\u001B[0mdtype\u001B[0m\u001B[0;34m,\u001B[0m \u001B[0mnp\u001B[0m\u001B[0;34m.\u001B[0m\u001B[0minexact\u001B[0m\u001B[0;34m)\u001B[0m\u001B[0;34m:\u001B[0m\u001B[0;34m\u001B[0m\u001B[0;34m\u001B[0m\u001B[0m\n\u001B[1;32m    440\u001B[0m     \u001B[0;32mif\u001B[0m \u001B[0mconfig\u001B[0m\u001B[0;34m.\u001B[0m\u001B[0mjax_debug_nans\u001B[0m \u001B[0;32mand\u001B[0m \u001B[0mnp\u001B[0m\u001B[0;34m.\u001B[0m\u001B[0many\u001B[0m\u001B[0;34m(\u001B[0m\u001B[0mnp\u001B[0m\u001B[0;34m.\u001B[0m\u001B[0misnan\u001B[0m\u001B[0;34m(\u001B[0m\u001B[0mnp\u001B[0m\u001B[0;34m.\u001B[0m\u001B[0masarray\u001B[0m\u001B[0;34m(\u001B[0m\u001B[0mbuf\u001B[0m\u001B[0;34m)\u001B[0m\u001B[0;34m)\u001B[0m\u001B[0;34m)\u001B[0m\u001B[0;34m:\u001B[0m\u001B[0;34m\u001B[0m\u001B[0;34m\u001B[0m\u001B[0m\n\u001B[0;32m--> 441\u001B[0;31m       \u001B[0;32mraise\u001B[0m \u001B[0mFloatingPointError\u001B[0m\u001B[0;34m(\u001B[0m\u001B[0;34mf\"invalid value (nan) encountered in {name}\"\u001B[0m\u001B[0;34m)\u001B[0m\u001B[0;34m\u001B[0m\u001B[0;34m\u001B[0m\u001B[0m\n\u001B[0m\u001B[1;32m    442\u001B[0m     \u001B[0;32mif\u001B[0m \u001B[0mconfig\u001B[0m\u001B[0;34m.\u001B[0m\u001B[0mjax_debug_infs\u001B[0m \u001B[0;32mand\u001B[0m \u001B[0mnp\u001B[0m\u001B[0;34m.\u001B[0m\u001B[0many\u001B[0m\u001B[0;34m(\u001B[0m\u001B[0mnp\u001B[0m\u001B[0;34m.\u001B[0m\u001B[0misinf\u001B[0m\u001B[0;34m(\u001B[0m\u001B[0mnp\u001B[0m\u001B[0;34m.\u001B[0m\u001B[0masarray\u001B[0m\u001B[0;34m(\u001B[0m\u001B[0mbuf\u001B[0m\u001B[0;34m)\u001B[0m\u001B[0;34m)\u001B[0m\u001B[0;34m)\u001B[0m\u001B[0;34m:\u001B[0m\u001B[0;34m\u001B[0m\u001B[0;34m\u001B[0m\u001B[0m\n\u001B[1;32m    443\u001B[0m       \u001B[0;32mraise\u001B[0m \u001B[0mFloatingPointError\u001B[0m\u001B[0;34m(\u001B[0m\u001B[0;34mf\"invalid value (inf) encountered in {name}\"\u001B[0m\u001B[0;34m)\u001B[0m\u001B[0;34m\u001B[0m\u001B[0;34m\u001B[0m\u001B[0m\n",
      "\u001B[0;31mFloatingPointError\u001B[0m: invalid value (nan) encountered in jit(dot_general)"
     ]
    }
   ],
   "source": [
    "tft.training.train_on_single_device(\n",
    "    data_dir=data_path,\n",
    "    batch_size=64,\n",
    "    experiment_name=\"electricity\",\n",
    "    mixed_precision=True,\n",
    "    config=config,\n",
    "    save_path=\"/content/drive/MyDrive/models\",\n",
    "    jit_module=True,\n",
    ")"
   ],
   "metadata": {
    "id": "3a400413ffc7a86d",
    "colab": {
     "base_uri": "https://localhost:8080/",
     "height": 685
    },
    "outputId": "b7548b48-bc04-43bd-9eab-75f5e95621bd"
   },
   "id": "3a400413ffc7a86d"
  }
 ],
 "metadata": {
  "kernelspec": {
   "display_name": "Python 3",
   "name": "python3"
  },
  "language_info": {
   "codemirror_mode": {
    "name": "ipython",
    "version": 2
   },
   "file_extension": ".py",
   "mimetype": "text/x-python",
   "name": "python",
   "nbconvert_exporter": "python",
   "pygments_lexer": "ipython2",
   "version": "2.7.6"
  },
  "colab": {
   "provenance": [],
   "gpuType": "T4"
  },
  "accelerator": "GPU"
 },
 "nbformat": 4,
 "nbformat_minor": 5
}
