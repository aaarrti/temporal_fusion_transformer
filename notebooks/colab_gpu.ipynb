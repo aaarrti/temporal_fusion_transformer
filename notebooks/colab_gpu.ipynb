{
  "cells": [
    {
      "cell_type": "code",
      "execution_count": 1,
      "outputs": [],
      "source": [
        "%load_ext tensorboard\n",
        "%load_ext autoreload\n",
        "%autoreload 2"
      ],
      "metadata": {
        "ExecuteTime": {
          "end_time": "2023-08-17T16:03:24.606361Z",
          "start_time": "2023-08-17T16:03:24.590406Z"
        },
        "id": "d3ac29453a2d0256"
      },
      "id": "d3ac29453a2d0256"
    },
    {
      "cell_type": "code",
      "source": [
        "!pip install 'temporal_fusion_transformer[training] @ git+https://github.com/aaarrti/temporal_fusion_transformer.git@develop'\n",
        "!pip install \"jax[cuda12_pip]\" -f https://storage.googleapis.com/jax-releases/jax_cuda_releases.html"
      ],
      "metadata": {
        "id": "NVImsMNCTMd7"
      },
      "id": "NVImsMNCTMd7",
      "execution_count": null,
      "outputs": []
    },
    {
      "cell_type": "markdown",
      "source": [
        "First, we'd need to upload dataset to GDrive"
      ],
      "metadata": {
        "collapsed": false,
        "id": "fa5e337f02a8f1cc"
      },
      "id": "fa5e337f02a8f1cc"
    },
    {
      "cell_type": "code",
      "execution_count": 2,
      "outputs": [
        {
          "output_type": "stream",
          "name": "stdout",
          "text": [
            "Drive already mounted at /content/drive; to attempt to forcibly remount, call drive.mount(\"/content/drive\", force_remount=True).\n"
          ]
        }
      ],
      "source": [
        "from google.colab import drive\n",
        "\n",
        "drive.mount(\"/content/drive\")\n",
        "data_path = \"/content/drive/MyDrive/datasets\""
      ],
      "metadata": {
        "id": "initial_id",
        "colab": {
          "base_uri": "https://localhost:8080/"
        },
        "outputId": "cea130ef-95f0-4fe2-f9df-541f6708dfe9"
      },
      "id": "initial_id"
    },
    {
      "cell_type": "code",
      "execution_count": 3,
      "outputs": [
        {
          "output_type": "execute_result",
          "data": {
            "text/plain": [
              "[gpu(id=0)]"
            ]
          },
          "metadata": {},
          "execution_count": 3
        }
      ],
      "source": [
        "import tensorflow as tf\n",
        "import jax\n",
        "from absl_extra import logging_utils\n",
        "import temporal_fusion_transformer as tft\n",
        "\n",
        "tf.config.set_visible_devices([], \"GPU\")\n",
        "logging_utils.setup_logging(log_level=\"INFO\")\n",
        "jax.devices()"
      ],
      "metadata": {
        "ExecuteTime": {
          "end_time": "2023-08-17T16:03:50.846720Z",
          "start_time": "2023-08-17T16:03:50.839485Z"
        },
        "id": "17c98f3a38e7f8da",
        "outputId": "12370fbf-1e03-45a1-96d4-e5fd6709902c",
        "colab": {
          "base_uri": "https://localhost:8080/"
        }
      },
      "id": "17c98f3a38e7f8da"
    },
    {
      "cell_type": "code",
      "execution_count": 4,
      "outputs": [
        {
          "output_type": "execute_result",
          "data": {
            "text/plain": [
              "fixed_params:\n",
              "  input_known_categorical_idx:\n",
              "  - 3\n",
              "  - 4\n",
              "  - 5\n",
              "  - 6\n",
              "  input_known_real_idx:\n",
              "  - 1\n",
              "  - 2\n",
              "  input_observed_idx: []\n",
              "  input_static_idx:\n",
              "  - 0\n",
              "  known_categories_sizes:\n",
              "  - 31\n",
              "  - 24\n",
              "  - 7\n",
              "  - 12\n",
              "  num_encoder_steps: 168\n",
              "  num_outputs: 1\n",
              "  static_categories_sizes:\n",
              "  - 369\n",
              "  total_time_steps: 192\n",
              "hyperparams:\n",
              "  dropout_rate: 0.1\n",
              "  latent_dim: 160\n",
              "  num_attention_heads: 4\n",
              "  num_decoder_blocks: 1\n",
              "  quantiles:\n",
              "  - 0.1\n",
              "  - 0.5\n",
              "  - 0.9\n",
              "optimizer:\n",
              "  clipnorm: 0.0\n",
              "  decay_alpha: 0.05\n",
              "  decay_steps: 0.0\n",
              "  ema: 0.0\n",
              "  learning_rate: 0.0005\n",
              "prng_seed: 69\n",
              "shuffle_buffer_size: 1024"
            ]
          },
          "metadata": {},
          "execution_count": 4
        }
      ],
      "source": [
        "config = tft.get_config(\"electricity\")\n",
        "config"
      ],
      "metadata": {
        "ExecuteTime": {
          "end_time": "2023-08-17T16:03:54.531042Z",
          "start_time": "2023-08-17T16:03:54.525998Z"
        },
        "id": "377690fca821a4c6",
        "outputId": "83dc1f45-2ce9-4e6e-e354-6c6bf8457767",
        "colab": {
          "base_uri": "https://localhost:8080/"
        }
      },
      "id": "377690fca821a4c6"
    },
    {
      "cell_type": "markdown",
      "source": [
        "Run training"
      ],
      "metadata": {
        "id": "ze0CoVLKbpqJ"
      },
      "id": "ze0CoVLKbpqJ"
    },
    {
      "cell_type": "code",
      "execution_count": null,
      "outputs": [
        {
          "output_type": "stream",
          "name": "stderr",
          "text": [
            "INFO:absl:Writing tensorboard logs to tensorboard/electricity/20230819-1055\n"
          ]
        }
      ],
      "source": [
        "tft.training_scripts.train_experiment_on_single_device(\n",
        "    data_dir=data_path,\n",
        "    batch_size=32,\n",
        "    experiment_name=\"electricity\",\n",
        "    mixed_precision=True,\n",
        "    config=config,\n",
        "    save_path=\"/content/drive/MyDrive/models\",\n",
        "    jit_module=True,\n",
        ")"
      ],
      "metadata": {
        "id": "3a400413ffc7a86d",
        "colab": {
          "base_uri": "https://localhost:8080/"
        },
        "outputId": "cacabc2a-529d-4618-ff4d-9a55d47f20ce"
      },
      "id": "3a400413ffc7a86d"
    }
  ],
  "metadata": {
    "kernelspec": {
      "display_name": "Python 3",
      "name": "python3"
    },
    "language_info": {
      "codemirror_mode": {
        "name": "ipython",
        "version": 2
      },
      "file_extension": ".py",
      "mimetype": "text/x-python",
      "name": "python",
      "nbconvert_exporter": "python",
      "pygments_lexer": "ipython2",
      "version": "2.7.6"
    },
    "colab": {
      "provenance": [],
      "gpuType": "T4"
    },
    "accelerator": "GPU"
  },
  "nbformat": 4,
  "nbformat_minor": 5
}