{
  "cells": [
    {
      "cell_type": "code",
      "execution_count": 1,
      "outputs": [],
      "source": [
        "%load_ext tensorboard\n",
        "%load_ext autoreload\n",
        "%autoreload 2"
      ],
      "metadata": {
        "ExecuteTime": {
          "end_time": "2023-08-17T16:03:24.606361Z",
          "start_time": "2023-08-17T16:03:24.590406Z"
        },
        "id": "d3ac29453a2d0256"
      },
      "id": "d3ac29453a2d0256"
    },
    {
      "cell_type": "code",
      "source": [
        "!pip install 'temporal_fusion_transformer[training] @ git+https://github.com/aaarrti/temporal_fusion_transformer.git@develop'\n",
        "!pip install \"jax[cuda12_pip]\" -f https://storage.googleapis.com/jax-releases/jax_cuda_releases.html"
      ],
      "metadata": {
        "id": "NVImsMNCTMd7",
        "colab": {
          "base_uri": "https://localhost:8080/"
        },
        "outputId": "2dc42da2-a986-4899-d948-e167fbcfed81"
      },
      "id": "NVImsMNCTMd7",
      "execution_count": 2,
      "outputs": [
        {
          "output_type": "stream",
          "name": "stdout",
          "text": [
            "Collecting temporal_fusion_transformer[training]@ git+https://github.com/aaarrti/temporal_fusion_transformer.git@develop\n",
            "  Cloning https://github.com/aaarrti/temporal_fusion_transformer.git (to revision develop) to /tmp/pip-install-iklpjdyf/temporal-fusion-transformer_b5bdf9c7e67c442e905c77422261632b\n",
            "  Running command git clone --filter=blob:none --quiet https://github.com/aaarrti/temporal_fusion_transformer.git /tmp/pip-install-iklpjdyf/temporal-fusion-transformer_b5bdf9c7e67c442e905c77422261632b\n",
            "  Running command git checkout -b develop --track origin/develop\n",
            "  Switched to a new branch 'develop'\n",
            "  Branch 'develop' set up to track remote branch 'develop' from 'origin'.\n",
            "  Resolved https://github.com/aaarrti/temporal_fusion_transformer.git to commit 0e623c9255d80b8607853f3c8237fff6aad76b9a\n",
            "  Installing build dependencies ... \u001b[?25l\u001b[?25hdone\n",
            "  Getting requirements to build wheel ... \u001b[?25l\u001b[?25hdone\n",
            "  Preparing metadata (pyproject.toml) ... \u001b[?25l\u001b[?25hdone\n",
            "Requirement already satisfied: flax==0.7.2 in /usr/local/lib/python3.10/dist-packages (from temporal_fusion_transformer[training]@ git+https://github.com/aaarrti/temporal_fusion_transformer.git@develop) (0.7.2)\n",
            "Requirement already satisfied: jaxlib==0.4.14 in /usr/local/lib/python3.10/dist-packages (from temporal_fusion_transformer[training]@ git+https://github.com/aaarrti/temporal_fusion_transformer.git@develop) (0.4.14+cuda11.cudnn86)\n",
            "Collecting jaxtyping==0.2.20 (from temporal_fusion_transformer[training]@ git+https://github.com/aaarrti/temporal_fusion_transformer.git@develop)\n",
            "  Downloading jaxtyping-0.2.20-py3-none-any.whl (24 kB)\n",
            "Requirement already satisfied: absl-py==1.4.0 in /usr/local/lib/python3.10/dist-packages (from temporal_fusion_transformer[training]@ git+https://github.com/aaarrti/temporal_fusion_transformer.git@develop) (1.4.0)\n",
            "Collecting ml-collections==0.1.1 (from temporal_fusion_transformer[training]@ git+https://github.com/aaarrti/temporal_fusion_transformer.git@develop)\n",
            "  Downloading ml_collections-0.1.1.tar.gz (77 kB)\n",
            "\u001b[2K     \u001b[90m━━━━━━━━━━━━━━━━━━━━━━━━━━━━━━━━━━━━━━━━\u001b[0m \u001b[32m77.9/77.9 kB\u001b[0m \u001b[31m2.6 MB/s\u001b[0m eta \u001b[36m0:00:00\u001b[0m\n",
            "\u001b[?25h  Preparing metadata (setup.py) ... \u001b[?25l\u001b[?25hdone\n",
            "Collecting clu==0.0.9 (from temporal_fusion_transformer[training]@ git+https://github.com/aaarrti/temporal_fusion_transformer.git@develop)\n",
            "  Downloading clu-0.0.9-py3-none-any.whl (98 kB)\n",
            "\u001b[2K     \u001b[90m━━━━━━━━━━━━━━━━━━━━━━━━━━━━━━━━━━━━━━━━\u001b[0m \u001b[32m98.2/98.2 kB\u001b[0m \u001b[31m8.8 MB/s\u001b[0m eta \u001b[36m0:00:00\u001b[0m\n",
            "\u001b[?25hRequirement already satisfied: msgpack==1.0.5 in /usr/local/lib/python3.10/dist-packages (from temporal_fusion_transformer[training]@ git+https://github.com/aaarrti/temporal_fusion_transformer.git@develop) (1.0.5)\n",
            "Requirement already satisfied: optax==0.1.7 in /usr/local/lib/python3.10/dist-packages (from temporal_fusion_transformer[training]@ git+https://github.com/aaarrti/temporal_fusion_transformer.git@develop) (0.1.7)\n",
            "Collecting orbax_checkpoint==0.3.5 (from temporal_fusion_transformer[training]@ git+https://github.com/aaarrti/temporal_fusion_transformer.git@develop)\n",
            "  Downloading orbax_checkpoint-0.3.5-py3-none-any.whl (100 kB)\n",
            "\u001b[2K     \u001b[90m━━━━━━━━━━━━━━━━━━━━━━━━━━━━━━━━━━━━━━━\u001b[0m \u001b[32m100.6/100.6 kB\u001b[0m \u001b[31m9.9 MB/s\u001b[0m eta \u001b[36m0:00:00\u001b[0m\n",
            "\u001b[?25hCollecting absl_extra (from temporal_fusion_transformer[training]@ git+https://github.com/aaarrti/temporal_fusion_transformer.git@develop)\n",
            "  Downloading absl_extra-0.0.3.dev19-py3-none-any.whl (16 kB)\n",
            "Requirement already satisfied: etils[epath] in /usr/local/lib/python3.10/dist-packages (from clu==0.0.9->temporal_fusion_transformer[training]@ git+https://github.com/aaarrti/temporal_fusion_transformer.git@develop) (1.4.1)\n",
            "Requirement already satisfied: jax in /usr/local/lib/python3.10/dist-packages (from clu==0.0.9->temporal_fusion_transformer[training]@ git+https://github.com/aaarrti/temporal_fusion_transformer.git@develop) (0.4.14)\n",
            "Requirement already satisfied: numpy in /usr/local/lib/python3.10/dist-packages (from clu==0.0.9->temporal_fusion_transformer[training]@ git+https://github.com/aaarrti/temporal_fusion_transformer.git@develop) (1.23.5)\n",
            "Requirement already satisfied: packaging in /usr/local/lib/python3.10/dist-packages (from clu==0.0.9->temporal_fusion_transformer[training]@ git+https://github.com/aaarrti/temporal_fusion_transformer.git@develop) (23.1)\n",
            "Requirement already satisfied: typing-extensions in /usr/local/lib/python3.10/dist-packages (from clu==0.0.9->temporal_fusion_transformer[training]@ git+https://github.com/aaarrti/temporal_fusion_transformer.git@develop) (4.7.1)\n",
            "Requirement already satisfied: wrapt in /usr/local/lib/python3.10/dist-packages (from clu==0.0.9->temporal_fusion_transformer[training]@ git+https://github.com/aaarrti/temporal_fusion_transformer.git@develop) (1.14.1)\n",
            "Requirement already satisfied: tensorstore in /usr/local/lib/python3.10/dist-packages (from flax==0.7.2->temporal_fusion_transformer[training]@ git+https://github.com/aaarrti/temporal_fusion_transformer.git@develop) (0.1.41)\n",
            "Requirement already satisfied: rich>=11.1 in /usr/local/lib/python3.10/dist-packages (from flax==0.7.2->temporal_fusion_transformer[training]@ git+https://github.com/aaarrti/temporal_fusion_transformer.git@develop) (13.5.2)\n",
            "Requirement already satisfied: PyYAML>=5.4.1 in /usr/local/lib/python3.10/dist-packages (from flax==0.7.2->temporal_fusion_transformer[training]@ git+https://github.com/aaarrti/temporal_fusion_transformer.git@develop) (6.0.1)\n",
            "Requirement already satisfied: scipy>=1.7 in /usr/local/lib/python3.10/dist-packages (from jaxlib==0.4.14->temporal_fusion_transformer[training]@ git+https://github.com/aaarrti/temporal_fusion_transformer.git@develop) (1.10.1)\n",
            "Requirement already satisfied: ml-dtypes>=0.2.0 in /usr/local/lib/python3.10/dist-packages (from jaxlib==0.4.14->temporal_fusion_transformer[training]@ git+https://github.com/aaarrti/temporal_fusion_transformer.git@develop) (0.2.0)\n",
            "Collecting typeguard>=2.13.3 (from jaxtyping==0.2.20->temporal_fusion_transformer[training]@ git+https://github.com/aaarrti/temporal_fusion_transformer.git@develop)\n",
            "  Downloading typeguard-4.1.2-py3-none-any.whl (33 kB)\n",
            "Requirement already satisfied: six in /usr/local/lib/python3.10/dist-packages (from ml-collections==0.1.1->temporal_fusion_transformer[training]@ git+https://github.com/aaarrti/temporal_fusion_transformer.git@develop) (1.16.0)\n",
            "Requirement already satisfied: contextlib2 in /usr/local/lib/python3.10/dist-packages (from ml-collections==0.1.1->temporal_fusion_transformer[training]@ git+https://github.com/aaarrti/temporal_fusion_transformer.git@develop) (21.6.0)\n",
            "Requirement already satisfied: chex>=0.1.5 in /usr/local/lib/python3.10/dist-packages (from optax==0.1.7->temporal_fusion_transformer[training]@ git+https://github.com/aaarrti/temporal_fusion_transformer.git@develop) (0.1.7)\n",
            "Requirement already satisfied: nest_asyncio in /usr/local/lib/python3.10/dist-packages (from orbax_checkpoint==0.3.5->temporal_fusion_transformer[training]@ git+https://github.com/aaarrti/temporal_fusion_transformer.git@develop) (1.5.7)\n",
            "Requirement already satisfied: protobuf in /usr/local/lib/python3.10/dist-packages (from orbax_checkpoint==0.3.5->temporal_fusion_transformer[training]@ git+https://github.com/aaarrti/temporal_fusion_transformer.git@develop) (3.20.3)\n",
            "Requirement already satisfied: toolz in /usr/local/lib/python3.10/dist-packages (from absl_extra->temporal_fusion_transformer[training]@ git+https://github.com/aaarrti/temporal_fusion_transformer.git@develop) (0.12.0)\n",
            "Requirement already satisfied: tensorflow>=2.12.0<2.13.0 in /usr/local/lib/python3.10/dist-packages (from temporal_fusion_transformer[training]@ git+https://github.com/aaarrti/temporal_fusion_transformer.git@develop) (2.12.0)\n",
            "Requirement already satisfied: dm-tree>=0.1.5 in /usr/local/lib/python3.10/dist-packages (from chex>=0.1.5->optax==0.1.7->temporal_fusion_transformer[training]@ git+https://github.com/aaarrti/temporal_fusion_transformer.git@develop) (0.1.8)\n",
            "Requirement already satisfied: opt-einsum in /usr/local/lib/python3.10/dist-packages (from jax->clu==0.0.9->temporal_fusion_transformer[training]@ git+https://github.com/aaarrti/temporal_fusion_transformer.git@develop) (3.3.0)\n",
            "Requirement already satisfied: markdown-it-py>=2.2.0 in /usr/local/lib/python3.10/dist-packages (from rich>=11.1->flax==0.7.2->temporal_fusion_transformer[training]@ git+https://github.com/aaarrti/temporal_fusion_transformer.git@develop) (3.0.0)\n",
            "Requirement already satisfied: pygments<3.0.0,>=2.13.0 in /usr/local/lib/python3.10/dist-packages (from rich>=11.1->flax==0.7.2->temporal_fusion_transformer[training]@ git+https://github.com/aaarrti/temporal_fusion_transformer.git@develop) (2.16.1)\n",
            "Requirement already satisfied: astunparse>=1.6.0 in /usr/local/lib/python3.10/dist-packages (from tensorflow>=2.12.0<2.13.0->temporal_fusion_transformer[training]@ git+https://github.com/aaarrti/temporal_fusion_transformer.git@develop) (1.6.3)\n",
            "Requirement already satisfied: flatbuffers>=2.0 in /usr/local/lib/python3.10/dist-packages (from tensorflow>=2.12.0<2.13.0->temporal_fusion_transformer[training]@ git+https://github.com/aaarrti/temporal_fusion_transformer.git@develop) (23.5.26)\n",
            "Requirement already satisfied: gast<=0.4.0,>=0.2.1 in /usr/local/lib/python3.10/dist-packages (from tensorflow>=2.12.0<2.13.0->temporal_fusion_transformer[training]@ git+https://github.com/aaarrti/temporal_fusion_transformer.git@develop) (0.4.0)\n",
            "Requirement already satisfied: google-pasta>=0.1.1 in /usr/local/lib/python3.10/dist-packages (from tensorflow>=2.12.0<2.13.0->temporal_fusion_transformer[training]@ git+https://github.com/aaarrti/temporal_fusion_transformer.git@develop) (0.2.0)\n",
            "Requirement already satisfied: grpcio<2.0,>=1.24.3 in /usr/local/lib/python3.10/dist-packages (from tensorflow>=2.12.0<2.13.0->temporal_fusion_transformer[training]@ git+https://github.com/aaarrti/temporal_fusion_transformer.git@develop) (1.57.0)\n",
            "Requirement already satisfied: h5py>=2.9.0 in /usr/local/lib/python3.10/dist-packages (from tensorflow>=2.12.0<2.13.0->temporal_fusion_transformer[training]@ git+https://github.com/aaarrti/temporal_fusion_transformer.git@develop) (3.9.0)\n",
            "Requirement already satisfied: keras<2.13,>=2.12.0 in /usr/local/lib/python3.10/dist-packages (from tensorflow>=2.12.0<2.13.0->temporal_fusion_transformer[training]@ git+https://github.com/aaarrti/temporal_fusion_transformer.git@develop) (2.12.0)\n",
            "Requirement already satisfied: libclang>=13.0.0 in /usr/local/lib/python3.10/dist-packages (from tensorflow>=2.12.0<2.13.0->temporal_fusion_transformer[training]@ git+https://github.com/aaarrti/temporal_fusion_transformer.git@develop) (16.0.6)\n",
            "Requirement already satisfied: setuptools in /usr/local/lib/python3.10/dist-packages (from tensorflow>=2.12.0<2.13.0->temporal_fusion_transformer[training]@ git+https://github.com/aaarrti/temporal_fusion_transformer.git@develop) (67.7.2)\n",
            "Requirement already satisfied: tensorboard<2.13,>=2.12 in /usr/local/lib/python3.10/dist-packages (from tensorflow>=2.12.0<2.13.0->temporal_fusion_transformer[training]@ git+https://github.com/aaarrti/temporal_fusion_transformer.git@develop) (2.12.3)\n",
            "Requirement already satisfied: tensorflow-estimator<2.13,>=2.12.0 in /usr/local/lib/python3.10/dist-packages (from tensorflow>=2.12.0<2.13.0->temporal_fusion_transformer[training]@ git+https://github.com/aaarrti/temporal_fusion_transformer.git@develop) (2.12.0)\n",
            "Requirement already satisfied: termcolor>=1.1.0 in /usr/local/lib/python3.10/dist-packages (from tensorflow>=2.12.0<2.13.0->temporal_fusion_transformer[training]@ git+https://github.com/aaarrti/temporal_fusion_transformer.git@develop) (2.3.0)\n",
            "Requirement already satisfied: tensorflow-io-gcs-filesystem>=0.23.1 in /usr/local/lib/python3.10/dist-packages (from tensorflow>=2.12.0<2.13.0->temporal_fusion_transformer[training]@ git+https://github.com/aaarrti/temporal_fusion_transformer.git@develop) (0.33.0)\n",
            "Requirement already satisfied: importlib_resources in /usr/local/lib/python3.10/dist-packages (from etils[epath]->clu==0.0.9->temporal_fusion_transformer[training]@ git+https://github.com/aaarrti/temporal_fusion_transformer.git@develop) (6.0.1)\n",
            "Requirement already satisfied: zipp in /usr/local/lib/python3.10/dist-packages (from etils[epath]->clu==0.0.9->temporal_fusion_transformer[training]@ git+https://github.com/aaarrti/temporal_fusion_transformer.git@develop) (3.16.2)\n",
            "Requirement already satisfied: wheel<1.0,>=0.23.0 in /usr/local/lib/python3.10/dist-packages (from astunparse>=1.6.0->tensorflow>=2.12.0<2.13.0->temporal_fusion_transformer[training]@ git+https://github.com/aaarrti/temporal_fusion_transformer.git@develop) (0.41.1)\n",
            "Requirement already satisfied: mdurl~=0.1 in /usr/local/lib/python3.10/dist-packages (from markdown-it-py>=2.2.0->rich>=11.1->flax==0.7.2->temporal_fusion_transformer[training]@ git+https://github.com/aaarrti/temporal_fusion_transformer.git@develop) (0.1.2)\n",
            "Requirement already satisfied: google-auth<3,>=1.6.3 in /usr/local/lib/python3.10/dist-packages (from tensorboard<2.13,>=2.12->tensorflow>=2.12.0<2.13.0->temporal_fusion_transformer[training]@ git+https://github.com/aaarrti/temporal_fusion_transformer.git@develop) (2.17.3)\n",
            "Requirement already satisfied: google-auth-oauthlib<1.1,>=0.5 in /usr/local/lib/python3.10/dist-packages (from tensorboard<2.13,>=2.12->tensorflow>=2.12.0<2.13.0->temporal_fusion_transformer[training]@ git+https://github.com/aaarrti/temporal_fusion_transformer.git@develop) (1.0.0)\n",
            "Requirement already satisfied: markdown>=2.6.8 in /usr/local/lib/python3.10/dist-packages (from tensorboard<2.13,>=2.12->tensorflow>=2.12.0<2.13.0->temporal_fusion_transformer[training]@ git+https://github.com/aaarrti/temporal_fusion_transformer.git@develop) (3.4.4)\n",
            "Requirement already satisfied: requests<3,>=2.21.0 in /usr/local/lib/python3.10/dist-packages (from tensorboard<2.13,>=2.12->tensorflow>=2.12.0<2.13.0->temporal_fusion_transformer[training]@ git+https://github.com/aaarrti/temporal_fusion_transformer.git@develop) (2.31.0)\n",
            "Requirement already satisfied: tensorboard-data-server<0.8.0,>=0.7.0 in /usr/local/lib/python3.10/dist-packages (from tensorboard<2.13,>=2.12->tensorflow>=2.12.0<2.13.0->temporal_fusion_transformer[training]@ git+https://github.com/aaarrti/temporal_fusion_transformer.git@develop) (0.7.1)\n",
            "Requirement already satisfied: werkzeug>=1.0.1 in /usr/local/lib/python3.10/dist-packages (from tensorboard<2.13,>=2.12->tensorflow>=2.12.0<2.13.0->temporal_fusion_transformer[training]@ git+https://github.com/aaarrti/temporal_fusion_transformer.git@develop) (2.3.7)\n",
            "Requirement already satisfied: cachetools<6.0,>=2.0.0 in /usr/local/lib/python3.10/dist-packages (from google-auth<3,>=1.6.3->tensorboard<2.13,>=2.12->tensorflow>=2.12.0<2.13.0->temporal_fusion_transformer[training]@ git+https://github.com/aaarrti/temporal_fusion_transformer.git@develop) (5.3.1)\n",
            "Requirement already satisfied: pyasn1-modules>=0.2.1 in /usr/local/lib/python3.10/dist-packages (from google-auth<3,>=1.6.3->tensorboard<2.13,>=2.12->tensorflow>=2.12.0<2.13.0->temporal_fusion_transformer[training]@ git+https://github.com/aaarrti/temporal_fusion_transformer.git@develop) (0.3.0)\n",
            "Requirement already satisfied: rsa<5,>=3.1.4 in /usr/local/lib/python3.10/dist-packages (from google-auth<3,>=1.6.3->tensorboard<2.13,>=2.12->tensorflow>=2.12.0<2.13.0->temporal_fusion_transformer[training]@ git+https://github.com/aaarrti/temporal_fusion_transformer.git@develop) (4.9)\n",
            "Requirement already satisfied: requests-oauthlib>=0.7.0 in /usr/local/lib/python3.10/dist-packages (from google-auth-oauthlib<1.1,>=0.5->tensorboard<2.13,>=2.12->tensorflow>=2.12.0<2.13.0->temporal_fusion_transformer[training]@ git+https://github.com/aaarrti/temporal_fusion_transformer.git@develop) (1.3.1)\n",
            "Requirement already satisfied: charset-normalizer<4,>=2 in /usr/local/lib/python3.10/dist-packages (from requests<3,>=2.21.0->tensorboard<2.13,>=2.12->tensorflow>=2.12.0<2.13.0->temporal_fusion_transformer[training]@ git+https://github.com/aaarrti/temporal_fusion_transformer.git@develop) (3.2.0)\n",
            "Requirement already satisfied: idna<4,>=2.5 in /usr/local/lib/python3.10/dist-packages (from requests<3,>=2.21.0->tensorboard<2.13,>=2.12->tensorflow>=2.12.0<2.13.0->temporal_fusion_transformer[training]@ git+https://github.com/aaarrti/temporal_fusion_transformer.git@develop) (3.4)\n",
            "Requirement already satisfied: urllib3<3,>=1.21.1 in /usr/local/lib/python3.10/dist-packages (from requests<3,>=2.21.0->tensorboard<2.13,>=2.12->tensorflow>=2.12.0<2.13.0->temporal_fusion_transformer[training]@ git+https://github.com/aaarrti/temporal_fusion_transformer.git@develop) (2.0.4)\n",
            "Requirement already satisfied: certifi>=2017.4.17 in /usr/local/lib/python3.10/dist-packages (from requests<3,>=2.21.0->tensorboard<2.13,>=2.12->tensorflow>=2.12.0<2.13.0->temporal_fusion_transformer[training]@ git+https://github.com/aaarrti/temporal_fusion_transformer.git@develop) (2023.7.22)\n",
            "Requirement already satisfied: MarkupSafe>=2.1.1 in /usr/local/lib/python3.10/dist-packages (from werkzeug>=1.0.1->tensorboard<2.13,>=2.12->tensorflow>=2.12.0<2.13.0->temporal_fusion_transformer[training]@ git+https://github.com/aaarrti/temporal_fusion_transformer.git@develop) (2.1.3)\n",
            "Requirement already satisfied: pyasn1<0.6.0,>=0.4.6 in /usr/local/lib/python3.10/dist-packages (from pyasn1-modules>=0.2.1->google-auth<3,>=1.6.3->tensorboard<2.13,>=2.12->tensorflow>=2.12.0<2.13.0->temporal_fusion_transformer[training]@ git+https://github.com/aaarrti/temporal_fusion_transformer.git@develop) (0.5.0)\n",
            "Requirement already satisfied: oauthlib>=3.0.0 in /usr/local/lib/python3.10/dist-packages (from requests-oauthlib>=0.7.0->google-auth-oauthlib<1.1,>=0.5->tensorboard<2.13,>=2.12->tensorflow>=2.12.0<2.13.0->temporal_fusion_transformer[training]@ git+https://github.com/aaarrti/temporal_fusion_transformer.git@develop) (3.2.2)\n",
            "Building wheels for collected packages: ml-collections, temporal_fusion_transformer\n",
            "  Building wheel for ml-collections (setup.py) ... \u001b[?25l\u001b[?25hdone\n",
            "  Created wheel for ml-collections: filename=ml_collections-0.1.1-py3-none-any.whl size=94506 sha256=902862fa7e20dacaffd5b7d2d9424e832bd5f314502ba8e207deaea732657a7b\n",
            "  Stored in directory: /root/.cache/pip/wheels/7b/89/c9/a9b87790789e94aadcfc393c283e3ecd5ab916aed0a31be8fe\n",
            "  Building wheel for temporal_fusion_transformer (pyproject.toml) ... \u001b[?25l\u001b[?25hdone\n",
            "  Created wheel for temporal_fusion_transformer: filename=temporal_fusion_transformer-0.0.1.dev1-py3-none-any.whl size=30592 sha256=956029d7870f566a664f83105206f710427dc311029573c49d7df996366fa551\n",
            "  Stored in directory: /tmp/pip-ephem-wheel-cache-6_1rxk7j/wheels/23/b0/56/a946c1aa184c0e2f6e9e9c14f63a9c23476a0834914362f848\n",
            "Successfully built ml-collections temporal_fusion_transformer\n",
            "Installing collected packages: typeguard, ml-collections, absl_extra, jaxtyping, orbax_checkpoint, temporal_fusion_transformer, clu\n",
            "  Attempting uninstall: orbax_checkpoint\n",
            "    Found existing installation: orbax-checkpoint 0.3.3\n",
            "    Uninstalling orbax-checkpoint-0.3.3:\n",
            "      Successfully uninstalled orbax-checkpoint-0.3.3\n",
            "Successfully installed absl_extra-0.0.3.dev19 clu-0.0.9 jaxtyping-0.2.20 ml-collections-0.1.1 orbax_checkpoint-0.3.5 temporal_fusion_transformer-0.0.1.dev1 typeguard-4.1.2\n",
            "Looking in links: https://storage.googleapis.com/jax-releases/jax_cuda_releases.html\n",
            "Requirement already satisfied: jax[cuda12_pip] in /usr/local/lib/python3.10/dist-packages (0.4.14)\n",
            "Requirement already satisfied: ml-dtypes>=0.2.0 in /usr/local/lib/python3.10/dist-packages (from jax[cuda12_pip]) (0.2.0)\n",
            "Requirement already satisfied: numpy>=1.22 in /usr/local/lib/python3.10/dist-packages (from jax[cuda12_pip]) (1.23.5)\n",
            "Requirement already satisfied: opt-einsum in /usr/local/lib/python3.10/dist-packages (from jax[cuda12_pip]) (3.3.0)\n",
            "Requirement already satisfied: scipy>=1.7 in /usr/local/lib/python3.10/dist-packages (from jax[cuda12_pip]) (1.10.1)\n",
            "Collecting jaxlib==0.4.14+cuda12.cudnn89 (from jax[cuda12_pip])\n",
            "  Downloading https://storage.googleapis.com/jax-releases/cuda12/jaxlib-0.4.14%2Bcuda12.cudnn89-cp310-cp310-manylinux2014_x86_64.whl (191.3 MB)\n",
            "\u001b[2K     \u001b[90m━━━━━━━━━━━━━━━━━━━━━━━━━━━━━━━━━━━━━━━\u001b[0m \u001b[32m191.3/191.3 MB\u001b[0m \u001b[31m5.6 MB/s\u001b[0m eta \u001b[36m0:00:00\u001b[0m\n",
            "\u001b[?25hCollecting nvidia-cublas-cu12 (from jax[cuda12_pip])\n",
            "  Downloading nvidia_cublas_cu12-12.2.4.5-py3-none-manylinux1_x86_64.whl (412.5 MB)\n",
            "\u001b[2K     \u001b[90m━━━━━━━━━━━━━━━━━━━━━━━━━━━━━━━━━━━━━━━\u001b[0m \u001b[32m412.5/412.5 MB\u001b[0m \u001b[31m1.7 MB/s\u001b[0m eta \u001b[36m0:00:00\u001b[0m\n",
            "\u001b[?25hCollecting nvidia-cuda-cupti-cu12 (from jax[cuda12_pip])\n",
            "  Downloading nvidia_cuda_cupti_cu12-12.2.131-py3-none-manylinux1_x86_64.whl (13.9 MB)\n",
            "\u001b[2K     \u001b[90m━━━━━━━━━━━━━━━━━━━━━━━━━━━━━━━━━━━━━━━━\u001b[0m \u001b[32m13.9/13.9 MB\u001b[0m \u001b[31m42.8 MB/s\u001b[0m eta \u001b[36m0:00:00\u001b[0m\n",
            "\u001b[?25hCollecting nvidia-cuda-nvcc-cu12 (from jax[cuda12_pip])\n",
            "  Downloading nvidia_cuda_nvcc_cu12-12.2.128-py3-none-manylinux1_x86_64.whl (21.3 MB)\n",
            "\u001b[2K     \u001b[90m━━━━━━━━━━━━━━━━━━━━━━━━━━━━━━━━━━━━━━━━\u001b[0m \u001b[32m21.3/21.3 MB\u001b[0m \u001b[31m67.1 MB/s\u001b[0m eta \u001b[36m0:00:00\u001b[0m\n",
            "\u001b[?25hCollecting nvidia-cuda-runtime-cu12 (from jax[cuda12_pip])\n",
            "  Downloading nvidia_cuda_runtime_cu12-12.2.128-py3-none-manylinux1_x86_64.whl (845 kB)\n",
            "\u001b[2K     \u001b[90m━━━━━━━━━━━━━━━━━━━━━━━━━━━━━━━━━━━━━━\u001b[0m \u001b[32m845.8/845.8 kB\u001b[0m \u001b[31m56.5 MB/s\u001b[0m eta \u001b[36m0:00:00\u001b[0m\n",
            "\u001b[?25hCollecting nvidia-cudnn-cu12>=8.9 (from jax[cuda12_pip])\n",
            "  Downloading nvidia_cudnn_cu12-8.9.4.25-py3-none-manylinux1_x86_64.whl (720.1 MB)\n",
            "\u001b[2K     \u001b[90m━━━━━━━━━━━━━━━━━━━━━━━━━━━━━━━━━━━━━━━\u001b[0m \u001b[32m720.1/720.1 MB\u001b[0m \u001b[31m2.2 MB/s\u001b[0m eta \u001b[36m0:00:00\u001b[0m\n",
            "\u001b[?25hCollecting nvidia-cufft-cu12 (from jax[cuda12_pip])\n",
            "  Downloading nvidia_cufft_cu12-11.0.8.91-py3-none-manylinux1_x86_64.whl (98.6 MB)\n",
            "\u001b[2K     \u001b[90m━━━━━━━━━━━━━━━━━━━━━━━━━━━━━━━━━━━━━━━━\u001b[0m \u001b[32m98.6/98.6 MB\u001b[0m \u001b[31m9.0 MB/s\u001b[0m eta \u001b[36m0:00:00\u001b[0m\n",
            "\u001b[?25hCollecting nvidia-cusolver-cu12 (from jax[cuda12_pip])\n",
            "  Downloading nvidia_cusolver_cu12-11.5.1.129-py3-none-manylinux1_x86_64.whl (124.9 MB)\n",
            "\u001b[2K     \u001b[90m━━━━━━━━━━━━━━━━━━━━━━━━━━━━━━━━━━━━━━━\u001b[0m \u001b[32m124.9/124.9 MB\u001b[0m \u001b[31m9.3 MB/s\u001b[0m eta \u001b[36m0:00:00\u001b[0m\n",
            "\u001b[?25hCollecting nvidia-cusparse-cu12 (from jax[cuda12_pip])\n",
            "  Downloading nvidia_cusparse_cu12-12.1.2.129-py3-none-manylinux1_x86_64.whl (195.3 MB)\n",
            "\u001b[2K     \u001b[90m━━━━━━━━━━━━━━━━━━━━━━━━━━━━━━━━━━━━━━━\u001b[0m \u001b[32m195.3/195.3 MB\u001b[0m \u001b[31m6.6 MB/s\u001b[0m eta \u001b[36m0:00:00\u001b[0m\n",
            "\u001b[?25hCollecting nvidia-cuda-nvrtc-cu12 (from nvidia-cudnn-cu12>=8.9->jax[cuda12_pip])\n",
            "  Downloading nvidia_cuda_nvrtc_cu12-12.2.128-py3-none-manylinux1_x86_64.whl (23.4 MB)\n",
            "\u001b[2K     \u001b[90m━━━━━━━━━━━━━━━━━━━━━━━━━━━━━━━━━━━━━━━━\u001b[0m \u001b[32m23.4/23.4 MB\u001b[0m \u001b[31m28.8 MB/s\u001b[0m eta \u001b[36m0:00:00\u001b[0m\n",
            "\u001b[?25hCollecting nvidia-nvjitlink-cu12 (from nvidia-cusolver-cu12->jax[cuda12_pip])\n",
            "  Downloading nvidia_nvjitlink_cu12-12.2.128-py3-none-manylinux1_x86_64.whl (20.2 MB)\n",
            "\u001b[2K     \u001b[90m━━━━━━━━━━━━━━━━━━━━━━━━━━━━━━━━━━━━━━━━\u001b[0m \u001b[32m20.2/20.2 MB\u001b[0m \u001b[31m57.9 MB/s\u001b[0m eta \u001b[36m0:00:00\u001b[0m\n",
            "\u001b[?25hInstalling collected packages: nvidia-nvjitlink-cu12, nvidia-cufft-cu12, nvidia-cuda-runtime-cu12, nvidia-cuda-nvrtc-cu12, nvidia-cuda-nvcc-cu12, nvidia-cuda-cupti-cu12, nvidia-cublas-cu12, nvidia-cusparse-cu12, nvidia-cudnn-cu12, jaxlib, nvidia-cusolver-cu12\n",
            "  Attempting uninstall: jaxlib\n",
            "    Found existing installation: jaxlib 0.4.14+cuda11.cudnn86\n",
            "    Uninstalling jaxlib-0.4.14+cuda11.cudnn86:\n",
            "      Successfully uninstalled jaxlib-0.4.14+cuda11.cudnn86\n",
            "Successfully installed jaxlib-0.4.14+cuda12.cudnn89 nvidia-cublas-cu12-12.2.4.5 nvidia-cuda-cupti-cu12-12.2.131 nvidia-cuda-nvcc-cu12-12.2.128 nvidia-cuda-nvrtc-cu12-12.2.128 nvidia-cuda-runtime-cu12-12.2.128 nvidia-cudnn-cu12-8.9.4.25 nvidia-cufft-cu12-11.0.8.91 nvidia-cusolver-cu12-11.5.1.129 nvidia-cusparse-cu12-12.1.2.129 nvidia-nvjitlink-cu12-12.2.128\n"
          ]
        }
      ]
    },
    {
      "cell_type": "markdown",
      "source": [
        "First, we'd need to upload dataset to GDrive"
      ],
      "metadata": {
        "collapsed": false,
        "id": "fa5e337f02a8f1cc"
      },
      "id": "fa5e337f02a8f1cc"
    },
    {
      "cell_type": "code",
      "execution_count": 3,
      "outputs": [
        {
          "output_type": "stream",
          "name": "stdout",
          "text": [
            "Mounted at /content/drive\n"
          ]
        }
      ],
      "source": [
        "from google.colab import drive\n",
        "\n",
        "drive.mount(\"/content/drive\")"
      ],
      "metadata": {
        "id": "initial_id",
        "colab": {
          "base_uri": "https://localhost:8080/"
        },
        "outputId": "6a4d6a7b-41eb-40cc-b286-a78ddfa7f522"
      },
      "id": "initial_id"
    },
    {
      "cell_type": "code",
      "execution_count": 2,
      "outputs": [
        {
          "output_type": "execute_result",
          "data": {
            "text/plain": [
              "[gpu(id=0)]"
            ]
          },
          "metadata": {},
          "execution_count": 2
        }
      ],
      "source": [
        "import tensorflow as tf\n",
        "import jax\n",
        "from absl_extra import logging_utils\n",
        "import temporal_fusion_transformer as tft\n",
        "from temporal_fusion_transformer.src.training_lib import make_training_hooks\n",
        "import clu.periodic_actions\n",
        "\n",
        "tf.config.set_visible_devices([], \"GPU\")\n",
        "logging_utils.setup_logging(log_level=\"INFO\")\n",
        "jax.devices()"
      ],
      "metadata": {
        "ExecuteTime": {
          "end_time": "2023-08-17T16:03:50.846720Z",
          "start_time": "2023-08-17T16:03:50.839485Z"
        },
        "id": "17c98f3a38e7f8da",
        "outputId": "2d62d08c-76de-4bfb-97b9-918cf106144f",
        "colab": {
          "base_uri": "https://localhost:8080/"
        }
      },
      "id": "17c98f3a38e7f8da"
    },
    {
      "cell_type": "code",
      "execution_count": 3,
      "outputs": [
        {
          "output_type": "execute_result",
          "data": {
            "text/plain": [
              "fixed_params:\n",
              "  input_known_categorical_idx:\n",
              "  - 3\n",
              "  - 4\n",
              "  - 5\n",
              "  - 6\n",
              "  input_known_real_idx:\n",
              "  - 1\n",
              "  - 2\n",
              "  input_observed_idx: []\n",
              "  input_static_idx:\n",
              "  - 0\n",
              "  known_categories_sizes:\n",
              "  - 31\n",
              "  - 24\n",
              "  - 7\n",
              "  - 12\n",
              "  num_encoder_steps: 168\n",
              "  num_outputs: 1\n",
              "  static_categories_sizes:\n",
              "  - 369\n",
              "  total_time_steps: 192\n",
              "hyperparams:\n",
              "  dropout_rate: 0.1\n",
              "  latent_dim: 160\n",
              "  num_attention_heads: 4\n",
              "  num_decoder_blocks: 1\n",
              "  quantiles:\n",
              "  - 0.1\n",
              "  - 0.5\n",
              "  - 0.9\n",
              "optimizer:\n",
              "  clipnorm: 0.0\n",
              "  decay_alpha: 0.05\n",
              "  decay_steps: 0.0\n",
              "  ema: 0.0\n",
              "  learning_rate: 0.0005\n",
              "prng_seed: 69\n",
              "shuffle_buffer_size: 1024"
            ]
          },
          "metadata": {},
          "execution_count": 3
        }
      ],
      "source": [
        "config = tft.get_config(\"electricity\")\n",
        "config"
      ],
      "metadata": {
        "ExecuteTime": {
          "end_time": "2023-08-17T16:03:54.531042Z",
          "start_time": "2023-08-17T16:03:54.525998Z"
        },
        "id": "377690fca821a4c6",
        "outputId": "4bb4c8e4-058f-44cd-92c9-e03314fb1193",
        "colab": {
          "base_uri": "https://localhost:8080/"
        }
      },
      "id": "377690fca821a4c6"
    },
    {
      "cell_type": "markdown",
      "source": [
        "Run training"
      ],
      "metadata": {
        "id": "ze0CoVLKbpqJ"
      },
      "id": "ze0CoVLKbpqJ"
    },
    {
      "cell_type": "code",
      "execution_count": 4,
      "outputs": [],
      "source": [
        "batch_size = 128\n",
        "total_samples = 1853056\n",
        "\n",
        "hooks = make_training_hooks(\n",
        "    total_samples // batch_size,\n",
        "    epochs=1,\n",
        "    add_early_stopping=False,\n",
        "    checkpoint_directory=None,\n",
        "    logdir=\"tensorboard\",\n",
        ")\n",
        "profiler = clu.periodic_actions.Profile(\n",
        "    logdir=\"/content/drive/MyDrive/tensorboard/electricity\",\n",
        "    every_steps=200,\n",
        ")\n",
        "\n",
        "\n",
        "def call_profiler(step: int, **kwargs):\n",
        "    profiler(step)\n",
        "    hooks.on_step_begin.append(call_profiler)\n",
        "\n",
        "\n",
        "hooks.on_step_begin.append(call_profiler)"
      ],
      "metadata": {
        "id": "43b69796bfbfc5a4"
      },
      "id": "43b69796bfbfc5a4"
    },
    {
      "cell_type": "code",
      "execution_count": null,
      "outputs": [
        {
          "output_type": "stream",
          "name": "stderr",
          "text": [
            "INFO:absl:Epoch 1/1...\n"
          ]
        },
        {
          "output_type": "stream",
          "name": "stdout",
          "text": [
            "\r    1/14477 [..............................] - ETA: 14:48"
          ]
        },
        {
          "output_type": "stream",
          "name": "stderr",
          "text": [
            "INFO:absl:[1] collection=training loss=50.15625\n"
          ]
        },
        {
          "output_type": "stream",
          "name": "stdout",
          "text": [
            "    6/14477 [..............................] - ETA: 48:30:00"
          ]
        }
      ],
      "source": [
        "tft.training_scripts.train_experiment_on_single_device(\n",
        "    data_dir=\"/content/drive/MyDrive/datasets\",\n",
        "    batch_size=128,\n",
        "    experiment_name=\"electricity\",\n",
        "    mixed_precision=True,\n",
        "    config=config,\n",
        "    jit_module=True,\n",
        "    hooks=hooks,\n",
        "    prefetch_buffer_size=2,\n",
        ")"
      ],
      "metadata": {
        "id": "3a400413ffc7a86d",
        "colab": {
          "base_uri": "https://localhost:8080/"
        },
        "outputId": "ba87ba21-3f6e-4d2d-f2fb-6777c2fd0d2f"
      },
      "id": "3a400413ffc7a86d"
    }
  ],
  "metadata": {
    "kernelspec": {
      "display_name": "Python 3",
      "name": "python3"
    },
    "language_info": {
      "codemirror_mode": {
        "name": "ipython",
        "version": 2
      },
      "file_extension": ".py",
      "mimetype": "text/x-python",
      "name": "python",
      "nbconvert_exporter": "python",
      "pygments_lexer": "ipython2",
      "version": "2.7.6"
    },
    "colab": {
      "provenance": [],
      "gpuType": "T4"
    },
    "accelerator": "GPU"
  },
  "nbformat": 4,
  "nbformat_minor": 5
}