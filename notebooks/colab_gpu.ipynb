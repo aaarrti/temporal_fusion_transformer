{
 "cells": [
  {
   "cell_type": "code",
   "execution_count": 7,
   "outputs": [],
   "source": [
    "%load_ext tensorboard"
   ],
   "metadata": {
    "collapsed": false,
    "ExecuteTime": {
     "end_time": "2023-08-17T16:03:24.606361Z",
     "start_time": "2023-08-17T16:03:24.590406Z"
    }
   },
   "id": "d3ac29453a2d0256"
  },
  {
   "cell_type": "markdown",
   "source": [
    "First, we'd need to upload dataset to GDrive"
   ],
   "metadata": {
    "collapsed": false
   },
   "id": "fa5e337f02a8f1cc"
  },
  {
   "cell_type": "code",
   "execution_count": null,
   "outputs": [],
   "source": [
    "from google.colab import drive\n",
    "\n",
    "drive.mount(\"/content/drive\")\n",
    "\n",
    "data_path = \"TODO\""
   ],
   "metadata": {
    "collapsed": false
   },
   "id": "initial_id"
  },
  {
   "cell_type": "code",
   "execution_count": 8,
   "outputs": [
    {
     "data": {
      "text/plain": "[CpuDevice(id=0)]"
     },
     "execution_count": 8,
     "metadata": {},
     "output_type": "execute_result"
    }
   ],
   "source": [
    "import jax\n",
    "from absl_extra import logging_utils\n",
    "import temporal_fusion_transformer as tft\n",
    "from temporal_fusion_transformer.config import get_config\n",
    "\n",
    "logging_utils.setup_logging(log_level=\"INFO\")\n",
    "jax.devices()"
   ],
   "metadata": {
    "collapsed": false,
    "ExecuteTime": {
     "end_time": "2023-08-17T16:03:50.846720Z",
     "start_time": "2023-08-17T16:03:50.839485Z"
    }
   },
   "id": "17c98f3a38e7f8da"
  },
  {
   "cell_type": "code",
   "execution_count": 9,
   "outputs": [
    {
     "data": {
      "text/plain": "fixed_params:\n  input_known_categorical_idx:\n  - 3\n  - 4\n  - 5\n  - 6\n  input_known_real_idx:\n  - 1\n  - 2\n  input_observed_idx: []\n  input_static_idx:\n  - 0\n  known_categories_sizes:\n  - 31\n  - 24\n  - 7\n  - 12\n  num_encoder_steps: 168\n  num_outputs: 1\n  static_categories_sizes:\n  - 369\n  total_time_steps: 192\nhyperparams:\n  dropout_rate: 0.1\n  latent_dim: 160\n  num_attention_heads: 4\n  num_decoder_blocks: 1\n  quantiles:\n  - 0.1\n  - 0.5\n  - 0.9\noptimizer:\n  clipnorm: 0.1\n  decay_alpha: 0.05\n  decay_steps: 0.8\n  ema: 0.99\n  learning_rate: 0.001\nprng_seed: 69\nshuffle_buffer_size: 1024"
     },
     "execution_count": 9,
     "metadata": {},
     "output_type": "execute_result"
    }
   ],
   "source": [
    "config = get_config(\"electricity\")\n",
    "config"
   ],
   "metadata": {
    "collapsed": false,
    "ExecuteTime": {
     "end_time": "2023-08-17T16:03:54.531042Z",
     "start_time": "2023-08-17T16:03:54.525998Z"
    }
   },
   "id": "377690fca821a4c6"
  },
  {
   "cell_type": "code",
   "execution_count": null,
   "outputs": [],
   "source": [
    "tft.scripts.train_on_single_device(\n",
    "    data_dir=data_path,\n",
    "    batch_size=64,\n",
    "    experiment_name=\"electricity\",\n",
    "    mixed_precision=True,\n",
    "    config=config,\n",
    "    save_path=\"TODO\",\n",
    ")"
   ],
   "metadata": {
    "collapsed": false
   },
   "id": "3a400413ffc7a86d"
  }
 ],
 "metadata": {
  "kernelspec": {
   "display_name": "Python 3",
   "language": "python",
   "name": "python3"
  },
  "language_info": {
   "codemirror_mode": {
    "name": "ipython",
    "version": 2
   },
   "file_extension": ".py",
   "mimetype": "text/x-python",
   "name": "python",
   "nbconvert_exporter": "python",
   "pygments_lexer": "ipython2",
   "version": "2.7.6"
  }
 },
 "nbformat": 4,
 "nbformat_minor": 5
}
