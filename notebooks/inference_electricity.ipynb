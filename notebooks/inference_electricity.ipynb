{
 "cells": [
  {
   "cell_type": "code",
   "execution_count": 1,
   "outputs": [],
   "source": [
    "%load_ext autoreload\n",
    "%autoreload 2"
   ],
   "metadata": {
    "collapsed": false,
    "ExecuteTime": {
     "end_time": "2023-09-07T21:14:22.990459Z",
     "start_time": "2023-09-07T21:14:22.977741Z"
    }
   },
   "id": "c6fc11b53d75012f"
  },
  {
   "cell_type": "code",
   "execution_count": 1,
   "outputs": [
    {
     "ename": "ImportError",
     "evalue": "cannot import name 'ConfigDictProto' from 'temporal_fusion_transformer.src.config_dict' (/Users/artemsereda/Documents/IdeaProjects/temporal_fusion_transformer/temporal_fusion_transformer/src/config_dict.py)",
     "output_type": "error",
     "traceback": [
      "\u001B[0;31m---------------------------------------------------------------------------\u001B[0m",
      "\u001B[0;31mImportError\u001B[0m                               Traceback (most recent call last)",
      "Cell \u001B[0;32mIn[1], line 4\u001B[0m\n\u001B[1;32m      2\u001B[0m \u001B[38;5;28;01mimport\u001B[39;00m \u001B[38;5;21;01mtensorflow\u001B[39;00m \u001B[38;5;28;01mas\u001B[39;00m \u001B[38;5;21;01mtf\u001B[39;00m\n\u001B[1;32m      3\u001B[0m \u001B[38;5;28;01mfrom\u001B[39;00m \u001B[38;5;21;01mml_collections\u001B[39;00m \u001B[38;5;28;01mimport\u001B[39;00m ConfigDict\n\u001B[0;32m----> 4\u001B[0m \u001B[38;5;28;01mimport\u001B[39;00m \u001B[38;5;21;01mtemporal_fusion_transformer\u001B[39;00m \u001B[38;5;28;01mas\u001B[39;00m \u001B[38;5;21;01mtft\u001B[39;00m\n\u001B[1;32m      5\u001B[0m \u001B[38;5;28;01mimport\u001B[39;00m \u001B[38;5;21;01mjax\u001B[39;00m\n\u001B[1;32m      6\u001B[0m \u001B[38;5;28;01mimport\u001B[39;00m \u001B[38;5;21;01mjax\u001B[39;00m\u001B[38;5;21;01m.\u001B[39;00m\u001B[38;5;21;01mnumpy\u001B[39;00m \u001B[38;5;28;01mas\u001B[39;00m \u001B[38;5;21;01mjnp\u001B[39;00m\n",
      "File \u001B[0;32m~/Documents/IdeaProjects/temporal_fusion_transformer/temporal_fusion_transformer/__init__.py:6\u001B[0m\n\u001B[1;32m      3\u001B[0m \u001B[38;5;28;01mimport\u001B[39;00m \u001B[38;5;21;01mjax\u001B[39;00m\n\u001B[1;32m      5\u001B[0m jax\u001B[38;5;241m.\u001B[39mconfig\u001B[38;5;241m.\u001B[39mupdate(\u001B[38;5;124m\"\u001B[39m\u001B[38;5;124mjax_softmax_custom_jvp\u001B[39m\u001B[38;5;124m\"\u001B[39m, \u001B[38;5;28;01mTrue\u001B[39;00m)\n\u001B[0;32m----> 6\u001B[0m \u001B[38;5;28;01mfrom\u001B[39;00m \u001B[38;5;21;01mtemporal_fusion_transformer\u001B[39;00m\u001B[38;5;21;01m.\u001B[39;00m\u001B[38;5;21;01msrc\u001B[39;00m \u001B[38;5;28;01mimport\u001B[39;00m experiments, training_scripts\n\u001B[1;32m      7\u001B[0m \u001B[38;5;28;01mfrom\u001B[39;00m \u001B[38;5;21;01mtemporal_fusion_transformer\u001B[39;00m\u001B[38;5;21;01m.\u001B[39;00m\u001B[38;5;21;01msrc\u001B[39;00m\u001B[38;5;21;01m.\u001B[39;00m\u001B[38;5;21;01mconfig_dict\u001B[39;00m \u001B[38;5;28;01mimport\u001B[39;00m ConfigDictProto\n\u001B[1;32m      8\u001B[0m \u001B[38;5;28;01mfrom\u001B[39;00m \u001B[38;5;21;01mtemporal_fusion_transformer\u001B[39;00m\u001B[38;5;21;01m.\u001B[39;00m\u001B[38;5;21;01msrc\u001B[39;00m\u001B[38;5;21;01m.\u001B[39;00m\u001B[38;5;21;01mtft_model\u001B[39;00m \u001B[38;5;28;01mimport\u001B[39;00m TemporalFusionTransformer\n",
      "File \u001B[0;32m~/Documents/IdeaProjects/temporal_fusion_transformer/temporal_fusion_transformer/src/training_scripts.py:16\u001B[0m\n\u001B[1;32m     14\u001B[0m \u001B[38;5;28;01mfrom\u001B[39;00m \u001B[38;5;21;01mtemporal_fusion_transformer\u001B[39;00m\u001B[38;5;21;01m.\u001B[39;00m\u001B[38;5;21;01msrc\u001B[39;00m\u001B[38;5;21;01m.\u001B[39;00m\u001B[38;5;21;01mloss_fn\u001B[39;00m \u001B[38;5;28;01mimport\u001B[39;00m make_quantile_loss_fn\n\u001B[1;32m     15\u001B[0m \u001B[38;5;28;01mfrom\u001B[39;00m \u001B[38;5;21;01mtemporal_fusion_transformer\u001B[39;00m\u001B[38;5;21;01m.\u001B[39;00m\u001B[38;5;21;01msrc\u001B[39;00m\u001B[38;5;21;01m.\u001B[39;00m\u001B[38;5;21;01mmetrics\u001B[39;00m \u001B[38;5;28;01mimport\u001B[39;00m MetricContainer\n\u001B[0;32m---> 16\u001B[0m \u001B[38;5;28;01mfrom\u001B[39;00m \u001B[38;5;21;01mtemporal_fusion_transformer\u001B[39;00m\u001B[38;5;21;01m.\u001B[39;00m\u001B[38;5;21;01msrc\u001B[39;00m\u001B[38;5;21;01m.\u001B[39;00m\u001B[38;5;21;01mtft_model\u001B[39;00m \u001B[38;5;28;01mimport\u001B[39;00m make_temporal_fusion_transformer\n\u001B[1;32m     17\u001B[0m \u001B[38;5;28;01mfrom\u001B[39;00m \u001B[38;5;21;01mtemporal_fusion_transformer\u001B[39;00m\u001B[38;5;21;01m.\u001B[39;00m\u001B[38;5;21;01msrc\u001B[39;00m\u001B[38;5;21;01m.\u001B[39;00m\u001B[38;5;21;01mtraining_hooks\u001B[39;00m \u001B[38;5;28;01mimport\u001B[39;00m make_training_hooks\n\u001B[1;32m     18\u001B[0m \u001B[38;5;28;01mfrom\u001B[39;00m \u001B[38;5;21;01mtemporal_fusion_transformer\u001B[39;00m\u001B[38;5;21;01m.\u001B[39;00m\u001B[38;5;21;01msrc\u001B[39;00m\u001B[38;5;21;01m.\u001B[39;00m\u001B[38;5;21;01mtraining_lib\u001B[39;00m \u001B[38;5;28;01mimport\u001B[39;00m (\n\u001B[1;32m     19\u001B[0m     TrainStateContainer,\n\u001B[1;32m     20\u001B[0m     load_dataset,\n\u001B[0;32m   (...)\u001B[0m\n\u001B[1;32m     25\u001B[0m     distributed_validation_step,\n\u001B[1;32m     26\u001B[0m )\n",
      "File \u001B[0;32m~/Documents/IdeaProjects/temporal_fusion_transformer/temporal_fusion_transformer/src/tft_model.py:11\u001B[0m\n\u001B[1;32m      8\u001B[0m \u001B[38;5;28;01mfrom\u001B[39;00m \u001B[38;5;21;01mflax\u001B[39;00m \u001B[38;5;28;01mimport\u001B[39;00m struct\n\u001B[1;32m      9\u001B[0m \u001B[38;5;28;01mfrom\u001B[39;00m \u001B[38;5;21;01mjaxtyping\u001B[39;00m \u001B[38;5;28;01mimport\u001B[39;00m Array, Float, jaxtyped\n\u001B[0;32m---> 11\u001B[0m \u001B[38;5;28;01mfrom\u001B[39;00m \u001B[38;5;21;01mtemporal_fusion_transformer\u001B[39;00m\u001B[38;5;21;01m.\u001B[39;00m\u001B[38;5;21;01msrc\u001B[39;00m\u001B[38;5;21;01m.\u001B[39;00m\u001B[38;5;21;01mconfig_dict\u001B[39;00m \u001B[38;5;28;01mimport\u001B[39;00m ConfigDictProto, DatasetConfig\n\u001B[1;32m     12\u001B[0m \u001B[38;5;28;01mfrom\u001B[39;00m \u001B[38;5;21;01mtemporal_fusion_transformer\u001B[39;00m\u001B[38;5;21;01m.\u001B[39;00m\u001B[38;5;21;01msrc\u001B[39;00m\u001B[38;5;21;01m.\u001B[39;00m\u001B[38;5;21;01mtft_layers\u001B[39;00m \u001B[38;5;28;01mimport\u001B[39;00m (\n\u001B[1;32m     13\u001B[0m     ComputeDtype,\n\u001B[1;32m     14\u001B[0m     DecoderBlock,\n\u001B[0;32m   (...)\u001B[0m\n\u001B[1;32m     22\u001B[0m     make_causal_mask,\n\u001B[1;32m     23\u001B[0m )\n\u001B[1;32m     26\u001B[0m \u001B[38;5;129m@struct\u001B[39m\u001B[38;5;241m.\u001B[39mdataclass\n\u001B[1;32m     27\u001B[0m \u001B[38;5;28;01mclass\u001B[39;00m \u001B[38;5;21;01mTftOutputs\u001B[39;00m:\n",
      "\u001B[0;31mImportError\u001B[0m: cannot import name 'ConfigDictProto' from 'temporal_fusion_transformer.src.config_dict' (/Users/artemsereda/Documents/IdeaProjects/temporal_fusion_transformer/temporal_fusion_transformer/src/config_dict.py)"
     ]
    }
   ],
   "source": [
    "import polars as pl\n",
    "import tensorflow as tf\n",
    "from ml_collections import ConfigDict\n",
    "import temporal_fusion_transformer as tft\n",
    "import jax\n",
    "import jax.numpy as jnp\n",
    "import numpy as np\n",
    "from absl_extra import logging_utils, flax_utils\n",
    "from tqdm.auto import tqdm\n",
    "from keras.utils import FeatureSpace\n",
    "import matplotlib\n",
    "import matplotlib.pyplot as plt\n",
    "import matplotx\n",
    "import datetime\n",
    "from datetime import datetime\n",
    "import matplotlib.dates as mdates\n",
    "from datetime import datetime\n",
    "\n",
    "\n",
    "logging_utils.setup_logging(log_level=\"INFO\")\n",
    "matplotlib.style.use(matplotx.styles.dufte)\n",
    "\n",
    "\n",
    "data_config = tft.experiments.get_config(\"electricity\")\n",
    "config = ConfigDict(\n",
    "    {\n",
    "        \"prng_seed\": 69,\n",
    "        \"model\": {\n",
    "            \"num_attention_heads\": 10,\n",
    "            \"num_decoder_blocks\": 5,\n",
    "            \"latent_dim\": 160,\n",
    "            \"dropout_rate\": 0.1,\n",
    "            \"attention_dropout_rate\": 0.1,\n",
    "            \"quantiles\": [0.1, 0.5, 0.9],\n",
    "        },\n",
    "    }\n",
    ")"
   ],
   "metadata": {
    "collapsed": false,
    "ExecuteTime": {
     "end_time": "2023-09-10T12:13:06.880750Z",
     "start_time": "2023-09-10T12:13:02.871038Z"
    }
   },
   "id": "initial_id"
  },
  {
   "cell_type": "markdown",
   "id": "16654ab6474251f",
   "metadata": {},
   "source": [
    "Load model"
   ]
  },
  {
   "cell_type": "code",
   "execution_count": 3,
   "id": "9e60290c5bfd3e2a",
   "metadata": {
    "collapsed": false,
    "tags": [],
    "ExecuteTime": {
     "end_time": "2023-09-07T21:14:35.720570Z",
     "start_time": "2023-09-07T21:14:31.243759Z"
    }
   },
   "outputs": [
    {
     "name": "stderr",
     "output_type": "stream",
     "text": [
      "2023-09-07 23:14:31,278:[xla_bridge.py:622->backends()]:INFO: Unable to initialize backend 'cuda': module 'jaxlib.xla_extension' has no attribute 'GpuAllocatorConfig'\n",
      "2023-09-07 23:14:31,278:[xla_bridge.py:622->backends()]:INFO: Unable to initialize backend 'rocm': module 'jaxlib.xla_extension' has no attribute 'GpuAllocatorConfig'\n",
      "2023-09-07 23:14:31,279:[xla_bridge.py:622->backends()]:INFO: Unable to initialize backend 'tpu': module 'jaxlib.xla_extension' has no attribute 'get_tpu_client'\n"
     ]
    }
   ],
   "source": [
    "model = tft.TemporalFusionTransformer.from_config_dict(config, data_config)\n",
    "\n",
    "x_batch = jnp.ones([8, 8 * 24, 6])\n",
    "rng_key = jax.random.PRNGKey(config.prng_seed)\n",
    "params = model.init(rng_key, x_batch)[\"params\"]\n",
    "params = flax_utils.load_from_msgpack(params, \"../model.msgpack\")"
   ]
  },
  {
   "cell_type": "markdown",
   "id": "8a0017d8cb31f62",
   "metadata": {},
   "source": [
    "Load data & preprocessor"
   ]
  },
  {
   "cell_type": "code",
   "execution_count": 25,
   "id": "1b89eeb3e431aaed",
   "metadata": {
    "collapsed": false,
    "tags": [],
    "ExecuteTime": {
     "end_time": "2023-09-07T21:25:15.919653Z",
     "start_time": "2023-09-07T21:25:15.863429Z"
    }
   },
   "outputs": [
    {
     "name": "stderr",
     "output_type": "stream",
     "text": [
      "[libprotobuf ERROR external/com_google_protobuf/src/google/protobuf/text_format.cc:337] Error parsing text-format tensorflow.data.experimental.DistributedSnapshotMetadata: 1:1: Invalid control characters encountered in text.\n",
      "[libprotobuf ERROR external/com_google_protobuf/src/google/protobuf/text_format.cc:337] Error parsing text-format tensorflow.data.experimental.DistributedSnapshotMetadata: 1:3: Expected identifier, got: 17295488669516170944\n"
     ]
    }
   ],
   "source": [
    "preprocessor: tft.experiments.electricity.PreprocessorDict = tft.experiments.deserialize_preprocessor(\n",
    "    \"../data/electricity\"\n",
    ")\n",
    "dataset = tf.data.Dataset.load(\"../data/electricity/test/\", compression=\"GZIP\")"
   ]
  },
  {
   "cell_type": "markdown",
   "id": "ea377f85-edbb-49b6-b1d0-b43676bf71b5",
   "metadata": {},
   "source": [
    "Let's run inference for 1 entity only (MT_122)"
   ]
  },
  {
   "cell_type": "code",
   "execution_count": 51,
   "outputs": [
    {
     "data": {
      "text/plain": "{'categorical': {'day': LabelEncoder(),\n  'day_of_week': LabelEncoder(),\n  'hour': LabelEncoder(),\n  'id': LabelEncoder(),\n  'month': LabelEncoder()},\n 'real': {'MT_001': StandardScaler(),\n  'MT_002': StandardScaler(),\n  'MT_003': StandardScaler(),\n  'MT_004': StandardScaler(),\n  'MT_005': StandardScaler(),\n  'MT_006': StandardScaler(),\n  'MT_007': StandardScaler(),\n  'MT_008': StandardScaler(),\n  'MT_009': StandardScaler(),\n  'MT_010': StandardScaler(),\n  'MT_011': StandardScaler(),\n  'MT_012': StandardScaler(),\n  'MT_013': StandardScaler(),\n  'MT_014': StandardScaler(),\n  'MT_015': StandardScaler(),\n  'MT_016': StandardScaler(),\n  'MT_017': StandardScaler(),\n  'MT_018': StandardScaler(),\n  'MT_019': StandardScaler(),\n  'MT_020': StandardScaler(),\n  'MT_021': StandardScaler(),\n  'MT_022': StandardScaler(),\n  'MT_023': StandardScaler(),\n  'MT_024': StandardScaler(),\n  'MT_025': StandardScaler(),\n  'MT_026': StandardScaler(),\n  'MT_027': StandardScaler(),\n  'MT_028': StandardScaler(),\n  'MT_029': StandardScaler(),\n  'MT_030': StandardScaler(),\n  'MT_031': StandardScaler(),\n  'MT_032': StandardScaler(),\n  'MT_033': StandardScaler(),\n  'MT_034': StandardScaler(),\n  'MT_035': StandardScaler(),\n  'MT_036': StandardScaler(),\n  'MT_037': StandardScaler(),\n  'MT_038': StandardScaler(),\n  'MT_039': StandardScaler(),\n  'MT_040': StandardScaler(),\n  'MT_041': StandardScaler(),\n  'MT_042': StandardScaler(),\n  'MT_043': StandardScaler(),\n  'MT_044': StandardScaler(),\n  'MT_045': StandardScaler(),\n  'MT_046': StandardScaler(),\n  'MT_047': StandardScaler(),\n  'MT_048': StandardScaler(),\n  'MT_049': StandardScaler(),\n  'MT_050': StandardScaler(),\n  'MT_051': StandardScaler(),\n  'MT_052': StandardScaler(),\n  'MT_053': StandardScaler(),\n  'MT_054': StandardScaler(),\n  'MT_055': StandardScaler(),\n  'MT_056': StandardScaler(),\n  'MT_057': StandardScaler(),\n  'MT_058': StandardScaler(),\n  'MT_059': StandardScaler(),\n  'MT_060': StandardScaler(),\n  'MT_061': StandardScaler(),\n  'MT_062': StandardScaler(),\n  'MT_063': StandardScaler(),\n  'MT_064': StandardScaler(),\n  'MT_065': StandardScaler(),\n  'MT_066': StandardScaler(),\n  'MT_067': StandardScaler(),\n  'MT_068': StandardScaler(),\n  'MT_069': StandardScaler(),\n  'MT_070': StandardScaler(),\n  'MT_071': StandardScaler(),\n  'MT_072': StandardScaler(),\n  'MT_073': StandardScaler(),\n  'MT_074': StandardScaler(),\n  'MT_075': StandardScaler(),\n  'MT_076': StandardScaler(),\n  'MT_077': StandardScaler(),\n  'MT_078': StandardScaler(),\n  'MT_079': StandardScaler(),\n  'MT_080': StandardScaler(),\n  'MT_081': StandardScaler(),\n  'MT_082': StandardScaler(),\n  'MT_083': StandardScaler(),\n  'MT_084': StandardScaler(),\n  'MT_085': StandardScaler(),\n  'MT_086': StandardScaler(),\n  'MT_087': StandardScaler(),\n  'MT_088': StandardScaler(),\n  'MT_089': StandardScaler(),\n  'MT_090': StandardScaler(),\n  'MT_091': StandardScaler(),\n  'MT_092': StandardScaler(),\n  'MT_093': StandardScaler(),\n  'MT_094': StandardScaler(),\n  'MT_095': StandardScaler(),\n  'MT_096': StandardScaler(),\n  'MT_097': StandardScaler(),\n  'MT_098': StandardScaler(),\n  'MT_099': StandardScaler(),\n  'MT_100': StandardScaler(),\n  'MT_101': StandardScaler(),\n  'MT_102': StandardScaler(),\n  'MT_103': StandardScaler(),\n  'MT_104': StandardScaler(),\n  'MT_105': StandardScaler(),\n  'MT_106': StandardScaler(),\n  'MT_107': StandardScaler(),\n  'MT_108': StandardScaler(),\n  'MT_109': StandardScaler(),\n  'MT_110': StandardScaler(),\n  'MT_111': StandardScaler(),\n  'MT_112': StandardScaler(),\n  'MT_113': StandardScaler(),\n  'MT_114': StandardScaler(),\n  'MT_115': StandardScaler(),\n  'MT_116': StandardScaler(),\n  'MT_117': StandardScaler(),\n  'MT_118': StandardScaler(),\n  'MT_119': StandardScaler(),\n  'MT_120': StandardScaler(),\n  'MT_121': StandardScaler(),\n  'MT_122': StandardScaler(),\n  'MT_123': StandardScaler(),\n  'MT_124': StandardScaler(),\n  'MT_125': StandardScaler(),\n  'MT_126': StandardScaler(),\n  'MT_127': StandardScaler(),\n  'MT_128': StandardScaler(),\n  'MT_129': StandardScaler(),\n  'MT_130': StandardScaler(),\n  'MT_131': StandardScaler(),\n  'MT_132': StandardScaler(),\n  'MT_133': StandardScaler(),\n  'MT_134': StandardScaler(),\n  'MT_135': StandardScaler(),\n  'MT_136': StandardScaler(),\n  'MT_137': StandardScaler(),\n  'MT_138': StandardScaler(),\n  'MT_139': StandardScaler(),\n  'MT_140': StandardScaler(),\n  'MT_141': StandardScaler(),\n  'MT_142': StandardScaler(),\n  'MT_143': StandardScaler(),\n  'MT_144': StandardScaler(),\n  'MT_145': StandardScaler(),\n  'MT_146': StandardScaler(),\n  'MT_147': StandardScaler(),\n  'MT_148': StandardScaler(),\n  'MT_149': StandardScaler(),\n  'MT_150': StandardScaler(),\n  'MT_151': StandardScaler(),\n  'MT_152': StandardScaler(),\n  'MT_153': StandardScaler(),\n  'MT_154': StandardScaler(),\n  'MT_155': StandardScaler(),\n  'MT_156': StandardScaler(),\n  'MT_157': StandardScaler(),\n  'MT_158': StandardScaler(),\n  'MT_159': StandardScaler(),\n  'MT_160': StandardScaler(),\n  'MT_161': StandardScaler(),\n  'MT_162': StandardScaler(),\n  'MT_163': StandardScaler(),\n  'MT_164': StandardScaler(),\n  'MT_165': StandardScaler(),\n  'MT_166': StandardScaler(),\n  'MT_167': StandardScaler(),\n  'MT_168': StandardScaler(),\n  'MT_169': StandardScaler(),\n  'MT_170': StandardScaler(),\n  'MT_171': StandardScaler(),\n  'MT_172': StandardScaler(),\n  'MT_173': StandardScaler(),\n  'MT_174': StandardScaler(),\n  'MT_175': StandardScaler(),\n  'MT_176': StandardScaler(),\n  'MT_177': StandardScaler(),\n  'MT_178': StandardScaler(),\n  'MT_179': StandardScaler(),\n  'MT_180': StandardScaler(),\n  'MT_181': StandardScaler(),\n  'MT_182': StandardScaler(),\n  'MT_183': StandardScaler(),\n  'MT_184': StandardScaler(),\n  'MT_185': StandardScaler(),\n  'MT_186': StandardScaler(),\n  'MT_187': StandardScaler(),\n  'MT_188': StandardScaler(),\n  'MT_189': StandardScaler(),\n  'MT_190': StandardScaler(),\n  'MT_191': StandardScaler(),\n  'MT_192': StandardScaler(),\n  'MT_193': StandardScaler(),\n  'MT_194': StandardScaler(),\n  'MT_195': StandardScaler(),\n  'MT_196': StandardScaler(),\n  'MT_197': StandardScaler(),\n  'MT_198': StandardScaler(),\n  'MT_199': StandardScaler(),\n  'MT_200': StandardScaler(),\n  'MT_201': StandardScaler(),\n  'MT_202': StandardScaler(),\n  'MT_203': StandardScaler(),\n  'MT_204': StandardScaler(),\n  'MT_205': StandardScaler(),\n  'MT_206': StandardScaler(),\n  'MT_207': StandardScaler(),\n  'MT_208': StandardScaler(),\n  'MT_209': StandardScaler(),\n  'MT_210': StandardScaler(),\n  'MT_211': StandardScaler(),\n  'MT_212': StandardScaler(),\n  'MT_213': StandardScaler(),\n  'MT_214': StandardScaler(),\n  'MT_215': StandardScaler(),\n  'MT_216': StandardScaler(),\n  'MT_217': StandardScaler(),\n  'MT_218': StandardScaler(),\n  'MT_219': StandardScaler(),\n  'MT_220': StandardScaler(),\n  'MT_221': StandardScaler(),\n  'MT_222': StandardScaler(),\n  'MT_223': StandardScaler(),\n  'MT_224': StandardScaler(),\n  'MT_225': StandardScaler(),\n  'MT_226': StandardScaler(),\n  'MT_227': StandardScaler(),\n  'MT_228': StandardScaler(),\n  'MT_229': StandardScaler(),\n  'MT_230': StandardScaler(),\n  'MT_231': StandardScaler(),\n  'MT_232': StandardScaler(),\n  'MT_233': StandardScaler(),\n  'MT_234': StandardScaler(),\n  'MT_235': StandardScaler(),\n  'MT_236': StandardScaler(),\n  'MT_237': StandardScaler(),\n  'MT_238': StandardScaler(),\n  'MT_239': StandardScaler(),\n  'MT_240': StandardScaler(),\n  'MT_241': StandardScaler(),\n  'MT_242': StandardScaler(),\n  'MT_243': StandardScaler(),\n  'MT_244': StandardScaler(),\n  'MT_245': StandardScaler(),\n  'MT_246': StandardScaler(),\n  'MT_247': StandardScaler(),\n  'MT_248': StandardScaler(),\n  'MT_249': StandardScaler(),\n  'MT_250': StandardScaler(),\n  'MT_251': StandardScaler(),\n  'MT_252': StandardScaler(),\n  'MT_253': StandardScaler(),\n  'MT_254': StandardScaler(),\n  'MT_255': StandardScaler(),\n  'MT_256': StandardScaler(),\n  'MT_257': StandardScaler(),\n  'MT_258': StandardScaler(),\n  'MT_259': StandardScaler(),\n  'MT_260': StandardScaler(),\n  'MT_261': StandardScaler(),\n  'MT_262': StandardScaler(),\n  'MT_263': StandardScaler(),\n  'MT_264': StandardScaler(),\n  'MT_265': StandardScaler(),\n  'MT_266': StandardScaler(),\n  'MT_267': StandardScaler(),\n  'MT_268': StandardScaler(),\n  'MT_269': StandardScaler(),\n  'MT_270': StandardScaler(),\n  'MT_271': StandardScaler(),\n  'MT_272': StandardScaler(),\n  'MT_273': StandardScaler(),\n  'MT_274': StandardScaler(),\n  'MT_275': StandardScaler(),\n  'MT_276': StandardScaler(),\n  'MT_277': StandardScaler(),\n  'MT_278': StandardScaler(),\n  'MT_279': StandardScaler(),\n  'MT_280': StandardScaler(),\n  'MT_281': StandardScaler(),\n  'MT_282': StandardScaler(),\n  'MT_283': StandardScaler(),\n  'MT_284': StandardScaler(),\n  'MT_285': StandardScaler(),\n  'MT_286': StandardScaler(),\n  'MT_287': StandardScaler(),\n  'MT_288': StandardScaler(),\n  'MT_289': StandardScaler(),\n  'MT_290': StandardScaler(),\n  'MT_291': StandardScaler(),\n  'MT_292': StandardScaler(),\n  'MT_293': StandardScaler(),\n  'MT_294': StandardScaler(),\n  'MT_295': StandardScaler(),\n  'MT_296': StandardScaler(),\n  'MT_297': StandardScaler(),\n  'MT_298': StandardScaler(),\n  'MT_299': StandardScaler(),\n  'MT_300': StandardScaler(),\n  'MT_301': StandardScaler(),\n  'MT_302': StandardScaler(),\n  'MT_303': StandardScaler(),\n  'MT_304': StandardScaler(),\n  'MT_305': StandardScaler(),\n  'MT_306': StandardScaler(),\n  'MT_307': StandardScaler(),\n  'MT_308': StandardScaler(),\n  'MT_309': StandardScaler(),\n  'MT_310': StandardScaler(),\n  'MT_311': StandardScaler(),\n  'MT_312': StandardScaler(),\n  'MT_313': StandardScaler(),\n  'MT_314': StandardScaler(),\n  'MT_315': StandardScaler(),\n  'MT_316': StandardScaler(),\n  'MT_317': StandardScaler(),\n  'MT_318': StandardScaler(),\n  'MT_319': StandardScaler(),\n  'MT_320': StandardScaler(),\n  'MT_321': StandardScaler(),\n  'MT_322': StandardScaler(),\n  'MT_323': StandardScaler(),\n  'MT_324': StandardScaler(),\n  'MT_325': StandardScaler(),\n  'MT_326': StandardScaler(),\n  'MT_327': StandardScaler(),\n  'MT_328': StandardScaler(),\n  'MT_329': StandardScaler(),\n  'MT_330': StandardScaler(),\n  'MT_331': StandardScaler(),\n  'MT_332': StandardScaler(),\n  'MT_333': StandardScaler(),\n  'MT_334': StandardScaler(),\n  'MT_335': StandardScaler(),\n  'MT_336': StandardScaler(),\n  'MT_337': StandardScaler(),\n  'MT_338': StandardScaler(),\n  'MT_339': StandardScaler(),\n  'MT_340': StandardScaler(),\n  'MT_341': StandardScaler(),\n  'MT_342': StandardScaler(),\n  'MT_343': StandardScaler(),\n  'MT_344': StandardScaler(),\n  'MT_345': StandardScaler(),\n  'MT_346': StandardScaler(),\n  'MT_347': StandardScaler(),\n  'MT_348': StandardScaler(),\n  'MT_349': StandardScaler(),\n  'MT_350': StandardScaler(),\n  'MT_351': StandardScaler(),\n  'MT_352': StandardScaler(),\n  'MT_353': StandardScaler(),\n  'MT_354': StandardScaler(),\n  'MT_355': StandardScaler(),\n  'MT_356': StandardScaler(),\n  'MT_357': StandardScaler(),\n  'MT_358': StandardScaler(),\n  'MT_359': StandardScaler(),\n  'MT_360': StandardScaler(),\n  'MT_361': StandardScaler(),\n  'MT_362': StandardScaler(),\n  'MT_363': StandardScaler(),\n  'MT_364': StandardScaler(),\n  'MT_365': StandardScaler(),\n  'MT_366': StandardScaler(),\n  'MT_367': StandardScaler(),\n  'MT_368': StandardScaler(),\n  'MT_369': StandardScaler(),\n  'MT_370': StandardScaler()},\n 'target': {'MT_001': StandardScaler(),\n  'MT_002': StandardScaler(),\n  'MT_003': StandardScaler(),\n  'MT_004': StandardScaler(),\n  'MT_005': StandardScaler(),\n  'MT_006': StandardScaler(),\n  'MT_007': StandardScaler(),\n  'MT_008': StandardScaler(),\n  'MT_009': StandardScaler(),\n  'MT_010': StandardScaler(),\n  'MT_011': StandardScaler(),\n  'MT_012': StandardScaler(),\n  'MT_013': StandardScaler(),\n  'MT_014': StandardScaler(),\n  'MT_015': StandardScaler(),\n  'MT_016': StandardScaler(),\n  'MT_017': StandardScaler(),\n  'MT_018': StandardScaler(),\n  'MT_019': StandardScaler(),\n  'MT_020': StandardScaler(),\n  'MT_021': StandardScaler(),\n  'MT_022': StandardScaler(),\n  'MT_023': StandardScaler(),\n  'MT_024': StandardScaler(),\n  'MT_025': StandardScaler(),\n  'MT_026': StandardScaler(),\n  'MT_027': StandardScaler(),\n  'MT_028': StandardScaler(),\n  'MT_029': StandardScaler(),\n  'MT_030': StandardScaler(),\n  'MT_031': StandardScaler(),\n  'MT_032': StandardScaler(),\n  'MT_033': StandardScaler(),\n  'MT_034': StandardScaler(),\n  'MT_035': StandardScaler(),\n  'MT_036': StandardScaler(),\n  'MT_037': StandardScaler(),\n  'MT_038': StandardScaler(),\n  'MT_039': StandardScaler(),\n  'MT_040': StandardScaler(),\n  'MT_041': StandardScaler(),\n  'MT_042': StandardScaler(),\n  'MT_043': StandardScaler(),\n  'MT_044': StandardScaler(),\n  'MT_045': StandardScaler(),\n  'MT_046': StandardScaler(),\n  'MT_047': StandardScaler(),\n  'MT_048': StandardScaler(),\n  'MT_049': StandardScaler(),\n  'MT_050': StandardScaler(),\n  'MT_051': StandardScaler(),\n  'MT_052': StandardScaler(),\n  'MT_053': StandardScaler(),\n  'MT_054': StandardScaler(),\n  'MT_055': StandardScaler(),\n  'MT_056': StandardScaler(),\n  'MT_057': StandardScaler(),\n  'MT_058': StandardScaler(),\n  'MT_059': StandardScaler(),\n  'MT_060': StandardScaler(),\n  'MT_061': StandardScaler(),\n  'MT_062': StandardScaler(),\n  'MT_063': StandardScaler(),\n  'MT_064': StandardScaler(),\n  'MT_065': StandardScaler(),\n  'MT_066': StandardScaler(),\n  'MT_067': StandardScaler(),\n  'MT_068': StandardScaler(),\n  'MT_069': StandardScaler(),\n  'MT_070': StandardScaler(),\n  'MT_071': StandardScaler(),\n  'MT_072': StandardScaler(),\n  'MT_073': StandardScaler(),\n  'MT_074': StandardScaler(),\n  'MT_075': StandardScaler(),\n  'MT_076': StandardScaler(),\n  'MT_077': StandardScaler(),\n  'MT_078': StandardScaler(),\n  'MT_079': StandardScaler(),\n  'MT_080': StandardScaler(),\n  'MT_081': StandardScaler(),\n  'MT_082': StandardScaler(),\n  'MT_083': StandardScaler(),\n  'MT_084': StandardScaler(),\n  'MT_085': StandardScaler(),\n  'MT_086': StandardScaler(),\n  'MT_087': StandardScaler(),\n  'MT_088': StandardScaler(),\n  'MT_089': StandardScaler(),\n  'MT_090': StandardScaler(),\n  'MT_091': StandardScaler(),\n  'MT_092': StandardScaler(),\n  'MT_093': StandardScaler(),\n  'MT_094': StandardScaler(),\n  'MT_095': StandardScaler(),\n  'MT_096': StandardScaler(),\n  'MT_097': StandardScaler(),\n  'MT_098': StandardScaler(),\n  'MT_099': StandardScaler(),\n  'MT_100': StandardScaler(),\n  'MT_101': StandardScaler(),\n  'MT_102': StandardScaler(),\n  'MT_103': StandardScaler(),\n  'MT_104': StandardScaler(),\n  'MT_105': StandardScaler(),\n  'MT_106': StandardScaler(),\n  'MT_107': StandardScaler(),\n  'MT_108': StandardScaler(),\n  'MT_109': StandardScaler(),\n  'MT_110': StandardScaler(),\n  'MT_111': StandardScaler(),\n  'MT_112': StandardScaler(),\n  'MT_113': StandardScaler(),\n  'MT_114': StandardScaler(),\n  'MT_115': StandardScaler(),\n  'MT_116': StandardScaler(),\n  'MT_117': StandardScaler(),\n  'MT_118': StandardScaler(),\n  'MT_119': StandardScaler(),\n  'MT_120': StandardScaler(),\n  'MT_121': StandardScaler(),\n  'MT_122': StandardScaler(),\n  'MT_123': StandardScaler(),\n  'MT_124': StandardScaler(),\n  'MT_125': StandardScaler(),\n  'MT_126': StandardScaler(),\n  'MT_127': StandardScaler(),\n  'MT_128': StandardScaler(),\n  'MT_129': StandardScaler(),\n  'MT_130': StandardScaler(),\n  'MT_131': StandardScaler(),\n  'MT_132': StandardScaler(),\n  'MT_133': StandardScaler(),\n  'MT_134': StandardScaler(),\n  'MT_135': StandardScaler(),\n  'MT_136': StandardScaler(),\n  'MT_137': StandardScaler(),\n  'MT_138': StandardScaler(),\n  'MT_139': StandardScaler(),\n  'MT_140': StandardScaler(),\n  'MT_141': StandardScaler(),\n  'MT_142': StandardScaler(),\n  'MT_143': StandardScaler(),\n  'MT_144': StandardScaler(),\n  'MT_145': StandardScaler(),\n  'MT_146': StandardScaler(),\n  'MT_147': StandardScaler(),\n  'MT_148': StandardScaler(),\n  'MT_149': StandardScaler(),\n  'MT_150': StandardScaler(),\n  'MT_151': StandardScaler(),\n  'MT_152': StandardScaler(),\n  'MT_153': StandardScaler(),\n  'MT_154': StandardScaler(),\n  'MT_155': StandardScaler(),\n  'MT_156': StandardScaler(),\n  'MT_157': StandardScaler(),\n  'MT_158': StandardScaler(),\n  'MT_159': StandardScaler(),\n  'MT_160': StandardScaler(),\n  'MT_161': StandardScaler(),\n  'MT_162': StandardScaler(),\n  'MT_163': StandardScaler(),\n  'MT_164': StandardScaler(),\n  'MT_165': StandardScaler(),\n  'MT_166': StandardScaler(),\n  'MT_167': StandardScaler(),\n  'MT_168': StandardScaler(),\n  'MT_169': StandardScaler(),\n  'MT_170': StandardScaler(),\n  'MT_171': StandardScaler(),\n  'MT_172': StandardScaler(),\n  'MT_173': StandardScaler(),\n  'MT_174': StandardScaler(),\n  'MT_175': StandardScaler(),\n  'MT_176': StandardScaler(),\n  'MT_177': StandardScaler(),\n  'MT_178': StandardScaler(),\n  'MT_179': StandardScaler(),\n  'MT_180': StandardScaler(),\n  'MT_181': StandardScaler(),\n  'MT_182': StandardScaler(),\n  'MT_183': StandardScaler(),\n  'MT_184': StandardScaler(),\n  'MT_185': StandardScaler(),\n  'MT_186': StandardScaler(),\n  'MT_187': StandardScaler(),\n  'MT_188': StandardScaler(),\n  'MT_189': StandardScaler(),\n  'MT_190': StandardScaler(),\n  'MT_191': StandardScaler(),\n  'MT_192': StandardScaler(),\n  'MT_193': StandardScaler(),\n  'MT_194': StandardScaler(),\n  'MT_195': StandardScaler(),\n  'MT_196': StandardScaler(),\n  'MT_197': StandardScaler(),\n  'MT_198': StandardScaler(),\n  'MT_199': StandardScaler(),\n  'MT_200': StandardScaler(),\n  'MT_201': StandardScaler(),\n  'MT_202': StandardScaler(),\n  'MT_203': StandardScaler(),\n  'MT_204': StandardScaler(),\n  'MT_205': StandardScaler(),\n  'MT_206': StandardScaler(),\n  'MT_207': StandardScaler(),\n  'MT_208': StandardScaler(),\n  'MT_209': StandardScaler(),\n  'MT_210': StandardScaler(),\n  'MT_211': StandardScaler(),\n  'MT_212': StandardScaler(),\n  'MT_213': StandardScaler(),\n  'MT_214': StandardScaler(),\n  'MT_215': StandardScaler(),\n  'MT_216': StandardScaler(),\n  'MT_217': StandardScaler(),\n  'MT_218': StandardScaler(),\n  'MT_219': StandardScaler(),\n  'MT_220': StandardScaler(),\n  'MT_221': StandardScaler(),\n  'MT_222': StandardScaler(),\n  'MT_223': StandardScaler(),\n  'MT_224': StandardScaler(),\n  'MT_225': StandardScaler(),\n  'MT_226': StandardScaler(),\n  'MT_227': StandardScaler(),\n  'MT_228': StandardScaler(),\n  'MT_229': StandardScaler(),\n  'MT_230': StandardScaler(),\n  'MT_231': StandardScaler(),\n  'MT_232': StandardScaler(),\n  'MT_233': StandardScaler(),\n  'MT_234': StandardScaler(),\n  'MT_235': StandardScaler(),\n  'MT_236': StandardScaler(),\n  'MT_237': StandardScaler(),\n  'MT_238': StandardScaler(),\n  'MT_239': StandardScaler(),\n  'MT_240': StandardScaler(),\n  'MT_241': StandardScaler(),\n  'MT_242': StandardScaler(),\n  'MT_243': StandardScaler(),\n  'MT_244': StandardScaler(),\n  'MT_245': StandardScaler(),\n  'MT_246': StandardScaler(),\n  'MT_247': StandardScaler(),\n  'MT_248': StandardScaler(),\n  'MT_249': StandardScaler(),\n  'MT_250': StandardScaler(),\n  'MT_251': StandardScaler(),\n  'MT_252': StandardScaler(),\n  'MT_253': StandardScaler(),\n  'MT_254': StandardScaler(),\n  'MT_255': StandardScaler(),\n  'MT_256': StandardScaler(),\n  'MT_257': StandardScaler(),\n  'MT_258': StandardScaler(),\n  'MT_259': StandardScaler(),\n  'MT_260': StandardScaler(),\n  'MT_261': StandardScaler(),\n  'MT_262': StandardScaler(),\n  'MT_263': StandardScaler(),\n  'MT_264': StandardScaler(),\n  'MT_265': StandardScaler(),\n  'MT_266': StandardScaler(),\n  'MT_267': StandardScaler(),\n  'MT_268': StandardScaler(),\n  'MT_269': StandardScaler(),\n  'MT_270': StandardScaler(),\n  'MT_271': StandardScaler(),\n  'MT_272': StandardScaler(),\n  'MT_273': StandardScaler(),\n  'MT_274': StandardScaler(),\n  'MT_275': StandardScaler(),\n  'MT_276': StandardScaler(),\n  'MT_277': StandardScaler(),\n  'MT_278': StandardScaler(),\n  'MT_279': StandardScaler(),\n  'MT_280': StandardScaler(),\n  'MT_281': StandardScaler(),\n  'MT_282': StandardScaler(),\n  'MT_283': StandardScaler(),\n  'MT_284': StandardScaler(),\n  'MT_285': StandardScaler(),\n  'MT_286': StandardScaler(),\n  'MT_287': StandardScaler(),\n  'MT_288': StandardScaler(),\n  'MT_289': StandardScaler(),\n  'MT_290': StandardScaler(),\n  'MT_291': StandardScaler(),\n  'MT_292': StandardScaler(),\n  'MT_293': StandardScaler(),\n  'MT_294': StandardScaler(),\n  'MT_295': StandardScaler(),\n  'MT_296': StandardScaler(),\n  'MT_297': StandardScaler(),\n  'MT_298': StandardScaler(),\n  'MT_299': StandardScaler(),\n  'MT_300': StandardScaler(),\n  'MT_301': StandardScaler(),\n  'MT_302': StandardScaler(),\n  'MT_303': StandardScaler(),\n  'MT_304': StandardScaler(),\n  'MT_305': StandardScaler(),\n  'MT_306': StandardScaler(),\n  'MT_307': StandardScaler(),\n  'MT_308': StandardScaler(),\n  'MT_309': StandardScaler(),\n  'MT_310': StandardScaler(),\n  'MT_311': StandardScaler(),\n  'MT_312': StandardScaler(),\n  'MT_313': StandardScaler(),\n  'MT_314': StandardScaler(),\n  'MT_315': StandardScaler(),\n  'MT_316': StandardScaler(),\n  'MT_317': StandardScaler(),\n  'MT_318': StandardScaler(),\n  'MT_319': StandardScaler(),\n  'MT_320': StandardScaler(),\n  'MT_321': StandardScaler(),\n  'MT_322': StandardScaler(),\n  'MT_323': StandardScaler(),\n  'MT_324': StandardScaler(),\n  'MT_325': StandardScaler(),\n  'MT_326': StandardScaler(),\n  'MT_327': StandardScaler(),\n  'MT_328': StandardScaler(),\n  'MT_329': StandardScaler(),\n  'MT_330': StandardScaler(),\n  'MT_331': StandardScaler(),\n  'MT_332': StandardScaler(),\n  'MT_333': StandardScaler(),\n  'MT_334': StandardScaler(),\n  'MT_335': StandardScaler(),\n  'MT_336': StandardScaler(),\n  'MT_337': StandardScaler(),\n  'MT_338': StandardScaler(),\n  'MT_339': StandardScaler(),\n  'MT_340': StandardScaler(),\n  'MT_341': StandardScaler(),\n  'MT_342': StandardScaler(),\n  'MT_343': StandardScaler(),\n  'MT_344': StandardScaler(),\n  'MT_345': StandardScaler(),\n  'MT_346': StandardScaler(),\n  'MT_347': StandardScaler(),\n  'MT_348': StandardScaler(),\n  'MT_349': StandardScaler(),\n  'MT_350': StandardScaler(),\n  'MT_351': StandardScaler(),\n  'MT_352': StandardScaler(),\n  'MT_353': StandardScaler(),\n  'MT_354': StandardScaler(),\n  'MT_355': StandardScaler(),\n  'MT_356': StandardScaler(),\n  'MT_357': StandardScaler(),\n  'MT_358': StandardScaler(),\n  'MT_359': StandardScaler(),\n  'MT_360': StandardScaler(),\n  'MT_361': StandardScaler(),\n  'MT_362': StandardScaler(),\n  'MT_363': StandardScaler(),\n  'MT_364': StandardScaler(),\n  'MT_365': StandardScaler(),\n  'MT_366': StandardScaler(),\n  'MT_367': StandardScaler(),\n  'MT_368': StandardScaler(),\n  'MT_369': StandardScaler(),\n  'MT_370': StandardScaler()}}"
     },
     "execution_count": 51,
     "metadata": {},
     "output_type": "execute_result"
    }
   ],
   "source": [
    "preprocessor"
   ],
   "metadata": {
    "collapsed": false,
    "ExecuteTime": {
     "end_time": "2023-09-07T21:36:15.935834Z",
     "start_time": "2023-09-07T21:36:15.869401Z"
    }
   },
   "id": "43fb9851088d832a"
  },
  {
   "cell_type": "code",
   "execution_count": 92,
   "outputs": [
    {
     "data": {
      "text/plain": "369"
     },
     "execution_count": 92,
     "metadata": {},
     "output_type": "execute_result"
    }
   ],
   "source": [
    "entity = \"MT_370\"\n",
    "id_ = preprocessor[\"categorical\"][\"id\"].transform([entity])[0]\n",
    "id_"
   ],
   "metadata": {
    "collapsed": false,
    "ExecuteTime": {
     "end_time": "2023-09-07T21:50:00.680710Z",
     "start_time": "2023-09-07T21:50:00.630694Z"
    }
   },
   "id": "2764b1c8-8df3-43ec-9e55-20e363bf2f3c"
  },
  {
   "cell_type": "markdown",
   "id": "69561497-ed7c-41e6-bf87-0aa31a54df2a",
   "metadata": {},
   "source": [
    "We know that our `id` input is on 5 position among features (see config). \n",
    "We also know, that every unbatched input i a self-contained time-series for 1 id."
   ]
  },
  {
   "cell_type": "code",
   "execution_count": 94,
   "id": "f5239e73-1952-4f51-a0d1-0ef08e66b81e",
   "metadata": {
    "tags": [],
    "ExecuteTime": {
     "end_time": "2023-09-07T21:50:13.064066Z",
     "start_time": "2023-09-07T21:50:09.220560Z"
    }
   },
   "outputs": [
    {
     "name": "stderr",
     "output_type": "stream",
     "text": [
      "[libprotobuf ERROR external/com_google_protobuf/src/google/protobuf/text_format.cc:337] Error parsing text-format tensorflow.data.experimental.DistributedSnapshotMetadata: 1:1: Invalid control characters encountered in text.\n",
      "[libprotobuf ERROR external/com_google_protobuf/src/google/protobuf/text_format.cc:337] Error parsing text-format tensorflow.data.experimental.DistributedSnapshotMetadata: 1:3: Expected identifier, got: 17295488669516170944\n"
     ]
    },
    {
     "data": {
      "text/plain": "337"
     },
     "execution_count": 94,
     "metadata": {},
     "output_type": "execute_result"
    }
   ],
   "source": [
    "mt_122_dataset = dataset.filter(lambda x, y: (x[..., 5] == id_)[0])\n",
    "mt_122_dataset = list(mt_122_dataset.as_numpy_iterator())\n",
    "len(mt_122_dataset)"
   ]
  },
  {
   "cell_type": "code",
   "execution_count": 95,
   "id": "cb32d04b-3b79-4d19-8af5-522a8e77b916",
   "metadata": {
    "tags": [],
    "ExecuteTime": {
     "end_time": "2023-09-07T21:50:14.137155Z",
     "start_time": "2023-09-07T21:50:14.091161Z"
    }
   },
   "outputs": [],
   "source": [
    "x_batch = np.asarray([i[0] for i in mt_122_dataset])\n",
    "y_batch = np.asarray([i[1] for i in mt_122_dataset])"
   ]
  },
  {
   "cell_type": "code",
   "execution_count": 96,
   "outputs": [
    {
     "data": {
      "text/plain": "array([[[-0.16431321],\n        [-0.16431321],\n        [-0.16431321],\n        ...,\n        [-0.16431321],\n        [-0.16431321],\n        [-0.16431321]],\n\n       [[-0.16431321],\n        [-0.16431321],\n        [-0.16431321],\n        ...,\n        [-0.16431321],\n        [-0.16431321],\n        [-0.16431321]],\n\n       [[-0.16431321],\n        [-0.16431321],\n        [-0.16431321],\n        ...,\n        [-0.16431321],\n        [-0.16431321],\n        [-0.16431321]],\n\n       ...,\n\n       [[-0.16431321],\n        [-0.16431321],\n        [-0.16431321],\n        ...,\n        [-0.16431321],\n        [-0.16431321],\n        [-0.16431321]],\n\n       [[-0.16431321],\n        [-0.16431321],\n        [-0.16431321],\n        ...,\n        [-0.16431321],\n        [-0.16431321],\n        [-0.16431321]],\n\n       [[-0.16431321],\n        [-0.16431321],\n        [-0.16431321],\n        ...,\n        [-0.16431321],\n        [-0.16431321],\n        [-0.16431321]]], dtype=float32)"
     },
     "execution_count": 96,
     "metadata": {},
     "output_type": "execute_result"
    }
   ],
   "source": [
    "y_batch"
   ],
   "metadata": {
    "collapsed": false,
    "ExecuteTime": {
     "end_time": "2023-09-07T21:50:14.844468Z",
     "start_time": "2023-09-07T21:50:14.798667Z"
    }
   },
   "id": "1242f9f0451e97d5"
  },
  {
   "cell_type": "code",
   "execution_count": 97,
   "id": "3daa4f23-5fcc-4242-b536-4299d3b474cb",
   "metadata": {
    "tags": [],
    "ExecuteTime": {
     "end_time": "2023-09-07T21:50:21.646041Z",
     "start_time": "2023-09-07T21:50:15.288891Z"
    }
   },
   "outputs": [
    {
     "data": {
      "text/plain": "((337, 192, 1), (337, 24, 1, 3))"
     },
     "execution_count": 97,
     "metadata": {},
     "output_type": "execute_result"
    }
   ],
   "source": [
    "y_predicted = model.apply({\"params\": params}, x_batch)\n",
    "\n",
    "y_batch.shape, y_predicted.shape"
   ]
  },
  {
   "cell_type": "code",
   "execution_count": 98,
   "outputs": [
    {
     "data": {
      "text/plain": "Array([[[[-0.17019959, -0.1685508 , -0.16083948]],\n\n        [[-0.1689118 , -0.16863371, -0.15950868]],\n\n        [[-0.16967326, -0.16836171, -0.16010945]],\n\n        ...,\n\n        [[-0.1690394 , -0.16853623, -0.15945195]],\n\n        [[-0.16902867, -0.16864154, -0.15935074]],\n\n        [[-0.16963875, -0.16877538, -0.16019094]]],\n\n\n       [[[-0.16918434, -0.16880885, -0.15969636]],\n\n        [[-0.169702  , -0.16835721, -0.16016367]],\n\n        [[-0.16955888, -0.16860262, -0.15991735]],\n\n        ...,\n\n        [[-0.16902846, -0.16864148, -0.15935065]],\n\n        [[-0.16963859, -0.16877536, -0.1601908 ]],\n\n        [[-0.16965733, -0.16845615, -0.16020599]]],\n\n\n       [[[-0.16984063, -0.16837604, -0.16028327]],\n\n        [[-0.16956773, -0.1686201 , -0.15993008]],\n\n        [[-0.16917744, -0.16855085, -0.1594212 ]],\n\n        ...,\n\n        [[-0.16963826, -0.16877529, -0.16019061]],\n\n        [[-0.16965711, -0.16845612, -0.16020584]],\n\n        [[-0.16888893, -0.16866857, -0.15946765]]],\n\n\n       ...,\n\n\n       [[[-0.16923448, -0.16867115, -0.15963346]],\n\n        [[-0.16911322, -0.16871598, -0.15945768]],\n\n        [[-0.16974892, -0.1688419 , -0.1603818 ]],\n\n        ...,\n\n        [[-0.16974384, -0.16872013, -0.15998317]],\n\n        [[-0.16907252, -0.16840151, -0.1593639 ]],\n\n        [[-0.16935247, -0.16853958, -0.15947634]]],\n\n\n       [[[-0.16935979, -0.16885301, -0.15949799]],\n\n        [[-0.16979499, -0.16889374, -0.16044554]],\n\n        [[-0.16968173, -0.16839963, -0.16027245]],\n\n        ...,\n\n        [[-0.16907279, -0.16840151, -0.15936401]],\n\n        [[-0.16935273, -0.16853961, -0.15947646]],\n\n        [[-0.16903895, -0.16853623, -0.15945172]]],\n\n\n       [[[-0.17005771, -0.16907692, -0.16067229]],\n\n        [[-0.16979194, -0.16842186, -0.16040388]],\n\n        [[-0.1688783 , -0.16859062, -0.15946493]],\n\n        ...,\n\n        [[-0.16935295, -0.16853961, -0.15947652]],\n\n        [[-0.16903913, -0.16853622, -0.15945178]],\n\n        [[-0.16902849, -0.16864155, -0.1593506 ]]]], dtype=float32)"
     },
     "execution_count": 98,
     "metadata": {},
     "output_type": "execute_result"
    }
   ],
   "source": [
    "y_predicted"
   ],
   "metadata": {
    "collapsed": false,
    "ExecuteTime": {
     "end_time": "2023-09-07T21:50:22.651813Z",
     "start_time": "2023-09-07T21:50:22.605978Z"
    }
   },
   "id": "81ae065f3418aa62"
  },
  {
   "cell_type": "code",
   "execution_count": 99,
   "id": "de894252-e727-4a82-b6d5-cef40ee661d8",
   "metadata": {
    "tags": [],
    "ExecuteTime": {
     "end_time": "2023-09-07T21:50:23.243283Z",
     "start_time": "2023-09-07T21:50:23.204126Z"
    }
   },
   "outputs": [
    {
     "data": {
      "text/plain": "((337, 168, 6), (56616,))"
     },
     "execution_count": 99,
     "metadata": {},
     "output_type": "execute_result"
    }
   ],
   "source": [
    "y_past = y_batch[:, :168]\n",
    "\n",
    "y_past = preprocessor[\"target\"][entity].inverse_transform(y_past.reshape(-1, 1))[..., 0]\n",
    "\n",
    "y_future = y_batch[:, 168:]\n",
    "\n",
    "x_past = x_batch[:, :168]\n",
    "\n",
    "x_past.shape, y_past.shape"
   ]
  },
  {
   "cell_type": "code",
   "execution_count": 102,
   "outputs": [
    {
     "data": {
      "text/plain": "array([16.814713, 16.814713, 16.814713, ..., 16.814713, 16.814713,\n       16.814713], dtype=float32)"
     },
     "execution_count": 102,
     "metadata": {},
     "output_type": "execute_result"
    }
   ],
   "source": [
    "y_past"
   ],
   "metadata": {
    "collapsed": false,
    "ExecuteTime": {
     "end_time": "2023-09-07T21:50:30.971258Z",
     "start_time": "2023-09-07T21:50:30.921317Z"
    }
   },
   "id": "e9d2fc2f8c3580d1"
  },
  {
   "cell_type": "code",
   "execution_count": 100,
   "outputs": [],
   "source": [
    "month = x_past[..., 1].reshape(-1).astype(np.int32)\n",
    "month = preprocessor[\"categorical\"][\"month\"].inverse_transform(month)\n",
    "day = x_past[..., 2].reshape(-1).astype(np.int32)\n",
    "day = preprocessor[\"categorical\"][\"day\"].inverse_transform(day)\n",
    "hour = x_past[..., 3].reshape(-1).astype(np.int32)\n",
    "hour = preprocessor[\"categorical\"][\"hour\"].inverse_transform(hour)"
   ],
   "metadata": {
    "collapsed": false,
    "ExecuteTime": {
     "end_time": "2023-09-07T21:50:25.110318Z",
     "start_time": "2023-09-07T21:50:25.063367Z"
    }
   },
   "id": "eb921ba1b6567de4"
  },
  {
   "cell_type": "code",
   "execution_count": 101,
   "outputs": [
    {
     "data": {
      "text/plain": "array([[2014.],\n       [2014.],\n       [2014.],\n       ...,\n       [2014.],\n       [2014.],\n       [2014.]], dtype=float32)"
     },
     "execution_count": 101,
     "metadata": {},
     "output_type": "execute_result"
    }
   ],
   "source": [
    "year = x_past[..., 0].reshape(-1, 1)\n",
    "year = preprocessor[\"real\"][entity].inverse_transform(year)\n",
    "year"
   ],
   "metadata": {
    "collapsed": false,
    "ExecuteTime": {
     "end_time": "2023-09-07T21:50:25.443515Z",
     "start_time": "2023-09-07T21:50:25.402267Z"
    }
   },
   "id": "34a4eeac91365205"
  },
  {
   "cell_type": "code",
   "execution_count": 77,
   "outputs": [
    {
     "data": {
      "text/plain": "datetime.datetime(2014, 8, 25, 1, 0)"
     },
     "execution_count": 77,
     "metadata": {},
     "output_type": "execute_result"
    }
   ],
   "source": [
    "timestamps = [\n",
    "    datetime(year=int(y), month=int(m), day=int(d), hour=int(h))\n",
    "    for y, m, d, h in zip(year.reshape(-1), month, day, hour)\n",
    "]\n",
    "timestamps[1]"
   ],
   "metadata": {
    "collapsed": false,
    "ExecuteTime": {
     "end_time": "2023-09-07T21:45:20.767366Z",
     "start_time": "2023-09-07T21:45:20.683271Z"
    }
   },
   "id": "2992c55f8f350462"
  },
  {
   "cell_type": "code",
   "execution_count": 80,
   "outputs": [
    {
     "data": {
      "text/plain": "datetime.datetime(2014, 9, 8, 0, 0)"
     },
     "execution_count": 80,
     "metadata": {},
     "output_type": "execute_result"
    }
   ],
   "source": [
    "max(timestamps)"
   ],
   "metadata": {
    "collapsed": false,
    "ExecuteTime": {
     "end_time": "2023-09-07T21:45:57.851247Z",
     "start_time": "2023-09-07T21:45:57.808519Z"
    }
   },
   "id": "99e00b7cbf4cf493"
  },
  {
   "cell_type": "code",
   "execution_count": 81,
   "outputs": [
    {
     "data": {
      "text/plain": "datetime.datetime(2014, 8, 25, 0, 0)"
     },
     "execution_count": 81,
     "metadata": {},
     "output_type": "execute_result"
    }
   ],
   "source": [
    "min(timestamps)"
   ],
   "metadata": {
    "collapsed": false,
    "ExecuteTime": {
     "end_time": "2023-09-07T21:46:03.624289Z",
     "start_time": "2023-09-07T21:46:03.575347Z"
    }
   },
   "id": "6ea3564e7fdbafd7"
  },
  {
   "cell_type": "code",
   "execution_count": 83,
   "id": "ab4b7da3-5dc9-4d44-9fe1-7b1cfc30bc9c",
   "metadata": {
    "tags": [],
    "ExecuteTime": {
     "end_time": "2023-09-07T21:47:14.689144Z",
     "start_time": "2023-09-07T21:47:12.762776Z"
    }
   },
   "outputs": [
    {
     "data": {
      "text/plain": "[<matplotlib.lines.Line2D at 0x2ca43c040>]"
     },
     "execution_count": 83,
     "metadata": {},
     "output_type": "execute_result"
    },
    {
     "data": {
      "text/plain": "<Figure size 640x480 with 1 Axes>",
      "image/png": "[encoded data removed]"
     },
     "metadata": {},
     "output_type": "display_data"
    }
   ],
   "source": [
    "plt.gca().xaxis.set_major_formatter(mdates.DateFormatter(\"%M/%d/%H\"))\n",
    "plt.gca().xaxis.set_major_locator(mdates.HourLocator(interval=1))\n",
    "# TODO: how tf can we reconstruct the timestamp?\n",
    "\n",
    "plt.plot(timestamps, y_past)\n",
    "# plt.plot(range(168, 192), y_future[0])\n",
    "# plt.plot(range(168, 192), y_predicted[0,:,0])\n",
    "# plt.plot(range(168, 192), y_predicted[0,:,1])\n",
    "# plt.plot(range(168, 192), y_predicted[0,:,2])\n",
    "# plt.gcf().autofmt_xdate()\n",
    "\n",
    "# plt.legend([\"past\", \"future\", \"q=0.1\", \"q=0.5\", \"q=0.9\"])"
   ]
  },
  {
   "cell_type": "code",
   "execution_count": 68,
   "outputs": [
    {
     "data": {
      "text/plain": "array([16.814713, 16.814713, 16.814713, ..., 16.814713, 16.814713,\n       16.814713], dtype=float32)"
     },
     "execution_count": 68,
     "metadata": {},
     "output_type": "execute_result"
    }
   ],
   "source": [
    "y_past"
   ],
   "metadata": {
    "collapsed": false,
    "ExecuteTime": {
     "end_time": "2023-09-07T21:42:37.983481Z",
     "start_time": "2023-09-07T21:42:37.936429Z"
    }
   },
   "id": "cd11e3344c48b0df"
  },
  {
   "cell_type": "code",
   "execution_count": 14,
   "id": "2fe0b836-cc97-48ef-9db9-453d9ce96a62",
   "metadata": {
    "tags": [],
    "ExecuteTime": {
     "end_time": "2023-08-31T13:26:06.201834Z",
     "start_time": "2023-08-31T13:26:06.197038Z"
    }
   },
   "outputs": [
    {
     "data": {
      "text/plain": "1.0"
     },
     "execution_count": 14,
     "metadata": {},
     "output_type": "execute_result"
    }
   ],
   "source": [
    "x_past[..., 2].mean()"
   ]
  },
  {
   "cell_type": "code",
   "execution_count": 16,
   "id": "125ea21f-2de5-475d-8e80-9a6f2e5f44ac",
   "metadata": {
    "tags": [],
    "ExecuteTime": {
     "end_time": "2023-08-31T13:26:15.659640Z",
     "start_time": "2023-08-31T13:26:15.649663Z"
    }
   },
   "outputs": [
    {
     "data": {
      "text/plain": "array([350.      ,   1.      ,   1.      ,  17.857143,  11.5     ,\n         3.      ,   0.      ], dtype=float32)"
     },
     "execution_count": 16,
     "metadata": {},
     "output_type": "execute_result"
    }
   ],
   "source": [
    "x_past[0].mean(axis=0)"
   ]
  },
  {
   "cell_type": "code",
   "execution_count": null,
   "id": "5df3f3aa-49e7-4c11-9b9d-7c2f298fdd92",
   "metadata": {},
   "outputs": [],
   "source": []
  }
 ],
 "metadata": {
  "kernelspec": {
   "display_name": "Python 3 (ipykernel)",
   "language": "python",
   "name": "python3"
  },
  "language_info": {
   "codemirror_mode": {
    "name": "ipython",
    "version": 3
   },
   "file_extension": ".py",
   "mimetype": "text/x-python",
   "name": "python",
   "nbconvert_exporter": "python",
   "pygments_lexer": "ipython3",
   "version": "3.10.12"
  }
 },
 "nbformat": 4,
 "nbformat_minor": 5
}
