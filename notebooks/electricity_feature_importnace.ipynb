{
 "cells": [
  {
   "cell_type": "code",
   "execution_count": 3,
   "outputs": [],
   "source": [
    "import numpy as np\n",
    "\n",
    "import temporal_fusion_transformer as tft\n",
    "import polars as pl\n",
    "import matplotlib\n",
    "import matplotlib.pyplot as plt\n",
    "import numpy as np\n",
    "import matplotx\n",
    "from absl_extra.logging_utils import setup_logging\n",
    "from datetime import timedelta, datetime\n",
    "from matplotlib import dates as mdates\n",
    "from temporal_fusion_transformer.src.experiments.util import time_series_to_array\n",
    "import seaborn as sns\n",
    "\n",
    "matplotlib.style.use(matplotx.styles.dufte)\n",
    "setup_logging(log_level=\"INFO\")"
   ],
   "metadata": {
    "collapsed": false,
    "ExecuteTime": {
     "end_time": "2023-10-01T23:01:59.225518Z",
     "start_time": "2023-10-01T23:01:59.217746Z"
    }
   },
   "id": "e3fa78dce4f1a099"
  },
  {
   "cell_type": "code",
   "execution_count": 4,
   "outputs": [],
   "source": [
    "electricity = tft.experiments.Electricity()\n",
    "preprocessor = electricity.reload_preprocessor(\"../data/electricity/preprocessor.msgpack\")\n",
    "model = electricity.reload_model(\"../data/electricity/model.msgpack\")"
   ],
   "metadata": {
    "collapsed": false,
    "ExecuteTime": {
     "end_time": "2023-10-01T23:01:59.761034Z",
     "start_time": "2023-10-01T23:01:59.519116Z"
    }
   },
   "id": "b5c6873e5b99cbbd"
  },
  {
   "cell_type": "code",
   "execution_count": 5,
   "outputs": [
    {
     "data": {
      "text/plain": "shape: (193, 8)\n┌─────────────┬──────┬───────┬──────┬─────┬─────────────┬────────┬─────────────────────┐\n│ power_usage ┆ year ┆ month ┆ hour ┆ day ┆ day_of_week ┆ id     ┆ timestamp           │\n│ ---         ┆ ---  ┆ ---   ┆ ---  ┆ --- ┆ ---         ┆ ---    ┆ ---                 │\n│ f32         ┆ u16  ┆ u8    ┆ u8   ┆ u8  ┆ u8          ┆ str    ┆ datetime[μs]        │\n╞═════════════╪══════╪═══════╪══════╪═════╪═════════════╪════════╪═════════════════════╡\n│ 389.952148  ┆ 2014 ┆ 8     ┆ 0    ┆ 31  ┆ 7           ┆ MT_124 ┆ 2014-08-31 00:00:00 │\n│ 413.87561   ┆ 2014 ┆ 8     ┆ 1    ┆ 31  ┆ 7           ┆ MT_124 ┆ 2014-08-31 01:00:00 │\n│ 357.655518  ┆ 2014 ┆ 8     ┆ 2    ┆ 31  ┆ 7           ┆ MT_124 ┆ 2014-08-31 02:00:00 │\n│ 324.162689  ┆ 2014 ┆ 8     ┆ 3    ┆ 31  ┆ 7           ┆ MT_124 ┆ 2014-08-31 03:00:00 │\n│ …           ┆ …    ┆ …     ┆ …    ┆ …   ┆ …           ┆ …      ┆ …                   │\n│ 545.454529  ┆ 2014 ┆ 9     ┆ 21   ┆ 7   ┆ 7           ┆ MT_124 ┆ 2014-09-07 21:00:00 │\n│ 474.880371  ┆ 2014 ┆ 9     ┆ 22   ┆ 7   ┆ 7           ┆ MT_124 ┆ 2014-09-07 22:00:00 │\n│ 392.344482  ┆ 2014 ┆ 9     ┆ 23   ┆ 7   ┆ 7           ┆ MT_124 ┆ 2014-09-07 23:00:00 │\n│ 374.401917  ┆ 2014 ┆ 9     ┆ 0    ┆ 8   ┆ 1           ┆ MT_124 ┆ 2014-09-08 00:00:00 │\n└─────────────┴──────┴───────┴──────┴─────┴─────────────┴────────┴─────────────────────┘",
      "text/html": "<div><style>\n.dataframe > thead > tr > th,\n.dataframe > tbody > tr > td {\n  text-align: right;\n  white-space: pre-wrap;\n}\n</style>\n<small>shape: (193, 8)</small><table border=\"1\" class=\"dataframe\"><thead><tr><th>power_usage</th><th>year</th><th>month</th><th>hour</th><th>day</th><th>day_of_week</th><th>id</th><th>timestamp</th></tr><tr><td>f32</td><td>u16</td><td>u8</td><td>u8</td><td>u8</td><td>u8</td><td>str</td><td>datetime[μs]</td></tr></thead><tbody><tr><td>389.952148</td><td>2014</td><td>8</td><td>0</td><td>31</td><td>7</td><td>&quot;MT_124&quot;</td><td>2014-08-31 00:00:00</td></tr><tr><td>413.87561</td><td>2014</td><td>8</td><td>1</td><td>31</td><td>7</td><td>&quot;MT_124&quot;</td><td>2014-08-31 01:00:00</td></tr><tr><td>357.655518</td><td>2014</td><td>8</td><td>2</td><td>31</td><td>7</td><td>&quot;MT_124&quot;</td><td>2014-08-31 02:00:00</td></tr><tr><td>324.162689</td><td>2014</td><td>8</td><td>3</td><td>31</td><td>7</td><td>&quot;MT_124&quot;</td><td>2014-08-31 03:00:00</td></tr><tr><td>272.727264</td><td>2014</td><td>8</td><td>4</td><td>31</td><td>7</td><td>&quot;MT_124&quot;</td><td>2014-08-31 04:00:00</td></tr><tr><td>165.071777</td><td>2014</td><td>8</td><td>5</td><td>31</td><td>7</td><td>&quot;MT_124&quot;</td><td>2014-08-31 05:00:00</td></tr><tr><td>144.736847</td><td>2014</td><td>8</td><td>6</td><td>31</td><td>7</td><td>&quot;MT_124&quot;</td><td>2014-08-31 06:00:00</td></tr><tr><td>102.870811</td><td>2014</td><td>8</td><td>7</td><td>31</td><td>7</td><td>&quot;MT_124&quot;</td><td>2014-08-31 07:00:00</td></tr><tr><td>163.875595</td><td>2014</td><td>8</td><td>8</td><td>31</td><td>7</td><td>&quot;MT_124&quot;</td><td>2014-08-31 08:00:00</td></tr><tr><td>166.267944</td><td>2014</td><td>8</td><td>9</td><td>31</td><td>7</td><td>&quot;MT_124&quot;</td><td>2014-08-31 09:00:00</td></tr><tr><td>206.937805</td><td>2014</td><td>8</td><td>10</td><td>31</td><td>7</td><td>&quot;MT_124&quot;</td><td>2014-08-31 10:00:00</td></tr><tr><td>392.344482</td><td>2014</td><td>8</td><td>11</td><td>31</td><td>7</td><td>&quot;MT_124&quot;</td><td>2014-08-31 11:00:00</td></tr><tr><td>&hellip;</td><td>&hellip;</td><td>&hellip;</td><td>&hellip;</td><td>&hellip;</td><td>&hellip;</td><td>&hellip;</td><td>&hellip;</td></tr><tr><td>477.272736</td><td>2014</td><td>9</td><td>13</td><td>7</td><td>7</td><td>&quot;MT_124&quot;</td><td>2014-09-07 13:00:00</td></tr><tr><td>461.722473</td><td>2014</td><td>9</td><td>14</td><td>7</td><td>7</td><td>&quot;MT_124&quot;</td><td>2014-09-07 14:00:00</td></tr><tr><td>418.660278</td><td>2014</td><td>9</td><td>15</td><td>7</td><td>7</td><td>&quot;MT_124&quot;</td><td>2014-09-07 15:00:00</td></tr><tr><td>478.468903</td><td>2014</td><td>9</td><td>16</td><td>7</td><td>7</td><td>&quot;MT_124&quot;</td><td>2014-09-07 16:00:00</td></tr><tr><td>527.511963</td><td>2014</td><td>9</td><td>17</td><td>7</td><td>7</td><td>&quot;MT_124&quot;</td><td>2014-09-07 17:00:00</td></tr><tr><td>516.746399</td><td>2014</td><td>9</td><td>18</td><td>7</td><td>7</td><td>&quot;MT_124&quot;</td><td>2014-09-07 18:00:00</td></tr><tr><td>559.808594</td><td>2014</td><td>9</td><td>19</td><td>7</td><td>7</td><td>&quot;MT_124&quot;</td><td>2014-09-07 19:00:00</td></tr><tr><td>620.813416</td><td>2014</td><td>9</td><td>20</td><td>7</td><td>7</td><td>&quot;MT_124&quot;</td><td>2014-09-07 20:00:00</td></tr><tr><td>545.454529</td><td>2014</td><td>9</td><td>21</td><td>7</td><td>7</td><td>&quot;MT_124&quot;</td><td>2014-09-07 21:00:00</td></tr><tr><td>474.880371</td><td>2014</td><td>9</td><td>22</td><td>7</td><td>7</td><td>&quot;MT_124&quot;</td><td>2014-09-07 22:00:00</td></tr><tr><td>392.344482</td><td>2014</td><td>9</td><td>23</td><td>7</td><td>7</td><td>&quot;MT_124&quot;</td><td>2014-09-07 23:00:00</td></tr><tr><td>374.401917</td><td>2014</td><td>9</td><td>0</td><td>8</td><td>1</td><td>&quot;MT_124&quot;</td><td>2014-09-08 00:00:00</td></tr></tbody></table></div>"
     },
     "execution_count": 5,
     "metadata": {},
     "output_type": "execute_result"
    }
   ],
   "source": [
    "# Filter out 1 entity and last 7 days (so plot if not too large)\n",
    "mt_124_df = (\n",
    "    pl.read_parquet(\"../data/electricity/test.parquet\")\n",
    "    .filter(pl.col(\"id\") == \"MT_124\")\n",
    "    .pipe(lambda df: df.with_columns(timestamp=pl.Series(preprocessor.restore_timestamps(df))))\n",
    "    .filter(pl.col(\"timestamp\") >= (pl.col(\"timestamp\").max() - timedelta(days=8)))\n",
    ")\n",
    "mt_124_df"
   ],
   "metadata": {
    "collapsed": false,
    "ExecuteTime": {
     "end_time": "2023-10-01T23:01:59.981204Z",
     "start_time": "2023-10-01T23:01:59.933178Z"
    }
   },
   "id": "8f703824ebf32125"
  },
  {
   "cell_type": "code",
   "execution_count": 6,
   "outputs": [
    {
     "data": {
      "text/plain": "Applying scalers...:   0%|          | 0/1 [00:00<?, ?it/s]",
      "application/vnd.jupyter.widget-view+json": {
       "version_major": 2,
       "version_minor": 0,
       "model_id": "4043a426440141a68ac46e7cd855cda8"
      }
     },
     "metadata": {},
     "output_type": "display_data"
    },
    {
     "data": {
      "text/plain": "Applying label encoders...:   0%|          | 0/4 [00:00<?, ?it/s]",
      "application/vnd.jupyter.widget-view+json": {
       "version_major": 2,
       "version_minor": 0,
       "model_id": "f7dbf688537e41f7a9f20eed0bb9aac8"
      }
     },
     "metadata": {},
     "output_type": "display_data"
    },
    {
     "data": {
      "text/plain": "<_ParallelMapDataset element_spec=(TensorSpec(shape=(None, 6), dtype=tf.float32, name=None), TensorSpec(shape=(None, 1), dtype=tf.float32, name=None))>"
     },
     "execution_count": 6,
     "metadata": {},
     "output_type": "execute_result"
    }
   ],
   "source": [
    "tf_ds = preprocessor.convert_dataframe_to_tf_dataset(mt_124_df)\n",
    "tf_ds"
   ],
   "metadata": {
    "collapsed": false,
    "ExecuteTime": {
     "end_time": "2023-10-01T23:02:01.382196Z",
     "start_time": "2023-10-01T23:02:01.091461Z"
    }
   },
   "id": "e9988fe6324d77f0"
  },
  {
   "cell_type": "code",
   "execution_count": 7,
   "outputs": [],
   "source": [
    "x_batch = tf_ds.batch(8).as_numpy_iterator().next()[0]"
   ],
   "metadata": {
    "collapsed": false,
    "ExecuteTime": {
     "end_time": "2023-10-01T23:02:02.021396Z",
     "start_time": "2023-10-01T23:02:01.956804Z"
    }
   },
   "id": "6f764420e35498f"
  },
  {
   "cell_type": "code",
   "execution_count": 8,
   "outputs": [
    {
     "name": "stderr",
     "output_type": "stream",
     "text": [
      "2023-10-02 01:02:02,624:[xla_bridge.py:603->backends()]:INFO: Unable to initialize backend 'cuda': module 'jaxlib.xla_extension' has no attribute 'GpuAllocatorConfig'\n",
      "2023-10-02 01:02:02,624:[xla_bridge.py:603->backends()]:INFO: Unable to initialize backend 'rocm': module 'jaxlib.xla_extension' has no attribute 'GpuAllocatorConfig'\n",
      "2023-10-02 01:02:02,625:[xla_bridge.py:603->backends()]:INFO: Unable to initialize backend 'tpu': module 'jaxlib.xla_extension' has no attribute 'get_tpu_client'\n"
     ]
    }
   ],
   "source": [
    "y = model(x_batch)"
   ],
   "metadata": {
    "collapsed": false,
    "ExecuteTime": {
     "end_time": "2023-10-01T23:02:05.506822Z",
     "start_time": "2023-10-01T23:02:02.619512Z"
    }
   },
   "id": "568483f73fdef81c"
  },
  {
   "cell_type": "code",
   "execution_count": 13,
   "outputs": [
    {
     "data": {
      "text/plain": "(2, 24)"
     },
     "execution_count": 13,
     "metadata": {},
     "output_type": "execute_result"
    }
   ],
   "source": [
    "y.logits[..., 0, 0].shape"
   ],
   "metadata": {
    "collapsed": false,
    "ExecuteTime": {
     "end_time": "2023-10-01T23:02:47.909285Z",
     "start_time": "2023-10-01T23:02:47.903010Z"
    }
   },
   "id": "23ddd2f34b01765e"
  },
  {
   "cell_type": "code",
   "execution_count": 28,
   "outputs": [
    {
     "data": {
      "text/plain": "Array([0.0074296 , 0.00747423, 0.00748558, 0.00736345, 0.00732938,\n       0.00739109, 0.00745331, 0.00744369, 0.0073313 , 0.00740047,\n       0.00740861, 0.00744276, 0.00740029, 0.00740891, 0.00746278,\n       0.00735311, 0.00731138, 0.00738321, 0.00737201, 0.0074507 ,\n       0.00740628, 0.00734099, 0.0075026 , 0.00733108], dtype=float32)"
     },
     "execution_count": 28,
     "metadata": {},
     "output_type": "execute_result"
    }
   ],
   "source": [
    "y.logits[0, :, 0, 2]"
   ],
   "metadata": {
    "collapsed": false,
    "ExecuteTime": {
     "end_time": "2023-10-01T23:07:07.200223Z",
     "start_time": "2023-10-01T23:07:07.189342Z"
    }
   },
   "id": "54026067b978133e"
  },
  {
   "cell_type": "code",
   "execution_count": 12,
   "outputs": [
    {
     "data": {
      "text/plain": "(2, 1)"
     },
     "execution_count": 12,
     "metadata": {},
     "output_type": "execute_result"
    }
   ],
   "source": [
    "y.static_flags.shape"
   ],
   "metadata": {
    "collapsed": false,
    "ExecuteTime": {
     "end_time": "2023-09-29T22:01:15.348484Z",
     "start_time": "2023-09-29T22:01:15.345257Z"
    }
   },
   "id": "429c0b169013c070"
  },
  {
   "cell_type": "code",
   "execution_count": 13,
   "outputs": [
    {
     "data": {
      "text/plain": "(2, 168, 5)"
     },
     "execution_count": 13,
     "metadata": {},
     "output_type": "execute_result"
    }
   ],
   "source": [
    "y.historical_flags.shape"
   ],
   "metadata": {
    "collapsed": false,
    "ExecuteTime": {
     "end_time": "2023-09-29T22:01:33.050713Z",
     "start_time": "2023-09-29T22:01:33.044012Z"
    }
   },
   "id": "2db02e89ee828ade"
  },
  {
   "cell_type": "code",
   "execution_count": 15,
   "outputs": [
    {
     "data": {
      "text/plain": "(2, 24, 5)"
     },
     "execution_count": 15,
     "metadata": {},
     "output_type": "execute_result"
    }
   ],
   "source": [
    "y.future_flags.shape"
   ],
   "metadata": {
    "collapsed": false,
    "ExecuteTime": {
     "end_time": "2023-09-29T22:01:54.551396Z",
     "start_time": "2023-09-29T22:01:54.548021Z"
    }
   },
   "id": "3791a24be620b32"
  },
  {
   "cell_type": "code",
   "execution_count": 71,
   "outputs": [
    {
     "data": {
      "text/plain": "<Figure size 640x480 with 1 Axes>",
      "image/png": "[encoded data removed]"
     },
     "metadata": {},
     "output_type": "display_data"
    }
   ],
   "source": [
    "for i in range(5):\n",
    "    past_df = preprocessor.inverse_transform(\n",
    "        time_series_to_array(x_batch[:, :168]),\n",
    "        time_series_to_array(y.historical_flags[..., i][..., None]),\n",
    "    )\n",
    "    future_df = preprocessor.inverse_transform(\n",
    "        time_series_to_array(x_batch[:, 168:]),\n",
    "        time_series_to_array(y.future_flags[..., i][..., None]),\n",
    "    )\n",
    "    plt.plot(\n",
    "        preprocessor.restore_timestamps(past_df) + preprocessor.restore_timestamps(future_df),\n",
    "        preprocessor.preprocessor[\"target\"][\"MT_124\"]\n",
    "        .transform(\n",
    "            np.concatenate(\n",
    "                [past_df[\"power_usage\"].to_numpy(), future_df[\"power_usage\"].to_numpy()]\n",
    "            ).reshape((-1, 1))\n",
    "        )\n",
    "        .reshape(-1),\n",
    "    )\n",
    "\n",
    "static_df = preprocessor.inverse_transform(\n",
    "    time_series_to_array(x_batch),\n",
    "    time_series_to_array(np.concatenate([y.static_flags[:, None] for i in range(192)], axis=1)),\n",
    ")\n",
    "plt.plot(\n",
    "    preprocessor.restore_timestamps(static_df),\n",
    "    preprocessor.preprocessor[\"target\"][\"MT_124\"]\n",
    "    .transform(static_df[\"power_usage\"].to_numpy().reshape((-1, 1)))\n",
    "    .reshape(-1)\n",
    "    .reshape(-1),\n",
    ")\n",
    "plt.legend([f\"Feature {i}\" for i in range(5)] + [\"ID\"])\n",
    "plt.xticks(rotation=90, fontsize=12)\n",
    "plt.gca().xaxis.set_major_formatter(mdates.DateFormatter(\"%m.%d %H\"))\n",
    "plt.gca().xaxis.set_major_locator(mdates.HourLocator(interval=20))"
   ],
   "metadata": {
    "collapsed": false,
    "ExecuteTime": {
     "end_time": "2023-09-29T22:31:25.835937Z",
     "start_time": "2023-09-29T22:31:25.639409Z"
    }
   },
   "id": "a58ff12a633dfbed"
  }
 ],
 "metadata": {
  "kernelspec": {
   "display_name": "Python 3",
   "language": "python",
   "name": "python3"
  },
  "language_info": {
   "codemirror_mode": {
    "name": "ipython",
    "version": 2
   },
   "file_extension": ".py",
   "mimetype": "text/x-python",
   "name": "python",
   "nbconvert_exporter": "python",
   "pygments_lexer": "ipython2",
   "version": "2.7.6"
  }
 },
 "nbformat": 4,
 "nbformat_minor": 5
}
