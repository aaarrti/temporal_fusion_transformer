{
 "cells": [
  {
   "cell_type": "code",
   "execution_count": 1,
   "id": "initial_id",
   "metadata": {
    "collapsed": true,
    "ExecuteTime": {
     "end_time": "2023-09-24T23:50:30.376407Z",
     "start_time": "2023-09-24T23:50:30.338139Z"
    }
   },
   "outputs": [],
   "source": [
    "import polars as pl"
   ]
  },
  {
   "cell_type": "code",
   "execution_count": 2,
   "outputs": [],
   "source": [
    "df1 = pl.DataFrame({\"a\": [1, 2, 3, 4, 5], \"b\": [1, 3, 4, 4, 5]})\n",
    "\n",
    "df2 = pl.DataFrame({\"a\": [1, 2, 3, 4, 5], \"b\": [0, 3, 4, 5, 6]})\n",
    "ctx = pl.SQLContext(df1=df1, df2=df2)"
   ],
   "metadata": {
    "collapsed": false,
    "ExecuteTime": {
     "end_time": "2023-09-24T23:51:54.899501Z",
     "start_time": "2023-09-24T23:51:54.889980Z"
    }
   },
   "id": "d3d718f19b3f7982"
  },
  {
   "cell_type": "code",
   "execution_count": 35,
   "outputs": [
    {
     "ename": "InvalidOperationError",
     "evalue": "SQL join constraint On(BinaryOp { left: BinaryOp { left: CompoundIdentifier([Ident { value: \"df1\", quote_style: None }, Ident { value: \"a\", quote_style: None }]), op: Eq, right: CompoundIdentifier([Ident { value: \"df2\", quote_style: None }, Ident { value: \"a\", quote_style: None }]) }, op: And, right: BinaryOp { left: CompoundIdentifier([Ident { value: \"df1\", quote_style: None }, Ident { value: \"b\", quote_style: None }]), op: Eq, right: CompoundIdentifier([Ident { value: \"df2\", quote_style: None }, Ident { value: \"b\", quote_style: None }]) } }) is not yet supported",
     "output_type": "error",
     "traceback": [
      "\u001b[0;31m---------------------------------------------------------------------------\u001b[0m",
      "\u001b[0;31mInvalidOperationError\u001b[0m                     Traceback (most recent call last)",
      "Cell \u001b[0;32mIn[35], line 1\u001b[0m\n\u001b[0;32m----> 1\u001b[0m \u001b[43mctx\u001b[49m\u001b[38;5;241;43m.\u001b[39;49m\u001b[43mexecute\u001b[49m\u001b[43m(\u001b[49m\n\u001b[1;32m      2\u001b[0m \u001b[38;5;250;43m    \u001b[39;49m\u001b[38;5;124;43;03m\"\"\"\u001b[39;49;00m\n\u001b[1;32m      3\u001b[0m \u001b[38;5;124;43;03m    SELECT * FROM df1 \u001b[39;49;00m\n\u001b[1;32m      4\u001b[0m \u001b[38;5;124;43;03m        INNER JOIN df2 ON df1.a = df2.a AND df1.b = df2.b\u001b[39;49;00m\n\u001b[1;32m      5\u001b[0m \u001b[38;5;124;43;03m    \"\"\"\u001b[39;49;00m\u001b[43m,\u001b[49m\n\u001b[1;32m      6\u001b[0m \u001b[43m    \u001b[49m\u001b[43meager\u001b[49m\u001b[38;5;241;43m=\u001b[39;49m\u001b[38;5;28;43;01mTrue\u001b[39;49;00m\n\u001b[1;32m      7\u001b[0m \u001b[43m)\u001b[49m\n",
      "File \u001b[0;32m~/miniconda3/envs/tft/lib/python3.10/site-packages/polars/sql/context.py:274\u001b[0m, in \u001b[0;36mSQLContext.execute\u001b[0;34m(self, query, eager)\u001b[0m\n\u001b[1;32m    196\u001b[0m \u001b[38;5;28;01mdef\u001b[39;00m \u001b[38;5;21mexecute\u001b[39m(\u001b[38;5;28mself\u001b[39m, query: \u001b[38;5;28mstr\u001b[39m, eager: \u001b[38;5;28mbool\u001b[39m \u001b[38;5;241m|\u001b[39m \u001b[38;5;28;01mNone\u001b[39;00m \u001b[38;5;241m=\u001b[39m \u001b[38;5;28;01mNone\u001b[39;00m) \u001b[38;5;241m-\u001b[39m\u001b[38;5;241m>\u001b[39m LazyFrame \u001b[38;5;241m|\u001b[39m DataFrame:\n\u001b[1;32m    197\u001b[0m \u001b[38;5;250m    \u001b[39m\u001b[38;5;124;03m\"\"\"\u001b[39;00m\n\u001b[1;32m    198\u001b[0m \u001b[38;5;124;03m    Parse the given SQL query and execute it against the registered frame data.\u001b[39;00m\n\u001b[1;32m    199\u001b[0m \n\u001b[0;32m   (...)\u001b[0m\n\u001b[1;32m    272\u001b[0m \u001b[38;5;124;03m    └────────┴─────────────┴─────────┘\u001b[39;00m\n\u001b[1;32m    273\u001b[0m \u001b[38;5;124;03m    \"\"\"\u001b[39;00m\n\u001b[0;32m--> 274\u001b[0m     res \u001b[38;5;241m=\u001b[39m wrap_ldf(\u001b[38;5;28;43mself\u001b[39;49m\u001b[38;5;241;43m.\u001b[39;49m\u001b[43m_ctxt\u001b[49m\u001b[38;5;241;43m.\u001b[39;49m\u001b[43mexecute\u001b[49m\u001b[43m(\u001b[49m\u001b[43mquery\u001b[49m\u001b[43m)\u001b[49m)\n\u001b[1;32m    275\u001b[0m     \u001b[38;5;28;01mreturn\u001b[39;00m res\u001b[38;5;241m.\u001b[39mcollect() \u001b[38;5;28;01mif\u001b[39;00m (eager \u001b[38;5;129;01mor\u001b[39;00m \u001b[38;5;28mself\u001b[39m\u001b[38;5;241m.\u001b[39m_eager_execution) \u001b[38;5;28;01melse\u001b[39;00m res\n",
      "\u001b[0;31mInvalidOperationError\u001b[0m: SQL join constraint On(BinaryOp { left: BinaryOp { left: CompoundIdentifier([Ident { value: \"df1\", quote_style: None }, Ident { value: \"a\", quote_style: None }]), op: Eq, right: CompoundIdentifier([Ident { value: \"df2\", quote_style: None }, Ident { value: \"a\", quote_style: None }]) }, op: And, right: BinaryOp { left: CompoundIdentifier([Ident { value: \"df1\", quote_style: None }, Ident { value: \"b\", quote_style: None }]), op: Eq, right: CompoundIdentifier([Ident { value: \"df2\", quote_style: None }, Ident { value: \"b\", quote_style: None }]) } }) is not yet supported"
     ]
    }
   ],
   "source": [
    "ctx.execute(\n",
    "    \"\"\"\n",
    "    SELECT * FROM df1 \n",
    "        INNER JOIN df2 ON df1.a = df2.a AND df1.b = df2.b\n",
    "    \"\"\",\n",
    "    eager=True,\n",
    ")"
   ],
   "metadata": {
    "collapsed": false,
    "ExecuteTime": {
     "end_time": "2023-09-25T00:03:39.219894Z",
     "start_time": "2023-09-25T00:03:39.203601Z"
    }
   },
   "id": "83b6e6f26d4f2954"
  },
  {
   "cell_type": "code",
   "execution_count": 36,
   "outputs": [
    {
     "data": {
      "text/plain": "shape: (2, 2)\n┌─────┬─────┐\n│ a   ┆ b   │\n│ --- ┆ --- │\n│ i64 ┆ i64 │\n╞═════╪═════╡\n│ 2   ┆ 3   │\n│ 3   ┆ 4   │\n└─────┴─────┘",
      "text/html": "<div><style>\n.dataframe > thead > tr > th,\n.dataframe > tbody > tr > td {\n  text-align: right;\n  white-space: pre-wrap;\n}\n</style>\n<small>shape: (2, 2)</small><table border=\"1\" class=\"dataframe\"><thead><tr><th>a</th><th>b</th></tr><tr><td>i64</td><td>i64</td></tr></thead><tbody><tr><td>2</td><td>3</td></tr><tr><td>3</td><td>4</td></tr></tbody></table></div>"
     },
     "execution_count": 36,
     "metadata": {},
     "output_type": "execute_result"
    }
   ],
   "source": [
    "df1.join(df2, on=[\"a\", \"b\"])"
   ],
   "metadata": {
    "collapsed": false,
    "ExecuteTime": {
     "end_time": "2023-09-25T00:03:44.901237Z",
     "start_time": "2023-09-25T00:03:44.893187Z"
    }
   },
   "id": "b044911ec8fa07ad"
  },
  {
   "cell_type": "code",
   "execution_count": null,
   "outputs": [],
   "source": [],
   "metadata": {
    "collapsed": false
   },
   "id": "6796b8ba8ada8ab1"
  }
 ],
 "metadata": {
  "kernelspec": {
   "display_name": "Python 3",
   "language": "python",
   "name": "python3"
  },
  "language_info": {
   "codemirror_mode": {
    "name": "ipython",
    "version": 2
   },
   "file_extension": ".py",
   "mimetype": "text/x-python",
   "name": "python",
   "nbconvert_exporter": "python",
   "pygments_lexer": "ipython2",
   "version": "2.7.6"
  }
 },
 "nbformat": 4,
 "nbformat_minor": 5
}
