{
 "cells": [
  {
   "cell_type": "code",
   "execution_count": 1,
   "outputs": [],
   "source": [
    "import tensorflow as tf\n",
    "import numpy as np\n",
    "import jax.numpy as jnp"
   ],
   "metadata": {
    "collapsed": false,
    "ExecuteTime": {
     "end_time": "2023-08-17T00:43:09.977321Z",
     "start_time": "2023-08-17T00:43:06.078560Z"
    }
   },
   "id": "7bdcc4b23ee4ecb2"
  },
  {
   "cell_type": "code",
   "execution_count": 6,
   "outputs": [],
   "source": [
    "def _compute_causal_mask(query, value=None):\n",
    "    q_seq_length = tf.shape(query)[1]\n",
    "    v_seq_length = q_seq_length if value is None else tf.shape(value)[1]\n",
    "    return tf.linalg.band_part(  # creates a lower triangular matrix\n",
    "        tf.ones((1, q_seq_length, v_seq_length), tf.bool), -1, 0\n",
    "    )\n",
    "\n",
    "\n",
    "x = np.random.uniform(size=(8, 3, 5))"
   ],
   "metadata": {
    "collapsed": false,
    "ExecuteTime": {
     "end_time": "2023-08-17T00:45:08.331976Z",
     "start_time": "2023-08-17T00:45:08.327778Z"
    }
   },
   "id": "12bd73c1131805f7"
  },
  {
   "cell_type": "code",
   "execution_count": 7,
   "outputs": [
    {
     "data": {
      "text/plain": "array([[[ True, False, False],\n        [ True,  True, False],\n        [ True,  True,  True]]])"
     },
     "execution_count": 7,
     "metadata": {},
     "output_type": "execute_result"
    }
   ],
   "source": [
    "_compute_causal_mask(x).numpy()"
   ],
   "metadata": {
    "collapsed": false,
    "ExecuteTime": {
     "end_time": "2023-08-17T00:45:08.964175Z",
     "start_time": "2023-08-17T00:45:08.952318Z"
    }
   },
   "id": "a3670286b963ee7d"
  },
  {
   "cell_type": "code",
   "execution_count": 9,
   "outputs": [
    {
     "data": {
      "text/plain": "<tf.Tensor: shape=(3, 3), dtype=float32, numpy=\narray([[1., 0., 0.],\n       [1., 1., 0.],\n       [1., 1., 1.]], dtype=float32)>"
     },
     "execution_count": 9,
     "metadata": {},
     "output_type": "execute_result"
    }
   ],
   "source": [
    "def get_decoder_mask(self_attn_inputs):\n",
    "    \"\"\"Returns causal mask to apply for self-attention layer.\n",
    "\n",
    "    Args:\n",
    "      self_attn_inputs: Inputs to self attention layer to determine mask shape\n",
    "    \"\"\"\n",
    "    len_s = tf.shape(self_attn_inputs)[1]\n",
    "    bs = tf.shape(self_attn_inputs)[:1]\n",
    "    mask = tf.cumsum(tf.eye(len_s, batch_shape=bs), 1)\n",
    "    return mask\n",
    "\n",
    "\n",
    "get_decoder_mask(x)[0]"
   ],
   "metadata": {
    "collapsed": false,
    "ExecuteTime": {
     "end_time": "2023-08-17T00:46:22.011162Z",
     "start_time": "2023-08-17T00:46:22.002064Z"
    }
   },
   "id": "ae66b564d9b9d196"
  },
  {
   "cell_type": "code",
   "execution_count": 13,
   "outputs": [
    {
     "data": {
      "text/plain": "(3, 3)"
     },
     "execution_count": 13,
     "metadata": {},
     "output_type": "execute_result"
    }
   ],
   "source": [
    "def causal_attention_mask(seq_len):\n",
    "    \"\"\"Creates a causal attention mask.\n",
    "\n",
    "    Args:\n",
    "      seq_len: The length of the sequence.\n",
    "\n",
    "    Returns:\n",
    "      A tensor of shape `[seq_len, seq_len]`, where each entry is 1 if the\n",
    "      corresponding positions are causally related and 0 otherwise.\n",
    "    \"\"\"\n",
    "    len_s = tf.shape(seq_len)[1]\n",
    "    attention_mask = jnp.tril(jnp.ones((len_s, len_s)))\n",
    "    return attention_mask\n",
    "\n",
    "\n",
    "causal_attention_mask(x).shape"
   ],
   "metadata": {
    "collapsed": false,
    "ExecuteTime": {
     "end_time": "2023-08-17T00:48:30.202355Z",
     "start_time": "2023-08-17T00:48:30.191452Z"
    }
   },
   "id": "68cb42755f5c69b7"
  },
  {
   "cell_type": "code",
   "execution_count": null,
   "outputs": [],
   "source": [],
   "metadata": {
    "collapsed": false
   },
   "id": "3da5220b1f5c9573"
  }
 ],
 "metadata": {
  "kernelspec": {
   "display_name": "Python 3",
   "language": "python",
   "name": "python3"
  },
  "language_info": {
   "codemirror_mode": {
    "name": "ipython",
    "version": 2
   },
   "file_extension": ".py",
   "mimetype": "text/x-python",
   "name": "python",
   "nbconvert_exporter": "python",
   "pygments_lexer": "ipython2",
   "version": "2.7.6"
  }
 },
 "nbformat": 4,
 "nbformat_minor": 5
}
