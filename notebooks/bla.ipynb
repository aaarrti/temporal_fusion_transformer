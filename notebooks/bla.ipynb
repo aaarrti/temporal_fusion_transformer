{
 "cells": [
  {
   "cell_type": "code",
   "execution_count": 2,
   "id": "initial_id",
   "metadata": {
    "collapsed": true,
    "ExecuteTime": {
     "end_time": "2023-10-19T12:18:55.441431Z",
     "start_time": "2023-10-19T12:18:55.435417Z"
    }
   },
   "outputs": [],
   "source": [
    "import os\n",
    "os.environ[\"KERAS_BACKEND\"] = \"jax\"\n",
    "from keras_core.metrics import F1Score, AUC\n",
    "\n",
    "import jax.numpy as jnp\n",
    "import jax.random\n",
    "\n",
    "y_true = jnp.asarray([[1, 1, 0, 0]], jnp.int32)\n",
    "y_pred = jax.random.normal(jax.random.PRNGKey(0), [1, 4])"
   ]
  },
  {
   "cell_type": "code",
   "execution_count": 3,
   "outputs": [
    {
     "data": {
      "text/plain": "Array(0.4999999, dtype=float32)"
     },
     "execution_count": 3,
     "metadata": {},
     "output_type": "execute_result"
    }
   ],
   "source": [
    "f1 = F1Score(average=\"weighted\", threshold=0.5)\n",
    "\n",
    "f1.update_state(y_true, y_pred)\n",
    "f1.result()"
   ],
   "metadata": {
    "collapsed": false,
    "ExecuteTime": {
     "end_time": "2023-10-19T12:18:56.599451Z",
     "start_time": "2023-10-19T12:18:56.590902Z"
    }
   },
   "id": "8362209b511cf717"
  },
  {
   "cell_type": "code",
   "execution_count": 6,
   "outputs": [
    {
     "data": {
      "text/plain": "Array(0.5, dtype=float32)"
     },
     "execution_count": 6,
     "metadata": {},
     "output_type": "execute_result"
    }
   ],
   "source": [
    "auc = AUC(curve=\"PR\", multi_label=True)\n",
    "auc.update_state(y_true, y_pred)\n",
    "auc.result()"
   ],
   "metadata": {
    "collapsed": false,
    "ExecuteTime": {
     "end_time": "2023-10-19T12:19:51.556082Z",
     "start_time": "2023-10-19T12:19:51.529537Z"
    }
   },
   "id": "9899910d1f20ac02"
  },
  {
   "cell_type": "code",
   "execution_count": null,
   "outputs": [],
   "source": [],
   "metadata": {
    "collapsed": false
   },
   "id": "58c2367c841bc8e0"
  }
 ],
 "metadata": {
  "kernelspec": {
   "display_name": "Python 3",
   "language": "python",
   "name": "python3"
  },
  "language_info": {
   "codemirror_mode": {
    "name": "ipython",
    "version": 2
   },
   "file_extension": ".py",
   "mimetype": "text/x-python",
   "name": "python",
   "nbconvert_exporter": "python",
   "pygments_lexer": "ipython2",
   "version": "2.7.6"
  }
 },
 "nbformat": 4,
 "nbformat_minor": 5
}
